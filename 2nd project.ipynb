{
 "cells": [
  {
   "cell_type": "markdown",
   "metadata": {},
   "source": [
    "# Исследование надёжности заёмщиков\n",
    "\n",
    "Заказчик — кредитный отдел банка. Нужно разобраться, влияет ли семейное положение и количество детей клиента на факт погашения кредита в срок. Входные данные от банка — статистика о платёжеспособности клиентов.\n",
    "\n",
    "Результаты исследования будут учтены при построении модели **кредитного скоринга** — специальной системы, которая оценивает способность потенциального заёмщика вернуть кредит банку."
   ]
  },
  {
   "cell_type": "markdown",
   "metadata": {},
   "source": [
    "## Шаг 1. Откройте файл с данными и изучите общую информацию"
   ]
  },
  {
   "cell_type": "code",
   "execution_count": 696,
   "metadata": {},
   "outputs": [
    {
     "name": "stdout",
     "output_type": "stream",
     "text": [
      "<class 'pandas.core.frame.DataFrame'>\n",
      "RangeIndex: 21525 entries, 0 to 21524\n",
      "Data columns (total 12 columns):\n",
      "children            21525 non-null int64\n",
      "days_employed       19351 non-null float64\n",
      "dob_years           21525 non-null int64\n",
      "education           21525 non-null object\n",
      "education_id        21525 non-null int64\n",
      "family_status       21525 non-null object\n",
      "family_status_id    21525 non-null int64\n",
      "gender              21525 non-null object\n",
      "income_type         21525 non-null object\n",
      "debt                21525 non-null int64\n",
      "total_income        19351 non-null float64\n",
      "purpose             21525 non-null object\n",
      "dtypes: float64(2), int64(5), object(5)\n",
      "memory usage: 2.0+ MB\n"
     ]
    }
   ],
   "source": [
    "import pandas as pd\n",
    "data = pd.read_csv(r'/datasets/data.csv')\n",
    "data.info()\n",
    "# Пришлось вставить 'r' перед путем к файлу, потому что иначе он читал это не как путь к файлу, а как строку. "
   ]
  },
  {
   "cell_type": "markdown",
   "metadata": {},
   "source": [
    "**Вывод**"
   ]
  },
  {
   "cell_type": "markdown",
   "metadata": {},
   "source": [
    "При первом взгляде на данные мы видим, что у нас есть 21525 строк и 12 столбцов. В колонках days_employed и total_income количество non-null объектов меньше количества строк, следовательно там имеются пропуски. Также в данных имеются разные типы данных: float, int и object. "
   ]
  },
  {
   "cell_type": "markdown",
   "metadata": {},
   "source": [
    "## Шаг 2. Предобработка данных"
   ]
  },
  {
   "cell_type": "markdown",
   "metadata": {},
   "source": [
    "### Обработка пропусков"
   ]
  },
  {
   "cell_type": "code",
   "execution_count": 697,
   "metadata": {},
   "outputs": [
    {
     "data": {
      "text/plain": [
       "children               0\n",
       "days_employed       2174\n",
       "dob_years              0\n",
       "education              0\n",
       "education_id           0\n",
       "family_status          0\n",
       "family_status_id       0\n",
       "gender                 0\n",
       "income_type            0\n",
       "debt                   0\n",
       "total_income        2174\n",
       "purpose                0\n",
       "dtype: int64"
      ]
     },
     "execution_count": 697,
     "metadata": {},
     "output_type": "execute_result"
    }
   ],
   "source": [
    "data.isna().sum()"
   ]
  },
  {
   "cell_type": "markdown",
   "metadata": {},
   "source": [
    "Количество пропусков в столбцах стажа и дохода равны и соответствуют строкам. В остальных столбцах пропусков нет"
   ]
  },
  {
   "cell_type": "code",
   "execution_count": 698,
   "metadata": {},
   "outputs": [],
   "source": [
    "median_income_grouped = data.groupby('income_type')['total_income'].median()\n",
    "median_income = pd.DataFrame({'median_income':median_income_grouped}).reset_index()\n"
   ]
  },
  {
   "cell_type": "markdown",
   "metadata": {},
   "source": [
    "Создал датафрейм с медианными значениями доходов по каждой группе типа занятости. С помощью reset_index() убрал income type из индекса. Медиана нужна, если среднее значение некорректно характеризует данные, когда некоторые значения \n",
    "сильно выделяются среди большинства."
   ]
  },
  {
   "cell_type": "code",
   "execution_count": 699,
   "metadata": {},
   "outputs": [],
   "source": [
    "data = data.merge(median_income, on = 'income_type', how = 'left') \n",
    "\n"
   ]
  },
  {
   "cell_type": "markdown",
   "metadata": {},
   "source": [
    "Слияние датафреймов data и median_income по столбцу income_type с индексами data"
   ]
  },
  {
   "cell_type": "code",
   "execution_count": 700,
   "metadata": {},
   "outputs": [
    {
     "data": {
      "text/plain": [
       "0"
      ]
     },
     "execution_count": 700,
     "metadata": {},
     "output_type": "execute_result"
    }
   ],
   "source": [
    "data['total_income'] = data['total_income'].fillna(data['median_income'])\n",
    "data['total_income'].isna().sum()"
   ]
  },
  {
   "cell_type": "markdown",
   "metadata": {},
   "source": [
    "Заполнил пустые значения столбца дохода средними значениями из столбца mean_income по типу занятости"
   ]
  },
  {
   "cell_type": "markdown",
   "metadata": {},
   "source": [
    "# Приступаю к поиску аномальных значений"
   ]
  },
  {
   "cell_type": "code",
   "execution_count": 701,
   "metadata": {
    "scrolled": false
   },
   "outputs": [
    {
     "data": {
      "text/html": [
       "<div>\n",
       "<style scoped>\n",
       "    .dataframe tbody tr th:only-of-type {\n",
       "        vertical-align: middle;\n",
       "    }\n",
       "\n",
       "    .dataframe tbody tr th {\n",
       "        vertical-align: top;\n",
       "    }\n",
       "\n",
       "    .dataframe thead th {\n",
       "        text-align: right;\n",
       "    }\n",
       "</style>\n",
       "<table border=\"1\" class=\"dataframe\">\n",
       "  <thead>\n",
       "    <tr style=\"text-align: right;\">\n",
       "      <th></th>\n",
       "      <th>children</th>\n",
       "      <th>days_employed</th>\n",
       "      <th>dob_years</th>\n",
       "      <th>education</th>\n",
       "      <th>education_id</th>\n",
       "      <th>family_status</th>\n",
       "      <th>family_status_id</th>\n",
       "      <th>gender</th>\n",
       "      <th>income_type</th>\n",
       "      <th>debt</th>\n",
       "      <th>total_income</th>\n",
       "      <th>purpose</th>\n",
       "      <th>median_income</th>\n",
       "    </tr>\n",
       "  </thead>\n",
       "  <tbody>\n",
       "    <tr>\n",
       "      <td>0</td>\n",
       "      <td>1</td>\n",
       "      <td>-8437.673028</td>\n",
       "      <td>42</td>\n",
       "      <td>высшее</td>\n",
       "      <td>0</td>\n",
       "      <td>женат / замужем</td>\n",
       "      <td>0</td>\n",
       "      <td>F</td>\n",
       "      <td>сотрудник</td>\n",
       "      <td>0</td>\n",
       "      <td>253875.639453</td>\n",
       "      <td>покупка жилья</td>\n",
       "      <td>142594.396847</td>\n",
       "    </tr>\n",
       "    <tr>\n",
       "      <td>1</td>\n",
       "      <td>1</td>\n",
       "      <td>-4024.803754</td>\n",
       "      <td>36</td>\n",
       "      <td>среднее</td>\n",
       "      <td>1</td>\n",
       "      <td>женат / замужем</td>\n",
       "      <td>0</td>\n",
       "      <td>F</td>\n",
       "      <td>сотрудник</td>\n",
       "      <td>0</td>\n",
       "      <td>112080.014102</td>\n",
       "      <td>приобретение автомобиля</td>\n",
       "      <td>142594.396847</td>\n",
       "    </tr>\n",
       "    <tr>\n",
       "      <td>2</td>\n",
       "      <td>0</td>\n",
       "      <td>-5623.422610</td>\n",
       "      <td>33</td>\n",
       "      <td>Среднее</td>\n",
       "      <td>1</td>\n",
       "      <td>женат / замужем</td>\n",
       "      <td>0</td>\n",
       "      <td>M</td>\n",
       "      <td>сотрудник</td>\n",
       "      <td>0</td>\n",
       "      <td>145885.952297</td>\n",
       "      <td>покупка жилья</td>\n",
       "      <td>142594.396847</td>\n",
       "    </tr>\n",
       "    <tr>\n",
       "      <td>3</td>\n",
       "      <td>3</td>\n",
       "      <td>-4124.747207</td>\n",
       "      <td>32</td>\n",
       "      <td>среднее</td>\n",
       "      <td>1</td>\n",
       "      <td>женат / замужем</td>\n",
       "      <td>0</td>\n",
       "      <td>M</td>\n",
       "      <td>сотрудник</td>\n",
       "      <td>0</td>\n",
       "      <td>267628.550329</td>\n",
       "      <td>дополнительное образование</td>\n",
       "      <td>142594.396847</td>\n",
       "    </tr>\n",
       "    <tr>\n",
       "      <td>4</td>\n",
       "      <td>0</td>\n",
       "      <td>340266.072047</td>\n",
       "      <td>53</td>\n",
       "      <td>среднее</td>\n",
       "      <td>1</td>\n",
       "      <td>гражданский брак</td>\n",
       "      <td>1</td>\n",
       "      <td>F</td>\n",
       "      <td>пенсионер</td>\n",
       "      <td>0</td>\n",
       "      <td>158616.077870</td>\n",
       "      <td>сыграть свадьбу</td>\n",
       "      <td>118514.486412</td>\n",
       "    </tr>\n",
       "    <tr>\n",
       "      <td>5</td>\n",
       "      <td>0</td>\n",
       "      <td>-926.185831</td>\n",
       "      <td>27</td>\n",
       "      <td>высшее</td>\n",
       "      <td>0</td>\n",
       "      <td>гражданский брак</td>\n",
       "      <td>1</td>\n",
       "      <td>M</td>\n",
       "      <td>компаньон</td>\n",
       "      <td>0</td>\n",
       "      <td>255763.565419</td>\n",
       "      <td>покупка жилья</td>\n",
       "      <td>172357.950966</td>\n",
       "    </tr>\n",
       "    <tr>\n",
       "      <td>6</td>\n",
       "      <td>0</td>\n",
       "      <td>-2879.202052</td>\n",
       "      <td>43</td>\n",
       "      <td>высшее</td>\n",
       "      <td>0</td>\n",
       "      <td>женат / замужем</td>\n",
       "      <td>0</td>\n",
       "      <td>F</td>\n",
       "      <td>компаньон</td>\n",
       "      <td>0</td>\n",
       "      <td>240525.971920</td>\n",
       "      <td>операции с жильем</td>\n",
       "      <td>172357.950966</td>\n",
       "    </tr>\n",
       "    <tr>\n",
       "      <td>7</td>\n",
       "      <td>0</td>\n",
       "      <td>-152.779569</td>\n",
       "      <td>50</td>\n",
       "      <td>СРЕДНЕЕ</td>\n",
       "      <td>1</td>\n",
       "      <td>женат / замужем</td>\n",
       "      <td>0</td>\n",
       "      <td>M</td>\n",
       "      <td>сотрудник</td>\n",
       "      <td>0</td>\n",
       "      <td>135823.934197</td>\n",
       "      <td>образование</td>\n",
       "      <td>142594.396847</td>\n",
       "    </tr>\n",
       "    <tr>\n",
       "      <td>8</td>\n",
       "      <td>2</td>\n",
       "      <td>-6929.865299</td>\n",
       "      <td>35</td>\n",
       "      <td>ВЫСШЕЕ</td>\n",
       "      <td>0</td>\n",
       "      <td>гражданский брак</td>\n",
       "      <td>1</td>\n",
       "      <td>F</td>\n",
       "      <td>сотрудник</td>\n",
       "      <td>0</td>\n",
       "      <td>95856.832424</td>\n",
       "      <td>на проведение свадьбы</td>\n",
       "      <td>142594.396847</td>\n",
       "    </tr>\n",
       "    <tr>\n",
       "      <td>9</td>\n",
       "      <td>0</td>\n",
       "      <td>-2188.756445</td>\n",
       "      <td>41</td>\n",
       "      <td>среднее</td>\n",
       "      <td>1</td>\n",
       "      <td>женат / замужем</td>\n",
       "      <td>0</td>\n",
       "      <td>M</td>\n",
       "      <td>сотрудник</td>\n",
       "      <td>0</td>\n",
       "      <td>144425.938277</td>\n",
       "      <td>покупка жилья для семьи</td>\n",
       "      <td>142594.396847</td>\n",
       "    </tr>\n",
       "  </tbody>\n",
       "</table>\n",
       "</div>"
      ],
      "text/plain": [
       "   children  days_employed  dob_years education  education_id  \\\n",
       "0         1   -8437.673028         42    высшее             0   \n",
       "1         1   -4024.803754         36   среднее             1   \n",
       "2         0   -5623.422610         33   Среднее             1   \n",
       "3         3   -4124.747207         32   среднее             1   \n",
       "4         0  340266.072047         53   среднее             1   \n",
       "5         0    -926.185831         27    высшее             0   \n",
       "6         0   -2879.202052         43    высшее             0   \n",
       "7         0    -152.779569         50   СРЕДНЕЕ             1   \n",
       "8         2   -6929.865299         35    ВЫСШЕЕ             0   \n",
       "9         0   -2188.756445         41   среднее             1   \n",
       "\n",
       "      family_status  family_status_id gender income_type  debt   total_income  \\\n",
       "0   женат / замужем                 0      F   сотрудник     0  253875.639453   \n",
       "1   женат / замужем                 0      F   сотрудник     0  112080.014102   \n",
       "2   женат / замужем                 0      M   сотрудник     0  145885.952297   \n",
       "3   женат / замужем                 0      M   сотрудник     0  267628.550329   \n",
       "4  гражданский брак                 1      F   пенсионер     0  158616.077870   \n",
       "5  гражданский брак                 1      M   компаньон     0  255763.565419   \n",
       "6   женат / замужем                 0      F   компаньон     0  240525.971920   \n",
       "7   женат / замужем                 0      M   сотрудник     0  135823.934197   \n",
       "8  гражданский брак                 1      F   сотрудник     0   95856.832424   \n",
       "9   женат / замужем                 0      M   сотрудник     0  144425.938277   \n",
       "\n",
       "                      purpose  median_income  \n",
       "0               покупка жилья  142594.396847  \n",
       "1     приобретение автомобиля  142594.396847  \n",
       "2               покупка жилья  142594.396847  \n",
       "3  дополнительное образование  142594.396847  \n",
       "4             сыграть свадьбу  118514.486412  \n",
       "5               покупка жилья  172357.950966  \n",
       "6           операции с жильем  172357.950966  \n",
       "7                 образование  142594.396847  \n",
       "8       на проведение свадьбы  142594.396847  \n",
       "9     покупка жилья для семьи  142594.396847  "
      ]
     },
     "execution_count": 701,
     "metadata": {},
     "output_type": "execute_result"
    }
   ],
   "source": [
    "data.head(10)"
   ]
  },
  {
   "cell_type": "markdown",
   "metadata": {},
   "source": [
    "Здесь мы видим, что в столбце days_employed наблюдаются аномальные значения: отрицательные числа, а также неправдаподобное количество отработанных дней"
   ]
  },
  {
   "cell_type": "code",
   "execution_count": 702,
   "metadata": {},
   "outputs": [
    {
     "data": {
      "text/plain": [
       "0       8437.673028\n",
       "1       4024.803754\n",
       "2       5623.422610\n",
       "3       4124.747207\n",
       "4     340266.072047\n",
       "5        926.185831\n",
       "6       2879.202052\n",
       "7        152.779569\n",
       "8       6929.865299\n",
       "9       2188.756445\n",
       "10      4171.483647\n",
       "11       792.701887\n",
       "12              NaN\n",
       "13      1846.641941\n",
       "14      1844.956182\n",
       "15       972.364419\n",
       "16      1719.934226\n",
       "17      2369.999720\n",
       "18    400281.136913\n",
       "19     10038.818549\n",
       "Name: days_employed, dtype: float64"
      ]
     },
     "execution_count": 702,
     "metadata": {},
     "output_type": "execute_result"
    }
   ],
   "source": [
    "data['days_employed'] = abs(data['days_employed'])\n",
    "data['days_employed'].head(20)"
   ]
  },
  {
   "cell_type": "markdown",
   "metadata": {},
   "source": [
    "Здесь я привел все значения столбца days_employed к модулю, так как в данных встречались и отрицательные значения со знаком минус."
   ]
  },
  {
   "cell_type": "code",
   "execution_count": 703,
   "metadata": {},
   "outputs": [
    {
     "data": {
      "text/plain": [
       "income_type\n",
       "безработный        366413.652744\n",
       "в декрете            3296.759962\n",
       "госслужащий          2689.368353\n",
       "компаньон            1547.382223\n",
       "пенсионер          365213.306266\n",
       "предприниматель       520.848083\n",
       "сотрудник            1574.202821\n",
       "студент               578.751554\n",
       "Name: days_employed, dtype: float64"
      ]
     },
     "execution_count": 703,
     "metadata": {},
     "output_type": "execute_result"
    }
   ],
   "source": [
    "data.groupby('income_type')['days_employed'].median()"
   ]
  },
  {
   "cell_type": "markdown",
   "metadata": {},
   "source": [
    "Сгруппировав по типу занятости, высчитал медиану трудового стажа для каждой группы. Данные, превышающие 360 тысяч дней, кажутся неправдоподобными, даже если они копили на квартиру в центре Москвы и работали по 156 часов в сутки. Предполагаю, что в этих группах трудовой стаж указан в часах, а не в днях."
   ]
  },
  {
   "cell_type": "code",
   "execution_count": 704,
   "metadata": {},
   "outputs": [],
   "source": [
    "median_days_grouped = data.groupby('income_type')['days_employed'].median() \n",
    "median_days = pd.DataFrame({'median_days':median_days_grouped})\n",
    "data = data.merge(median_days, on = 'income_type', how = 'left')\n"
   ]
  },
  {
   "cell_type": "code",
   "execution_count": 705,
   "metadata": {},
   "outputs": [
    {
     "data": {
      "text/plain": [
       "0"
      ]
     },
     "execution_count": 705,
     "metadata": {},
     "output_type": "execute_result"
    }
   ],
   "source": [
    "data['days_employed'] = data['days_employed'].fillna(data['median_days'])\n",
    "data['days_employed'].isna().sum()\n"
   ]
  },
  {
   "cell_type": "code",
   "execution_count": 706,
   "metadata": {},
   "outputs": [
    {
     "data": {
      "text/plain": [
       "<bound method NDFrame.describe of 0          8437.673028\n",
       "1          4024.803754\n",
       "2          5623.422610\n",
       "3          4124.747207\n",
       "4        340266.072047\n",
       "             ...      \n",
       "21520      4529.316663\n",
       "21521    343937.404131\n",
       "21522      2113.346888\n",
       "21523      3112.481705\n",
       "21524      1984.507589\n",
       "Name: days_employed, Length: 21525, dtype: float64>"
      ]
     },
     "execution_count": 706,
     "metadata": {},
     "output_type": "execute_result"
    }
   ],
   "source": [
    "try:\n",
    "    pd.to_numeric(data['days_employed'])\n",
    "except: \n",
    "    display('empty')\n",
    "data['days_employed'].describe"
   ]
  },
  {
   "cell_type": "code",
   "execution_count": 707,
   "metadata": {},
   "outputs": [
    {
     "data": {
      "text/plain": [
       "income_type\n",
       "в декрете            3296.759962\n",
       "госслужащий          3328.308350\n",
       "компаньон            2055.165652\n",
       "пенсионер          365025.963652\n",
       "предприниматель       520.848083\n",
       "сотрудник            2251.736421\n",
       "студент               578.751554\n",
       "Name: days_employed, dtype: float64"
      ]
     },
     "execution_count": 707,
     "metadata": {},
     "output_type": "execute_result"
    }
   ],
   "source": [
    "data = data.loc[data['income_type'] != 'безработный']\n",
    "data.groupby('income_type')['days_employed'].mean()"
   ]
  },
  {
   "cell_type": "markdown",
   "metadata": {},
   "source": [
    "Трудовой стаж у безработных тоже привышает 350 тысяч дней. А в данных всего две строки, относящиеся к категории \"безработный\". По двум строкам анализировать и делать какие-то выводы по категории - бессмысленно, поэтому мы их удалим."
   ]
  },
  {
   "cell_type": "code",
   "execution_count": 708,
   "metadata": {},
   "outputs": [
    {
     "data": {
      "text/html": [
       "<div>\n",
       "<style scoped>\n",
       "    .dataframe tbody tr th:only-of-type {\n",
       "        vertical-align: middle;\n",
       "    }\n",
       "\n",
       "    .dataframe tbody tr th {\n",
       "        vertical-align: top;\n",
       "    }\n",
       "\n",
       "    .dataframe thead th {\n",
       "        text-align: right;\n",
       "    }\n",
       "</style>\n",
       "<table border=\"1\" class=\"dataframe\">\n",
       "  <thead>\n",
       "    <tr style=\"text-align: right;\">\n",
       "      <th></th>\n",
       "      <th>children</th>\n",
       "      <th>days_employed</th>\n",
       "      <th>dob_years</th>\n",
       "      <th>education</th>\n",
       "      <th>education_id</th>\n",
       "      <th>family_status</th>\n",
       "      <th>family_status_id</th>\n",
       "      <th>gender</th>\n",
       "      <th>income_type</th>\n",
       "      <th>debt</th>\n",
       "      <th>total_income</th>\n",
       "      <th>purpose</th>\n",
       "    </tr>\n",
       "  </thead>\n",
       "  <tbody>\n",
       "    <tr>\n",
       "      <td>0</td>\n",
       "      <td>1</td>\n",
       "      <td>8437.673028</td>\n",
       "      <td>42</td>\n",
       "      <td>высшее</td>\n",
       "      <td>0</td>\n",
       "      <td>женат / замужем</td>\n",
       "      <td>0</td>\n",
       "      <td>F</td>\n",
       "      <td>сотрудник</td>\n",
       "      <td>0</td>\n",
       "      <td>253875.639453</td>\n",
       "      <td>покупка жилья</td>\n",
       "    </tr>\n",
       "    <tr>\n",
       "      <td>1</td>\n",
       "      <td>1</td>\n",
       "      <td>4024.803754</td>\n",
       "      <td>36</td>\n",
       "      <td>среднее</td>\n",
       "      <td>1</td>\n",
       "      <td>женат / замужем</td>\n",
       "      <td>0</td>\n",
       "      <td>F</td>\n",
       "      <td>сотрудник</td>\n",
       "      <td>0</td>\n",
       "      <td>112080.014102</td>\n",
       "      <td>приобретение автомобиля</td>\n",
       "    </tr>\n",
       "    <tr>\n",
       "      <td>2</td>\n",
       "      <td>0</td>\n",
       "      <td>5623.422610</td>\n",
       "      <td>33</td>\n",
       "      <td>Среднее</td>\n",
       "      <td>1</td>\n",
       "      <td>женат / замужем</td>\n",
       "      <td>0</td>\n",
       "      <td>M</td>\n",
       "      <td>сотрудник</td>\n",
       "      <td>0</td>\n",
       "      <td>145885.952297</td>\n",
       "      <td>покупка жилья</td>\n",
       "    </tr>\n",
       "    <tr>\n",
       "      <td>3</td>\n",
       "      <td>3</td>\n",
       "      <td>4124.747207</td>\n",
       "      <td>32</td>\n",
       "      <td>среднее</td>\n",
       "      <td>1</td>\n",
       "      <td>женат / замужем</td>\n",
       "      <td>0</td>\n",
       "      <td>M</td>\n",
       "      <td>сотрудник</td>\n",
       "      <td>0</td>\n",
       "      <td>267628.550329</td>\n",
       "      <td>дополнительное образование</td>\n",
       "    </tr>\n",
       "    <tr>\n",
       "      <td>4</td>\n",
       "      <td>0</td>\n",
       "      <td>14177.753002</td>\n",
       "      <td>53</td>\n",
       "      <td>среднее</td>\n",
       "      <td>1</td>\n",
       "      <td>гражданский брак</td>\n",
       "      <td>1</td>\n",
       "      <td>F</td>\n",
       "      <td>пенсионер</td>\n",
       "      <td>0</td>\n",
       "      <td>158616.077870</td>\n",
       "      <td>сыграть свадьбу</td>\n",
       "    </tr>\n",
       "    <tr>\n",
       "      <td>5</td>\n",
       "      <td>0</td>\n",
       "      <td>926.185831</td>\n",
       "      <td>27</td>\n",
       "      <td>высшее</td>\n",
       "      <td>0</td>\n",
       "      <td>гражданский брак</td>\n",
       "      <td>1</td>\n",
       "      <td>M</td>\n",
       "      <td>компаньон</td>\n",
       "      <td>0</td>\n",
       "      <td>255763.565419</td>\n",
       "      <td>покупка жилья</td>\n",
       "    </tr>\n",
       "    <tr>\n",
       "      <td>6</td>\n",
       "      <td>0</td>\n",
       "      <td>2879.202052</td>\n",
       "      <td>43</td>\n",
       "      <td>высшее</td>\n",
       "      <td>0</td>\n",
       "      <td>женат / замужем</td>\n",
       "      <td>0</td>\n",
       "      <td>F</td>\n",
       "      <td>компаньон</td>\n",
       "      <td>0</td>\n",
       "      <td>240525.971920</td>\n",
       "      <td>операции с жильем</td>\n",
       "    </tr>\n",
       "    <tr>\n",
       "      <td>7</td>\n",
       "      <td>0</td>\n",
       "      <td>152.779569</td>\n",
       "      <td>50</td>\n",
       "      <td>СРЕДНЕЕ</td>\n",
       "      <td>1</td>\n",
       "      <td>женат / замужем</td>\n",
       "      <td>0</td>\n",
       "      <td>M</td>\n",
       "      <td>сотрудник</td>\n",
       "      <td>0</td>\n",
       "      <td>135823.934197</td>\n",
       "      <td>образование</td>\n",
       "    </tr>\n",
       "    <tr>\n",
       "      <td>8</td>\n",
       "      <td>2</td>\n",
       "      <td>6929.865299</td>\n",
       "      <td>35</td>\n",
       "      <td>ВЫСШЕЕ</td>\n",
       "      <td>0</td>\n",
       "      <td>гражданский брак</td>\n",
       "      <td>1</td>\n",
       "      <td>F</td>\n",
       "      <td>сотрудник</td>\n",
       "      <td>0</td>\n",
       "      <td>95856.832424</td>\n",
       "      <td>на проведение свадьбы</td>\n",
       "    </tr>\n",
       "    <tr>\n",
       "      <td>9</td>\n",
       "      <td>0</td>\n",
       "      <td>2188.756445</td>\n",
       "      <td>41</td>\n",
       "      <td>среднее</td>\n",
       "      <td>1</td>\n",
       "      <td>женат / замужем</td>\n",
       "      <td>0</td>\n",
       "      <td>M</td>\n",
       "      <td>сотрудник</td>\n",
       "      <td>0</td>\n",
       "      <td>144425.938277</td>\n",
       "      <td>покупка жилья для семьи</td>\n",
       "    </tr>\n",
       "    <tr>\n",
       "      <td>10</td>\n",
       "      <td>2</td>\n",
       "      <td>4171.483647</td>\n",
       "      <td>36</td>\n",
       "      <td>высшее</td>\n",
       "      <td>0</td>\n",
       "      <td>женат / замужем</td>\n",
       "      <td>0</td>\n",
       "      <td>M</td>\n",
       "      <td>компаньон</td>\n",
       "      <td>0</td>\n",
       "      <td>113943.491460</td>\n",
       "      <td>покупка недвижимости</td>\n",
       "    </tr>\n",
       "    <tr>\n",
       "      <td>11</td>\n",
       "      <td>0</td>\n",
       "      <td>792.701887</td>\n",
       "      <td>40</td>\n",
       "      <td>среднее</td>\n",
       "      <td>1</td>\n",
       "      <td>женат / замужем</td>\n",
       "      <td>0</td>\n",
       "      <td>F</td>\n",
       "      <td>сотрудник</td>\n",
       "      <td>0</td>\n",
       "      <td>77069.234271</td>\n",
       "      <td>покупка коммерческой недвижимости</td>\n",
       "    </tr>\n",
       "    <tr>\n",
       "      <td>12</td>\n",
       "      <td>0</td>\n",
       "      <td>15217.221094</td>\n",
       "      <td>65</td>\n",
       "      <td>среднее</td>\n",
       "      <td>1</td>\n",
       "      <td>гражданский брак</td>\n",
       "      <td>1</td>\n",
       "      <td>M</td>\n",
       "      <td>пенсионер</td>\n",
       "      <td>0</td>\n",
       "      <td>118514.486412</td>\n",
       "      <td>сыграть свадьбу</td>\n",
       "    </tr>\n",
       "    <tr>\n",
       "      <td>13</td>\n",
       "      <td>0</td>\n",
       "      <td>1846.641941</td>\n",
       "      <td>54</td>\n",
       "      <td>неоконченное высшее</td>\n",
       "      <td>2</td>\n",
       "      <td>женат / замужем</td>\n",
       "      <td>0</td>\n",
       "      <td>F</td>\n",
       "      <td>сотрудник</td>\n",
       "      <td>0</td>\n",
       "      <td>130458.228857</td>\n",
       "      <td>приобретение автомобиля</td>\n",
       "    </tr>\n",
       "    <tr>\n",
       "      <td>14</td>\n",
       "      <td>0</td>\n",
       "      <td>1844.956182</td>\n",
       "      <td>56</td>\n",
       "      <td>высшее</td>\n",
       "      <td>0</td>\n",
       "      <td>гражданский брак</td>\n",
       "      <td>1</td>\n",
       "      <td>F</td>\n",
       "      <td>компаньон</td>\n",
       "      <td>1</td>\n",
       "      <td>165127.911772</td>\n",
       "      <td>покупка жилой недвижимости</td>\n",
       "    </tr>\n",
       "  </tbody>\n",
       "</table>\n",
       "</div>"
      ],
      "text/plain": [
       "    children  days_employed  dob_years            education  education_id  \\\n",
       "0          1    8437.673028         42               высшее             0   \n",
       "1          1    4024.803754         36              среднее             1   \n",
       "2          0    5623.422610         33              Среднее             1   \n",
       "3          3    4124.747207         32              среднее             1   \n",
       "4          0   14177.753002         53              среднее             1   \n",
       "5          0     926.185831         27               высшее             0   \n",
       "6          0    2879.202052         43               высшее             0   \n",
       "7          0     152.779569         50              СРЕДНЕЕ             1   \n",
       "8          2    6929.865299         35               ВЫСШЕЕ             0   \n",
       "9          0    2188.756445         41              среднее             1   \n",
       "10         2    4171.483647         36               высшее             0   \n",
       "11         0     792.701887         40              среднее             1   \n",
       "12         0   15217.221094         65              среднее             1   \n",
       "13         0    1846.641941         54  неоконченное высшее             2   \n",
       "14         0    1844.956182         56               высшее             0   \n",
       "\n",
       "       family_status  family_status_id gender income_type  debt  \\\n",
       "0    женат / замужем                 0      F   сотрудник     0   \n",
       "1    женат / замужем                 0      F   сотрудник     0   \n",
       "2    женат / замужем                 0      M   сотрудник     0   \n",
       "3    женат / замужем                 0      M   сотрудник     0   \n",
       "4   гражданский брак                 1      F   пенсионер     0   \n",
       "5   гражданский брак                 1      M   компаньон     0   \n",
       "6    женат / замужем                 0      F   компаньон     0   \n",
       "7    женат / замужем                 0      M   сотрудник     0   \n",
       "8   гражданский брак                 1      F   сотрудник     0   \n",
       "9    женат / замужем                 0      M   сотрудник     0   \n",
       "10   женат / замужем                 0      M   компаньон     0   \n",
       "11   женат / замужем                 0      F   сотрудник     0   \n",
       "12  гражданский брак                 1      M   пенсионер     0   \n",
       "13   женат / замужем                 0      F   сотрудник     0   \n",
       "14  гражданский брак                 1      F   компаньон     1   \n",
       "\n",
       "     total_income                            purpose  \n",
       "0   253875.639453                      покупка жилья  \n",
       "1   112080.014102            приобретение автомобиля  \n",
       "2   145885.952297                      покупка жилья  \n",
       "3   267628.550329         дополнительное образование  \n",
       "4   158616.077870                    сыграть свадьбу  \n",
       "5   255763.565419                      покупка жилья  \n",
       "6   240525.971920                  операции с жильем  \n",
       "7   135823.934197                        образование  \n",
       "8    95856.832424              на проведение свадьбы  \n",
       "9   144425.938277            покупка жилья для семьи  \n",
       "10  113943.491460               покупка недвижимости  \n",
       "11   77069.234271  покупка коммерческой недвижимости  \n",
       "12  118514.486412                    сыграть свадьбу  \n",
       "13  130458.228857            приобретение автомобиля  \n",
       "14  165127.911772         покупка жилой недвижимости  "
      ]
     },
     "execution_count": 708,
     "metadata": {},
     "output_type": "execute_result"
    }
   ],
   "source": [
    "data['retire_emp'] = data.loc[data['income_type'] == 'пенсионер']['days_employed']/24\n",
    "data.loc[data['income_type'] == 'пенсионер', ['days_employed']] = data.loc[data['income_type'] == 'пенсионер']['retire_emp']\n",
    "data = data.drop(['retire_emp', 'median_days', 'median_income'], axis =1)\n",
    "data.head(15)"
   ]
  },
  {
   "cell_type": "code",
   "execution_count": 709,
   "metadata": {
    "scrolled": true
   },
   "outputs": [
    {
     "data": {
      "text/plain": [
       "children            0\n",
       "days_employed       0\n",
       "dob_years           0\n",
       "education           0\n",
       "education_id        0\n",
       "family_status       0\n",
       "family_status_id    0\n",
       "gender              0\n",
       "income_type         0\n",
       "debt                0\n",
       "total_income        0\n",
       "purpose             0\n",
       "dtype: int64"
      ]
     },
     "execution_count": 709,
     "metadata": {},
     "output_type": "execute_result"
    }
   ],
   "source": [
    "data.isna().sum()"
   ]
  },
  {
   "cell_type": "markdown",
   "metadata": {},
   "source": [
    "**Вывод**"
   ]
  },
  {
   "cell_type": "markdown",
   "metadata": {},
   "source": [
    "Я заполнил пропуски в столбцах дохода и трудового стажа медианными значениями, которые вывел в ходе группировки по типу занятости. Аномальные значения по этим двум колонкам, где имелись пропуски, были обнаружены в колонке трудового стажа: отрицательное количество дней (знак \"-\" перед цифрами), а также количество дней трудового стажа в категории \"пенсионер\", превышающее 360 тысяч дней. По моему мнению, трудовой стаж был записан в часах, поэтому я разделил значения на 24, чтобы привести эти значения к дням. Средний трудовой стаж для пенсионеров составил порядка 15 тысяч дней, что равняется около 40-45 годам трудового стажа. Таким образом, эти данные стали выглядеть более логично и правдоподобно. Помимо этого, я очистил данные от категории \"безработные\", потому что там были всего 2 строки по этому типу занятости. А делать объективный анализ всего лишь по двум строкам неправильно."
   ]
  },
  {
   "cell_type": "markdown",
   "metadata": {},
   "source": [
    "### Замена типа данных"
   ]
  },
  {
   "cell_type": "code",
   "execution_count": 710,
   "metadata": {},
   "outputs": [],
   "source": [
    "for_toint = ['children', 'days_employed', 'dob_years', 'total_income']\n",
    "for i in for_toint:\n",
    "    data[i] = data[i].astype('int')"
   ]
  },
  {
   "cell_type": "markdown",
   "metadata": {},
   "source": [
    "**Вывод**"
   ]
  },
  {
   "cell_type": "markdown",
   "metadata": {},
   "source": [
    "С помощью цикла for заменил вещественные типы данных на целочисленные в тех столбцах, которые являются количественными, а не категориальными. Использовал метод .astype, т.к. pd.to_numeric меняет тип данных на \"float\". В случае, если бы я не заполнил пропуски трудового стажа медианным значением, то можно было бы сначала использовать to_numeric с errors = 'coerce', а далее методом try-except опять же с помощью .astype() перевести в целочисленные значения."
   ]
  },
  {
   "cell_type": "markdown",
   "metadata": {},
   "source": [
    "### Обработка дубликатов"
   ]
  },
  {
   "cell_type": "code",
   "execution_count": 711,
   "metadata": {
    "scrolled": true
   },
   "outputs": [
    {
     "data": {
      "text/plain": [
       "среднее                13749\n",
       "высшее                  4718\n",
       "СРЕДНЕЕ                  772\n",
       "Среднее                  711\n",
       "неоконченное высшее      668\n",
       "ВЫСШЕЕ                   274\n",
       "Высшее                   267\n",
       "начальное                250\n",
       "Неоконченное высшее       47\n",
       "НЕОКОНЧЕННОЕ ВЫСШЕЕ       29\n",
       "НАЧАЛЬНОЕ                 17\n",
       "Начальное                 15\n",
       "ученая степень             4\n",
       "УЧЕНАЯ СТЕПЕНЬ             1\n",
       "Ученая степень             1\n",
       "Name: education, dtype: int64"
      ]
     },
     "execution_count": 711,
     "metadata": {},
     "output_type": "execute_result"
    }
   ],
   "source": [
    "data['education'].value_counts()"
   ]
  },
  {
   "cell_type": "markdown",
   "metadata": {},
   "source": [
    "После анализа количества уникальных значений в категориальных столбцах, я обнаружил, что только в столбце 'education' есть дубликаты, возникшие из-за различий в регистре. Возможно, данные об образовании заполняются вручную сотрудниками, либо клиентами, поэтому и возникли различия в регистре."
   ]
  },
  {
   "cell_type": "code",
   "execution_count": 712,
   "metadata": {},
   "outputs": [
    {
     "data": {
      "text/plain": [
       "среднее                15232\n",
       "высшее                  5259\n",
       "неоконченное высшее      744\n",
       "начальное                282\n",
       "ученая степень             6\n",
       "Name: education, dtype: int64"
      ]
     },
     "execution_count": 712,
     "metadata": {},
     "output_type": "execute_result"
    }
   ],
   "source": [
    "data['education'] = data['education'].str.lower()\n",
    "data['education'].value_counts()"
   ]
  },
  {
   "cell_type": "markdown",
   "metadata": {},
   "source": [
    "**Вывод**"
   ]
  },
  {
   "cell_type": "markdown",
   "metadata": {},
   "source": [
    "Мы избавились от неявных дублей. Но остались явные"
   ]
  },
  {
   "cell_type": "code",
   "execution_count": 713,
   "metadata": {},
   "outputs": [
    {
     "data": {
      "text/plain": [
       "0"
      ]
     },
     "execution_count": 713,
     "metadata": {},
     "output_type": "execute_result"
    }
   ],
   "source": [
    "data = data.drop_duplicates().reset_index(drop=True)\n",
    "data.duplicated().sum()"
   ]
  },
  {
   "cell_type": "markdown",
   "metadata": {},
   "source": [
    "Оказался невнимательным, и забыл избавиться от явных дубликатов с помощью метода drop_duplicates(). Reset_index использовал для того, чтобы в индексах не было пропусков, drop=True, чтобы не создавать столбец со старыми значениями индексов."
   ]
  },
  {
   "cell_type": "markdown",
   "metadata": {},
   "source": [
    "### Лемматизация"
   ]
  },
  {
   "cell_type": "code",
   "execution_count": 714,
   "metadata": {},
   "outputs": [
    {
     "data": {
      "text/plain": [
       "Counter({'покупка': 10,\n",
       "         ' ': 59,\n",
       "         'жилье': 7,\n",
       "         '\\n': 38,\n",
       "         'приобретение': 1,\n",
       "         'автомобиль': 9,\n",
       "         'дополнительный': 2,\n",
       "         'образование': 9,\n",
       "         'сыграть': 1,\n",
       "         'свадьба': 3,\n",
       "         'операция': 4,\n",
       "         'с': 5,\n",
       "         'на': 4,\n",
       "         'проведение': 1,\n",
       "         'для': 2,\n",
       "         'семья': 1,\n",
       "         'недвижимость': 10,\n",
       "         'коммерческий': 2,\n",
       "         'жилой': 2,\n",
       "         'строительство': 3,\n",
       "         'собственный': 1,\n",
       "         'подержать': 1,\n",
       "         'свой': 4,\n",
       "         'со': 1,\n",
       "         'заниматься': 2,\n",
       "         'сделка': 2,\n",
       "         'подержанный': 1,\n",
       "         'получение': 3,\n",
       "         'высокий': 3,\n",
       "         'профильный': 1,\n",
       "         'сдача': 1,\n",
       "         'ремонт': 1})"
      ]
     },
     "metadata": {},
     "output_type": "display_data"
    }
   ],
   "source": [
    "from pymystem3 import Mystem\n",
    "from collections import Counter\n",
    "m = Mystem() \n",
    "purp_unique = data['purpose'].unique()\n",
    "lemmas_list = []\n",
    "for i in purp_unique:\n",
    "    lemmas_list.append(m.lemmatize(i))\n",
    "lemmas = []\n",
    "for j in range(len(lemmas_list)):\n",
    "    for k in lemmas_list[j]:\n",
    "        lemmas.append(k)\n",
    "display(Counter(lemmas))"
   ]
  },
  {
   "cell_type": "markdown",
   "metadata": {},
   "source": [
    "**Вывод**"
   ]
  },
  {
   "cell_type": "markdown",
   "metadata": {},
   "source": [
    "Количество лемм в уникальных значениях столбца purpose: \"жилье\" - 7, \"недвижимость\" - 10, \"автомобиль\" - 9, \"свадьба\" - 3, \"образование\" - 9. \n",
    "    <br /> Я импортировал Mystem присвоив переменной m его функции. Также импортировал Counter для подсчета. В переменную записал все уникальные значения столбца purpose, и сначала с помощью цикла добавил все леммы в список lemmas_list. Далее для того, чтобы привести все это в корректный для лемматизации формат, я использовал вложенный цикл для двумерного списка lemass_list, лемматизировал новый список lemmas и подсчитал значения лемм."
   ]
  },
  {
   "cell_type": "markdown",
   "metadata": {},
   "source": [
    "### Категоризация данных"
   ]
  },
  {
   "cell_type": "code",
   "execution_count": 715,
   "metadata": {},
   "outputs": [],
   "source": [
    "family_df = data[['family_status_id', 'family_status']]\n",
    "education_df = data[['education_id', 'education']]\n",
    "data = data.drop(columns = ['family_status', 'education'])\n",
    "\n"
   ]
  },
  {
   "cell_type": "markdown",
   "metadata": {},
   "source": [
    "Созданы два новых датафреймами со столбцами id и значений по семейному статусу и уровню образования. Из основного датафрейма удалены столбцы family_status и education и оставлены только колонки с их идентификаторами. \n",
    "   "
   ]
  },
  {
   "cell_type": "code",
   "execution_count": 716,
   "metadata": {},
   "outputs": [],
   "source": [
    "low_inc = data.query('total_income < 120000')\n",
    "med_inc = data.query(('total_income > 120000')and('total_income < 180000'))\n",
    "high_inc = data.query('total_income > 180000')\n",
    "\n"
   ]
  },
  {
   "cell_type": "markdown",
   "metadata": {},
   "source": [
    "Провел категоризацию по уровню дохода, где до 120 тысяч - это низкий уровень дохода, между 120 и 180 тысяч - средний, а больше 180 тысяч - это выский уровень дохода"
   ]
  },
  {
   "cell_type": "code",
   "execution_count": 717,
   "metadata": {},
   "outputs": [],
   "source": [
    "data['children'] = abs(data['children'])\n",
    "data.loc[data['children'] == 20, 'children'] = 2 \n",
    "childfree = data.query('children == 0')\n",
    "child_have = data.query('children > 0')"
   ]
  },
  {
   "cell_type": "markdown",
   "metadata": {},
   "source": [
    "По колонке children разделил на 2 колонки: есть дети и нет детей. Так как количество заемщиков с количеством детей > 3 очень мало, анализ получился бы не совсем корректным. Также 20 детей, по моему мнению, какая-то ошибка, возможно, вследствие неправильной записи. Возможно, подразумевалось 2 ребенка, поэтому всю категорию добавил к группе с 2-мя детьми."
   ]
  },
  {
   "cell_type": "code",
   "execution_count": 718,
   "metadata": {},
   "outputs": [],
   "source": [
    "married = data.query('family_status_id == 0')\n",
    "civil = data.query('family_status_id == 1')\n",
    "widowed = data.query('family_status_id == 2')\n",
    "divorced = data.query('family_status_id == 3')\n",
    "single = data.query('family_status_id == 4')\n"
   ]
  },
  {
   "cell_type": "markdown",
   "metadata": {},
   "source": [
    "По семейному положению разделил на категории \"в браке\", \"в гражданском браке\", \"вдовцы/вдовы\", \"разведенные\", \"не в браке\". Для фильтрации использовал идентификатор из колонки family_status_id "
   ]
  },
  {
   "cell_type": "markdown",
   "metadata": {},
   "source": [
    "## Шаг 3. Ответьте на вопросы"
   ]
  },
  {
   "cell_type": "markdown",
   "metadata": {},
   "source": [
    "- Есть ли зависимость между наличием детей и возвратом кредита в срок?"
   ]
  },
  {
   "cell_type": "code",
   "execution_count": 719,
   "metadata": {},
   "outputs": [
    {
     "data": {
      "text/plain": [
       "'7.54%'"
      ]
     },
     "metadata": {},
     "output_type": "display_data"
    },
    {
     "data": {
      "text/plain": [
       "'9.20%'"
      ]
     },
     "metadata": {},
     "output_type": "display_data"
    }
   ],
   "source": [
    "childfree_per = ((childfree['debt'].sum())/childfree['debt'].count()) \n",
    "child_have_per = ((child_have['debt'].sum())/child_have['debt'].count())\n",
    "childfree_per = f'{childfree_per:.2%}' \n",
    "child_have_per = f'{child_have_per:.2%}'\n",
    "display( childfree_per, child_have_per)\n"
   ]
  },
  {
   "cell_type": "markdown",
   "metadata": {},
   "source": [
    "**Вывод**"
   ]
  },
  {
   "cell_type": "markdown",
   "metadata": {},
   "source": [
    "\n",
    "Я разделил категорию children на 2 группы: \"бездетные\" и \"с детьми\", и поделил сумму значений ('debt = 1' - должник. Сумма таких значений - количество должников) на общее количество значений в столбцах debt для каждой категории, тем самым выявил долю недобросовестных заемщиков для категорий \"бездетные\" и \"с детьми\". Согласно результатам, доля недобросовестных бездетных заемщиков составляет 7.51%, и меньше чем доля должников в категории \"с детьми\" более чем на 1.5%. \n",
    "    <br /> <b> Вывод: </b>\n",
    "    <br /> Зависимость между наличием детей и возвратом кредита в срок наблюдается. Общее количество бездетных заемщиков почти в 2 раза больше, чем количество должников в категории \"с детьми\", однако несмотря на это, недобросовестных заемщиков в категории \"с детьми\" больше. "
   ]
  },
  {
   "cell_type": "markdown",
   "metadata": {},
   "source": [
    "- Есть ли зависимость между семейным положением и возвратом кредита в срок?"
   ]
  },
  {
   "cell_type": "code",
   "execution_count": 720,
   "metadata": {},
   "outputs": [
    {
     "data": {
      "text/plain": [
       "'7.54%'"
      ]
     },
     "metadata": {},
     "output_type": "display_data"
    },
    {
     "data": {
      "text/plain": [
       "'7.11%'"
      ]
     },
     "metadata": {},
     "output_type": "display_data"
    },
    {
     "data": {
      "text/plain": [
       "'9.35%'"
      ]
     },
     "metadata": {},
     "output_type": "display_data"
    },
    {
     "data": {
      "text/plain": [
       "'6.57%'"
      ]
     },
     "metadata": {},
     "output_type": "display_data"
    },
    {
     "data": {
      "text/plain": [
       "'9.75%'"
      ]
     },
     "metadata": {},
     "output_type": "display_data"
    }
   ],
   "source": [
    "married_per = ((married['debt'].sum())/married['debt'].count())\n",
    "divorced_per = ((divorced['debt'].sum())/divorced['debt'].count()) \n",
    "civil_per = ((civil['debt'].sum())/civil['debt'].count()) \n",
    "widowed_per = ((widowed['debt'].sum())/widowed['debt'].count()) \n",
    "single_per = ((single['debt'].sum())/single['debt'].count()) \n",
    "married_per = f'{married_per:.2%}' \n",
    "divorced_per = f'{divorced_per:.2%}' \n",
    "civil_per = f'{civil_per:.2%}' \n",
    "widowed_per = f'{widowed_per:.2%}' \n",
    "single_per = f'{single_per:.2%}' \n",
    "display(married_per, divorced_per, civil_per, widowed_per, single_per)\n"
   ]
  },
  {
   "cell_type": "markdown",
   "metadata": {},
   "source": [
    "**Вывод**"
   ]
  },
  {
   "cell_type": "markdown",
   "metadata": {},
   "source": [
    "Здесь я посчитал долю должников для каждой категории семейного статуса: \n",
    "    <br /> Вдовец/вдова - 959 человек от общего количества заемщиков. Доля недобросовестных - 6.57%\n",
    "    <br /> Гражданский брак - 4150 человек от общего количества заемщиков. Доля недобросовестных - 9.35% \n",
    "    <br /> В разводе - 1195 человек от общего количества заемщиков. Доля недобросовестных - 7.11%\n",
    "    <br /> Женаты/замужем - 12338 человек от общего количества заемщиков. Доля недобросовестных - 7.54%\n",
    "    <br /> Не женаты/не замужем - 2810 человек от общего количества заемщиков. Доля недобросовестных -9.75%\n",
    "    <br /> <b> Вывод: </b>\n",
    "    <br /> Наименьшее количество займов, и самая маленькая доля недобросовестных заемщиков у вдовцов/вдов. Самая большая доля недобросовестных заемщиков у категории \"не женаты/не замужем\" - 9.74% при количестве займов почти в 6 раз меньше, чем у женатых. Здесь явно прослеживается зависимость между семейным положением и возвратом кредита в срок. "
   ]
  },
  {
   "cell_type": "markdown",
   "metadata": {},
   "source": [
    "- Есть ли зависимость между уровнем дохода и возвратом кредита в срок?"
   ]
  },
  {
   "cell_type": "code",
   "execution_count": 721,
   "metadata": {},
   "outputs": [
    {
     "data": {
      "text/plain": [
       "'7.44%'"
      ]
     },
     "metadata": {},
     "output_type": "display_data"
    },
    {
     "data": {
      "text/plain": [
       "'8.40%'"
      ]
     },
     "metadata": {},
     "output_type": "display_data"
    },
    {
     "data": {
      "text/plain": [
       "'8.09%'"
      ]
     },
     "metadata": {},
     "output_type": "display_data"
    }
   ],
   "source": [
    "high_inc_per = ((high_inc['debt'].sum())/high_inc['debt'].count())\n",
    "med_inc_per = ((med_inc['debt'].sum())/med_inc['debt'].count())\n",
    "low_inc_per = ((low_inc['debt'].sum())/low_inc['debt'].count())\n",
    "high_inc_per = f'{high_inc_per:.2%}'\n",
    "med_inc_per = f'{med_inc_per:.2%}'\n",
    "low_inc_per = f'{low_inc_per:.2%}'\n",
    "display(high_inc_per, med_inc_per, low_inc_per)\n"
   ]
  },
  {
   "cell_type": "markdown",
   "metadata": {},
   "source": [
    "<br /> Количество заемщиков с высоким уровнем дохода - 6422. \n",
    "    <br /> Количество заемщиков со средним уровнем дохода - 15030. \n",
    "    <br /> Количество заемщиков с низким уровнем дохода - 7230. \n",
    "    <br /> Доля недобросовестных заемщиков с высоким уровнем дохода - 7.44%.\n",
    "    <br /> Доля недобросовестных заемщиков со средним уровнем дохода - 8.40%\n",
    "    <br /> Доля недобросовестных заемщиков с уровнем дохода ниже среднего - 8.09%.\n",
    "    <br /> <b> Вывод: </b>\n",
    "    <br /> Здесь мы можем наблюдать, что взаимосвязь между уровнем дохода и возвратом кредита в срок наблюдается: люди с высоким уровнем дохода берут кредиты почти в 2.5 раза реже, чем заемщики со средним уровнем дохода, и при этом доля должников в категории с высоким уровнем дохода, почти на 1% меньше, чем у среднего дохода. Разница между замещиками ниже среднего и среднего дохода составляет менее половины процента, при количестве заемщиков различающихся почти в 2 раза. "
   ]
  },
  {
   "cell_type": "markdown",
   "metadata": {},
   "source": [
    "- Как разные цели кредита влияют на его возврат в срок?"
   ]
  },
  {
   "cell_type": "code",
   "execution_count": 722,
   "metadata": {},
   "outputs": [
    {
     "data": {
      "text/plain": [
       "'9.36%'"
      ]
     },
     "metadata": {},
     "output_type": "display_data"
    },
    {
     "data": {
      "text/plain": [
       "'7.23%'"
      ]
     },
     "metadata": {},
     "output_type": "display_data"
    },
    {
     "data": {
      "text/plain": [
       "'8.00%'"
      ]
     },
     "metadata": {},
     "output_type": "display_data"
    },
    {
     "data": {
      "text/plain": [
       "'9.22%'"
      ]
     },
     "metadata": {},
     "output_type": "display_data"
    }
   ],
   "source": [
    "def purpose_categ (purpose):\n",
    "    lemma = ' '.join(m.lemmatize(purpose))\n",
    " \n",
    "    if 'авто' in lemma:\n",
    "        return 'автомобиль'\n",
    "    if 'недвижимость' in lemma:\n",
    "        return  'недвижимость'\n",
    "    if 'жилье' in lemma:\n",
    "        return  'недвижимость'\n",
    "    if 'свадьба' in lemma:\n",
    "        return  'свадьба'\n",
    "    if 'образование' in lemma:\n",
    "        return 'образование'\n",
    "    else:\n",
    "        return \n",
    " \n",
    "data['pur_lem'] = data['purpose'].apply(purpose_categ)\n",
    "auto = data.loc[data['pur_lem'] == 'автомобиль']\n",
    "prop = data.loc[data['pur_lem'] == 'недвижимость']\n",
    "wedd = data.loc[data['pur_lem'] == 'свадьба']\n",
    "educ = data.loc[data['pur_lem'] == 'образование']\n",
    "auto_per = ((auto['debt'].sum())/auto['debt'].count())\n",
    "prop_per = ((prop['debt'].sum())/prop['debt'].count())\n",
    "wedd_per = ((wedd['debt'].sum())/wedd['debt'].count())\n",
    "educ_per = ((educ['debt'].sum())/educ['debt'].count())\n",
    "auto_per = f'{auto_per:.2%}'\n",
    "prop_per = f'{prop_per:.2%}'\n",
    "wedd_per = f'{wedd_per:.2%}'\n",
    "educ_per = f'{educ_per:.2%}'\n",
    "display(auto_per, prop_per, wedd_per, educ_per)\n"
   ]
  },
  {
   "cell_type": "markdown",
   "metadata": {},
   "source": [
    "**Вывод**"
   ]
  },
  {
   "cell_type": "markdown",
   "metadata": {},
   "source": [
    "<br /> Я разбил займы по категориям \"автомобиль\", \"недвижимость\", \"образование\" и \"свадьба\":\n",
    "    <br /> Доля недобросовестных заемщиков в категории \"автомобиль\" - 9.36%. Общее количество займов по категории - 4315\n",
    "    <br /> Доля недобросовестных заемщиков в категории \"недвижимость\" - 7.23%. Общее количество займов по категории - 10840\n",
    "    <br /> Доля недобросовестных заемщиков в категории \"свадьба\" - 8.00%. Общее количество займов по категории - 2348\n",
    "    <br /> Доля недобросовестных заемщиков в категории \"образование\" - 9.22%. Общее количество займов по категории - 4022\n",
    "    <br /> <b> Вывод: </b>\n",
    "    <br /> Зависимость возврата кредита в срок и цели, с которой был осуществлен займ прослеживается. Самыми порядочными заемщиками стали \"ипотечники\": при наибольшем общем количестве займов (10840), доля недобросовестных заемщиков составляет 7.23%. Любители кататься, как показывают данные, возить саночки не особо любят. Также как и те, кто берет кредиты на обучение. При почти равном количестве займов в категориях \"автомобиль\" и \"образование\", доля недобросовестных заемщиков также остается больше, чем в категориях \"недвижимость\" и \"свадьба\". "
   ]
  },
  {
   "cell_type": "markdown",
   "metadata": {},
   "source": [
    "## Шаг 4. Общий вывод"
   ]
  },
  {
   "cell_type": "code",
   "execution_count": 723,
   "metadata": {},
   "outputs": [
    {
     "data": {
      "text/html": [
       "<div>\n",
       "<style scoped>\n",
       "    .dataframe tbody tr th:only-of-type {\n",
       "        vertical-align: middle;\n",
       "    }\n",
       "\n",
       "    .dataframe tbody tr th {\n",
       "        vertical-align: top;\n",
       "    }\n",
       "\n",
       "    .dataframe thead th {\n",
       "        text-align: right;\n",
       "    }\n",
       "</style>\n",
       "<table border=\"1\" class=\"dataframe\">\n",
       "  <thead>\n",
       "    <tr style=\"text-align: right;\">\n",
       "      <th></th>\n",
       "      <th>debt</th>\n",
       "      <th>per</th>\n",
       "    </tr>\n",
       "    <tr>\n",
       "      <th>pur_lem</th>\n",
       "      <th></th>\n",
       "      <th></th>\n",
       "    </tr>\n",
       "  </thead>\n",
       "  <tbody>\n",
       "    <tr>\n",
       "      <td>автомобиль</td>\n",
       "      <td>4306</td>\n",
       "      <td>9.36%</td>\n",
       "    </tr>\n",
       "    <tr>\n",
       "      <td>недвижимость</td>\n",
       "      <td>10809</td>\n",
       "      <td>7.23%</td>\n",
       "    </tr>\n",
       "    <tr>\n",
       "      <td>образование</td>\n",
       "      <td>4013</td>\n",
       "      <td>9.22%</td>\n",
       "    </tr>\n",
       "    <tr>\n",
       "      <td>свадьба</td>\n",
       "      <td>2324</td>\n",
       "      <td>8.00%</td>\n",
       "    </tr>\n",
       "  </tbody>\n",
       "</table>\n",
       "</div>"
      ],
      "text/plain": [
       "               debt    per\n",
       "pur_lem                   \n",
       "автомобиль     4306  9.36%\n",
       "недвижимость  10809  7.23%\n",
       "образование    4013  9.22%\n",
       "свадьба        2324  8.00%"
      ]
     },
     "execution_count": 723,
     "metadata": {},
     "output_type": "execute_result"
    }
   ],
   "source": [
    "pur_per_grouped = [auto_per, prop_per, educ_per, wedd_per]\n",
    "pur = data.groupby('pur_lem').count()\n",
    "pur['per'] = pur_per_grouped\n",
    "pur.drop(columns = ['family_status_id', 'children', 'days_employed', 'dob_years', 'education_id', 'gender', 'income_type', \n",
    "                       'purpose', 'total_income'])"
   ]
  },
  {
   "cell_type": "code",
   "execution_count": 724,
   "metadata": {},
   "outputs": [
    {
     "data": {
      "text/html": [
       "<div>\n",
       "<style scoped>\n",
       "    .dataframe tbody tr th:only-of-type {\n",
       "        vertical-align: middle;\n",
       "    }\n",
       "\n",
       "    .dataframe tbody tr th {\n",
       "        vertical-align: top;\n",
       "    }\n",
       "\n",
       "    .dataframe thead th {\n",
       "        text-align: right;\n",
       "    }\n",
       "</style>\n",
       "<table border=\"1\" class=\"dataframe\">\n",
       "  <thead>\n",
       "    <tr style=\"text-align: right;\">\n",
       "      <th></th>\n",
       "      <th>debt</th>\n",
       "      <th>per</th>\n",
       "    </tr>\n",
       "    <tr>\n",
       "      <th>family_status_id</th>\n",
       "      <th></th>\n",
       "      <th></th>\n",
       "    </tr>\n",
       "  </thead>\n",
       "  <tbody>\n",
       "    <tr>\n",
       "      <td>0</td>\n",
       "      <td>12338</td>\n",
       "      <td>7.54%</td>\n",
       "    </tr>\n",
       "    <tr>\n",
       "      <td>1</td>\n",
       "      <td>4150</td>\n",
       "      <td>9.35%</td>\n",
       "    </tr>\n",
       "    <tr>\n",
       "      <td>2</td>\n",
       "      <td>959</td>\n",
       "      <td>6.57%</td>\n",
       "    </tr>\n",
       "    <tr>\n",
       "      <td>3</td>\n",
       "      <td>1195</td>\n",
       "      <td>7.11%</td>\n",
       "    </tr>\n",
       "    <tr>\n",
       "      <td>4</td>\n",
       "      <td>2810</td>\n",
       "      <td>9.75%</td>\n",
       "    </tr>\n",
       "  </tbody>\n",
       "</table>\n",
       "</div>"
      ],
      "text/plain": [
       "                   debt    per\n",
       "family_status_id              \n",
       "0                 12338  7.54%\n",
       "1                  4150  9.35%\n",
       "2                   959  6.57%\n",
       "3                  1195  7.11%\n",
       "4                  2810  9.75%"
      ]
     },
     "execution_count": 724,
     "metadata": {},
     "output_type": "execute_result"
    }
   ],
   "source": [
    "family_per_grouped = [married_per, civil_per, widowed_per, divorced_per, single_per]\n",
    "family = data.groupby('family_status_id').count()\n",
    "family['per'] = family_per_grouped\n",
    "family.drop(columns = ['children', 'days_employed', 'dob_years', 'education_id', 'gender', 'income_type', \n",
    "                       'purpose', 'total_income', 'pur_lem'])\n"
   ]
  },
  {
   "cell_type": "code",
   "execution_count": 725,
   "metadata": {},
   "outputs": [
    {
     "data": {
      "text/html": [
       "<div>\n",
       "<style scoped>\n",
       "    .dataframe tbody tr th:only-of-type {\n",
       "        vertical-align: middle;\n",
       "    }\n",
       "\n",
       "    .dataframe tbody tr th {\n",
       "        vertical-align: top;\n",
       "    }\n",
       "\n",
       "    .dataframe thead th {\n",
       "        text-align: right;\n",
       "    }\n",
       "</style>\n",
       "<table border=\"1\" class=\"dataframe\">\n",
       "  <thead>\n",
       "    <tr style=\"text-align: right;\">\n",
       "      <th></th>\n",
       "      <th>category</th>\n",
       "      <th>count</th>\n",
       "      <th>per</th>\n",
       "    </tr>\n",
       "  </thead>\n",
       "  <tbody>\n",
       "    <tr>\n",
       "      <td>0</td>\n",
       "      <td>Без детей</td>\n",
       "      <td>14149</td>\n",
       "      <td>7.54%</td>\n",
       "    </tr>\n",
       "    <tr>\n",
       "      <td>1</td>\n",
       "      <td>С детьми</td>\n",
       "      <td>7376</td>\n",
       "      <td>9.20%</td>\n",
       "    </tr>\n",
       "  </tbody>\n",
       "</table>\n",
       "</div>"
      ],
      "text/plain": [
       "    category  count    per\n",
       "0  Без детей  14149  7.54%\n",
       "1   С детьми   7376  9.20%"
      ]
     },
     "execution_count": 725,
     "metadata": {},
     "output_type": "execute_result"
    }
   ],
   "source": [
    "child_data = [{'category' : 'Без детей', 'count': 14149, 'per': '7.54%'}, \n",
    "              {'category' : 'С детьми', 'count': 7376, 'per': '9.20%'}]\n",
    "child_table = pd.DataFrame(child_data)\n",
    "child_table"
   ]
  },
  {
   "cell_type": "code",
   "execution_count": 726,
   "metadata": {
    "scrolled": true
   },
   "outputs": [
    {
     "data": {
      "text/html": [
       "<div>\n",
       "<style scoped>\n",
       "    .dataframe tbody tr th:only-of-type {\n",
       "        vertical-align: middle;\n",
       "    }\n",
       "\n",
       "    .dataframe tbody tr th {\n",
       "        vertical-align: top;\n",
       "    }\n",
       "\n",
       "    .dataframe thead th {\n",
       "        text-align: right;\n",
       "    }\n",
       "</style>\n",
       "<table border=\"1\" class=\"dataframe\">\n",
       "  <thead>\n",
       "    <tr style=\"text-align: right;\">\n",
       "      <th></th>\n",
       "      <th>category</th>\n",
       "      <th>count</th>\n",
       "      <th>per</th>\n",
       "    </tr>\n",
       "  </thead>\n",
       "  <tbody>\n",
       "    <tr>\n",
       "      <td>0</td>\n",
       "      <td>Высокий</td>\n",
       "      <td>6422</td>\n",
       "      <td>7.44%</td>\n",
       "    </tr>\n",
       "    <tr>\n",
       "      <td>1</td>\n",
       "      <td>Средний</td>\n",
       "      <td>15030</td>\n",
       "      <td>8.40%</td>\n",
       "    </tr>\n",
       "    <tr>\n",
       "      <td>2</td>\n",
       "      <td>Низкий</td>\n",
       "      <td>7230</td>\n",
       "      <td>8.09%</td>\n",
       "    </tr>\n",
       "  </tbody>\n",
       "</table>\n",
       "</div>"
      ],
      "text/plain": [
       "  category  count    per\n",
       "0  Высокий   6422  7.44%\n",
       "1  Средний  15030  8.40%\n",
       "2   Низкий   7230  8.09%"
      ]
     },
     "execution_count": 726,
     "metadata": {},
     "output_type": "execute_result"
    }
   ],
   "source": [
    "income_data = [{'category' : 'Высокий', 'count': 6422, 'per': '7.44%'},\n",
    "              {'category' : 'Средний', 'count': 15030, 'per': '8.40%'},\n",
    "              {'category' : 'Низкий', 'count': 7230, 'per': '8.09%'}]\n",
    "income_table = pd.DataFrame(income_data)\n",
    "income_table"
   ]
  },
  {
   "cell_type": "markdown",
   "metadata": {},
   "source": [
    "<br /><head1><b> Общий вывод: <head1></b>\n",
    "    <br /> С самого начала мы обнаружили 2174 пропуска в столбцах days_employed и total_income в соответствующих строках, и решили заполнить их медианными значениями. Далее обнаружились аномальные значения в столбце дней трудового стажа: отрицательные значения, и количество дней трудового стажа у пенсионеров, превышающий 350 тысяч дней. По моим предположениям, для пенсионеров были записаны часы трудового стажа, а не дни, соответственно, мы разделили значения в категории \"пенсионеры\" на 24. Впоследствии, медианный трудовой стаж у пенсионеров составил порядка 15 тысяч дней (40-45 лет). \n",
    "    <br />  Далее во всех количественных столбцах мы привели значения от вещественных к целочисленным для дальнейшего анализа. Также избавились от неявных дубликатов в столбце education, и избавились от явных дубликатов. После этого лемматизировали данные по целям кредита и выявили несколько основных категорий: \"образование\", \"недвижимость\", \"автомобиль\", \"свадьба\". Также провели категоризацию по семейному статусу, уровню дохода и наличию детей.\n",
    "    <br /> После проведенных над данными операций, я решил рассчитать долю должников по категориям. Согласно данным рассчетам, по моим предположениям, в группу риска попали следующие категории: \n",
    "    <br /> По целям: \"образование\", \"автомобиль\".\n",
    "    <br /> По семейному статусу: \"не в браке\" и \"гражданский брак\"\n",
    "    <br /> По уровню дохода: здесь сложно давать однозначную рекомендацию, ведь большая часть заемщиков из категории \"средний доход\", однако доля должников в этой категории самая высокая. Поэтому при отсутствие факторов риска по другим категориям, можно реализовать оформление займа.\n",
    "    <br /> По наличию детей: здесь также все неоднозначно. При количестве займов в категории \"без детей\", почти в 2 раза выше, чем \"с детьми\", доля должников у первых почти на 2% меньше. Также как и с доходом, здесь при оформлении займа должны учитываться факторы и из других категорий.\n"
   ]
  },
  {
   "cell_type": "code",
   "execution_count": null,
   "metadata": {},
   "outputs": [],
   "source": []
  }
 ],
 "metadata": {
  "ExecuteTimeLog": [
   {
    "duration": 787,
    "start_time": "2022-01-25T14:33:57.506Z"
   },
   {
    "duration": 213,
    "start_time": "2022-01-25T14:35:48.314Z"
   },
   {
    "duration": 208,
    "start_time": "2022-01-25T14:36:20.369Z"
   },
   {
    "duration": 308,
    "start_time": "2022-01-25T14:39:01.221Z"
   },
   {
    "duration": 209,
    "start_time": "2022-01-25T15:00:24.406Z"
   },
   {
    "duration": 778,
    "start_time": "2022-01-26T08:07:02.416Z"
   },
   {
    "duration": 19,
    "start_time": "2022-01-26T08:07:46.020Z"
   },
   {
    "duration": 8,
    "start_time": "2022-01-26T08:08:21.678Z"
   },
   {
    "duration": 99,
    "start_time": "2022-01-26T08:09:17.217Z"
   },
   {
    "duration": 8236,
    "start_time": "2022-01-26T08:09:34.600Z"
   },
   {
    "duration": 61,
    "start_time": "2022-01-26T08:09:57.559Z"
   },
   {
    "duration": 12,
    "start_time": "2022-01-26T08:09:59.754Z"
   },
   {
    "duration": 8,
    "start_time": "2022-01-26T08:10:01.150Z"
   },
   {
    "duration": 23,
    "start_time": "2022-01-26T08:10:02.112Z"
   },
   {
    "duration": 8,
    "start_time": "2022-01-26T08:10:03.334Z"
   },
   {
    "duration": 113,
    "start_time": "2022-01-26T08:10:06.160Z"
   },
   {
    "duration": 9,
    "start_time": "2022-01-26T08:13:52.396Z"
   },
   {
    "duration": 4,
    "start_time": "2022-01-26T08:14:55.878Z"
   },
   {
    "duration": 7,
    "start_time": "2022-01-26T08:15:03.502Z"
   },
   {
    "duration": 10,
    "start_time": "2022-01-26T08:23:54.110Z"
   },
   {
    "duration": 13,
    "start_time": "2022-01-26T08:24:02.528Z"
   },
   {
    "duration": 69,
    "start_time": "2022-01-26T08:24:42.172Z"
   },
   {
    "duration": 13,
    "start_time": "2022-01-26T08:24:43.469Z"
   },
   {
    "duration": 9,
    "start_time": "2022-01-26T08:24:44.250Z"
   },
   {
    "duration": 22,
    "start_time": "2022-01-26T08:24:44.795Z"
   },
   {
    "duration": 9,
    "start_time": "2022-01-26T08:24:47.391Z"
   },
   {
    "duration": 46,
    "start_time": "2022-01-26T08:25:31.229Z"
   },
   {
    "duration": 44,
    "start_time": "2022-01-26T08:25:37.108Z"
   },
   {
    "duration": 90,
    "start_time": "2022-01-26T08:28:15.527Z"
   },
   {
    "duration": 17,
    "start_time": "2022-01-26T08:28:17.581Z"
   },
   {
    "duration": 9,
    "start_time": "2022-01-26T08:28:17.827Z"
   },
   {
    "duration": 30,
    "start_time": "2022-01-26T08:28:18.689Z"
   },
   {
    "duration": 7,
    "start_time": "2022-01-26T08:28:21.027Z"
   },
   {
    "duration": 7,
    "start_time": "2022-01-26T08:28:47.876Z"
   },
   {
    "duration": 7,
    "start_time": "2022-01-26T08:29:00.330Z"
   },
   {
    "duration": 12,
    "start_time": "2022-01-26T08:29:57.563Z"
   },
   {
    "duration": 23,
    "start_time": "2022-01-26T08:30:43.184Z"
   },
   {
    "duration": 8,
    "start_time": "2022-01-26T08:31:41.737Z"
   },
   {
    "duration": 7,
    "start_time": "2022-01-26T08:31:59.841Z"
   },
   {
    "duration": 8,
    "start_time": "2022-01-26T08:32:12.099Z"
   },
   {
    "duration": 8,
    "start_time": "2022-01-26T08:32:18.336Z"
   },
   {
    "duration": 6,
    "start_time": "2022-01-26T08:32:23.450Z"
   },
   {
    "duration": 16,
    "start_time": "2022-01-26T08:33:34.240Z"
   },
   {
    "duration": 10,
    "start_time": "2022-01-26T08:36:07.914Z"
   },
   {
    "duration": 21,
    "start_time": "2022-01-26T08:36:40.393Z"
   },
   {
    "duration": 375,
    "start_time": "2022-01-26T08:37:08.506Z"
   },
   {
    "duration": 328,
    "start_time": "2022-01-26T08:42:07.065Z"
   },
   {
    "duration": 318,
    "start_time": "2022-01-26T08:42:17.591Z"
   },
   {
    "duration": 4,
    "start_time": "2022-01-26T08:42:22.075Z"
   },
   {
    "duration": 35,
    "start_time": "2022-01-26T08:42:31.112Z"
   },
   {
    "duration": 312,
    "start_time": "2022-01-26T08:42:47.847Z"
   },
   {
    "duration": 299,
    "start_time": "2022-01-26T08:43:48.442Z"
   },
   {
    "duration": 7,
    "start_time": "2022-01-26T08:44:01.969Z"
   },
   {
    "duration": 814,
    "start_time": "2022-01-26T08:48:33.147Z"
   },
   {
    "duration": 848,
    "start_time": "2022-01-26T08:48:42.876Z"
   },
   {
    "duration": 826,
    "start_time": "2022-01-26T08:48:49.407Z"
   },
   {
    "duration": 1160,
    "start_time": "2022-01-26T08:51:31.046Z"
   },
   {
    "duration": 1166,
    "start_time": "2022-01-26T08:52:43.099Z"
   },
   {
    "duration": 1128,
    "start_time": "2022-01-26T08:52:48.422Z"
   },
   {
    "duration": 842,
    "start_time": "2022-01-26T08:53:02.931Z"
   },
   {
    "duration": 102,
    "start_time": "2022-01-26T08:54:19.898Z"
   },
   {
    "duration": 99,
    "start_time": "2022-01-26T08:54:24.703Z"
   },
   {
    "duration": 874,
    "start_time": "2022-01-26T08:55:37.675Z"
   },
   {
    "duration": 993,
    "start_time": "2022-01-26T08:55:48.941Z"
   },
   {
    "duration": 1179,
    "start_time": "2022-01-26T08:56:55.695Z"
   },
   {
    "duration": 1176,
    "start_time": "2022-01-26T08:57:32.518Z"
   },
   {
    "duration": 853,
    "start_time": "2022-01-26T08:58:19.634Z"
   },
   {
    "duration": 862,
    "start_time": "2022-01-26T08:58:30.917Z"
   },
   {
    "duration": 348,
    "start_time": "2022-01-26T08:58:41.471Z"
   },
   {
    "duration": 843,
    "start_time": "2022-01-26T08:58:48.474Z"
   },
   {
    "duration": 830,
    "start_time": "2022-01-26T08:59:03.042Z"
   },
   {
    "duration": 827,
    "start_time": "2022-01-26T08:59:15.099Z"
   },
   {
    "duration": 1264,
    "start_time": "2022-01-26T08:59:52.585Z"
   },
   {
    "duration": 817,
    "start_time": "2022-01-26T09:01:02.179Z"
   },
   {
    "duration": 822,
    "start_time": "2022-01-26T09:01:29.214Z"
   },
   {
    "duration": 834,
    "start_time": "2022-01-26T09:01:51.951Z"
   },
   {
    "duration": 870,
    "start_time": "2022-01-26T09:01:57.522Z"
   },
   {
    "duration": 872,
    "start_time": "2022-01-26T09:02:18.374Z"
   },
   {
    "duration": 833,
    "start_time": "2022-01-26T09:03:12.719Z"
   },
   {
    "duration": 969,
    "start_time": "2022-01-26T09:03:20.286Z"
   },
   {
    "duration": 1196,
    "start_time": "2022-01-26T09:03:36.801Z"
   },
   {
    "duration": 953,
    "start_time": "2022-01-26T09:03:52.641Z"
   },
   {
    "duration": 823,
    "start_time": "2022-01-26T09:04:15.548Z"
   },
   {
    "duration": 850,
    "start_time": "2022-01-26T09:04:25.897Z"
   },
   {
    "duration": 876,
    "start_time": "2022-01-26T09:04:42.949Z"
   },
   {
    "duration": 904,
    "start_time": "2022-01-26T09:04:52.820Z"
   },
   {
    "duration": 66,
    "start_time": "2022-01-26T09:04:59.754Z"
   },
   {
    "duration": 10,
    "start_time": "2022-01-26T09:04:59.823Z"
   },
   {
    "duration": 29,
    "start_time": "2022-01-26T09:04:59.836Z"
   },
   {
    "duration": 23,
    "start_time": "2022-01-26T09:04:59.867Z"
   },
   {
    "duration": 32,
    "start_time": "2022-01-26T09:04:59.892Z"
   },
   {
    "duration": 8,
    "start_time": "2022-01-26T09:04:59.926Z"
   },
   {
    "duration": 12,
    "start_time": "2022-01-26T09:04:59.936Z"
   },
   {
    "duration": 21,
    "start_time": "2022-01-26T09:04:59.951Z"
   },
   {
    "duration": 52,
    "start_time": "2022-01-26T09:04:59.974Z"
   },
   {
    "duration": 16,
    "start_time": "2022-01-26T09:05:00.028Z"
   },
   {
    "duration": 7,
    "start_time": "2022-01-26T09:05:00.046Z"
   },
   {
    "duration": 23,
    "start_time": "2022-01-26T09:05:00.055Z"
   },
   {
    "duration": 25,
    "start_time": "2022-01-26T09:05:00.080Z"
   },
   {
    "duration": 828,
    "start_time": "2022-01-26T09:05:00.124Z"
   },
   {
    "duration": 67,
    "start_time": "2022-01-26T09:05:08.899Z"
   },
   {
    "duration": 11,
    "start_time": "2022-01-26T09:05:08.968Z"
   },
   {
    "duration": 11,
    "start_time": "2022-01-26T09:05:08.982Z"
   },
   {
    "duration": 45,
    "start_time": "2022-01-26T09:05:08.995Z"
   },
   {
    "duration": 7,
    "start_time": "2022-01-26T09:05:09.042Z"
   },
   {
    "duration": 8,
    "start_time": "2022-01-26T09:05:09.051Z"
   },
   {
    "duration": 14,
    "start_time": "2022-01-26T09:05:09.061Z"
   },
   {
    "duration": 56,
    "start_time": "2022-01-26T09:05:09.078Z"
   },
   {
    "duration": 7,
    "start_time": "2022-01-26T09:05:09.136Z"
   },
   {
    "duration": 14,
    "start_time": "2022-01-26T09:05:09.146Z"
   },
   {
    "duration": 7,
    "start_time": "2022-01-26T09:05:09.162Z"
   },
   {
    "duration": 10,
    "start_time": "2022-01-26T09:05:09.171Z"
   },
   {
    "duration": 54,
    "start_time": "2022-01-26T09:05:09.184Z"
   },
   {
    "duration": 826,
    "start_time": "2022-01-26T09:05:15.799Z"
   },
   {
    "duration": 70,
    "start_time": "2022-01-26T09:05:24.453Z"
   },
   {
    "duration": 13,
    "start_time": "2022-01-26T09:05:25.154Z"
   },
   {
    "duration": 9,
    "start_time": "2022-01-26T09:05:25.439Z"
   },
   {
    "duration": 24,
    "start_time": "2022-01-26T09:05:25.693Z"
   },
   {
    "duration": 9,
    "start_time": "2022-01-26T09:05:25.963Z"
   },
   {
    "duration": 8,
    "start_time": "2022-01-26T09:05:26.260Z"
   },
   {
    "duration": 12,
    "start_time": "2022-01-26T09:05:26.400Z"
   },
   {
    "duration": 21,
    "start_time": "2022-01-26T09:05:26.632Z"
   },
   {
    "duration": 9,
    "start_time": "2022-01-26T09:05:26.907Z"
   },
   {
    "duration": 17,
    "start_time": "2022-01-26T09:05:27.018Z"
   },
   {
    "duration": 7,
    "start_time": "2022-01-26T09:05:27.599Z"
   },
   {
    "duration": 10,
    "start_time": "2022-01-26T09:05:28.493Z"
   },
   {
    "duration": 22,
    "start_time": "2022-01-26T09:05:29.354Z"
   },
   {
    "duration": 829,
    "start_time": "2022-01-26T09:05:31.296Z"
   },
   {
    "duration": 70,
    "start_time": "2022-01-26T09:05:58.819Z"
   },
   {
    "duration": 31,
    "start_time": "2022-01-26T09:05:58.892Z"
   },
   {
    "duration": 8,
    "start_time": "2022-01-26T09:05:58.926Z"
   },
   {
    "duration": 26,
    "start_time": "2022-01-26T09:05:58.936Z"
   },
   {
    "duration": 7,
    "start_time": "2022-01-26T09:05:58.964Z"
   },
   {
    "duration": 9,
    "start_time": "2022-01-26T09:05:58.973Z"
   },
   {
    "duration": 40,
    "start_time": "2022-01-26T09:05:58.985Z"
   },
   {
    "duration": 20,
    "start_time": "2022-01-26T09:05:59.028Z"
   },
   {
    "duration": 7,
    "start_time": "2022-01-26T09:05:59.050Z"
   },
   {
    "duration": 18,
    "start_time": "2022-01-26T09:05:59.060Z"
   },
   {
    "duration": 6,
    "start_time": "2022-01-26T09:05:59.080Z"
   },
   {
    "duration": 43,
    "start_time": "2022-01-26T09:05:59.089Z"
   },
   {
    "duration": 36,
    "start_time": "2022-01-26T09:05:59.135Z"
   },
   {
    "duration": 825,
    "start_time": "2022-01-26T09:06:01.633Z"
   },
   {
    "duration": 952,
    "start_time": "2022-01-26T09:06:26.589Z"
   },
   {
    "duration": 99,
    "start_time": "2022-01-26T09:12:51.494Z"
   },
   {
    "duration": 405,
    "start_time": "2022-01-26T09:13:54.644Z"
   },
   {
    "duration": 343,
    "start_time": "2022-01-26T09:14:24.147Z"
   },
   {
    "duration": 351,
    "start_time": "2022-01-26T09:15:37.769Z"
   },
   {
    "duration": 8,
    "start_time": "2022-01-26T09:16:10.076Z"
   },
   {
    "duration": 10,
    "start_time": "2022-01-26T09:16:26.169Z"
   },
   {
    "duration": 653,
    "start_time": "2022-01-26T09:17:31.110Z"
   },
   {
    "duration": 849,
    "start_time": "2022-01-26T09:18:57.445Z"
   },
   {
    "duration": 835,
    "start_time": "2022-01-26T09:19:22.243Z"
   },
   {
    "duration": 30,
    "start_time": "2022-01-26T09:25:52.809Z"
   },
   {
    "duration": 10,
    "start_time": "2022-01-26T09:26:07.346Z"
   },
   {
    "duration": 861,
    "start_time": "2022-01-26T09:27:37.888Z"
   },
   {
    "duration": 971,
    "start_time": "2022-01-26T09:27:50.364Z"
   },
   {
    "duration": 828,
    "start_time": "2022-01-26T09:28:47.999Z"
   },
   {
    "duration": 818,
    "start_time": "2022-01-26T09:29:46.138Z"
   },
   {
    "duration": 809,
    "start_time": "2022-01-26T09:29:53.859Z"
   },
   {
    "duration": 822,
    "start_time": "2022-01-26T09:30:19.354Z"
   },
   {
    "duration": 834,
    "start_time": "2022-01-26T09:30:25.546Z"
   },
   {
    "duration": 1161,
    "start_time": "2022-01-26T09:30:56.666Z"
   },
   {
    "duration": 836,
    "start_time": "2022-01-26T09:31:03.710Z"
   },
   {
    "duration": 823,
    "start_time": "2022-01-26T09:31:09.444Z"
   },
   {
    "duration": 934,
    "start_time": "2022-01-26T09:32:25.895Z"
   },
   {
    "duration": 840,
    "start_time": "2022-01-26T09:32:30.623Z"
   },
   {
    "duration": 854,
    "start_time": "2022-01-26T09:33:06.074Z"
   },
   {
    "duration": 848,
    "start_time": "2022-01-26T09:34:22.192Z"
   },
   {
    "duration": 819,
    "start_time": "2022-01-26T09:34:25.313Z"
   },
   {
    "duration": 880,
    "start_time": "2022-01-26T09:34:39.193Z"
   },
   {
    "duration": 8,
    "start_time": "2022-01-26T10:10:53.200Z"
   },
   {
    "duration": 14,
    "start_time": "2022-01-26T10:18:04.148Z"
   },
   {
    "duration": 6,
    "start_time": "2022-01-26T10:18:12.226Z"
   },
   {
    "duration": 5,
    "start_time": "2022-01-26T10:18:24.440Z"
   },
   {
    "duration": 6,
    "start_time": "2022-01-26T10:18:30.649Z"
   },
   {
    "duration": 9,
    "start_time": "2022-01-26T10:18:41.877Z"
   },
   {
    "duration": 4235,
    "start_time": "2022-01-26T10:22:50.158Z"
   },
   {
    "duration": 8868,
    "start_time": "2022-01-26T10:23:43.707Z"
   },
   {
    "duration": 68,
    "start_time": "2022-01-26T10:25:44.785Z"
   },
   {
    "duration": 11,
    "start_time": "2022-01-26T10:25:44.856Z"
   },
   {
    "duration": 9,
    "start_time": "2022-01-26T10:25:44.869Z"
   },
   {
    "duration": 45,
    "start_time": "2022-01-26T10:25:44.881Z"
   },
   {
    "duration": 8,
    "start_time": "2022-01-26T10:25:44.928Z"
   },
   {
    "duration": 7,
    "start_time": "2022-01-26T10:25:44.938Z"
   },
   {
    "duration": 13,
    "start_time": "2022-01-26T10:25:44.947Z"
   },
   {
    "duration": 20,
    "start_time": "2022-01-26T10:25:44.963Z"
   },
   {
    "duration": 40,
    "start_time": "2022-01-26T10:25:44.985Z"
   },
   {
    "duration": 16,
    "start_time": "2022-01-26T10:25:45.028Z"
   },
   {
    "duration": 7,
    "start_time": "2022-01-26T10:25:45.046Z"
   },
   {
    "duration": 11,
    "start_time": "2022-01-26T10:25:45.055Z"
   },
   {
    "duration": 56,
    "start_time": "2022-01-26T10:25:45.068Z"
   },
   {
    "duration": 849,
    "start_time": "2022-01-26T10:25:45.127Z"
   },
   {
    "duration": 8518,
    "start_time": "2022-01-26T10:25:58.604Z"
   },
   {
    "duration": 9,
    "start_time": "2022-01-26T10:26:19.465Z"
   },
   {
    "duration": 13,
    "start_time": "2022-01-26T10:28:36.458Z"
   },
   {
    "duration": 108,
    "start_time": "2022-01-26T10:30:21.325Z"
   },
   {
    "duration": 67,
    "start_time": "2022-01-26T10:30:25.464Z"
   },
   {
    "duration": 12,
    "start_time": "2022-01-26T10:30:25.534Z"
   },
   {
    "duration": 8,
    "start_time": "2022-01-26T10:30:25.549Z"
   },
   {
    "duration": 21,
    "start_time": "2022-01-26T10:30:25.560Z"
   },
   {
    "duration": 7,
    "start_time": "2022-01-26T10:30:25.583Z"
   },
   {
    "duration": 8,
    "start_time": "2022-01-26T10:30:25.624Z"
   },
   {
    "duration": 14,
    "start_time": "2022-01-26T10:30:25.634Z"
   },
   {
    "duration": 21,
    "start_time": "2022-01-26T10:30:25.651Z"
   },
   {
    "duration": 8,
    "start_time": "2022-01-26T10:30:25.674Z"
   },
   {
    "duration": 50,
    "start_time": "2022-01-26T10:30:25.685Z"
   },
   {
    "duration": 6,
    "start_time": "2022-01-26T10:30:25.737Z"
   },
   {
    "duration": 9,
    "start_time": "2022-01-26T10:30:25.745Z"
   },
   {
    "duration": 22,
    "start_time": "2022-01-26T10:30:25.757Z"
   },
   {
    "duration": 885,
    "start_time": "2022-01-26T10:30:25.781Z"
   },
   {
    "duration": 120,
    "start_time": "2022-01-26T10:30:26.669Z"
   },
   {
    "duration": 70,
    "start_time": "2022-01-26T10:30:32.304Z"
   },
   {
    "duration": 11,
    "start_time": "2022-01-26T10:30:32.376Z"
   },
   {
    "duration": 8,
    "start_time": "2022-01-26T10:30:32.390Z"
   },
   {
    "duration": 41,
    "start_time": "2022-01-26T10:30:32.401Z"
   },
   {
    "duration": 8,
    "start_time": "2022-01-26T10:30:32.444Z"
   },
   {
    "duration": 7,
    "start_time": "2022-01-26T10:30:32.455Z"
   },
   {
    "duration": 12,
    "start_time": "2022-01-26T10:30:32.465Z"
   },
   {
    "duration": 57,
    "start_time": "2022-01-26T10:30:32.480Z"
   },
   {
    "duration": 8,
    "start_time": "2022-01-26T10:30:32.539Z"
   },
   {
    "duration": 18,
    "start_time": "2022-01-26T10:30:32.549Z"
   },
   {
    "duration": 9,
    "start_time": "2022-01-26T10:30:32.569Z"
   },
   {
    "duration": 44,
    "start_time": "2022-01-26T10:30:32.581Z"
   },
   {
    "duration": 25,
    "start_time": "2022-01-26T10:30:32.627Z"
   },
   {
    "duration": 878,
    "start_time": "2022-01-26T10:30:32.655Z"
   },
   {
    "duration": 97,
    "start_time": "2022-01-26T10:30:52.555Z"
   },
   {
    "duration": 102,
    "start_time": "2022-01-26T10:31:00.822Z"
   },
   {
    "duration": 324,
    "start_time": "2022-01-26T10:31:08.911Z"
   },
   {
    "duration": 308,
    "start_time": "2022-01-26T10:31:19.398Z"
   },
   {
    "duration": 103,
    "start_time": "2022-01-26T10:32:06.742Z"
   },
   {
    "duration": 12,
    "start_time": "2022-01-26T10:32:12.116Z"
   },
   {
    "duration": 314,
    "start_time": "2022-01-26T10:32:23.733Z"
   },
   {
    "duration": 28,
    "start_time": "2022-01-26T10:32:28.158Z"
   },
   {
    "duration": 441,
    "start_time": "2022-01-26T10:32:46.744Z"
   },
   {
    "duration": 29,
    "start_time": "2022-01-26T10:33:03.468Z"
   },
   {
    "duration": 67,
    "start_time": "2022-01-26T10:34:05.812Z"
   },
   {
    "duration": 11,
    "start_time": "2022-01-26T10:34:05.882Z"
   },
   {
    "duration": 39,
    "start_time": "2022-01-26T10:34:05.896Z"
   },
   {
    "duration": 32,
    "start_time": "2022-01-26T10:34:05.938Z"
   },
   {
    "duration": 9,
    "start_time": "2022-01-26T10:34:05.973Z"
   },
   {
    "duration": 39,
    "start_time": "2022-01-26T10:34:05.985Z"
   },
   {
    "duration": 13,
    "start_time": "2022-01-26T10:34:06.027Z"
   },
   {
    "duration": 22,
    "start_time": "2022-01-26T10:34:06.044Z"
   },
   {
    "duration": 8,
    "start_time": "2022-01-26T10:34:06.069Z"
   },
   {
    "duration": 52,
    "start_time": "2022-01-26T10:34:06.079Z"
   },
   {
    "duration": 8,
    "start_time": "2022-01-26T10:34:06.134Z"
   },
   {
    "duration": 14,
    "start_time": "2022-01-26T10:34:06.145Z"
   },
   {
    "duration": 65,
    "start_time": "2022-01-26T10:34:06.162Z"
   },
   {
    "duration": 974,
    "start_time": "2022-01-26T10:34:06.230Z"
   },
   {
    "duration": 42,
    "start_time": "2022-01-26T10:34:07.207Z"
   },
   {
    "duration": 68,
    "start_time": "2022-01-26T10:34:14.621Z"
   },
   {
    "duration": 11,
    "start_time": "2022-01-26T10:34:14.692Z"
   },
   {
    "duration": 8,
    "start_time": "2022-01-26T10:34:14.723Z"
   },
   {
    "duration": 21,
    "start_time": "2022-01-26T10:34:14.734Z"
   },
   {
    "duration": 7,
    "start_time": "2022-01-26T10:34:14.757Z"
   },
   {
    "duration": 8,
    "start_time": "2022-01-26T10:34:14.766Z"
   },
   {
    "duration": 51,
    "start_time": "2022-01-26T10:34:14.776Z"
   },
   {
    "duration": 21,
    "start_time": "2022-01-26T10:34:14.830Z"
   },
   {
    "duration": 7,
    "start_time": "2022-01-26T10:34:14.853Z"
   },
   {
    "duration": 17,
    "start_time": "2022-01-26T10:34:14.863Z"
   },
   {
    "duration": 41,
    "start_time": "2022-01-26T10:34:14.883Z"
   },
   {
    "duration": 10,
    "start_time": "2022-01-26T10:34:14.926Z"
   },
   {
    "duration": 30,
    "start_time": "2022-01-26T10:34:14.938Z"
   },
   {
    "duration": 967,
    "start_time": "2022-01-26T10:34:14.971Z"
   },
   {
    "duration": 23,
    "start_time": "2022-01-26T10:34:22.981Z"
   },
   {
    "duration": 15,
    "start_time": "2022-01-26T10:35:53.278Z"
   },
   {
    "duration": 17,
    "start_time": "2022-01-26T10:37:08.075Z"
   },
   {
    "duration": 15,
    "start_time": "2022-01-26T10:37:12.096Z"
   },
   {
    "duration": 19,
    "start_time": "2022-01-26T10:37:17.017Z"
   },
   {
    "duration": 13,
    "start_time": "2022-01-26T10:37:34.377Z"
   },
   {
    "duration": 14,
    "start_time": "2022-01-26T10:38:03.753Z"
   },
   {
    "duration": 13,
    "start_time": "2022-01-26T10:38:18.361Z"
   },
   {
    "duration": 20,
    "start_time": "2022-01-26T10:38:32.817Z"
   },
   {
    "duration": 16,
    "start_time": "2022-01-26T10:38:42.124Z"
   },
   {
    "duration": 384,
    "start_time": "2022-01-26T10:39:51.024Z"
   },
   {
    "duration": 396,
    "start_time": "2022-01-26T10:40:01.707Z"
   },
   {
    "duration": 15,
    "start_time": "2022-01-26T10:40:16.050Z"
   },
   {
    "duration": 15,
    "start_time": "2022-01-26T10:40:27.197Z"
   },
   {
    "duration": 7,
    "start_time": "2022-01-26T10:42:18.822Z"
   },
   {
    "duration": 321,
    "start_time": "2022-01-26T10:42:26.580Z"
   },
   {
    "duration": 9,
    "start_time": "2022-01-26T10:42:35.400Z"
   },
   {
    "duration": 10,
    "start_time": "2022-01-26T10:42:57.989Z"
   },
   {
    "duration": 316,
    "start_time": "2022-01-26T10:43:08.335Z"
   },
   {
    "duration": 76,
    "start_time": "2022-01-26T10:43:19.428Z"
   },
   {
    "duration": 24,
    "start_time": "2022-01-26T10:43:19.506Z"
   },
   {
    "duration": 14,
    "start_time": "2022-01-26T10:43:19.533Z"
   },
   {
    "duration": 32,
    "start_time": "2022-01-26T10:43:19.551Z"
   },
   {
    "duration": 8,
    "start_time": "2022-01-26T10:43:19.586Z"
   },
   {
    "duration": 11,
    "start_time": "2022-01-26T10:43:19.624Z"
   },
   {
    "duration": 17,
    "start_time": "2022-01-26T10:43:19.638Z"
   },
   {
    "duration": 21,
    "start_time": "2022-01-26T10:43:19.659Z"
   },
   {
    "duration": 42,
    "start_time": "2022-01-26T10:43:19.682Z"
   },
   {
    "duration": 14,
    "start_time": "2022-01-26T10:43:19.726Z"
   },
   {
    "duration": 6,
    "start_time": "2022-01-26T10:43:19.743Z"
   },
   {
    "duration": 9,
    "start_time": "2022-01-26T10:43:19.752Z"
   },
   {
    "duration": 23,
    "start_time": "2022-01-26T10:43:19.763Z"
   },
   {
    "duration": 889,
    "start_time": "2022-01-26T10:43:19.824Z"
   },
   {
    "duration": 9,
    "start_time": "2022-01-26T10:45:23.368Z"
   },
   {
    "duration": 13,
    "start_time": "2022-01-26T10:45:27.811Z"
   },
   {
    "duration": 12,
    "start_time": "2022-01-26T10:45:59.533Z"
   },
   {
    "duration": 13,
    "start_time": "2022-01-26T10:46:09.194Z"
   },
   {
    "duration": 12,
    "start_time": "2022-01-26T10:46:42.309Z"
   },
   {
    "duration": 15,
    "start_time": "2022-01-26T10:46:56.913Z"
   },
   {
    "duration": 13,
    "start_time": "2022-01-26T10:47:05.289Z"
   },
   {
    "duration": 14,
    "start_time": "2022-01-26T10:47:38.024Z"
   },
   {
    "duration": 14,
    "start_time": "2022-01-26T10:52:53.655Z"
   },
   {
    "duration": 18,
    "start_time": "2022-01-26T10:53:05.469Z"
   },
   {
    "duration": 74,
    "start_time": "2022-01-26T10:54:39.643Z"
   },
   {
    "duration": 14,
    "start_time": "2022-01-26T10:54:39.720Z"
   },
   {
    "duration": 10,
    "start_time": "2022-01-26T10:54:39.737Z"
   },
   {
    "duration": 24,
    "start_time": "2022-01-26T10:54:39.750Z"
   },
   {
    "duration": 8,
    "start_time": "2022-01-26T10:54:39.777Z"
   },
   {
    "duration": 8,
    "start_time": "2022-01-26T10:54:39.825Z"
   },
   {
    "duration": 13,
    "start_time": "2022-01-26T10:54:39.835Z"
   },
   {
    "duration": 21,
    "start_time": "2022-01-26T10:54:39.851Z"
   },
   {
    "duration": 7,
    "start_time": "2022-01-26T10:54:39.875Z"
   },
   {
    "duration": 48,
    "start_time": "2022-01-26T10:54:39.884Z"
   },
   {
    "duration": 7,
    "start_time": "2022-01-26T10:54:39.934Z"
   },
   {
    "duration": 14,
    "start_time": "2022-01-26T10:54:39.944Z"
   },
   {
    "duration": 22,
    "start_time": "2022-01-26T10:54:39.960Z"
   },
   {
    "duration": 951,
    "start_time": "2022-01-26T10:54:39.985Z"
   },
   {
    "duration": 10,
    "start_time": "2022-01-26T10:55:03.894Z"
   },
   {
    "duration": 14,
    "start_time": "2022-01-26T10:55:10.052Z"
   },
   {
    "duration": 15,
    "start_time": "2022-01-26T10:55:39.593Z"
   },
   {
    "duration": 10,
    "start_time": "2022-01-26T10:55:51.652Z"
   },
   {
    "duration": 323,
    "start_time": "2022-01-26T10:56:19.531Z"
   },
   {
    "duration": 10,
    "start_time": "2022-01-26T10:56:27.785Z"
   },
   {
    "duration": 9,
    "start_time": "2022-01-26T10:56:39.558Z"
   },
   {
    "duration": 6,
    "start_time": "2022-01-26T10:57:15.249Z"
   },
   {
    "duration": 6,
    "start_time": "2022-01-26T10:57:17.616Z"
   },
   {
    "duration": 10,
    "start_time": "2022-01-26T10:57:25.410Z"
   },
   {
    "duration": 9,
    "start_time": "2022-01-26T10:57:47.490Z"
   },
   {
    "duration": 10,
    "start_time": "2022-01-26T10:59:56.357Z"
   },
   {
    "duration": 10,
    "start_time": "2022-01-26T11:00:04.535Z"
   },
   {
    "duration": 333,
    "start_time": "2022-01-26T11:04:48.409Z"
   },
   {
    "duration": 332,
    "start_time": "2022-01-26T11:04:52.472Z"
   },
   {
    "duration": 9,
    "start_time": "2022-01-26T11:04:57.349Z"
   },
   {
    "duration": 9,
    "start_time": "2022-01-26T11:05:16.784Z"
   },
   {
    "duration": 13,
    "start_time": "2022-01-26T11:06:01.076Z"
   },
   {
    "duration": 105,
    "start_time": "2022-01-26T11:06:25.745Z"
   },
   {
    "duration": 6,
    "start_time": "2022-01-26T11:06:32.021Z"
   },
   {
    "duration": 12,
    "start_time": "2022-01-26T11:06:37.399Z"
   },
   {
    "duration": 13,
    "start_time": "2022-01-26T11:07:20.801Z"
   },
   {
    "duration": 11,
    "start_time": "2022-01-26T11:07:26.089Z"
   },
   {
    "duration": 13,
    "start_time": "2022-01-26T11:07:44.986Z"
   },
   {
    "duration": 13,
    "start_time": "2022-01-26T11:08:11.566Z"
   },
   {
    "duration": 471,
    "start_time": "2022-01-26T11:09:34.046Z"
   },
   {
    "duration": 1159,
    "start_time": "2022-01-26T11:09:41.081Z"
   },
   {
    "duration": 22,
    "start_time": "2022-01-26T11:09:42.242Z"
   },
   {
    "duration": 10,
    "start_time": "2022-01-26T11:09:42.268Z"
   },
   {
    "duration": 56,
    "start_time": "2022-01-26T11:09:42.281Z"
   },
   {
    "duration": 10,
    "start_time": "2022-01-26T11:09:42.340Z"
   },
   {
    "duration": 8,
    "start_time": "2022-01-26T11:09:42.352Z"
   },
   {
    "duration": 26,
    "start_time": "2022-01-26T11:09:42.362Z"
   },
   {
    "duration": 46,
    "start_time": "2022-01-26T11:09:42.391Z"
   },
   {
    "duration": 8,
    "start_time": "2022-01-26T11:09:42.440Z"
   },
   {
    "duration": 15,
    "start_time": "2022-01-26T11:09:42.450Z"
   },
   {
    "duration": 6,
    "start_time": "2022-01-26T11:09:42.467Z"
   },
   {
    "duration": 11,
    "start_time": "2022-01-26T11:09:42.475Z"
   },
   {
    "duration": 54,
    "start_time": "2022-01-26T11:09:42.488Z"
   },
   {
    "duration": 856,
    "start_time": "2022-01-26T11:09:42.544Z"
   },
   {
    "duration": 371,
    "start_time": "2022-01-26T11:09:51.431Z"
   },
   {
    "duration": 357,
    "start_time": "2022-01-26T11:10:01.604Z"
   },
   {
    "duration": 1121,
    "start_time": "2022-01-26T11:10:08.622Z"
   },
   {
    "duration": 19,
    "start_time": "2022-01-26T11:10:09.745Z"
   },
   {
    "duration": 8,
    "start_time": "2022-01-26T11:10:09.767Z"
   },
   {
    "duration": 46,
    "start_time": "2022-01-26T11:10:09.777Z"
   },
   {
    "duration": 8,
    "start_time": "2022-01-26T11:10:09.826Z"
   },
   {
    "duration": 8,
    "start_time": "2022-01-26T11:10:09.837Z"
   },
   {
    "duration": 12,
    "start_time": "2022-01-26T11:10:09.848Z"
   },
   {
    "duration": 20,
    "start_time": "2022-01-26T11:10:09.863Z"
   },
   {
    "duration": 41,
    "start_time": "2022-01-26T11:10:09.886Z"
   },
   {
    "duration": 20,
    "start_time": "2022-01-26T11:10:09.929Z"
   },
   {
    "duration": 6,
    "start_time": "2022-01-26T11:10:09.951Z"
   },
   {
    "duration": 11,
    "start_time": "2022-01-26T11:10:09.959Z"
   },
   {
    "duration": 54,
    "start_time": "2022-01-26T11:10:09.973Z"
   },
   {
    "duration": 852,
    "start_time": "2022-01-26T11:10:10.029Z"
   },
   {
    "duration": 404,
    "start_time": "2022-01-26T11:10:29.469Z"
   },
   {
    "duration": 1141,
    "start_time": "2022-01-26T11:10:33.603Z"
   },
   {
    "duration": 20,
    "start_time": "2022-01-26T11:10:34.746Z"
   },
   {
    "duration": 8,
    "start_time": "2022-01-26T11:10:34.769Z"
   },
   {
    "duration": 25,
    "start_time": "2022-01-26T11:10:34.780Z"
   },
   {
    "duration": 8,
    "start_time": "2022-01-26T11:10:34.808Z"
   },
   {
    "duration": 7,
    "start_time": "2022-01-26T11:10:34.824Z"
   },
   {
    "duration": 16,
    "start_time": "2022-01-26T11:10:34.833Z"
   },
   {
    "duration": 21,
    "start_time": "2022-01-26T11:10:34.852Z"
   },
   {
    "duration": 7,
    "start_time": "2022-01-26T11:10:34.875Z"
   },
   {
    "duration": 22,
    "start_time": "2022-01-26T11:10:34.884Z"
   },
   {
    "duration": 6,
    "start_time": "2022-01-26T11:10:34.909Z"
   },
   {
    "duration": 21,
    "start_time": "2022-01-26T11:10:34.917Z"
   },
   {
    "duration": 28,
    "start_time": "2022-01-26T11:10:34.940Z"
   },
   {
    "duration": 978,
    "start_time": "2022-01-26T11:10:34.970Z"
   },
   {
    "duration": 20,
    "start_time": "2022-01-26T11:10:35.952Z"
   },
   {
    "duration": 396,
    "start_time": "2022-01-26T11:22:21.009Z"
   },
   {
    "duration": 329,
    "start_time": "2022-01-26T11:22:32.855Z"
   },
   {
    "duration": 16,
    "start_time": "2022-01-26T11:23:01.001Z"
   },
   {
    "duration": 21,
    "start_time": "2022-01-26T11:23:09.146Z"
   },
   {
    "duration": 395,
    "start_time": "2022-01-26T12:01:21.992Z"
   },
   {
    "duration": 366,
    "start_time": "2022-01-26T12:01:46.603Z"
   },
   {
    "duration": 105,
    "start_time": "2022-01-26T12:02:08.570Z"
   },
   {
    "duration": 3,
    "start_time": "2022-01-26T12:03:49.280Z"
   },
   {
    "duration": 414,
    "start_time": "2022-01-26T12:03:55.977Z"
   },
   {
    "duration": 301,
    "start_time": "2022-01-26T12:04:14.103Z"
   },
   {
    "duration": 179,
    "start_time": "2022-01-26T14:50:41.015Z"
   },
   {
    "duration": 618,
    "start_time": "2022-01-26T14:50:45.453Z"
   },
   {
    "duration": 15,
    "start_time": "2022-01-26T14:50:46.073Z"
   },
   {
    "duration": 14,
    "start_time": "2022-01-26T14:50:46.090Z"
   },
   {
    "duration": 20,
    "start_time": "2022-01-26T14:50:46.106Z"
   },
   {
    "duration": 6,
    "start_time": "2022-01-26T14:50:46.128Z"
   },
   {
    "duration": 8,
    "start_time": "2022-01-26T14:50:46.136Z"
   },
   {
    "duration": 11,
    "start_time": "2022-01-26T14:50:46.145Z"
   },
   {
    "duration": 39,
    "start_time": "2022-01-26T14:50:46.159Z"
   },
   {
    "duration": 8,
    "start_time": "2022-01-26T14:50:46.200Z"
   },
   {
    "duration": 14,
    "start_time": "2022-01-26T14:50:46.210Z"
   },
   {
    "duration": 6,
    "start_time": "2022-01-26T14:50:46.226Z"
   },
   {
    "duration": 16,
    "start_time": "2022-01-26T14:50:46.234Z"
   },
   {
    "duration": 50,
    "start_time": "2022-01-26T14:50:46.252Z"
   },
   {
    "duration": 706,
    "start_time": "2022-01-26T14:50:46.303Z"
   },
   {
    "duration": 14,
    "start_time": "2022-01-26T14:50:47.010Z"
   },
   {
    "duration": 13,
    "start_time": "2022-01-26T14:51:05.601Z"
   },
   {
    "duration": 14,
    "start_time": "2022-01-26T14:51:46.215Z"
   },
   {
    "duration": 1984,
    "start_time": "2022-01-26T16:11:00.720Z"
   },
   {
    "duration": 12,
    "start_time": "2022-01-26T16:35:46.102Z"
   },
   {
    "duration": 21,
    "start_time": "2022-01-26T16:37:05.565Z"
   },
   {
    "duration": 6,
    "start_time": "2022-01-26T16:41:34.799Z"
   },
   {
    "duration": 5,
    "start_time": "2022-01-26T16:41:42.914Z"
   },
   {
    "duration": 5,
    "start_time": "2022-01-26T16:45:57.746Z"
   },
   {
    "duration": 5,
    "start_time": "2022-01-26T16:46:06.205Z"
   },
   {
    "duration": 5,
    "start_time": "2022-01-26T16:46:13.629Z"
   },
   {
    "duration": 16,
    "start_time": "2022-01-26T16:46:22.215Z"
   },
   {
    "duration": 15,
    "start_time": "2022-01-26T16:46:29.356Z"
   },
   {
    "duration": 255,
    "start_time": "2022-01-26T16:47:02.550Z"
   },
   {
    "duration": 146,
    "start_time": "2022-01-26T16:47:11.897Z"
   },
   {
    "duration": 142,
    "start_time": "2022-01-26T16:47:18.753Z"
   },
   {
    "duration": 22,
    "start_time": "2022-01-26T16:48:29.837Z"
   },
   {
    "duration": 12,
    "start_time": "2022-01-26T16:48:59.566Z"
   },
   {
    "duration": 1726,
    "start_time": "2022-01-26T16:50:26.433Z"
   },
   {
    "duration": 11,
    "start_time": "2022-01-26T16:50:32.888Z"
   },
   {
    "duration": 1657,
    "start_time": "2022-01-26T16:51:05.107Z"
   },
   {
    "duration": 936,
    "start_time": "2022-01-26T16:51:31.544Z"
   },
   {
    "duration": 899,
    "start_time": "2022-01-26T16:51:52.506Z"
   },
   {
    "duration": 56,
    "start_time": "2022-01-26T16:51:59.487Z"
   },
   {
    "duration": 9,
    "start_time": "2022-01-26T16:51:59.545Z"
   },
   {
    "duration": 7,
    "start_time": "2022-01-26T16:51:59.556Z"
   },
   {
    "duration": 41,
    "start_time": "2022-01-26T16:51:59.565Z"
   },
   {
    "duration": 6,
    "start_time": "2022-01-26T16:51:59.608Z"
   },
   {
    "duration": 9,
    "start_time": "2022-01-26T16:51:59.615Z"
   },
   {
    "duration": 13,
    "start_time": "2022-01-26T16:51:59.626Z"
   },
   {
    "duration": 16,
    "start_time": "2022-01-26T16:51:59.642Z"
   },
   {
    "duration": 7,
    "start_time": "2022-01-26T16:51:59.660Z"
   },
   {
    "duration": 35,
    "start_time": "2022-01-26T16:51:59.669Z"
   },
   {
    "duration": 5,
    "start_time": "2022-01-26T16:51:59.707Z"
   },
   {
    "duration": 11,
    "start_time": "2022-01-26T16:51:59.714Z"
   },
   {
    "duration": 22,
    "start_time": "2022-01-26T16:51:59.726Z"
   },
   {
    "duration": 747,
    "start_time": "2022-01-26T16:51:59.750Z"
   },
   {
    "duration": 24,
    "start_time": "2022-01-26T16:52:00.499Z"
   },
   {
    "duration": 892,
    "start_time": "2022-01-26T16:52:00.525Z"
   },
   {
    "duration": 9,
    "start_time": "2022-01-26T16:52:46.684Z"
   },
   {
    "duration": 156,
    "start_time": "2022-01-26T16:52:56.048Z"
   },
   {
    "duration": 214,
    "start_time": "2022-01-26T16:53:09.945Z"
   },
   {
    "duration": 11,
    "start_time": "2022-01-26T16:53:16.277Z"
   },
   {
    "duration": 14,
    "start_time": "2022-01-26T16:56:40.169Z"
   },
   {
    "duration": 15,
    "start_time": "2022-01-26T16:57:57.336Z"
   },
   {
    "duration": 16,
    "start_time": "2022-01-26T16:58:06.777Z"
   },
   {
    "duration": 14,
    "start_time": "2022-01-26T16:58:19.574Z"
   },
   {
    "duration": 48,
    "start_time": "2022-01-26T16:58:48.212Z"
   },
   {
    "duration": 12,
    "start_time": "2022-01-26T16:58:52.227Z"
   },
   {
    "duration": 14,
    "start_time": "2022-01-26T16:58:58.085Z"
   },
   {
    "duration": 13,
    "start_time": "2022-01-26T16:59:29.484Z"
   },
   {
    "duration": 15,
    "start_time": "2022-01-26T16:59:34.988Z"
   },
   {
    "duration": 16,
    "start_time": "2022-01-26T16:59:50.007Z"
   },
   {
    "duration": 14,
    "start_time": "2022-01-26T17:38:06.982Z"
   },
   {
    "duration": 24,
    "start_time": "2022-01-26T17:38:18.564Z"
   },
   {
    "duration": 24,
    "start_time": "2022-01-26T17:39:58.736Z"
   },
   {
    "duration": 21,
    "start_time": "2022-01-26T17:40:47.350Z"
   },
   {
    "duration": 19,
    "start_time": "2022-01-26T17:40:58.525Z"
   },
   {
    "duration": 152,
    "start_time": "2022-01-26T17:44:31.708Z"
   },
   {
    "duration": 16,
    "start_time": "2022-01-26T17:44:34.654Z"
   },
   {
    "duration": 220,
    "start_time": "2022-01-26T17:47:21.278Z"
   },
   {
    "duration": 140,
    "start_time": "2022-01-26T17:47:34.794Z"
   },
   {
    "duration": 33,
    "start_time": "2022-01-26T17:49:04.234Z"
   },
   {
    "duration": 21,
    "start_time": "2022-01-26T17:49:38.012Z"
   },
   {
    "duration": 150,
    "start_time": "2022-01-26T17:49:44.592Z"
   },
   {
    "duration": 60,
    "start_time": "2022-01-26T17:49:55.824Z"
   },
   {
    "duration": 12,
    "start_time": "2022-01-26T17:49:56.854Z"
   },
   {
    "duration": 8,
    "start_time": "2022-01-26T17:49:57.162Z"
   },
   {
    "duration": 16,
    "start_time": "2022-01-26T17:49:57.477Z"
   },
   {
    "duration": 6,
    "start_time": "2022-01-26T17:49:57.817Z"
   },
   {
    "duration": 6,
    "start_time": "2022-01-26T17:49:58.364Z"
   },
   {
    "duration": 12,
    "start_time": "2022-01-26T17:49:58.752Z"
   },
   {
    "duration": 16,
    "start_time": "2022-01-26T17:49:59.500Z"
   },
   {
    "duration": 8,
    "start_time": "2022-01-26T17:50:00.045Z"
   },
   {
    "duration": 15,
    "start_time": "2022-01-26T17:50:00.316Z"
   },
   {
    "duration": 7,
    "start_time": "2022-01-26T17:50:01.996Z"
   },
   {
    "duration": 8,
    "start_time": "2022-01-26T17:50:03.848Z"
   },
   {
    "duration": 19,
    "start_time": "2022-01-26T17:50:04.775Z"
   },
   {
    "duration": 729,
    "start_time": "2022-01-26T17:50:06.517Z"
   },
   {
    "duration": 43,
    "start_time": "2022-01-26T17:50:09.568Z"
   },
   {
    "duration": 60,
    "start_time": "2022-01-26T17:51:17.821Z"
   },
   {
    "duration": 10,
    "start_time": "2022-01-26T17:51:17.883Z"
   },
   {
    "duration": 7,
    "start_time": "2022-01-26T17:51:17.895Z"
   },
   {
    "duration": 15,
    "start_time": "2022-01-26T17:51:17.904Z"
   },
   {
    "duration": 6,
    "start_time": "2022-01-26T17:51:17.921Z"
   },
   {
    "duration": 7,
    "start_time": "2022-01-26T17:51:17.929Z"
   },
   {
    "duration": 11,
    "start_time": "2022-01-26T17:51:17.937Z"
   },
   {
    "duration": 47,
    "start_time": "2022-01-26T17:51:17.950Z"
   },
   {
    "duration": 6,
    "start_time": "2022-01-26T17:51:17.999Z"
   },
   {
    "duration": 15,
    "start_time": "2022-01-26T17:51:18.007Z"
   },
   {
    "duration": 5,
    "start_time": "2022-01-26T17:51:18.024Z"
   },
   {
    "duration": 9,
    "start_time": "2022-01-26T17:51:18.031Z"
   },
   {
    "duration": 21,
    "start_time": "2022-01-26T17:51:18.042Z"
   },
   {
    "duration": 751,
    "start_time": "2022-01-26T17:51:18.064Z"
   },
   {
    "duration": 359,
    "start_time": "2022-01-26T17:51:21.953Z"
   },
   {
    "duration": 47,
    "start_time": "2022-01-26T17:51:34.498Z"
   },
   {
    "duration": 63,
    "start_time": "2022-01-26T17:51:52.318Z"
   },
   {
    "duration": 10,
    "start_time": "2022-01-26T17:51:52.383Z"
   },
   {
    "duration": 17,
    "start_time": "2022-01-26T17:51:52.395Z"
   },
   {
    "duration": 16,
    "start_time": "2022-01-26T17:51:52.414Z"
   },
   {
    "duration": 5,
    "start_time": "2022-01-26T17:51:52.432Z"
   },
   {
    "duration": 8,
    "start_time": "2022-01-26T17:51:52.438Z"
   },
   {
    "duration": 11,
    "start_time": "2022-01-26T17:51:52.447Z"
   },
   {
    "duration": 14,
    "start_time": "2022-01-26T17:51:52.461Z"
   },
   {
    "duration": 24,
    "start_time": "2022-01-26T17:51:52.477Z"
   },
   {
    "duration": 16,
    "start_time": "2022-01-26T17:51:52.502Z"
   },
   {
    "duration": 5,
    "start_time": "2022-01-26T17:51:52.520Z"
   },
   {
    "duration": 11,
    "start_time": "2022-01-26T17:51:52.527Z"
   },
   {
    "duration": 19,
    "start_time": "2022-01-26T17:51:52.540Z"
   },
   {
    "duration": 741,
    "start_time": "2022-01-26T17:51:52.561Z"
   },
   {
    "duration": 51,
    "start_time": "2022-01-26T17:52:01.513Z"
   },
   {
    "duration": 35,
    "start_time": "2022-01-26T17:52:09.030Z"
   },
   {
    "duration": 48,
    "start_time": "2022-01-26T17:55:31.595Z"
   },
   {
    "duration": 15,
    "start_time": "2022-01-26T17:57:08.276Z"
   },
   {
    "duration": 16,
    "start_time": "2022-01-26T17:57:18.983Z"
   },
   {
    "duration": 57,
    "start_time": "2022-01-26T17:58:02.408Z"
   },
   {
    "duration": 13,
    "start_time": "2022-01-26T17:59:05.014Z"
   },
   {
    "duration": 14,
    "start_time": "2022-01-26T17:59:10.863Z"
   },
   {
    "duration": 13,
    "start_time": "2022-01-26T17:59:22.312Z"
   },
   {
    "duration": 14,
    "start_time": "2022-01-26T18:01:37.802Z"
   },
   {
    "duration": 13,
    "start_time": "2022-01-26T18:02:00.081Z"
   },
   {
    "duration": 14,
    "start_time": "2022-01-26T18:02:07.973Z"
   },
   {
    "duration": 13,
    "start_time": "2022-01-26T18:02:29.347Z"
   },
   {
    "duration": 14,
    "start_time": "2022-01-26T18:02:34.649Z"
   },
   {
    "duration": 14,
    "start_time": "2022-01-26T18:04:21.888Z"
   },
   {
    "duration": 14,
    "start_time": "2022-01-26T18:04:41.114Z"
   },
   {
    "duration": 15,
    "start_time": "2022-01-26T18:04:53.448Z"
   },
   {
    "duration": 14,
    "start_time": "2022-01-26T18:05:00.477Z"
   },
   {
    "duration": 14,
    "start_time": "2022-01-26T18:09:14.004Z"
   },
   {
    "duration": 15,
    "start_time": "2022-01-26T18:37:21.711Z"
   },
   {
    "duration": 22,
    "start_time": "2022-01-26T18:38:41.963Z"
   },
   {
    "duration": 43,
    "start_time": "2022-01-26T18:39:24.968Z"
   },
   {
    "duration": 20,
    "start_time": "2022-01-26T18:39:28.759Z"
   },
   {
    "duration": 20,
    "start_time": "2022-01-26T18:39:38.515Z"
   },
   {
    "duration": 20,
    "start_time": "2022-01-26T18:39:47.584Z"
   },
   {
    "duration": 22,
    "start_time": "2022-01-26T18:39:55.906Z"
   },
   {
    "duration": 21,
    "start_time": "2022-01-26T18:40:06.953Z"
   },
   {
    "duration": 21,
    "start_time": "2022-01-26T18:42:36.327Z"
   },
   {
    "duration": 22,
    "start_time": "2022-01-26T18:43:01.024Z"
   },
   {
    "duration": 21,
    "start_time": "2022-01-26T18:43:27.496Z"
   },
   {
    "duration": 23,
    "start_time": "2022-01-26T18:43:54.095Z"
   },
   {
    "duration": 21,
    "start_time": "2022-01-26T18:46:49.735Z"
   },
   {
    "duration": 20,
    "start_time": "2022-01-26T18:47:08.613Z"
   },
   {
    "duration": 17,
    "start_time": "2022-01-26T18:47:15.307Z"
   },
   {
    "duration": 4,
    "start_time": "2022-01-26T18:55:02.875Z"
   },
   {
    "duration": 17,
    "start_time": "2022-01-26T18:55:45.291Z"
   },
   {
    "duration": 8,
    "start_time": "2022-01-26T18:56:08.028Z"
   },
   {
    "duration": 12,
    "start_time": "2022-01-26T18:58:31.602Z"
   },
   {
    "duration": 14,
    "start_time": "2022-01-26T18:58:57.692Z"
   },
   {
    "duration": 13,
    "start_time": "2022-01-26T18:59:06.627Z"
   },
   {
    "duration": 13,
    "start_time": "2022-01-26T18:59:20.825Z"
   },
   {
    "duration": 26,
    "start_time": "2022-01-26T18:59:31.135Z"
   },
   {
    "duration": 13,
    "start_time": "2022-01-26T18:59:41.938Z"
   },
   {
    "duration": 23,
    "start_time": "2022-01-26T19:04:26.463Z"
   },
   {
    "duration": 16,
    "start_time": "2022-01-26T19:04:32.245Z"
   },
   {
    "duration": 2781,
    "start_time": "2022-01-26T19:12:49.327Z"
   },
   {
    "duration": 2853,
    "start_time": "2022-01-26T19:13:13.155Z"
   },
   {
    "duration": 2940,
    "start_time": "2022-01-26T19:13:21.414Z"
   },
   {
    "duration": 64,
    "start_time": "2022-01-26T19:14:01.343Z"
   },
   {
    "duration": 16,
    "start_time": "2022-01-26T19:14:01.409Z"
   },
   {
    "duration": 10,
    "start_time": "2022-01-26T19:14:01.428Z"
   },
   {
    "duration": 23,
    "start_time": "2022-01-26T19:14:01.440Z"
   },
   {
    "duration": 9,
    "start_time": "2022-01-26T19:14:01.466Z"
   },
   {
    "duration": 8,
    "start_time": "2022-01-26T19:14:01.498Z"
   },
   {
    "duration": 28,
    "start_time": "2022-01-26T19:14:01.509Z"
   },
   {
    "duration": 16,
    "start_time": "2022-01-26T19:14:01.541Z"
   },
   {
    "duration": 14,
    "start_time": "2022-01-26T19:14:01.560Z"
   },
   {
    "duration": 30,
    "start_time": "2022-01-26T19:14:01.576Z"
   },
   {
    "duration": 17,
    "start_time": "2022-01-26T19:14:01.609Z"
   },
   {
    "duration": 22,
    "start_time": "2022-01-26T19:14:01.628Z"
   },
   {
    "duration": 29,
    "start_time": "2022-01-26T19:14:01.652Z"
   },
   {
    "duration": 755,
    "start_time": "2022-01-26T19:14:01.683Z"
   },
   {
    "duration": 23,
    "start_time": "2022-01-26T19:14:02.440Z"
   },
   {
    "duration": 32,
    "start_time": "2022-01-26T19:14:02.465Z"
   },
   {
    "duration": 23,
    "start_time": "2022-01-26T19:14:02.499Z"
   },
   {
    "duration": 13,
    "start_time": "2022-01-26T19:14:02.524Z"
   },
   {
    "duration": 3023,
    "start_time": "2022-01-26T19:14:25.208Z"
   },
   {
    "duration": 3172,
    "start_time": "2022-01-26T19:17:41.770Z"
   },
   {
    "duration": 47,
    "start_time": "2022-01-26T19:18:29.299Z"
   },
   {
    "duration": 2833,
    "start_time": "2022-01-26T19:18:36.245Z"
   },
   {
    "duration": 3090,
    "start_time": "2022-01-26T19:20:58.186Z"
   },
   {
    "duration": 2905,
    "start_time": "2022-01-26T19:21:14.618Z"
   },
   {
    "duration": 2950,
    "start_time": "2022-01-26T19:21:26.174Z"
   },
   {
    "duration": 128,
    "start_time": "2022-01-26T19:34:29.448Z"
   },
   {
    "duration": 6,
    "start_time": "2022-01-26T19:34:38.912Z"
   },
   {
    "duration": 8,
    "start_time": "2022-01-26T19:34:50.540Z"
   },
   {
    "duration": 6,
    "start_time": "2022-01-26T19:37:02.698Z"
   },
   {
    "duration": 8,
    "start_time": "2022-01-26T19:37:09.832Z"
   },
   {
    "duration": 7,
    "start_time": "2022-01-26T19:37:24.165Z"
   },
   {
    "duration": 8,
    "start_time": "2022-01-26T19:37:29.663Z"
   },
   {
    "duration": 136,
    "start_time": "2022-01-26T19:40:13.970Z"
   },
   {
    "duration": 8,
    "start_time": "2022-01-26T19:40:45.352Z"
   },
   {
    "duration": 136,
    "start_time": "2022-01-26T19:41:46.281Z"
   },
   {
    "duration": 9,
    "start_time": "2022-01-26T19:42:17.981Z"
   },
   {
    "duration": 13,
    "start_time": "2022-01-26T19:42:30.815Z"
   },
   {
    "duration": 149,
    "start_time": "2022-01-26T19:43:01.026Z"
   },
   {
    "duration": 11,
    "start_time": "2022-01-26T19:43:20.679Z"
   },
   {
    "duration": 17,
    "start_time": "2022-01-26T19:43:23.396Z"
   },
   {
    "duration": 147,
    "start_time": "2022-01-26T19:43:50.109Z"
   },
   {
    "duration": 7,
    "start_time": "2022-01-26T19:44:46.177Z"
   },
   {
    "duration": 5,
    "start_time": "2022-01-26T19:44:57.749Z"
   },
   {
    "duration": 19,
    "start_time": "2022-01-26T19:45:04.298Z"
   },
   {
    "duration": 10,
    "start_time": "2022-01-26T19:45:15.779Z"
   },
   {
    "duration": 17,
    "start_time": "2022-01-26T19:45:19.669Z"
   },
   {
    "duration": 11,
    "start_time": "2022-01-26T19:45:45.103Z"
   },
   {
    "duration": 17,
    "start_time": "2022-01-26T19:45:47.493Z"
   },
   {
    "duration": 7,
    "start_time": "2022-01-26T19:46:48.496Z"
   },
   {
    "duration": 8,
    "start_time": "2022-01-26T19:47:00.659Z"
   },
   {
    "duration": 3,
    "start_time": "2022-01-26T19:47:23.463Z"
   },
   {
    "duration": 138,
    "start_time": "2022-01-26T19:47:27.196Z"
   },
   {
    "duration": 16,
    "start_time": "2022-01-26T19:47:38.214Z"
   },
   {
    "duration": 16,
    "start_time": "2022-01-26T19:49:22.982Z"
   },
   {
    "duration": 16,
    "start_time": "2022-01-26T19:51:45.392Z"
   },
   {
    "duration": 150,
    "start_time": "2022-01-26T19:53:30.384Z"
   },
   {
    "duration": 138,
    "start_time": "2022-01-26T19:53:52.477Z"
   },
   {
    "duration": 146,
    "start_time": "2022-01-26T19:54:05.952Z"
   },
   {
    "duration": 152,
    "start_time": "2022-01-26T19:54:14.025Z"
   },
   {
    "duration": 144,
    "start_time": "2022-01-26T19:54:23.578Z"
   },
   {
    "duration": 142,
    "start_time": "2022-01-26T19:55:00.620Z"
   },
   {
    "duration": 136,
    "start_time": "2022-01-26T19:55:08.617Z"
   },
   {
    "duration": 205,
    "start_time": "2022-01-26T19:55:19.262Z"
   },
   {
    "duration": 178,
    "start_time": "2022-01-26T19:57:43.917Z"
   },
   {
    "duration": 136,
    "start_time": "2022-01-26T19:58:07.042Z"
   },
   {
    "duration": 144,
    "start_time": "2022-01-26T19:59:25.255Z"
   },
   {
    "duration": 14,
    "start_time": "2022-01-26T19:59:42.781Z"
   },
   {
    "duration": 149,
    "start_time": "2022-01-26T20:00:16.648Z"
   },
   {
    "duration": 15,
    "start_time": "2022-01-26T20:00:37.486Z"
   },
   {
    "duration": 10,
    "start_time": "2022-01-26T20:01:49.785Z"
   },
   {
    "duration": 15,
    "start_time": "2022-01-26T20:01:55.896Z"
   },
   {
    "duration": 2,
    "start_time": "2022-01-26T20:03:11.786Z"
   },
   {
    "duration": 15,
    "start_time": "2022-01-26T20:03:17.815Z"
   },
   {
    "duration": 2,
    "start_time": "2022-01-26T20:03:44.935Z"
   },
   {
    "duration": 15,
    "start_time": "2022-01-26T20:03:49.521Z"
   },
   {
    "duration": 156,
    "start_time": "2022-01-26T20:04:03.241Z"
   },
   {
    "duration": 11,
    "start_time": "2022-01-26T20:04:31.742Z"
   },
   {
    "duration": 181,
    "start_time": "2022-01-26T20:04:57.860Z"
   },
   {
    "duration": 138,
    "start_time": "2022-01-26T20:05:21.458Z"
   },
   {
    "duration": 8,
    "start_time": "2022-01-26T20:06:01.135Z"
   },
   {
    "duration": 11,
    "start_time": "2022-01-26T20:06:19.620Z"
   },
   {
    "duration": 11,
    "start_time": "2022-01-26T20:06:49.792Z"
   },
   {
    "duration": 15,
    "start_time": "2022-01-26T20:06:55.398Z"
   },
   {
    "duration": 10,
    "start_time": "2022-01-26T20:07:13.074Z"
   },
   {
    "duration": 18,
    "start_time": "2022-01-26T20:07:18.239Z"
   },
   {
    "duration": 149,
    "start_time": "2022-01-26T20:08:36.529Z"
   },
   {
    "duration": 18,
    "start_time": "2022-01-26T20:09:14.648Z"
   },
   {
    "duration": 21,
    "start_time": "2022-01-26T20:09:34.993Z"
   },
   {
    "duration": 18,
    "start_time": "2022-01-26T20:09:38.369Z"
   },
   {
    "duration": 18,
    "start_time": "2022-01-26T20:09:49.627Z"
   },
   {
    "duration": 12,
    "start_time": "2022-01-26T20:09:56.469Z"
   },
   {
    "duration": 19,
    "start_time": "2022-01-26T20:10:17.529Z"
   },
   {
    "duration": 18,
    "start_time": "2022-01-26T20:10:50.861Z"
   },
   {
    "duration": 8,
    "start_time": "2022-01-26T20:11:01.309Z"
   },
   {
    "duration": 14,
    "start_time": "2022-01-26T20:11:05.460Z"
   },
   {
    "duration": 13,
    "start_time": "2022-01-26T20:11:22.669Z"
   },
   {
    "duration": 9,
    "start_time": "2022-01-26T20:12:03.018Z"
   },
   {
    "duration": 12,
    "start_time": "2022-01-26T20:12:07.353Z"
   },
   {
    "duration": 21,
    "start_time": "2022-01-26T20:18:27.328Z"
   },
   {
    "duration": 21,
    "start_time": "2022-01-26T20:19:51.012Z"
   },
   {
    "duration": 21,
    "start_time": "2022-01-26T20:23:09.713Z"
   },
   {
    "duration": 15,
    "start_time": "2022-01-26T20:23:16.174Z"
   },
   {
    "duration": 52,
    "start_time": "2022-01-26T20:25:13.567Z"
   },
   {
    "duration": 44,
    "start_time": "2022-01-26T20:25:25.117Z"
   },
   {
    "duration": 52,
    "start_time": "2022-01-26T20:25:41.721Z"
   },
   {
    "duration": 41,
    "start_time": "2022-01-26T20:27:42.938Z"
   },
   {
    "duration": 44,
    "start_time": "2022-01-26T20:28:22.400Z"
   },
   {
    "duration": 132,
    "start_time": "2022-01-26T20:28:46.259Z"
   },
   {
    "duration": 134,
    "start_time": "2022-01-26T20:29:12.089Z"
   },
   {
    "duration": 45,
    "start_time": "2022-01-26T20:29:55.394Z"
   },
   {
    "duration": 49,
    "start_time": "2022-01-26T20:32:28.244Z"
   },
   {
    "duration": 62,
    "start_time": "2022-01-26T20:32:39.033Z"
   },
   {
    "duration": 10,
    "start_time": "2022-01-26T20:32:39.097Z"
   },
   {
    "duration": 8,
    "start_time": "2022-01-26T20:32:39.109Z"
   },
   {
    "duration": 16,
    "start_time": "2022-01-26T20:32:39.118Z"
   },
   {
    "duration": 6,
    "start_time": "2022-01-26T20:32:39.135Z"
   },
   {
    "duration": 7,
    "start_time": "2022-01-26T20:32:39.142Z"
   },
   {
    "duration": 47,
    "start_time": "2022-01-26T20:32:39.150Z"
   },
   {
    "duration": 16,
    "start_time": "2022-01-26T20:32:39.200Z"
   },
   {
    "duration": 6,
    "start_time": "2022-01-26T20:32:39.218Z"
   },
   {
    "duration": 14,
    "start_time": "2022-01-26T20:32:39.226Z"
   },
   {
    "duration": 5,
    "start_time": "2022-01-26T20:32:39.242Z"
   },
   {
    "duration": 13,
    "start_time": "2022-01-26T20:32:39.249Z"
   },
   {
    "duration": 47,
    "start_time": "2022-01-26T20:32:39.264Z"
   },
   {
    "duration": 743,
    "start_time": "2022-01-26T20:32:39.313Z"
   },
   {
    "duration": 23,
    "start_time": "2022-01-26T20:32:40.058Z"
   },
   {
    "duration": 25,
    "start_time": "2022-01-26T20:32:40.083Z"
   },
   {
    "duration": 22,
    "start_time": "2022-01-26T20:32:40.110Z"
   },
   {
    "duration": 11,
    "start_time": "2022-01-26T20:32:40.134Z"
   },
   {
    "duration": 2904,
    "start_time": "2022-01-26T20:32:40.147Z"
   },
   {
    "duration": 15,
    "start_time": "2022-01-26T20:32:43.052Z"
   },
   {
    "duration": 47,
    "start_time": "2022-01-26T20:32:43.069Z"
   },
   {
    "duration": 45,
    "start_time": "2022-01-26T20:33:03.435Z"
   },
   {
    "duration": 48,
    "start_time": "2022-01-26T20:33:07.387Z"
   },
   {
    "duration": 50,
    "start_time": "2022-01-26T20:33:33.172Z"
   },
   {
    "duration": 10,
    "start_time": "2022-01-26T20:33:52.662Z"
   },
   {
    "duration": 10,
    "start_time": "2022-01-26T20:36:46.142Z"
   },
   {
    "duration": 66,
    "start_time": "2022-01-26T20:37:01.542Z"
   },
   {
    "duration": 12,
    "start_time": "2022-01-26T20:37:01.611Z"
   },
   {
    "duration": 8,
    "start_time": "2022-01-26T20:37:01.626Z"
   },
   {
    "duration": 18,
    "start_time": "2022-01-26T20:37:01.637Z"
   },
   {
    "duration": 42,
    "start_time": "2022-01-26T20:37:01.657Z"
   },
   {
    "duration": 10,
    "start_time": "2022-01-26T20:37:01.701Z"
   },
   {
    "duration": 13,
    "start_time": "2022-01-26T20:37:01.713Z"
   },
   {
    "duration": 18,
    "start_time": "2022-01-26T20:37:01.729Z"
   },
   {
    "duration": 8,
    "start_time": "2022-01-26T20:37:01.749Z"
   },
   {
    "duration": 49,
    "start_time": "2022-01-26T20:37:01.759Z"
   },
   {
    "duration": 5,
    "start_time": "2022-01-26T20:37:01.810Z"
   },
   {
    "duration": 15,
    "start_time": "2022-01-26T20:37:01.817Z"
   },
   {
    "duration": 22,
    "start_time": "2022-01-26T20:37:01.834Z"
   },
   {
    "duration": 735,
    "start_time": "2022-01-26T20:37:01.858Z"
   },
   {
    "duration": 24,
    "start_time": "2022-01-26T20:37:02.596Z"
   },
   {
    "duration": 16,
    "start_time": "2022-01-26T20:37:02.622Z"
   },
   {
    "duration": 18,
    "start_time": "2022-01-26T20:37:02.640Z"
   },
   {
    "duration": 46,
    "start_time": "2022-01-26T20:37:02.660Z"
   },
   {
    "duration": 2915,
    "start_time": "2022-01-26T20:37:02.707Z"
   },
   {
    "duration": 15,
    "start_time": "2022-01-26T20:37:05.624Z"
   },
   {
    "duration": 5,
    "start_time": "2022-01-26T20:37:47.031Z"
   },
   {
    "duration": 5,
    "start_time": "2022-01-26T20:38:01.755Z"
   },
   {
    "duration": 8,
    "start_time": "2022-01-26T20:38:06.174Z"
   },
   {
    "duration": 9,
    "start_time": "2022-01-26T20:38:33.060Z"
   },
   {
    "duration": 55,
    "start_time": "2022-01-26T20:43:17.113Z"
   },
   {
    "duration": 49,
    "start_time": "2022-01-26T20:48:42.843Z"
   },
   {
    "duration": 8,
    "start_time": "2022-01-26T20:49:58.500Z"
   },
   {
    "duration": 59,
    "start_time": "2022-01-26T20:50:34.960Z"
   },
   {
    "duration": 10,
    "start_time": "2022-01-26T20:50:35.021Z"
   },
   {
    "duration": 7,
    "start_time": "2022-01-26T20:50:35.033Z"
   },
   {
    "duration": 19,
    "start_time": "2022-01-26T20:50:35.042Z"
   },
   {
    "duration": 6,
    "start_time": "2022-01-26T20:50:35.062Z"
   },
   {
    "duration": 32,
    "start_time": "2022-01-26T20:50:35.070Z"
   },
   {
    "duration": 16,
    "start_time": "2022-01-26T20:50:35.104Z"
   },
   {
    "duration": 15,
    "start_time": "2022-01-26T20:50:35.123Z"
   },
   {
    "duration": 6,
    "start_time": "2022-01-26T20:50:35.140Z"
   },
   {
    "duration": 13,
    "start_time": "2022-01-26T20:50:35.147Z"
   },
   {
    "duration": 5,
    "start_time": "2022-01-26T20:50:35.162Z"
   },
   {
    "duration": 31,
    "start_time": "2022-01-26T20:50:35.169Z"
   },
   {
    "duration": 16,
    "start_time": "2022-01-26T20:50:35.202Z"
   },
   {
    "duration": 744,
    "start_time": "2022-01-26T20:50:35.220Z"
   },
   {
    "duration": 30,
    "start_time": "2022-01-26T20:50:35.967Z"
   },
   {
    "duration": 14,
    "start_time": "2022-01-26T20:50:35.999Z"
   },
   {
    "duration": 18,
    "start_time": "2022-01-26T20:50:36.015Z"
   },
   {
    "duration": 15,
    "start_time": "2022-01-26T20:50:36.034Z"
   },
   {
    "duration": 2897,
    "start_time": "2022-01-26T20:50:36.051Z"
   },
   {
    "duration": 16,
    "start_time": "2022-01-26T20:50:38.949Z"
   },
   {
    "duration": 30,
    "start_time": "2022-01-26T20:50:38.967Z"
   },
   {
    "duration": 9,
    "start_time": "2022-01-26T20:50:39.000Z"
   },
   {
    "duration": 11,
    "start_time": "2022-01-26T20:51:58.965Z"
   },
   {
    "duration": 18,
    "start_time": "2022-01-26T20:52:02.084Z"
   },
   {
    "duration": 76,
    "start_time": "2022-01-26T20:52:53.627Z"
   },
   {
    "duration": 10,
    "start_time": "2022-01-26T20:52:53.705Z"
   },
   {
    "duration": 6,
    "start_time": "2022-01-26T20:52:53.718Z"
   },
   {
    "duration": 18,
    "start_time": "2022-01-26T20:52:53.727Z"
   },
   {
    "duration": 6,
    "start_time": "2022-01-26T20:52:53.747Z"
   },
   {
    "duration": 48,
    "start_time": "2022-01-26T20:52:53.754Z"
   },
   {
    "duration": 11,
    "start_time": "2022-01-26T20:52:53.804Z"
   },
   {
    "duration": 17,
    "start_time": "2022-01-26T20:52:53.817Z"
   },
   {
    "duration": 7,
    "start_time": "2022-01-26T20:52:53.836Z"
   },
   {
    "duration": 14,
    "start_time": "2022-01-26T20:52:53.844Z"
   },
   {
    "duration": 42,
    "start_time": "2022-01-26T20:52:53.859Z"
   },
   {
    "duration": 9,
    "start_time": "2022-01-26T20:52:53.903Z"
   },
   {
    "duration": 31,
    "start_time": "2022-01-26T20:52:53.915Z"
   },
   {
    "duration": 730,
    "start_time": "2022-01-26T20:52:53.948Z"
   },
   {
    "duration": 31,
    "start_time": "2022-01-26T20:52:54.680Z"
   },
   {
    "duration": 16,
    "start_time": "2022-01-26T20:52:54.713Z"
   },
   {
    "duration": 18,
    "start_time": "2022-01-26T20:52:54.730Z"
   },
   {
    "duration": 11,
    "start_time": "2022-01-26T20:52:54.750Z"
   },
   {
    "duration": 2838,
    "start_time": "2022-01-26T20:52:54.798Z"
   },
   {
    "duration": 138,
    "start_time": "2022-01-26T20:52:57.638Z"
   },
   {
    "duration": 1016,
    "start_time": "2022-01-26T20:52:56.762Z"
   },
   {
    "duration": 1015,
    "start_time": "2022-01-26T20:52:56.765Z"
   },
   {
    "duration": 1013,
    "start_time": "2022-01-26T20:52:56.768Z"
   },
   {
    "duration": 60,
    "start_time": "2022-01-26T20:53:37.219Z"
   },
   {
    "duration": 9,
    "start_time": "2022-01-26T20:53:37.281Z"
   },
   {
    "duration": 6,
    "start_time": "2022-01-26T20:53:37.292Z"
   },
   {
    "duration": 15,
    "start_time": "2022-01-26T20:53:37.300Z"
   },
   {
    "duration": 5,
    "start_time": "2022-01-26T20:53:37.317Z"
   },
   {
    "duration": 8,
    "start_time": "2022-01-26T20:53:37.324Z"
   },
   {
    "duration": 9,
    "start_time": "2022-01-26T20:53:37.333Z"
   },
   {
    "duration": 14,
    "start_time": "2022-01-26T20:53:37.345Z"
   },
   {
    "duration": 38,
    "start_time": "2022-01-26T20:53:37.361Z"
   },
   {
    "duration": 14,
    "start_time": "2022-01-26T20:53:37.401Z"
   },
   {
    "duration": 6,
    "start_time": "2022-01-26T20:53:37.417Z"
   },
   {
    "duration": 13,
    "start_time": "2022-01-26T20:53:37.424Z"
   },
   {
    "duration": 22,
    "start_time": "2022-01-26T20:53:37.439Z"
   },
   {
    "duration": 736,
    "start_time": "2022-01-26T20:53:37.462Z"
   },
   {
    "duration": 22,
    "start_time": "2022-01-26T20:53:38.200Z"
   },
   {
    "duration": 14,
    "start_time": "2022-01-26T20:53:38.224Z"
   },
   {
    "duration": 17,
    "start_time": "2022-01-26T20:53:38.239Z"
   },
   {
    "duration": 44,
    "start_time": "2022-01-26T20:53:38.257Z"
   },
   {
    "duration": 2904,
    "start_time": "2022-01-26T20:53:38.303Z"
   },
   {
    "duration": 17,
    "start_time": "2022-01-26T20:53:41.209Z"
   },
   {
    "duration": 16,
    "start_time": "2022-01-26T20:53:41.228Z"
   },
   {
    "duration": 9,
    "start_time": "2022-01-26T20:53:41.245Z"
   },
   {
    "duration": 42,
    "start_time": "2022-01-26T20:53:41.256Z"
   },
   {
    "duration": 17,
    "start_time": "2022-01-26T20:54:10.421Z"
   },
   {
    "duration": 15,
    "start_time": "2022-01-26T20:55:17.052Z"
   },
   {
    "duration": 657,
    "start_time": "2022-02-05T07:27:52.452Z"
   },
   {
    "duration": 13,
    "start_time": "2022-02-05T07:31:03.872Z"
   },
   {
    "duration": 6,
    "start_time": "2022-02-05T07:31:15.359Z"
   },
   {
    "duration": 14,
    "start_time": "2022-02-05T07:31:16.660Z"
   },
   {
    "duration": 7,
    "start_time": "2022-02-05T07:31:20.960Z"
   },
   {
    "duration": 7,
    "start_time": "2022-02-05T07:34:59.280Z"
   },
   {
    "duration": 12,
    "start_time": "2022-02-05T07:35:10.216Z"
   },
   {
    "duration": 6,
    "start_time": "2022-02-05T07:35:11.193Z"
   },
   {
    "duration": 14,
    "start_time": "2022-02-05T07:35:12.451Z"
   },
   {
    "duration": 52,
    "start_time": "2022-02-05T07:36:10.648Z"
   },
   {
    "duration": 10,
    "start_time": "2022-02-05T07:36:16.797Z"
   },
   {
    "duration": 7,
    "start_time": "2022-02-05T07:36:20.957Z"
   },
   {
    "duration": 13,
    "start_time": "2022-02-05T07:36:24.096Z"
   },
   {
    "duration": 6,
    "start_time": "2022-02-05T07:36:26.559Z"
   },
   {
    "duration": 6,
    "start_time": "2022-02-05T07:36:33.988Z"
   },
   {
    "duration": 7,
    "start_time": "2022-02-05T07:36:40.433Z"
   },
   {
    "duration": 5,
    "start_time": "2022-02-05T07:36:50.464Z"
   },
   {
    "duration": 5,
    "start_time": "2022-02-05T07:37:03.882Z"
   },
   {
    "duration": 13,
    "start_time": "2022-02-05T07:37:14.244Z"
   },
   {
    "duration": 23,
    "start_time": "2022-02-05T07:37:47.859Z"
   },
   {
    "duration": 17,
    "start_time": "2022-02-05T07:38:07.511Z"
   },
   {
    "duration": 126,
    "start_time": "2022-02-05T09:13:17.372Z"
   },
   {
    "duration": 8,
    "start_time": "2022-02-05T09:13:31.991Z"
   },
   {
    "duration": 8,
    "start_time": "2022-02-05T09:14:15.292Z"
   },
   {
    "duration": 9,
    "start_time": "2022-02-05T09:14:19.633Z"
   },
   {
    "duration": 12,
    "start_time": "2022-02-05T09:16:07.971Z"
   },
   {
    "duration": 8,
    "start_time": "2022-02-05T09:16:42.525Z"
   },
   {
    "duration": 12,
    "start_time": "2022-02-05T09:22:19.099Z"
   },
   {
    "duration": 51,
    "start_time": "2022-02-05T09:23:29.670Z"
   },
   {
    "duration": 9,
    "start_time": "2022-02-05T09:23:35.351Z"
   },
   {
    "duration": 6,
    "start_time": "2022-02-05T09:23:37.595Z"
   },
   {
    "duration": 14,
    "start_time": "2022-02-05T09:23:39.216Z"
   },
   {
    "duration": 7,
    "start_time": "2022-02-05T09:23:52.079Z"
   },
   {
    "duration": 14,
    "start_time": "2022-02-05T09:24:07.675Z"
   },
   {
    "duration": 7,
    "start_time": "2022-02-05T09:26:21.998Z"
   },
   {
    "duration": 10,
    "start_time": "2022-02-05T09:26:49.190Z"
   },
   {
    "duration": 698,
    "start_time": "2022-02-05T09:36:25.670Z"
   },
   {
    "duration": 93,
    "start_time": "2022-02-05T09:36:43.897Z"
   },
   {
    "duration": 159,
    "start_time": "2022-02-05T09:36:48.923Z"
   },
   {
    "duration": 688,
    "start_time": "2022-02-05T09:37:01.240Z"
   },
   {
    "duration": 31,
    "start_time": "2022-02-05T09:37:59.605Z"
   },
   {
    "duration": 703,
    "start_time": "2022-02-05T09:38:24.398Z"
   },
   {
    "duration": 698,
    "start_time": "2022-02-05T09:38:39.198Z"
   },
   {
    "duration": 6918,
    "start_time": "2022-02-05T09:38:51.007Z"
   },
   {
    "duration": 16,
    "start_time": "2022-02-05T09:39:36.232Z"
   },
   {
    "duration": 3318,
    "start_time": "2022-02-05T09:40:36.524Z"
   },
   {
    "duration": 818,
    "start_time": "2022-02-05T09:41:34.226Z"
   },
   {
    "duration": 137,
    "start_time": "2022-02-05T09:42:15.108Z"
   },
   {
    "duration": 137,
    "start_time": "2022-02-05T09:42:28.268Z"
   },
   {
    "duration": 667,
    "start_time": "2022-02-05T09:42:51.795Z"
   },
   {
    "duration": 53,
    "start_time": "2022-02-05T09:44:22.120Z"
   },
   {
    "duration": 10,
    "start_time": "2022-02-05T09:44:24.775Z"
   },
   {
    "duration": 6,
    "start_time": "2022-02-05T09:44:26.228Z"
   },
   {
    "duration": 14,
    "start_time": "2022-02-05T09:44:26.502Z"
   },
   {
    "duration": 5,
    "start_time": "2022-02-05T09:44:27.919Z"
   },
   {
    "duration": 12,
    "start_time": "2022-02-05T09:44:37.460Z"
   },
   {
    "duration": 5,
    "start_time": "2022-02-05T09:44:40.603Z"
   },
   {
    "duration": 9,
    "start_time": "2022-02-05T09:44:44.396Z"
   },
   {
    "duration": 3,
    "start_time": "2022-02-05T09:46:23.246Z"
   },
   {
    "duration": 9,
    "start_time": "2022-02-05T09:47:36.330Z"
   },
   {
    "duration": 19,
    "start_time": "2022-02-05T09:47:47.570Z"
   },
   {
    "duration": 18,
    "start_time": "2022-02-05T09:48:40.131Z"
   },
   {
    "duration": 8,
    "start_time": "2022-02-05T09:48:53.263Z"
   },
   {
    "duration": 724,
    "start_time": "2022-02-05T09:51:19.304Z"
   },
   {
    "duration": 487,
    "start_time": "2022-02-05T09:51:52.145Z"
   },
   {
    "duration": 4035,
    "start_time": "2022-02-05T09:52:19.000Z"
   },
   {
    "duration": 51,
    "start_time": "2022-02-05T09:52:38.949Z"
   },
   {
    "duration": 8,
    "start_time": "2022-02-05T09:52:40.739Z"
   },
   {
    "duration": 11,
    "start_time": "2022-02-05T09:52:41.037Z"
   },
   {
    "duration": 14,
    "start_time": "2022-02-05T09:52:41.439Z"
   },
   {
    "duration": 6,
    "start_time": "2022-02-05T09:52:42.152Z"
   },
   {
    "duration": 14,
    "start_time": "2022-02-05T09:52:44.881Z"
   },
   {
    "duration": 6,
    "start_time": "2022-02-05T09:52:49.196Z"
   },
   {
    "duration": 10,
    "start_time": "2022-02-05T09:52:51.503Z"
   },
   {
    "duration": 3465,
    "start_time": "2022-02-05T09:52:56.225Z"
   },
   {
    "duration": 3777,
    "start_time": "2022-02-05T09:54:00.160Z"
   },
   {
    "duration": 674,
    "start_time": "2022-02-05T09:54:13.559Z"
   },
   {
    "duration": 8,
    "start_time": "2022-02-05T09:54:14.235Z"
   },
   {
    "duration": 13,
    "start_time": "2022-02-05T09:54:14.245Z"
   },
   {
    "duration": 25,
    "start_time": "2022-02-05T09:54:14.260Z"
   },
   {
    "duration": 7,
    "start_time": "2022-02-05T09:54:14.287Z"
   },
   {
    "duration": 23,
    "start_time": "2022-02-05T09:54:14.296Z"
   },
   {
    "duration": 10,
    "start_time": "2022-02-05T09:54:14.320Z"
   },
   {
    "duration": 23,
    "start_time": "2022-02-05T09:54:14.332Z"
   },
   {
    "duration": 216,
    "start_time": "2022-02-05T09:54:34.675Z"
   },
   {
    "duration": 141,
    "start_time": "2022-02-05T09:55:53.193Z"
   },
   {
    "duration": 137,
    "start_time": "2022-02-05T09:56:16.843Z"
   },
   {
    "duration": 125,
    "start_time": "2022-02-05T10:04:55.521Z"
   },
   {
    "duration": 571,
    "start_time": "2022-02-05T10:05:15.961Z"
   },
   {
    "duration": 55,
    "start_time": "2022-02-05T10:07:02.217Z"
   },
   {
    "duration": 9,
    "start_time": "2022-02-05T10:07:02.274Z"
   },
   {
    "duration": 16,
    "start_time": "2022-02-05T10:07:02.285Z"
   },
   {
    "duration": 18,
    "start_time": "2022-02-05T10:07:02.303Z"
   },
   {
    "duration": 6,
    "start_time": "2022-02-05T10:07:02.322Z"
   },
   {
    "duration": 12,
    "start_time": "2022-02-05T10:07:02.330Z"
   },
   {
    "duration": 6,
    "start_time": "2022-02-05T10:07:02.344Z"
   },
   {
    "duration": 26,
    "start_time": "2022-02-05T10:07:02.352Z"
   },
   {
    "duration": 132,
    "start_time": "2022-02-05T10:08:28.682Z"
   },
   {
    "duration": 129,
    "start_time": "2022-02-05T10:14:14.921Z"
   },
   {
    "duration": 544,
    "start_time": "2022-02-05T10:14:25.692Z"
   },
   {
    "duration": 138,
    "start_time": "2022-02-05T10:16:22.130Z"
   },
   {
    "duration": 54,
    "start_time": "2022-02-05T10:16:36.894Z"
   },
   {
    "duration": 8,
    "start_time": "2022-02-05T10:16:36.950Z"
   },
   {
    "duration": 8,
    "start_time": "2022-02-05T10:16:36.960Z"
   },
   {
    "duration": 13,
    "start_time": "2022-02-05T10:16:36.970Z"
   },
   {
    "duration": 5,
    "start_time": "2022-02-05T10:16:36.984Z"
   },
   {
    "duration": 13,
    "start_time": "2022-02-05T10:16:36.990Z"
   },
   {
    "duration": 6,
    "start_time": "2022-02-05T10:16:37.004Z"
   },
   {
    "duration": 8,
    "start_time": "2022-02-05T10:16:37.012Z"
   },
   {
    "duration": 375,
    "start_time": "2022-02-05T10:17:23.481Z"
   },
   {
    "duration": 53,
    "start_time": "2022-02-05T10:17:36.097Z"
   },
   {
    "duration": 9,
    "start_time": "2022-02-05T10:17:36.151Z"
   },
   {
    "duration": 5,
    "start_time": "2022-02-05T10:17:36.162Z"
   },
   {
    "duration": 13,
    "start_time": "2022-02-05T10:17:36.169Z"
   },
   {
    "duration": 5,
    "start_time": "2022-02-05T10:17:36.184Z"
   },
   {
    "duration": 12,
    "start_time": "2022-02-05T10:17:36.191Z"
   },
   {
    "duration": 5,
    "start_time": "2022-02-05T10:17:36.204Z"
   },
   {
    "duration": 7,
    "start_time": "2022-02-05T10:17:36.211Z"
   },
   {
    "duration": 132,
    "start_time": "2022-02-05T10:18:31.800Z"
   },
   {
    "duration": 670,
    "start_time": "2022-02-05T10:22:51.643Z"
   },
   {
    "duration": 136,
    "start_time": "2022-02-05T10:23:50.804Z"
   },
   {
    "duration": 557,
    "start_time": "2022-02-05T10:23:59.114Z"
   },
   {
    "duration": 2249,
    "start_time": "2022-02-05T10:25:17.713Z"
   },
   {
    "duration": 53,
    "start_time": "2022-02-05T10:25:43.435Z"
   },
   {
    "duration": 8,
    "start_time": "2022-02-05T10:25:43.489Z"
   },
   {
    "duration": 6,
    "start_time": "2022-02-05T10:25:43.499Z"
   },
   {
    "duration": 13,
    "start_time": "2022-02-05T10:25:43.506Z"
   },
   {
    "duration": 4,
    "start_time": "2022-02-05T10:25:43.520Z"
   },
   {
    "duration": 14,
    "start_time": "2022-02-05T10:25:43.526Z"
   },
   {
    "duration": 5,
    "start_time": "2022-02-05T10:25:43.541Z"
   },
   {
    "duration": 30,
    "start_time": "2022-02-05T10:25:43.548Z"
   },
   {
    "duration": 559,
    "start_time": "2022-02-05T10:25:46.262Z"
   },
   {
    "duration": 3733,
    "start_time": "2022-02-05T10:26:31.863Z"
   },
   {
    "duration": 560,
    "start_time": "2022-02-05T10:26:47.500Z"
   },
   {
    "duration": 56,
    "start_time": "2022-02-05T10:29:11.240Z"
   },
   {
    "duration": 9,
    "start_time": "2022-02-05T10:29:11.298Z"
   },
   {
    "duration": 5,
    "start_time": "2022-02-05T10:29:11.309Z"
   },
   {
    "duration": 12,
    "start_time": "2022-02-05T10:29:11.315Z"
   },
   {
    "duration": 5,
    "start_time": "2022-02-05T10:29:11.329Z"
   },
   {
    "duration": 37,
    "start_time": "2022-02-05T10:29:11.335Z"
   },
   {
    "duration": 4,
    "start_time": "2022-02-05T10:29:11.374Z"
   },
   {
    "duration": 9,
    "start_time": "2022-02-05T10:29:11.380Z"
   },
   {
    "duration": 203,
    "start_time": "2022-02-05T10:30:20.964Z"
   },
   {
    "duration": 76,
    "start_time": "2022-02-05T10:30:41.769Z"
   },
   {
    "duration": 13,
    "start_time": "2022-02-05T10:30:41.847Z"
   },
   {
    "duration": 11,
    "start_time": "2022-02-05T10:30:41.862Z"
   },
   {
    "duration": 18,
    "start_time": "2022-02-05T10:30:41.875Z"
   },
   {
    "duration": 6,
    "start_time": "2022-02-05T10:30:41.894Z"
   },
   {
    "duration": 18,
    "start_time": "2022-02-05T10:30:41.902Z"
   },
   {
    "duration": 6,
    "start_time": "2022-02-05T10:30:41.922Z"
   },
   {
    "duration": 9,
    "start_time": "2022-02-05T10:30:41.930Z"
   },
   {
    "duration": 142,
    "start_time": "2022-02-05T10:31:10.549Z"
   },
   {
    "duration": 140,
    "start_time": "2022-02-05T10:31:47.149Z"
   },
   {
    "duration": 132,
    "start_time": "2022-02-05T10:32:05.104Z"
   },
   {
    "duration": 128,
    "start_time": "2022-02-05T10:32:13.547Z"
   },
   {
    "duration": 8,
    "start_time": "2022-02-05T10:32:51.885Z"
   },
   {
    "duration": 21,
    "start_time": "2022-02-05T10:33:45.802Z"
   },
   {
    "duration": 360,
    "start_time": "2022-02-05T10:36:05.309Z"
   },
   {
    "duration": 696,
    "start_time": "2022-02-05T10:36:20.781Z"
   },
   {
    "duration": 20,
    "start_time": "2022-02-05T10:36:35.776Z"
   },
   {
    "duration": 1196,
    "start_time": "2022-02-05T10:36:46.598Z"
   },
   {
    "duration": 54,
    "start_time": "2022-02-05T10:36:48.924Z"
   },
   {
    "duration": 9,
    "start_time": "2022-02-05T10:36:48.981Z"
   },
   {
    "duration": 5,
    "start_time": "2022-02-05T10:36:48.992Z"
   },
   {
    "duration": 15,
    "start_time": "2022-02-05T10:36:48.999Z"
   },
   {
    "duration": 6,
    "start_time": "2022-02-05T10:36:49.015Z"
   },
   {
    "duration": 13,
    "start_time": "2022-02-05T10:36:49.022Z"
   },
   {
    "duration": 36,
    "start_time": "2022-02-05T10:36:49.037Z"
   },
   {
    "duration": 12,
    "start_time": "2022-02-05T10:36:49.076Z"
   },
   {
    "duration": 27,
    "start_time": "2022-02-05T10:36:51.668Z"
   },
   {
    "duration": 6762,
    "start_time": "2022-02-05T10:37:21.664Z"
   },
   {
    "duration": 73,
    "start_time": "2022-02-05T10:37:43.323Z"
   },
   {
    "duration": 12,
    "start_time": "2022-02-05T10:37:43.398Z"
   },
   {
    "duration": 7,
    "start_time": "2022-02-05T10:37:43.413Z"
   },
   {
    "duration": 17,
    "start_time": "2022-02-05T10:37:43.423Z"
   },
   {
    "duration": 7,
    "start_time": "2022-02-05T10:37:43.442Z"
   },
   {
    "duration": 14,
    "start_time": "2022-02-05T10:37:43.471Z"
   },
   {
    "duration": 6,
    "start_time": "2022-02-05T10:37:43.487Z"
   },
   {
    "duration": 9,
    "start_time": "2022-02-05T10:37:43.495Z"
   },
   {
    "duration": 568,
    "start_time": "2022-02-05T11:31:46.575Z"
   },
   {
    "duration": 6819,
    "start_time": "2022-02-05T11:32:10.365Z"
   },
   {
    "duration": 53,
    "start_time": "2022-02-05T11:32:25.044Z"
   },
   {
    "duration": 8,
    "start_time": "2022-02-05T11:32:25.099Z"
   },
   {
    "duration": 15,
    "start_time": "2022-02-05T11:32:25.109Z"
   },
   {
    "duration": 12,
    "start_time": "2022-02-05T11:32:25.125Z"
   },
   {
    "duration": 4,
    "start_time": "2022-02-05T11:32:25.139Z"
   },
   {
    "duration": 34,
    "start_time": "2022-02-05T11:32:25.145Z"
   },
   {
    "duration": 6,
    "start_time": "2022-02-05T11:32:25.180Z"
   },
   {
    "duration": 10,
    "start_time": "2022-02-05T11:32:25.188Z"
   },
   {
    "duration": 473,
    "start_time": "2022-02-05T11:32:34.824Z"
   },
   {
    "duration": 50,
    "start_time": "2022-02-05T11:32:42.074Z"
   },
   {
    "duration": 7,
    "start_time": "2022-02-05T11:32:42.126Z"
   },
   {
    "duration": 6,
    "start_time": "2022-02-05T11:32:42.135Z"
   },
   {
    "duration": 29,
    "start_time": "2022-02-05T11:32:42.142Z"
   },
   {
    "duration": 5,
    "start_time": "2022-02-05T11:32:42.173Z"
   },
   {
    "duration": 13,
    "start_time": "2022-02-05T11:32:42.179Z"
   },
   {
    "duration": 7,
    "start_time": "2022-02-05T11:32:42.193Z"
   },
   {
    "duration": 9,
    "start_time": "2022-02-05T11:32:42.202Z"
   },
   {
    "duration": 100,
    "start_time": "2022-02-05T11:37:21.057Z"
   },
   {
    "duration": 449,
    "start_time": "2022-02-05T11:37:29.262Z"
   },
   {
    "duration": 7426,
    "start_time": "2022-02-05T11:38:33.219Z"
   },
   {
    "duration": 54,
    "start_time": "2022-02-05T11:38:53.441Z"
   },
   {
    "duration": 8,
    "start_time": "2022-02-05T11:38:53.497Z"
   },
   {
    "duration": 5,
    "start_time": "2022-02-05T11:38:53.507Z"
   },
   {
    "duration": 13,
    "start_time": "2022-02-05T11:38:53.514Z"
   },
   {
    "duration": 5,
    "start_time": "2022-02-05T11:38:53.528Z"
   },
   {
    "duration": 45,
    "start_time": "2022-02-05T11:38:53.534Z"
   },
   {
    "duration": 6,
    "start_time": "2022-02-05T11:38:53.581Z"
   },
   {
    "duration": 8,
    "start_time": "2022-02-05T11:38:53.589Z"
   },
   {
    "duration": 473,
    "start_time": "2022-02-05T11:38:55.188Z"
   },
   {
    "duration": 691,
    "start_time": "2022-02-05T11:39:53.435Z"
   },
   {
    "duration": 9,
    "start_time": "2022-02-05T11:39:54.127Z"
   },
   {
    "duration": 5,
    "start_time": "2022-02-05T11:39:54.139Z"
   },
   {
    "duration": 26,
    "start_time": "2022-02-05T11:39:54.146Z"
   },
   {
    "duration": 6,
    "start_time": "2022-02-05T11:39:54.174Z"
   },
   {
    "duration": 18,
    "start_time": "2022-02-05T11:39:54.181Z"
   },
   {
    "duration": 5,
    "start_time": "2022-02-05T11:39:54.201Z"
   },
   {
    "duration": 9,
    "start_time": "2022-02-05T11:39:54.209Z"
   },
   {
    "duration": -51,
    "start_time": "2022-02-05T11:40:51.972Z"
   },
   {
    "duration": -54,
    "start_time": "2022-02-05T11:40:51.977Z"
   },
   {
    "duration": -57,
    "start_time": "2022-02-05T11:40:51.981Z"
   },
   {
    "duration": -59,
    "start_time": "2022-02-05T11:40:51.984Z"
   },
   {
    "duration": -61,
    "start_time": "2022-02-05T11:40:51.987Z"
   },
   {
    "duration": -63,
    "start_time": "2022-02-05T11:40:51.990Z"
   },
   {
    "duration": -65,
    "start_time": "2022-02-05T11:40:51.993Z"
   },
   {
    "duration": -68,
    "start_time": "2022-02-05T11:40:51.997Z"
   },
   {
    "duration": -70,
    "start_time": "2022-02-05T11:40:52.000Z"
   },
   {
    "duration": -40,
    "start_time": "2022-02-05T11:43:26.916Z"
   },
   {
    "duration": 54,
    "start_time": "2022-02-05T11:43:36.746Z"
   },
   {
    "duration": 9,
    "start_time": "2022-02-05T11:43:41.374Z"
   },
   {
    "duration": 6,
    "start_time": "2022-02-05T11:43:43.130Z"
   },
   {
    "duration": 20,
    "start_time": "2022-02-05T11:43:43.978Z"
   },
   {
    "duration": 7,
    "start_time": "2022-02-05T11:43:45.272Z"
   },
   {
    "duration": 53,
    "start_time": "2022-02-05T11:43:53.032Z"
   },
   {
    "duration": 10,
    "start_time": "2022-02-05T11:43:56.658Z"
   },
   {
    "duration": 55,
    "start_time": "2022-02-05T11:46:58.757Z"
   },
   {
    "duration": 8,
    "start_time": "2022-02-05T11:46:58.814Z"
   },
   {
    "duration": 6,
    "start_time": "2022-02-05T11:46:58.824Z"
   },
   {
    "duration": 20,
    "start_time": "2022-02-05T11:46:58.832Z"
   },
   {
    "duration": 18,
    "start_time": "2022-02-05T11:46:58.854Z"
   },
   {
    "duration": 17,
    "start_time": "2022-02-05T11:46:58.874Z"
   },
   {
    "duration": 8,
    "start_time": "2022-02-05T11:46:58.893Z"
   },
   {
    "duration": 12,
    "start_time": "2022-02-05T11:46:58.903Z"
   },
   {
    "duration": 6851,
    "start_time": "2022-02-05T11:47:00.639Z"
   },
   {
    "duration": 57,
    "start_time": "2022-02-05T11:48:04.831Z"
   },
   {
    "duration": 11,
    "start_time": "2022-02-05T11:48:04.890Z"
   },
   {
    "duration": 7,
    "start_time": "2022-02-05T11:48:04.903Z"
   },
   {
    "duration": 16,
    "start_time": "2022-02-05T11:48:04.912Z"
   },
   {
    "duration": 7,
    "start_time": "2022-02-05T11:48:04.929Z"
   },
   {
    "duration": 45,
    "start_time": "2022-02-05T11:48:04.938Z"
   },
   {
    "duration": 5,
    "start_time": "2022-02-05T11:48:04.984Z"
   },
   {
    "duration": 8,
    "start_time": "2022-02-05T11:48:04.992Z"
   },
   {
    "duration": 15,
    "start_time": "2022-02-05T11:48:07.564Z"
   },
   {
    "duration": 27,
    "start_time": "2022-02-05T11:48:10.764Z"
   },
   {
    "duration": 6,
    "start_time": "2022-02-05T11:48:27.144Z"
   },
   {
    "duration": 3,
    "start_time": "2022-02-05T11:48:32.806Z"
   },
   {
    "duration": 270,
    "start_time": "2022-02-05T11:48:45.016Z"
   },
   {
    "duration": 317,
    "start_time": "2022-02-05T11:48:47.632Z"
   },
   {
    "duration": 521,
    "start_time": "2022-02-05T11:48:51.773Z"
   },
   {
    "duration": 415,
    "start_time": "2022-02-05T11:48:53.699Z"
   },
   {
    "duration": 4,
    "start_time": "2022-02-05T11:48:59.852Z"
   },
   {
    "duration": 5,
    "start_time": "2022-02-05T11:49:09.600Z"
   },
   {
    "duration": 14,
    "start_time": "2022-02-05T11:52:48.726Z"
   },
   {
    "duration": 457,
    "start_time": "2022-02-05T11:54:54.005Z"
   },
   {
    "duration": 278,
    "start_time": "2022-02-05T11:56:04.619Z"
   },
   {
    "duration": 16,
    "start_time": "2022-02-05T12:00:30.774Z"
   },
   {
    "duration": 10,
    "start_time": "2022-02-05T12:00:45.217Z"
   },
   {
    "duration": 8,
    "start_time": "2022-02-05T12:12:04.055Z"
   },
   {
    "duration": 56,
    "start_time": "2022-02-05T12:13:08.137Z"
   },
   {
    "duration": 9,
    "start_time": "2022-02-05T12:13:08.195Z"
   },
   {
    "duration": 6,
    "start_time": "2022-02-05T12:13:08.206Z"
   },
   {
    "duration": 13,
    "start_time": "2022-02-05T12:13:08.214Z"
   },
   {
    "duration": 5,
    "start_time": "2022-02-05T12:13:08.229Z"
   },
   {
    "duration": 38,
    "start_time": "2022-02-05T12:13:08.235Z"
   },
   {
    "duration": 6,
    "start_time": "2022-02-05T12:13:08.275Z"
   },
   {
    "duration": 9,
    "start_time": "2022-02-05T12:13:08.283Z"
   },
   {
    "duration": 16,
    "start_time": "2022-02-05T12:13:08.293Z"
   },
   {
    "duration": 22,
    "start_time": "2022-02-05T12:13:08.310Z"
   },
   {
    "duration": 39,
    "start_time": "2022-02-05T12:13:08.333Z"
   },
   {
    "duration": 11,
    "start_time": "2022-02-05T12:13:08.374Z"
   },
   {
    "duration": 19,
    "start_time": "2022-02-05T12:13:11.434Z"
   },
   {
    "duration": 25,
    "start_time": "2022-02-05T12:14:02.583Z"
   },
   {
    "duration": 55,
    "start_time": "2022-02-05T12:14:26.771Z"
   },
   {
    "duration": 9,
    "start_time": "2022-02-05T12:14:26.828Z"
   },
   {
    "duration": 22,
    "start_time": "2022-02-05T12:14:26.839Z"
   },
   {
    "duration": 20,
    "start_time": "2022-02-05T12:14:26.863Z"
   },
   {
    "duration": 16,
    "start_time": "2022-02-05T12:14:26.884Z"
   },
   {
    "duration": 27,
    "start_time": "2022-02-05T12:14:26.901Z"
   },
   {
    "duration": 21,
    "start_time": "2022-02-05T12:14:26.929Z"
   },
   {
    "duration": 34,
    "start_time": "2022-02-05T12:14:26.952Z"
   },
   {
    "duration": 38,
    "start_time": "2022-02-05T12:14:26.988Z"
   },
   {
    "duration": 29,
    "start_time": "2022-02-05T12:14:27.027Z"
   },
   {
    "duration": 4,
    "start_time": "2022-02-05T12:14:27.058Z"
   },
   {
    "duration": 26,
    "start_time": "2022-02-05T12:14:27.064Z"
   },
   {
    "duration": 22,
    "start_time": "2022-02-05T12:14:30.645Z"
   },
   {
    "duration": 54,
    "start_time": "2022-02-05T12:14:46.795Z"
   },
   {
    "duration": 9,
    "start_time": "2022-02-05T12:14:49.428Z"
   },
   {
    "duration": 6,
    "start_time": "2022-02-05T12:14:50.156Z"
   },
   {
    "duration": 15,
    "start_time": "2022-02-05T12:14:50.899Z"
   },
   {
    "duration": 6,
    "start_time": "2022-02-05T12:14:52.948Z"
   },
   {
    "duration": 13,
    "start_time": "2022-02-05T12:14:57.999Z"
   },
   {
    "duration": 7,
    "start_time": "2022-02-05T12:15:08.210Z"
   },
   {
    "duration": 12,
    "start_time": "2022-02-05T12:15:11.276Z"
   },
   {
    "duration": 9,
    "start_time": "2022-02-05T12:15:17.871Z"
   },
   {
    "duration": 6,
    "start_time": "2022-02-05T12:15:39.382Z"
   },
   {
    "duration": 19,
    "start_time": "2022-02-05T12:15:48.776Z"
   },
   {
    "duration": 8,
    "start_time": "2022-02-05T12:15:58.036Z"
   },
   {
    "duration": 13,
    "start_time": "2022-02-05T12:16:02.636Z"
   },
   {
    "duration": 21,
    "start_time": "2022-02-05T12:16:08.243Z"
   },
   {
    "duration": 54,
    "start_time": "2022-02-05T12:17:22.730Z"
   },
   {
    "duration": 8,
    "start_time": "2022-02-05T12:17:22.786Z"
   },
   {
    "duration": 7,
    "start_time": "2022-02-05T12:17:22.796Z"
   },
   {
    "duration": 13,
    "start_time": "2022-02-05T12:17:22.805Z"
   },
   {
    "duration": 6,
    "start_time": "2022-02-05T12:17:22.819Z"
   },
   {
    "duration": 12,
    "start_time": "2022-02-05T12:17:22.826Z"
   },
   {
    "duration": 6,
    "start_time": "2022-02-05T12:17:22.872Z"
   },
   {
    "duration": 11,
    "start_time": "2022-02-05T12:17:22.881Z"
   },
   {
    "duration": 15,
    "start_time": "2022-02-05T12:17:22.894Z"
   },
   {
    "duration": 23,
    "start_time": "2022-02-05T12:17:22.910Z"
   },
   {
    "duration": 6,
    "start_time": "2022-02-05T12:17:22.935Z"
   },
   {
    "duration": 10,
    "start_time": "2022-02-05T12:17:22.972Z"
   },
   {
    "duration": 396,
    "start_time": "2022-02-05T12:17:24.372Z"
   },
   {
    "duration": 54,
    "start_time": "2022-02-05T12:17:38.911Z"
   },
   {
    "duration": 8,
    "start_time": "2022-02-05T12:17:38.966Z"
   },
   {
    "duration": 6,
    "start_time": "2022-02-05T12:17:38.976Z"
   },
   {
    "duration": 12,
    "start_time": "2022-02-05T12:17:38.983Z"
   },
   {
    "duration": 5,
    "start_time": "2022-02-05T12:17:38.997Z"
   },
   {
    "duration": 13,
    "start_time": "2022-02-05T12:17:39.003Z"
   },
   {
    "duration": 5,
    "start_time": "2022-02-05T12:17:39.017Z"
   },
   {
    "duration": 10,
    "start_time": "2022-02-05T12:17:39.024Z"
   },
   {
    "duration": 46,
    "start_time": "2022-02-05T12:17:39.036Z"
   },
   {
    "duration": 21,
    "start_time": "2022-02-05T12:17:39.084Z"
   },
   {
    "duration": 5,
    "start_time": "2022-02-05T12:17:39.107Z"
   },
   {
    "duration": 10,
    "start_time": "2022-02-05T12:17:39.113Z"
   },
   {
    "duration": 29,
    "start_time": "2022-02-05T12:17:41.230Z"
   },
   {
    "duration": 54,
    "start_time": "2022-02-05T12:18:12.936Z"
   },
   {
    "duration": 8,
    "start_time": "2022-02-05T12:18:12.992Z"
   },
   {
    "duration": 6,
    "start_time": "2022-02-05T12:18:13.002Z"
   },
   {
    "duration": 13,
    "start_time": "2022-02-05T12:18:13.010Z"
   },
   {
    "duration": 6,
    "start_time": "2022-02-05T12:18:13.024Z"
   },
   {
    "duration": 13,
    "start_time": "2022-02-05T12:18:13.031Z"
   },
   {
    "duration": 30,
    "start_time": "2022-02-05T12:18:13.046Z"
   },
   {
    "duration": 9,
    "start_time": "2022-02-05T12:18:13.078Z"
   },
   {
    "duration": 16,
    "start_time": "2022-02-05T12:18:13.089Z"
   },
   {
    "duration": 23,
    "start_time": "2022-02-05T12:18:13.106Z"
   },
   {
    "duration": 5,
    "start_time": "2022-02-05T12:18:13.130Z"
   },
   {
    "duration": 44,
    "start_time": "2022-02-05T12:18:13.136Z"
   },
   {
    "duration": 23,
    "start_time": "2022-02-05T12:18:15.520Z"
   },
   {
    "duration": 20,
    "start_time": "2022-02-05T12:19:35.250Z"
   },
   {
    "duration": 14,
    "start_time": "2022-02-05T12:22:35.999Z"
   },
   {
    "duration": 16,
    "start_time": "2022-02-05T12:23:44.568Z"
   },
   {
    "duration": 31,
    "start_time": "2022-02-05T12:23:52.854Z"
   },
   {
    "duration": 127,
    "start_time": "2022-02-05T12:24:19.512Z"
   },
   {
    "duration": 28,
    "start_time": "2022-02-05T12:24:27.807Z"
   },
   {
    "duration": 57,
    "start_time": "2022-02-05T12:24:37.818Z"
   },
   {
    "duration": 9,
    "start_time": "2022-02-05T12:24:37.877Z"
   },
   {
    "duration": 6,
    "start_time": "2022-02-05T12:24:37.887Z"
   },
   {
    "duration": 14,
    "start_time": "2022-02-05T12:24:37.895Z"
   },
   {
    "duration": 6,
    "start_time": "2022-02-05T12:24:37.910Z"
   },
   {
    "duration": 15,
    "start_time": "2022-02-05T12:24:37.917Z"
   },
   {
    "duration": 6,
    "start_time": "2022-02-05T12:24:37.933Z"
   },
   {
    "duration": 10,
    "start_time": "2022-02-05T12:24:37.972Z"
   },
   {
    "duration": 15,
    "start_time": "2022-02-05T12:24:37.984Z"
   },
   {
    "duration": 22,
    "start_time": "2022-02-05T12:24:38.001Z"
   },
   {
    "duration": 5,
    "start_time": "2022-02-05T12:24:38.024Z"
   },
   {
    "duration": 42,
    "start_time": "2022-02-05T12:24:38.030Z"
   },
   {
    "duration": 29,
    "start_time": "2022-02-05T12:24:44.730Z"
   },
   {
    "duration": 56,
    "start_time": "2022-02-05T12:25:12.339Z"
   },
   {
    "duration": 9,
    "start_time": "2022-02-05T12:25:12.397Z"
   },
   {
    "duration": 6,
    "start_time": "2022-02-05T12:25:12.408Z"
   },
   {
    "duration": 13,
    "start_time": "2022-02-05T12:25:12.415Z"
   },
   {
    "duration": 4,
    "start_time": "2022-02-05T12:25:12.430Z"
   },
   {
    "duration": 41,
    "start_time": "2022-02-05T12:25:12.436Z"
   },
   {
    "duration": 5,
    "start_time": "2022-02-05T12:25:12.478Z"
   },
   {
    "duration": 8,
    "start_time": "2022-02-05T12:25:12.486Z"
   },
   {
    "duration": 14,
    "start_time": "2022-02-05T12:25:12.495Z"
   },
   {
    "duration": 21,
    "start_time": "2022-02-05T12:25:12.510Z"
   },
   {
    "duration": 41,
    "start_time": "2022-02-05T12:25:12.532Z"
   },
   {
    "duration": 9,
    "start_time": "2022-02-05T12:25:12.574Z"
   },
   {
    "duration": 31,
    "start_time": "2022-02-05T12:25:13.829Z"
   },
   {
    "duration": 26,
    "start_time": "2022-02-05T12:27:20.411Z"
   },
   {
    "duration": 77,
    "start_time": "2022-02-05T12:28:33.739Z"
   },
   {
    "duration": 12,
    "start_time": "2022-02-05T12:28:33.819Z"
   },
   {
    "duration": 6,
    "start_time": "2022-02-05T12:28:33.833Z"
   },
   {
    "duration": 31,
    "start_time": "2022-02-05T12:28:33.840Z"
   },
   {
    "duration": 5,
    "start_time": "2022-02-05T12:28:33.873Z"
   },
   {
    "duration": 12,
    "start_time": "2022-02-05T12:28:33.880Z"
   },
   {
    "duration": 5,
    "start_time": "2022-02-05T12:28:33.893Z"
   },
   {
    "duration": 10,
    "start_time": "2022-02-05T12:28:33.900Z"
   },
   {
    "duration": 16,
    "start_time": "2022-02-05T12:28:33.911Z"
   },
   {
    "duration": 5,
    "start_time": "2022-02-05T12:28:33.929Z"
   },
   {
    "duration": 5,
    "start_time": "2022-02-05T12:28:33.971Z"
   },
   {
    "duration": 13,
    "start_time": "2022-02-05T12:28:33.977Z"
   },
   {
    "duration": 27,
    "start_time": "2022-02-05T12:28:36.639Z"
   },
   {
    "duration": 10,
    "start_time": "2022-02-05T12:28:49.021Z"
   },
   {
    "duration": 10,
    "start_time": "2022-02-05T12:28:56.980Z"
   },
   {
    "duration": 53,
    "start_time": "2022-02-05T12:30:04.160Z"
   },
   {
    "duration": 10,
    "start_time": "2022-02-05T12:30:04.215Z"
   },
   {
    "duration": 6,
    "start_time": "2022-02-05T12:30:04.227Z"
   },
   {
    "duration": 43,
    "start_time": "2022-02-05T12:30:04.235Z"
   },
   {
    "duration": 6,
    "start_time": "2022-02-05T12:30:04.280Z"
   },
   {
    "duration": 20,
    "start_time": "2022-02-05T12:30:04.288Z"
   },
   {
    "duration": 5,
    "start_time": "2022-02-05T12:30:04.310Z"
   },
   {
    "duration": 11,
    "start_time": "2022-02-05T12:30:04.317Z"
   },
   {
    "duration": 44,
    "start_time": "2022-02-05T12:30:04.330Z"
   },
   {
    "duration": 5,
    "start_time": "2022-02-05T12:30:04.375Z"
   },
   {
    "duration": 5,
    "start_time": "2022-02-05T12:30:04.382Z"
   },
   {
    "duration": 14,
    "start_time": "2022-02-05T12:30:04.388Z"
   },
   {
    "duration": 26,
    "start_time": "2022-02-05T12:30:06.635Z"
   },
   {
    "duration": 9,
    "start_time": "2022-02-05T12:30:11.547Z"
   },
   {
    "duration": 18,
    "start_time": "2022-02-05T13:07:30.978Z"
   },
   {
    "duration": 15,
    "start_time": "2022-02-05T13:07:49.461Z"
   },
   {
    "duration": 20,
    "start_time": "2022-02-05T13:08:58.438Z"
   },
   {
    "duration": 6,
    "start_time": "2022-02-05T13:10:11.040Z"
   },
   {
    "duration": 7,
    "start_time": "2022-02-05T13:10:14.963Z"
   },
   {
    "duration": 15,
    "start_time": "2022-02-05T13:10:17.584Z"
   },
   {
    "duration": 26,
    "start_time": "2022-02-05T13:10:23.655Z"
   },
   {
    "duration": 21,
    "start_time": "2022-02-05T13:10:41.531Z"
   },
   {
    "duration": 26,
    "start_time": "2022-02-05T13:10:47.336Z"
   },
   {
    "duration": 30,
    "start_time": "2022-02-05T13:12:07.107Z"
   },
   {
    "duration": 605,
    "start_time": "2022-02-05T13:14:07.447Z"
   },
   {
    "duration": 5,
    "start_time": "2022-02-05T13:16:00.456Z"
   },
   {
    "duration": 9,
    "start_time": "2022-02-05T13:16:05.991Z"
   },
   {
    "duration": 10,
    "start_time": "2022-02-05T13:16:24.698Z"
   },
   {
    "duration": 5,
    "start_time": "2022-02-05T13:17:40.420Z"
   },
   {
    "duration": 11,
    "start_time": "2022-02-05T13:17:44.191Z"
   },
   {
    "duration": 6,
    "start_time": "2022-02-05T13:18:20.934Z"
   },
   {
    "duration": 11,
    "start_time": "2022-02-05T13:18:24.762Z"
   },
   {
    "duration": 273,
    "start_time": "2022-02-05T13:19:21.736Z"
   },
   {
    "duration": 7,
    "start_time": "2022-02-05T13:19:33.131Z"
   },
   {
    "duration": 272,
    "start_time": "2022-02-05T13:19:35.611Z"
   },
   {
    "duration": 662,
    "start_time": "2022-02-05T13:20:10.906Z"
   },
   {
    "duration": 78,
    "start_time": "2022-02-05T13:20:17.904Z"
   },
   {
    "duration": 8,
    "start_time": "2022-02-05T13:20:17.984Z"
   },
   {
    "duration": 6,
    "start_time": "2022-02-05T13:20:17.994Z"
   },
   {
    "duration": 17,
    "start_time": "2022-02-05T13:20:18.002Z"
   },
   {
    "duration": 4,
    "start_time": "2022-02-05T13:20:18.021Z"
   },
   {
    "duration": 45,
    "start_time": "2022-02-05T13:20:18.027Z"
   },
   {
    "duration": 5,
    "start_time": "2022-02-05T13:20:18.073Z"
   },
   {
    "duration": 9,
    "start_time": "2022-02-05T13:20:18.080Z"
   },
   {
    "duration": 14,
    "start_time": "2022-02-05T13:20:18.091Z"
   },
   {
    "duration": 5,
    "start_time": "2022-02-05T13:20:18.106Z"
   },
   {
    "duration": 5,
    "start_time": "2022-02-05T13:20:18.112Z"
   },
   {
    "duration": 18,
    "start_time": "2022-02-05T13:20:18.118Z"
   },
   {
    "duration": 59,
    "start_time": "2022-02-05T13:20:18.138Z"
   },
   {
    "duration": 9,
    "start_time": "2022-02-05T13:20:18.199Z"
   },
   {
    "duration": 4,
    "start_time": "2022-02-05T13:20:18.210Z"
   },
   {
    "duration": 8,
    "start_time": "2022-02-05T13:20:18.216Z"
   },
   {
    "duration": 19,
    "start_time": "2022-02-05T13:20:18.226Z"
   },
   {
    "duration": 28,
    "start_time": "2022-02-05T13:20:18.272Z"
   },
   {
    "duration": 630,
    "start_time": "2022-02-05T13:20:18.301Z"
   },
   {
    "duration": 20,
    "start_time": "2022-02-05T13:20:19.641Z"
   },
   {
    "duration": 263,
    "start_time": "2022-02-05T13:21:16.677Z"
   },
   {
    "duration": 254,
    "start_time": "2022-02-05T13:21:25.578Z"
   },
   {
    "duration": 58,
    "start_time": "2022-02-05T13:21:31.905Z"
   },
   {
    "duration": 9,
    "start_time": "2022-02-05T13:21:31.965Z"
   },
   {
    "duration": 8,
    "start_time": "2022-02-05T13:21:31.975Z"
   },
   {
    "duration": 24,
    "start_time": "2022-02-05T13:21:31.985Z"
   },
   {
    "duration": 14,
    "start_time": "2022-02-05T13:21:32.011Z"
   },
   {
    "duration": 25,
    "start_time": "2022-02-05T13:21:32.027Z"
   },
   {
    "duration": 12,
    "start_time": "2022-02-05T13:21:32.054Z"
   },
   {
    "duration": 24,
    "start_time": "2022-02-05T13:21:32.069Z"
   },
   {
    "duration": 24,
    "start_time": "2022-02-05T13:21:32.095Z"
   },
   {
    "duration": 6,
    "start_time": "2022-02-05T13:21:32.121Z"
   },
   {
    "duration": 13,
    "start_time": "2022-02-05T13:21:32.129Z"
   },
   {
    "duration": 47,
    "start_time": "2022-02-05T13:21:32.144Z"
   },
   {
    "duration": 29,
    "start_time": "2022-02-05T13:21:32.193Z"
   },
   {
    "duration": 12,
    "start_time": "2022-02-05T13:21:32.224Z"
   },
   {
    "duration": 5,
    "start_time": "2022-02-05T13:21:32.239Z"
   },
   {
    "duration": 15,
    "start_time": "2022-02-05T13:21:32.245Z"
   },
   {
    "duration": 22,
    "start_time": "2022-02-05T13:21:32.261Z"
   },
   {
    "duration": 28,
    "start_time": "2022-02-05T13:21:32.284Z"
   },
   {
    "duration": 617,
    "start_time": "2022-02-05T13:21:32.313Z"
   },
   {
    "duration": 302,
    "start_time": "2022-02-05T13:21:33.028Z"
   },
   {
    "duration": 57,
    "start_time": "2022-02-05T13:21:37.200Z"
   },
   {
    "duration": 8,
    "start_time": "2022-02-05T13:21:37.259Z"
   },
   {
    "duration": 29,
    "start_time": "2022-02-05T13:21:37.269Z"
   },
   {
    "duration": 17,
    "start_time": "2022-02-05T13:21:37.299Z"
   },
   {
    "duration": 5,
    "start_time": "2022-02-05T13:21:37.317Z"
   },
   {
    "duration": 15,
    "start_time": "2022-02-05T13:21:37.323Z"
   },
   {
    "duration": 5,
    "start_time": "2022-02-05T13:21:37.340Z"
   },
   {
    "duration": 12,
    "start_time": "2022-02-05T13:21:37.347Z"
   },
   {
    "duration": 20,
    "start_time": "2022-02-05T13:21:37.361Z"
   },
   {
    "duration": 5,
    "start_time": "2022-02-05T13:21:37.383Z"
   },
   {
    "duration": 5,
    "start_time": "2022-02-05T13:21:37.390Z"
   },
   {
    "duration": 16,
    "start_time": "2022-02-05T13:21:37.397Z"
   },
   {
    "duration": 25,
    "start_time": "2022-02-05T13:21:37.414Z"
   },
   {
    "duration": 8,
    "start_time": "2022-02-05T13:21:37.441Z"
   },
   {
    "duration": 23,
    "start_time": "2022-02-05T13:21:37.451Z"
   },
   {
    "duration": 8,
    "start_time": "2022-02-05T13:21:37.475Z"
   },
   {
    "duration": 18,
    "start_time": "2022-02-05T13:21:37.484Z"
   },
   {
    "duration": 30,
    "start_time": "2022-02-05T13:21:37.503Z"
   },
   {
    "duration": 633,
    "start_time": "2022-02-05T13:21:37.534Z"
   },
   {
    "duration": 15,
    "start_time": "2022-02-05T13:21:38.172Z"
   },
   {
    "duration": 54,
    "start_time": "2022-02-05T13:21:49.712Z"
   },
   {
    "duration": 8,
    "start_time": "2022-02-05T13:21:49.768Z"
   },
   {
    "duration": 6,
    "start_time": "2022-02-05T13:21:49.778Z"
   },
   {
    "duration": 14,
    "start_time": "2022-02-05T13:21:49.787Z"
   },
   {
    "duration": 7,
    "start_time": "2022-02-05T13:21:49.802Z"
   },
   {
    "duration": 14,
    "start_time": "2022-02-05T13:21:49.810Z"
   },
   {
    "duration": 6,
    "start_time": "2022-02-05T13:21:49.826Z"
   },
   {
    "duration": 43,
    "start_time": "2022-02-05T13:21:49.835Z"
   },
   {
    "duration": 16,
    "start_time": "2022-02-05T13:21:49.880Z"
   },
   {
    "duration": 6,
    "start_time": "2022-02-05T13:21:49.898Z"
   },
   {
    "duration": 5,
    "start_time": "2022-02-05T13:21:49.905Z"
   },
   {
    "duration": 14,
    "start_time": "2022-02-05T13:21:49.912Z"
   },
   {
    "duration": 59,
    "start_time": "2022-02-05T13:21:49.928Z"
   },
   {
    "duration": 10,
    "start_time": "2022-02-05T13:21:49.988Z"
   },
   {
    "duration": 6,
    "start_time": "2022-02-05T13:21:49.999Z"
   },
   {
    "duration": 7,
    "start_time": "2022-02-05T13:21:50.007Z"
   },
   {
    "duration": 16,
    "start_time": "2022-02-05T13:21:50.016Z"
   },
   {
    "duration": 69,
    "start_time": "2022-02-05T13:21:50.034Z"
   },
   {
    "duration": 644,
    "start_time": "2022-02-05T13:21:50.105Z"
   },
   {
    "duration": 10,
    "start_time": "2022-02-05T13:21:54.295Z"
   },
   {
    "duration": 6,
    "start_time": "2022-02-05T13:24:58.298Z"
   },
   {
    "duration": 10,
    "start_time": "2022-02-05T13:25:19.886Z"
   },
   {
    "duration": 5,
    "start_time": "2022-02-05T13:25:46.583Z"
   },
   {
    "duration": 9,
    "start_time": "2022-02-05T13:25:51.512Z"
   },
   {
    "duration": 61,
    "start_time": "2022-02-05T13:26:00.232Z"
   },
   {
    "duration": 9,
    "start_time": "2022-02-05T13:26:00.295Z"
   },
   {
    "duration": 12,
    "start_time": "2022-02-05T13:26:00.306Z"
   },
   {
    "duration": 25,
    "start_time": "2022-02-05T13:26:00.320Z"
   },
   {
    "duration": 22,
    "start_time": "2022-02-05T13:26:00.347Z"
   },
   {
    "duration": 17,
    "start_time": "2022-02-05T13:26:00.372Z"
   },
   {
    "duration": 10,
    "start_time": "2022-02-05T13:26:00.390Z"
   },
   {
    "duration": 22,
    "start_time": "2022-02-05T13:26:00.402Z"
   },
   {
    "duration": 21,
    "start_time": "2022-02-05T13:26:00.426Z"
   },
   {
    "duration": 23,
    "start_time": "2022-02-05T13:26:00.449Z"
   },
   {
    "duration": 6,
    "start_time": "2022-02-05T13:26:00.473Z"
   },
   {
    "duration": 19,
    "start_time": "2022-02-05T13:26:00.480Z"
   },
   {
    "duration": 35,
    "start_time": "2022-02-05T13:26:00.501Z"
   },
   {
    "duration": 8,
    "start_time": "2022-02-05T13:26:00.538Z"
   },
   {
    "duration": 19,
    "start_time": "2022-02-05T13:26:00.547Z"
   },
   {
    "duration": 15,
    "start_time": "2022-02-05T13:26:00.567Z"
   },
   {
    "duration": 46,
    "start_time": "2022-02-05T13:26:00.584Z"
   },
   {
    "duration": 58,
    "start_time": "2022-02-05T13:26:00.631Z"
   },
   {
    "duration": 659,
    "start_time": "2022-02-05T13:26:00.691Z"
   },
   {
    "duration": 9,
    "start_time": "2022-02-05T13:26:01.352Z"
   },
   {
    "duration": 20,
    "start_time": "2022-02-05T13:26:01.362Z"
   },
   {
    "duration": 3,
    "start_time": "2022-02-05T13:26:31.563Z"
   },
   {
    "duration": 300,
    "start_time": "2022-02-05T13:26:40.635Z"
   },
   {
    "duration": 9,
    "start_time": "2022-02-05T13:26:48.948Z"
   },
   {
    "duration": 4,
    "start_time": "2022-02-05T13:26:56.613Z"
   },
   {
    "duration": 8,
    "start_time": "2022-02-05T13:27:09.656Z"
   },
   {
    "duration": 4,
    "start_time": "2022-02-05T13:27:30.319Z"
   },
   {
    "duration": 4,
    "start_time": "2022-02-05T13:27:35.013Z"
   },
   {
    "duration": 4,
    "start_time": "2022-02-05T13:27:38.762Z"
   },
   {
    "duration": 5,
    "start_time": "2022-02-05T13:27:47.184Z"
   },
   {
    "duration": 10,
    "start_time": "2022-02-05T13:27:59.546Z"
   },
   {
    "duration": 22,
    "start_time": "2022-02-05T13:29:31.187Z"
   },
   {
    "duration": 135,
    "start_time": "2022-02-05T13:31:52.769Z"
   },
   {
    "duration": 255,
    "start_time": "2022-02-05T13:31:55.090Z"
   },
   {
    "duration": 12,
    "start_time": "2022-02-05T13:32:03.939Z"
   },
   {
    "duration": 22,
    "start_time": "2022-02-05T13:32:12.484Z"
   },
   {
    "duration": 19,
    "start_time": "2022-02-05T13:32:22.481Z"
   },
   {
    "duration": 9,
    "start_time": "2022-02-05T13:51:57.118Z"
   },
   {
    "duration": 20,
    "start_time": "2022-02-05T13:56:29.320Z"
   },
   {
    "duration": 10,
    "start_time": "2022-02-05T13:56:38.963Z"
   },
   {
    "duration": 5,
    "start_time": "2022-02-05T13:57:54.484Z"
   },
   {
    "duration": 269,
    "start_time": "2022-02-05T13:59:31.856Z"
   },
   {
    "duration": 11,
    "start_time": "2022-02-05T13:59:38.765Z"
   },
   {
    "duration": 19,
    "start_time": "2022-02-05T14:00:00.548Z"
   },
   {
    "duration": 7,
    "start_time": "2022-02-05T14:30:11.523Z"
   },
   {
    "duration": 11,
    "start_time": "2022-02-05T14:30:38.264Z"
   },
   {
    "duration": 13,
    "start_time": "2022-02-05T14:32:16.354Z"
   },
   {
    "duration": 30,
    "start_time": "2022-02-05T14:32:20.180Z"
   },
   {
    "duration": 15,
    "start_time": "2022-02-05T14:32:24.826Z"
   },
   {
    "duration": 10,
    "start_time": "2022-02-05T14:34:36.412Z"
   },
   {
    "duration": 4,
    "start_time": "2022-02-05T14:34:52.478Z"
   },
   {
    "duration": 5,
    "start_time": "2022-02-05T14:35:02.015Z"
   },
   {
    "duration": 4,
    "start_time": "2022-02-05T14:35:04.481Z"
   },
   {
    "duration": 4,
    "start_time": "2022-02-05T14:35:12.313Z"
   },
   {
    "duration": 11,
    "start_time": "2022-02-05T14:35:20.440Z"
   },
   {
    "duration": 974,
    "start_time": "2022-02-05T14:35:38.544Z"
   },
   {
    "duration": 609,
    "start_time": "2022-02-05T14:35:50.724Z"
   },
   {
    "duration": 374,
    "start_time": "2022-02-05T14:35:57.559Z"
   },
   {
    "duration": 1426,
    "start_time": "2022-02-05T14:36:09.293Z"
   },
   {
    "duration": 7,
    "start_time": "2022-02-05T14:36:40.331Z"
   },
   {
    "duration": 5,
    "start_time": "2022-02-05T14:36:49.230Z"
   },
   {
    "duration": 271,
    "start_time": "2022-02-05T14:37:20.017Z"
   },
   {
    "duration": 4,
    "start_time": "2022-02-05T14:37:25.400Z"
   },
   {
    "duration": 421,
    "start_time": "2022-02-05T14:37:30.880Z"
   },
   {
    "duration": 256,
    "start_time": "2022-02-05T14:37:45.249Z"
   },
   {
    "duration": 55,
    "start_time": "2022-02-05T14:37:57.170Z"
   },
   {
    "duration": 9,
    "start_time": "2022-02-05T14:37:57.227Z"
   },
   {
    "duration": 9,
    "start_time": "2022-02-05T14:37:57.239Z"
   },
   {
    "duration": 30,
    "start_time": "2022-02-05T14:37:57.249Z"
   },
   {
    "duration": 6,
    "start_time": "2022-02-05T14:37:57.280Z"
   },
   {
    "duration": 12,
    "start_time": "2022-02-05T14:37:57.287Z"
   },
   {
    "duration": 5,
    "start_time": "2022-02-05T14:37:57.300Z"
   },
   {
    "duration": 13,
    "start_time": "2022-02-05T14:37:57.307Z"
   },
   {
    "duration": 14,
    "start_time": "2022-02-05T14:37:57.322Z"
   },
   {
    "duration": 5,
    "start_time": "2022-02-05T14:37:57.338Z"
   },
   {
    "duration": 5,
    "start_time": "2022-02-05T14:37:57.372Z"
   },
   {
    "duration": 13,
    "start_time": "2022-02-05T14:37:57.378Z"
   },
   {
    "duration": 23,
    "start_time": "2022-02-05T14:37:57.393Z"
   },
   {
    "duration": 8,
    "start_time": "2022-02-05T14:37:57.417Z"
   },
   {
    "duration": 4,
    "start_time": "2022-02-05T14:37:57.426Z"
   },
   {
    "duration": 14,
    "start_time": "2022-02-05T14:37:57.431Z"
   },
   {
    "duration": 38,
    "start_time": "2022-02-05T14:37:57.446Z"
   },
   {
    "duration": 28,
    "start_time": "2022-02-05T14:37:57.485Z"
   },
   {
    "duration": 643,
    "start_time": "2022-02-05T14:37:57.514Z"
   },
   {
    "duration": 13,
    "start_time": "2022-02-05T14:37:58.159Z"
   },
   {
    "duration": 12,
    "start_time": "2022-02-05T14:37:58.174Z"
   },
   {
    "duration": 12,
    "start_time": "2022-02-05T14:37:58.187Z"
   },
   {
    "duration": 4,
    "start_time": "2022-02-05T14:38:00.783Z"
   },
   {
    "duration": 55,
    "start_time": "2022-02-05T14:38:06.593Z"
   },
   {
    "duration": 9,
    "start_time": "2022-02-05T14:38:06.650Z"
   },
   {
    "duration": 7,
    "start_time": "2022-02-05T14:38:06.661Z"
   },
   {
    "duration": 13,
    "start_time": "2022-02-05T14:38:06.670Z"
   },
   {
    "duration": 6,
    "start_time": "2022-02-05T14:38:06.685Z"
   },
   {
    "duration": 14,
    "start_time": "2022-02-05T14:38:06.692Z"
   },
   {
    "duration": 6,
    "start_time": "2022-02-05T14:38:06.707Z"
   },
   {
    "duration": 10,
    "start_time": "2022-02-05T14:38:06.716Z"
   },
   {
    "duration": 51,
    "start_time": "2022-02-05T14:38:06.728Z"
   },
   {
    "duration": 7,
    "start_time": "2022-02-05T14:38:06.781Z"
   },
   {
    "duration": 6,
    "start_time": "2022-02-05T14:38:06.789Z"
   },
   {
    "duration": 13,
    "start_time": "2022-02-05T14:38:06.796Z"
   },
   {
    "duration": 24,
    "start_time": "2022-02-05T14:38:06.811Z"
   },
   {
    "duration": 37,
    "start_time": "2022-02-05T14:38:06.837Z"
   },
   {
    "duration": 5,
    "start_time": "2022-02-05T14:38:06.876Z"
   },
   {
    "duration": 7,
    "start_time": "2022-02-05T14:38:06.882Z"
   },
   {
    "duration": 19,
    "start_time": "2022-02-05T14:38:06.890Z"
   },
   {
    "duration": 32,
    "start_time": "2022-02-05T14:38:06.910Z"
   },
   {
    "duration": 661,
    "start_time": "2022-02-05T14:38:06.943Z"
   },
   {
    "duration": 10,
    "start_time": "2022-02-05T14:38:07.606Z"
   },
   {
    "duration": 10,
    "start_time": "2022-02-05T14:38:07.618Z"
   },
   {
    "duration": 11,
    "start_time": "2022-02-05T14:38:07.630Z"
   },
   {
    "duration": 9,
    "start_time": "2022-02-05T14:38:10.058Z"
   },
   {
    "duration": 7,
    "start_time": "2022-02-05T14:38:18.017Z"
   },
   {
    "duration": 9,
    "start_time": "2022-02-05T14:38:39.922Z"
   },
   {
    "duration": 273,
    "start_time": "2022-02-05T14:42:16.759Z"
   },
   {
    "duration": 13,
    "start_time": "2022-02-05T14:42:46.666Z"
   },
   {
    "duration": 22,
    "start_time": "2022-02-05T14:42:50.615Z"
   },
   {
    "duration": 23,
    "start_time": "2022-02-05T14:42:59.296Z"
   },
   {
    "duration": 13,
    "start_time": "2022-02-05T14:43:13.177Z"
   },
   {
    "duration": 15,
    "start_time": "2022-02-05T14:47:16.025Z"
   },
   {
    "duration": 53,
    "start_time": "2022-02-05T14:47:37.978Z"
   },
   {
    "duration": 8,
    "start_time": "2022-02-05T14:47:38.032Z"
   },
   {
    "duration": 5,
    "start_time": "2022-02-05T14:47:38.042Z"
   },
   {
    "duration": 23,
    "start_time": "2022-02-05T14:47:38.049Z"
   },
   {
    "duration": 5,
    "start_time": "2022-02-05T14:47:38.073Z"
   },
   {
    "duration": 12,
    "start_time": "2022-02-05T14:47:38.080Z"
   },
   {
    "duration": 5,
    "start_time": "2022-02-05T14:47:38.093Z"
   },
   {
    "duration": 9,
    "start_time": "2022-02-05T14:47:38.100Z"
   },
   {
    "duration": 15,
    "start_time": "2022-02-05T14:47:38.110Z"
   },
   {
    "duration": 5,
    "start_time": "2022-02-05T14:47:38.127Z"
   },
   {
    "duration": 4,
    "start_time": "2022-02-05T14:47:38.172Z"
   },
   {
    "duration": 13,
    "start_time": "2022-02-05T14:47:38.178Z"
   },
   {
    "duration": 27,
    "start_time": "2022-02-05T14:47:38.192Z"
   },
   {
    "duration": 9,
    "start_time": "2022-02-05T14:47:38.220Z"
   },
   {
    "duration": 8,
    "start_time": "2022-02-05T14:47:38.230Z"
   },
   {
    "duration": 7,
    "start_time": "2022-02-05T14:47:38.272Z"
   },
   {
    "duration": 33,
    "start_time": "2022-02-05T14:47:38.280Z"
   },
   {
    "duration": 37,
    "start_time": "2022-02-05T14:47:38.314Z"
   },
   {
    "duration": 632,
    "start_time": "2022-02-05T14:47:38.352Z"
   },
   {
    "duration": 11,
    "start_time": "2022-02-05T14:47:38.987Z"
   },
   {
    "duration": 13,
    "start_time": "2022-02-05T14:47:39.000Z"
   },
   {
    "duration": 14,
    "start_time": "2022-02-05T14:47:39.014Z"
   },
   {
    "duration": 15,
    "start_time": "2022-02-05T14:47:39.031Z"
   },
   {
    "duration": 8,
    "start_time": "2022-02-05T14:47:42.003Z"
   },
   {
    "duration": 8,
    "start_time": "2022-02-05T14:47:45.040Z"
   },
   {
    "duration": 8,
    "start_time": "2022-02-05T14:47:48.289Z"
   },
   {
    "duration": 13,
    "start_time": "2022-02-05T14:48:04.748Z"
   },
   {
    "duration": 15,
    "start_time": "2022-02-05T14:49:30.133Z"
   },
   {
    "duration": 14,
    "start_time": "2022-02-05T14:50:38.685Z"
   },
   {
    "duration": 15,
    "start_time": "2022-02-05T14:50:43.909Z"
   },
   {
    "duration": 14,
    "start_time": "2022-02-05T14:50:54.419Z"
   },
   {
    "duration": 15,
    "start_time": "2022-02-05T14:51:04.818Z"
   },
   {
    "duration": 12,
    "start_time": "2022-02-05T14:51:11.602Z"
   },
   {
    "duration": 7,
    "start_time": "2022-02-05T14:52:36.163Z"
   },
   {
    "duration": 13,
    "start_time": "2022-02-05T14:53:48.876Z"
   },
   {
    "duration": 11,
    "start_time": "2022-02-05T14:54:44.958Z"
   },
   {
    "duration": 10,
    "start_time": "2022-02-05T14:54:55.850Z"
   },
   {
    "duration": 10,
    "start_time": "2022-02-05T14:55:38.808Z"
   },
   {
    "duration": 13,
    "start_time": "2022-02-05T14:56:00.723Z"
   },
   {
    "duration": 11,
    "start_time": "2022-02-05T14:56:06.310Z"
   },
   {
    "duration": 12,
    "start_time": "2022-02-05T14:56:17.804Z"
   },
   {
    "duration": 9,
    "start_time": "2022-02-05T14:56:55.240Z"
   },
   {
    "duration": 12,
    "start_time": "2022-02-05T14:56:59.384Z"
   },
   {
    "duration": 11,
    "start_time": "2022-02-05T14:57:07.818Z"
   },
   {
    "duration": 12,
    "start_time": "2022-02-05T14:57:12.309Z"
   },
   {
    "duration": 10,
    "start_time": "2022-02-05T14:57:52.249Z"
   },
   {
    "duration": 12,
    "start_time": "2022-02-05T14:57:57.316Z"
   },
   {
    "duration": 12,
    "start_time": "2022-02-05T14:58:04.891Z"
   },
   {
    "duration": 12,
    "start_time": "2022-02-05T14:58:10.080Z"
   },
   {
    "duration": 10,
    "start_time": "2022-02-05T14:59:12.518Z"
   },
   {
    "duration": 12,
    "start_time": "2022-02-05T14:59:27.265Z"
   },
   {
    "duration": 12,
    "start_time": "2022-02-05T14:59:36.170Z"
   },
   {
    "duration": 8,
    "start_time": "2022-02-05T15:00:33.152Z"
   },
   {
    "duration": 120,
    "start_time": "2022-02-05T15:10:17.912Z"
   },
   {
    "duration": 21,
    "start_time": "2022-02-05T15:14:02.599Z"
   },
   {
    "duration": 2632,
    "start_time": "2022-02-05T15:17:54.227Z"
   },
   {
    "duration": 16,
    "start_time": "2022-02-05T15:18:51.242Z"
   },
   {
    "duration": 21,
    "start_time": "2022-02-05T15:19:08.030Z"
   },
   {
    "duration": 8,
    "start_time": "2022-02-05T15:19:15.189Z"
   },
   {
    "duration": 8,
    "start_time": "2022-02-05T15:19:44.681Z"
   },
   {
    "duration": 8,
    "start_time": "2022-02-05T15:22:06.512Z"
   },
   {
    "duration": 16,
    "start_time": "2022-02-05T15:37:59.049Z"
   },
   {
    "duration": 11,
    "start_time": "2022-02-05T15:38:04.502Z"
   },
   {
    "duration": 58,
    "start_time": "2022-02-05T15:41:00.838Z"
   },
   {
    "duration": 8,
    "start_time": "2022-02-05T15:41:00.898Z"
   },
   {
    "duration": 9,
    "start_time": "2022-02-05T15:41:00.908Z"
   },
   {
    "duration": 16,
    "start_time": "2022-02-05T15:41:00.919Z"
   },
   {
    "duration": 36,
    "start_time": "2022-02-05T15:41:00.936Z"
   },
   {
    "duration": 13,
    "start_time": "2022-02-05T15:41:00.974Z"
   },
   {
    "duration": 7,
    "start_time": "2022-02-05T15:41:00.989Z"
   },
   {
    "duration": 17,
    "start_time": "2022-02-05T15:41:00.998Z"
   },
   {
    "duration": 17,
    "start_time": "2022-02-05T15:41:01.018Z"
   },
   {
    "duration": 7,
    "start_time": "2022-02-05T15:41:01.036Z"
   },
   {
    "duration": 10,
    "start_time": "2022-02-05T15:41:01.072Z"
   },
   {
    "duration": 15,
    "start_time": "2022-02-05T15:41:01.083Z"
   },
   {
    "duration": 25,
    "start_time": "2022-02-05T15:41:01.099Z"
   },
   {
    "duration": 7,
    "start_time": "2022-02-05T15:41:01.126Z"
   },
   {
    "duration": 8,
    "start_time": "2022-02-05T15:41:01.135Z"
   },
   {
    "duration": 29,
    "start_time": "2022-02-05T15:41:01.144Z"
   },
   {
    "duration": 23,
    "start_time": "2022-02-05T15:41:01.175Z"
   },
   {
    "duration": 31,
    "start_time": "2022-02-05T15:41:01.200Z"
   },
   {
    "duration": 654,
    "start_time": "2022-02-05T15:41:01.232Z"
   },
   {
    "duration": 9,
    "start_time": "2022-02-05T15:41:01.888Z"
   },
   {
    "duration": 17,
    "start_time": "2022-02-05T15:41:01.899Z"
   },
   {
    "duration": 11,
    "start_time": "2022-02-05T15:41:01.918Z"
   },
   {
    "duration": 13,
    "start_time": "2022-02-05T15:41:01.932Z"
   },
   {
    "duration": 29,
    "start_time": "2022-02-05T15:41:01.947Z"
   },
   {
    "duration": 12,
    "start_time": "2022-02-05T15:41:01.978Z"
   },
   {
    "duration": 9,
    "start_time": "2022-02-05T15:41:01.992Z"
   },
   {
    "duration": 2558,
    "start_time": "2022-02-05T15:41:02.002Z"
   },
   {
    "duration": 22,
    "start_time": "2022-02-05T15:41:04.562Z"
   },
   {
    "duration": 12,
    "start_time": "2022-02-05T15:41:04.585Z"
   },
   {
    "duration": 7,
    "start_time": "2022-02-05T15:41:04.599Z"
   },
   {
    "duration": 7,
    "start_time": "2022-02-05T15:41:04.607Z"
   },
   {
    "duration": 213,
    "start_time": "2022-02-06T06:38:47.471Z"
   }
  ],
  "kernelspec": {
   "display_name": "Python 3 (ipykernel)",
   "language": "python",
   "name": "python3"
  },
  "language_info": {
   "codemirror_mode": {
    "name": "ipython",
    "version": 3
   },
   "file_extension": ".py",
   "mimetype": "text/x-python",
   "name": "python",
   "nbconvert_exporter": "python",
   "pygments_lexer": "ipython3",
   "version": "3.9.7"
  },
  "toc": {
   "base_numbering": 1,
   "nav_menu": {},
   "number_sections": true,
   "sideBar": true,
   "skip_h1_title": true,
   "title_cell": "Table of Contents",
   "title_sidebar": "Contents",
   "toc_cell": false,
   "toc_position": {},
   "toc_section_display": true,
   "toc_window_display": false
  }
 },
 "nbformat": 4,
 "nbformat_minor": 2
}
