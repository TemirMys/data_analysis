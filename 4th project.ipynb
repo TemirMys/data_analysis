{
 "cells": [
  {
   "cell_type": "markdown",
   "metadata": {},
   "source": [
    "<b> Описание проекта: </b>\n",
    "<br>В компании «Мегалайн» — федерального оператора сотовой связи клиентам предлагают два тарифных плана: «Смарт» и «Ультра». Чтобы скорректировать рекламный бюджет, коммерческий департамент хочет понять, какой тариф приносит больше денег.\n",
    "Необходимо сделать предварительный анализ тарифов на небольшой выборке клиентов. В вашем распоряжении данные 500 пользователей «Мегалайна»: кто они, откуда, каким тарифом пользуются, сколько звонков и сообщений каждый отправил за 2018 год.\n",
    "Проанализируем поведение клиентов, сделаем вывод — какой тариф лучше оставить для дальнейшего развития компании."
   ]
  },
  {
   "cell_type": "markdown",
   "metadata": {},
   "source": [
    "### Шаг "
   ]
  },
  {
   "cell_type": "code",
   "execution_count": 1,
   "metadata": {},
   "outputs": [],
   "source": [
    "import pandas as pd\n",
    "import numpy as np\n",
    "import matplotlib.pyplot as plt\n",
    "import seaborn as sns\n",
    "import math \n",
    "from datetime import datetime\n",
    "from scipy import stats as st"
   ]
  },
  {
   "cell_type": "markdown",
   "metadata": {},
   "source": [
    "Для начала импортировал все библиотеки, которые мне понадобятся"
   ]
  },
  {
   "cell_type": "code",
   "execution_count": 2,
   "metadata": {},
   "outputs": [],
   "source": [
    "users = pd.read_csv('/datasets/users.csv')\n",
    "calls = pd.read_csv('/datasets/calls.csv')\n",
    "messages = pd.read_csv('/datasets/messages.csv')\n",
    "internet = pd.read_csv('/datasets/internet.csv', index_col=0) # последовал совету\n",
    "tariffs = pd.read_csv('/datasets/tariffs.csv')"
   ]
  },
  {
   "cell_type": "markdown",
   "metadata": {},
   "source": [
    "Подгрузил датасеты "
   ]
  },
  {
   "cell_type": "code",
   "execution_count": 3,
   "metadata": {},
   "outputs": [
    {
     "name": "stdout",
     "output_type": "stream",
     "text": [
      "<class 'pandas.core.frame.DataFrame'>\n",
      "RangeIndex: 500 entries, 0 to 499\n",
      "Data columns (total 8 columns):\n",
      "user_id       500 non-null int64\n",
      "age           500 non-null int64\n",
      "churn_date    38 non-null object\n",
      "city          500 non-null object\n",
      "first_name    500 non-null object\n",
      "last_name     500 non-null object\n",
      "reg_date      500 non-null object\n",
      "tariff        500 non-null object\n",
      "dtypes: int64(2), object(6)\n",
      "memory usage: 31.4+ KB\n"
     ]
    }
   ],
   "source": [
    "users.info()"
   ]
  },
  {
   "cell_type": "markdown",
   "metadata": {},
   "source": [
    "38 пропущенных значений в churn_date, но как мы знаем из описания проекта: churn_date — дата прекращения пользования тарифом (если значение пропущено, то тариф ещё действовал на момент выгрузки данных)"
   ]
  },
  {
   "cell_type": "code",
   "execution_count": 4,
   "metadata": {
    "scrolled": true
   },
   "outputs": [
    {
     "name": "stdout",
     "output_type": "stream",
     "text": [
      "<class 'pandas.core.frame.DataFrame'>\n",
      "RangeIndex: 202607 entries, 0 to 202606\n",
      "Data columns (total 4 columns):\n",
      "id           202607 non-null object\n",
      "call_date    202607 non-null object\n",
      "duration     202607 non-null float64\n",
      "user_id      202607 non-null int64\n",
      "dtypes: float64(1), int64(1), object(2)\n",
      "memory usage: 6.2+ MB\n"
     ]
    }
   ],
   "source": [
    "calls.info()"
   ]
  },
  {
   "cell_type": "markdown",
   "metadata": {},
   "source": [
    "По звонкам у нас все в порядке, пропущенных значений нет"
   ]
  },
  {
   "cell_type": "code",
   "execution_count": 5,
   "metadata": {},
   "outputs": [
    {
     "name": "stdout",
     "output_type": "stream",
     "text": [
      "<class 'pandas.core.frame.DataFrame'>\n",
      "RangeIndex: 123036 entries, 0 to 123035\n",
      "Data columns (total 3 columns):\n",
      "id              123036 non-null object\n",
      "message_date    123036 non-null object\n",
      "user_id         123036 non-null int64\n",
      "dtypes: int64(1), object(2)\n",
      "memory usage: 2.8+ MB\n"
     ]
    }
   ],
   "source": [
    "messages.info()"
   ]
  },
  {
   "cell_type": "markdown",
   "metadata": {},
   "source": [
    "Данные об СМСках тоже не имеют пропусков"
   ]
  },
  {
   "cell_type": "code",
   "execution_count": 6,
   "metadata": {},
   "outputs": [
    {
     "name": "stdout",
     "output_type": "stream",
     "text": [
      "<class 'pandas.core.frame.DataFrame'>\n",
      "Int64Index: 149396 entries, 0 to 149395\n",
      "Data columns (total 4 columns):\n",
      "id              149396 non-null object\n",
      "mb_used         149396 non-null float64\n",
      "session_date    149396 non-null object\n",
      "user_id         149396 non-null int64\n",
      "dtypes: float64(1), int64(1), object(2)\n",
      "memory usage: 5.7+ MB\n"
     ]
    }
   ],
   "source": [
    "internet.info()"
   ]
  },
  {
   "cell_type": "markdown",
   "metadata": {},
   "source": [
    "Интернет-трафик в порядке"
   ]
  },
  {
   "cell_type": "code",
   "execution_count": 7,
   "metadata": {},
   "outputs": [
    {
     "name": "stdout",
     "output_type": "stream",
     "text": [
      "<class 'pandas.core.frame.DataFrame'>\n",
      "RangeIndex: 2 entries, 0 to 1\n",
      "Data columns (total 8 columns):\n",
      "messages_included        2 non-null int64\n",
      "mb_per_month_included    2 non-null int64\n",
      "minutes_included         2 non-null int64\n",
      "rub_monthly_fee          2 non-null int64\n",
      "rub_per_gb               2 non-null int64\n",
      "rub_per_message          2 non-null int64\n",
      "rub_per_minute           2 non-null int64\n",
      "tariff_name              2 non-null object\n",
      "dtypes: int64(7), object(1)\n",
      "memory usage: 256.0+ bytes\n"
     ]
    }
   ],
   "source": [
    "tariffs.info()"
   ]
  },
  {
   "cell_type": "markdown",
   "metadata": {},
   "source": [
    "Это один из важнейших датаседов для анализа и с ним, благо, все в порякдке."
   ]
  },
  {
   "cell_type": "markdown",
   "metadata": {},
   "source": [
    "### Предобработка "
   ]
  },
  {
   "cell_type": "code",
   "execution_count": 8,
   "metadata": {},
   "outputs": [],
   "source": [
    "users['churn_date'] = pd.to_datetime(users['churn_date'],format='%Y-%m-%d')\n",
    "users['reg_date'] = pd.to_datetime(users['reg_date'],format='%Y-%m-%d')\n",
    "calls['call_date'] = pd.to_datetime(calls['call_date'],format='%Y-%m-%d')\n",
    "messages['message_date'] = pd.to_datetime(messages['message_date'],format='%Y-%m-%d')\n",
    "internet['session_date'] = pd.to_datetime(internet['session_date'],format='%Y-%m-%d')\n"
   ]
  },
  {
   "cell_type": "markdown",
   "metadata": {},
   "source": [
    "Столбцы с датами в разных датасетах приведены из строкового в формат даты. Помимо этого был проверен каждый датасет на наличие дубликатов. Дубликатов нет"
   ]
  },
  {
   "cell_type": "code",
   "execution_count": 9,
   "metadata": {},
   "outputs": [],
   "source": [
    "calls['duration'] = np.ceil(calls['duration'])"
   ]
  },
  {
   "cell_type": "code",
   "execution_count": 10,
   "metadata": {},
   "outputs": [
    {
     "data": {
      "text/html": [
       "<div>\n",
       "<style scoped>\n",
       "    .dataframe tbody tr th:only-of-type {\n",
       "        vertical-align: middle;\n",
       "    }\n",
       "\n",
       "    .dataframe tbody tr th {\n",
       "        vertical-align: top;\n",
       "    }\n",
       "\n",
       "    .dataframe thead th {\n",
       "        text-align: right;\n",
       "    }\n",
       "</style>\n",
       "<table border=\"1\" class=\"dataframe\">\n",
       "  <thead>\n",
       "    <tr style=\"text-align: right;\">\n",
       "      <th></th>\n",
       "      <th>id</th>\n",
       "      <th>mb_used</th>\n",
       "      <th>session_date</th>\n",
       "      <th>user_id</th>\n",
       "    </tr>\n",
       "  </thead>\n",
       "  <tbody>\n",
       "    <tr>\n",
       "      <td>0</td>\n",
       "      <td>1000_0</td>\n",
       "      <td>112.95</td>\n",
       "      <td>2018-11-25</td>\n",
       "      <td>1000</td>\n",
       "    </tr>\n",
       "    <tr>\n",
       "      <td>1</td>\n",
       "      <td>1000_1</td>\n",
       "      <td>1052.81</td>\n",
       "      <td>2018-09-07</td>\n",
       "      <td>1000</td>\n",
       "    </tr>\n",
       "    <tr>\n",
       "      <td>2</td>\n",
       "      <td>1000_2</td>\n",
       "      <td>1197.26</td>\n",
       "      <td>2018-06-25</td>\n",
       "      <td>1000</td>\n",
       "    </tr>\n",
       "    <tr>\n",
       "      <td>3</td>\n",
       "      <td>1000_3</td>\n",
       "      <td>550.27</td>\n",
       "      <td>2018-08-22</td>\n",
       "      <td>1000</td>\n",
       "    </tr>\n",
       "    <tr>\n",
       "      <td>4</td>\n",
       "      <td>1000_4</td>\n",
       "      <td>302.56</td>\n",
       "      <td>2018-09-24</td>\n",
       "      <td>1000</td>\n",
       "    </tr>\n",
       "    <tr>\n",
       "      <td>5</td>\n",
       "      <td>1000_5</td>\n",
       "      <td>399.97</td>\n",
       "      <td>2018-10-02</td>\n",
       "      <td>1000</td>\n",
       "    </tr>\n",
       "    <tr>\n",
       "      <td>6</td>\n",
       "      <td>1000_6</td>\n",
       "      <td>540.08</td>\n",
       "      <td>2018-09-07</td>\n",
       "      <td>1000</td>\n",
       "    </tr>\n",
       "    <tr>\n",
       "      <td>7</td>\n",
       "      <td>1000_7</td>\n",
       "      <td>415.70</td>\n",
       "      <td>2018-07-11</td>\n",
       "      <td>1000</td>\n",
       "    </tr>\n",
       "    <tr>\n",
       "      <td>8</td>\n",
       "      <td>1000_8</td>\n",
       "      <td>505.40</td>\n",
       "      <td>2018-10-08</td>\n",
       "      <td>1000</td>\n",
       "    </tr>\n",
       "    <tr>\n",
       "      <td>9</td>\n",
       "      <td>1000_9</td>\n",
       "      <td>345.54</td>\n",
       "      <td>2018-09-03</td>\n",
       "      <td>1000</td>\n",
       "    </tr>\n",
       "  </tbody>\n",
       "</table>\n",
       "</div>"
      ],
      "text/plain": [
       "       id  mb_used session_date  user_id\n",
       "0  1000_0   112.95   2018-11-25     1000\n",
       "1  1000_1  1052.81   2018-09-07     1000\n",
       "2  1000_2  1197.26   2018-06-25     1000\n",
       "3  1000_3   550.27   2018-08-22     1000\n",
       "4  1000_4   302.56   2018-09-24     1000\n",
       "5  1000_5   399.97   2018-10-02     1000\n",
       "6  1000_6   540.08   2018-09-07     1000\n",
       "7  1000_7   415.70   2018-07-11     1000\n",
       "8  1000_8   505.40   2018-10-08     1000\n",
       "9  1000_9   345.54   2018-09-03     1000"
      ]
     },
     "execution_count": 10,
     "metadata": {},
     "output_type": "execute_result"
    }
   ],
   "source": [
    "internet.head(10)"
   ]
  },
  {
   "cell_type": "markdown",
   "metadata": {},
   "source": [
    "#### Подсчеты:"
   ]
  },
  {
   "cell_type": "code",
   "execution_count": 11,
   "metadata": {},
   "outputs": [],
   "source": [
    "calls['month'] = calls['call_date'].astype('datetime64[M]')\n",
    "messages['month'] = messages['message_date'].astype('datetime64[M]')\n",
    "internet['month'] = internet['session_date'].astype('datetime64[M]')\n"
   ]
  },
  {
   "cell_type": "code",
   "execution_count": 12,
   "metadata": {},
   "outputs": [],
   "source": [
    "calls = calls.sort_values(by = 'month')\n",
    "messages = messages.sort_values(by = 'month')\n",
    "internet = internet.sort_values('month')\n"
   ]
  },
  {
   "cell_type": "markdown",
   "metadata": {},
   "source": [
    "Для удобства выполнения подсчетов даты переведены в месяцы и отсортированы по возрастанию"
   ]
  },
  {
   "cell_type": "code",
   "execution_count": 13,
   "metadata": {},
   "outputs": [],
   "source": [
    "calls_grouped = calls.groupby(['user_id', 'month'])['duration'].agg(['count', 'sum']).reset_index()\n",
    "calls_grouped.columns = ['user_id', 'month', 'calls_count', 'calls_duration']\n",
    "messages_grouped = messages.groupby(['user_id','month'])[['id']].agg(['count']).reset_index()\n",
    "messages_grouped.columns = ['user_id', 'month', 'messages']\n",
    "internet_grouped = internet.groupby(['user_id','month'])[['mb_used']].agg(['sum']).reset_index()\n",
    "internet_grouped.columns = ['user_id', 'month', 'mb_used']"
   ]
  },
  {
   "cell_type": "code",
   "execution_count": 14,
   "metadata": {},
   "outputs": [
    {
     "data": {
      "text/plain": [
       "0     3.0\n",
       "1    23.0\n",
       "2    14.0\n",
       "3    14.0\n",
       "4    15.0\n",
       "5    15.0\n",
       "6    15.0\n",
       "7    10.0\n",
       "8    18.0\n",
       "9    14.0\n",
       "Name: mb_used, dtype: float64"
      ]
     },
     "execution_count": 14,
     "metadata": {},
     "output_type": "execute_result"
    }
   ],
   "source": [
    "internet_grouped['mb_used'] = np.ceil(internet_grouped['mb_used']/1024)\n",
    "internet_grouped['mb_used'].head(10)"
   ]
  },
  {
   "cell_type": "markdown",
   "metadata": {},
   "source": [
    "Каждый датасет сгруппирован по идентификационному номеру пользователя и месяцу, и к ним применена соответствующиая функция count и sum"
   ]
  },
  {
   "cell_type": "code",
   "execution_count": 15,
   "metadata": {},
   "outputs": [
    {
     "data": {
      "text/html": [
       "<div>\n",
       "<style scoped>\n",
       "    .dataframe tbody tr th:only-of-type {\n",
       "        vertical-align: middle;\n",
       "    }\n",
       "\n",
       "    .dataframe tbody tr th {\n",
       "        vertical-align: top;\n",
       "    }\n",
       "\n",
       "    .dataframe thead th {\n",
       "        text-align: right;\n",
       "    }\n",
       "</style>\n",
       "<table border=\"1\" class=\"dataframe\">\n",
       "  <thead>\n",
       "    <tr style=\"text-align: right;\">\n",
       "      <th></th>\n",
       "      <th>user_id</th>\n",
       "      <th>month</th>\n",
       "      <th>calls_count</th>\n",
       "      <th>calls_duration</th>\n",
       "      <th>messages</th>\n",
       "      <th>mb_used</th>\n",
       "    </tr>\n",
       "  </thead>\n",
       "  <tbody>\n",
       "    <tr>\n",
       "      <td>0</td>\n",
       "      <td>1000</td>\n",
       "      <td>2018-05-01</td>\n",
       "      <td>22.0</td>\n",
       "      <td>159.0</td>\n",
       "      <td>22.0</td>\n",
       "      <td>3.0</td>\n",
       "    </tr>\n",
       "    <tr>\n",
       "      <td>1</td>\n",
       "      <td>1000</td>\n",
       "      <td>2018-06-01</td>\n",
       "      <td>43.0</td>\n",
       "      <td>172.0</td>\n",
       "      <td>60.0</td>\n",
       "      <td>23.0</td>\n",
       "    </tr>\n",
       "    <tr>\n",
       "      <td>2</td>\n",
       "      <td>1000</td>\n",
       "      <td>2018-07-01</td>\n",
       "      <td>47.0</td>\n",
       "      <td>340.0</td>\n",
       "      <td>75.0</td>\n",
       "      <td>14.0</td>\n",
       "    </tr>\n",
       "    <tr>\n",
       "      <td>3</td>\n",
       "      <td>1000</td>\n",
       "      <td>2018-08-01</td>\n",
       "      <td>52.0</td>\n",
       "      <td>408.0</td>\n",
       "      <td>81.0</td>\n",
       "      <td>14.0</td>\n",
       "    </tr>\n",
       "    <tr>\n",
       "      <td>4</td>\n",
       "      <td>1000</td>\n",
       "      <td>2018-09-01</td>\n",
       "      <td>58.0</td>\n",
       "      <td>466.0</td>\n",
       "      <td>57.0</td>\n",
       "      <td>15.0</td>\n",
       "    </tr>\n",
       "    <tr>\n",
       "      <td>...</td>\n",
       "      <td>...</td>\n",
       "      <td>...</td>\n",
       "      <td>...</td>\n",
       "      <td>...</td>\n",
       "      <td>...</td>\n",
       "      <td>...</td>\n",
       "    </tr>\n",
       "    <tr>\n",
       "      <td>3209</td>\n",
       "      <td>1489</td>\n",
       "      <td>2018-09-01</td>\n",
       "      <td>NaN</td>\n",
       "      <td>NaN</td>\n",
       "      <td>32.0</td>\n",
       "      <td>17.0</td>\n",
       "    </tr>\n",
       "    <tr>\n",
       "      <td>3210</td>\n",
       "      <td>1489</td>\n",
       "      <td>2018-10-01</td>\n",
       "      <td>NaN</td>\n",
       "      <td>NaN</td>\n",
       "      <td>21.0</td>\n",
       "      <td>20.0</td>\n",
       "    </tr>\n",
       "    <tr>\n",
       "      <td>3211</td>\n",
       "      <td>1489</td>\n",
       "      <td>2018-11-01</td>\n",
       "      <td>NaN</td>\n",
       "      <td>NaN</td>\n",
       "      <td>20.0</td>\n",
       "      <td>18.0</td>\n",
       "    </tr>\n",
       "    <tr>\n",
       "      <td>3212</td>\n",
       "      <td>1489</td>\n",
       "      <td>2018-12-01</td>\n",
       "      <td>NaN</td>\n",
       "      <td>NaN</td>\n",
       "      <td>35.0</td>\n",
       "      <td>17.0</td>\n",
       "    </tr>\n",
       "    <tr>\n",
       "      <td>3213</td>\n",
       "      <td>1476</td>\n",
       "      <td>2018-04-01</td>\n",
       "      <td>NaN</td>\n",
       "      <td>NaN</td>\n",
       "      <td>NaN</td>\n",
       "      <td>1.0</td>\n",
       "    </tr>\n",
       "  </tbody>\n",
       "</table>\n",
       "<p>3214 rows × 6 columns</p>\n",
       "</div>"
      ],
      "text/plain": [
       "      user_id      month  calls_count  calls_duration  messages  mb_used\n",
       "0        1000 2018-05-01         22.0           159.0      22.0      3.0\n",
       "1        1000 2018-06-01         43.0           172.0      60.0     23.0\n",
       "2        1000 2018-07-01         47.0           340.0      75.0     14.0\n",
       "3        1000 2018-08-01         52.0           408.0      81.0     14.0\n",
       "4        1000 2018-09-01         58.0           466.0      57.0     15.0\n",
       "...       ...        ...          ...             ...       ...      ...\n",
       "3209     1489 2018-09-01          NaN             NaN      32.0     17.0\n",
       "3210     1489 2018-10-01          NaN             NaN      21.0     20.0\n",
       "3211     1489 2018-11-01          NaN             NaN      20.0     18.0\n",
       "3212     1489 2018-12-01          NaN             NaN      35.0     17.0\n",
       "3213     1476 2018-04-01          NaN             NaN       NaN      1.0\n",
       "\n",
       "[3214 rows x 6 columns]"
      ]
     },
     "execution_count": 15,
     "metadata": {},
     "output_type": "execute_result"
    }
   ],
   "source": [
    "merged_tab = pd.merge(calls_grouped, messages_grouped, how='outer', on=['user_id', 'month'])\n",
    "merged_tab = pd.merge(merged_tab, internet_grouped, how='outer', on=['user_id', 'month'])\n",
    "merged_tab"
   ]
  },
  {
   "cell_type": "markdown",
   "metadata": {},
   "source": [
    "Сгрупированные датасеты объединены методом merge, и осталось к таблице добавить город и тарифный план"
   ]
  },
  {
   "cell_type": "code",
   "execution_count": 16,
   "metadata": {},
   "outputs": [
    {
     "data": {
      "text/html": [
       "<div>\n",
       "<style scoped>\n",
       "    .dataframe tbody tr th:only-of-type {\n",
       "        vertical-align: middle;\n",
       "    }\n",
       "\n",
       "    .dataframe tbody tr th {\n",
       "        vertical-align: top;\n",
       "    }\n",
       "\n",
       "    .dataframe thead th {\n",
       "        text-align: right;\n",
       "    }\n",
       "</style>\n",
       "<table border=\"1\" class=\"dataframe\">\n",
       "  <thead>\n",
       "    <tr style=\"text-align: right;\">\n",
       "      <th></th>\n",
       "      <th>user_id</th>\n",
       "      <th>month</th>\n",
       "      <th>calls_count</th>\n",
       "      <th>calls_duration</th>\n",
       "      <th>messages</th>\n",
       "      <th>mb_used</th>\n",
       "      <th>tariff</th>\n",
       "      <th>city</th>\n",
       "    </tr>\n",
       "  </thead>\n",
       "  <tbody>\n",
       "    <tr>\n",
       "      <td>0</td>\n",
       "      <td>1000</td>\n",
       "      <td>2018-05-01</td>\n",
       "      <td>22.0</td>\n",
       "      <td>159.0</td>\n",
       "      <td>22.0</td>\n",
       "      <td>3.0</td>\n",
       "      <td>ultra</td>\n",
       "      <td>Краснодар</td>\n",
       "    </tr>\n",
       "    <tr>\n",
       "      <td>1</td>\n",
       "      <td>1000</td>\n",
       "      <td>2018-06-01</td>\n",
       "      <td>43.0</td>\n",
       "      <td>172.0</td>\n",
       "      <td>60.0</td>\n",
       "      <td>23.0</td>\n",
       "      <td>ultra</td>\n",
       "      <td>Краснодар</td>\n",
       "    </tr>\n",
       "    <tr>\n",
       "      <td>2</td>\n",
       "      <td>1000</td>\n",
       "      <td>2018-07-01</td>\n",
       "      <td>47.0</td>\n",
       "      <td>340.0</td>\n",
       "      <td>75.0</td>\n",
       "      <td>14.0</td>\n",
       "      <td>ultra</td>\n",
       "      <td>Краснодар</td>\n",
       "    </tr>\n",
       "    <tr>\n",
       "      <td>3</td>\n",
       "      <td>1000</td>\n",
       "      <td>2018-08-01</td>\n",
       "      <td>52.0</td>\n",
       "      <td>408.0</td>\n",
       "      <td>81.0</td>\n",
       "      <td>14.0</td>\n",
       "      <td>ultra</td>\n",
       "      <td>Краснодар</td>\n",
       "    </tr>\n",
       "    <tr>\n",
       "      <td>4</td>\n",
       "      <td>1000</td>\n",
       "      <td>2018-09-01</td>\n",
       "      <td>58.0</td>\n",
       "      <td>466.0</td>\n",
       "      <td>57.0</td>\n",
       "      <td>15.0</td>\n",
       "      <td>ultra</td>\n",
       "      <td>Краснодар</td>\n",
       "    </tr>\n",
       "    <tr>\n",
       "      <td>...</td>\n",
       "      <td>...</td>\n",
       "      <td>...</td>\n",
       "      <td>...</td>\n",
       "      <td>...</td>\n",
       "      <td>...</td>\n",
       "      <td>...</td>\n",
       "      <td>...</td>\n",
       "      <td>...</td>\n",
       "    </tr>\n",
       "    <tr>\n",
       "      <td>3209</td>\n",
       "      <td>1489</td>\n",
       "      <td>2018-09-01</td>\n",
       "      <td>NaN</td>\n",
       "      <td>NaN</td>\n",
       "      <td>32.0</td>\n",
       "      <td>17.0</td>\n",
       "      <td>smart</td>\n",
       "      <td>Санкт-Петербург</td>\n",
       "    </tr>\n",
       "    <tr>\n",
       "      <td>3210</td>\n",
       "      <td>1489</td>\n",
       "      <td>2018-10-01</td>\n",
       "      <td>NaN</td>\n",
       "      <td>NaN</td>\n",
       "      <td>21.0</td>\n",
       "      <td>20.0</td>\n",
       "      <td>smart</td>\n",
       "      <td>Санкт-Петербург</td>\n",
       "    </tr>\n",
       "    <tr>\n",
       "      <td>3211</td>\n",
       "      <td>1489</td>\n",
       "      <td>2018-11-01</td>\n",
       "      <td>NaN</td>\n",
       "      <td>NaN</td>\n",
       "      <td>20.0</td>\n",
       "      <td>18.0</td>\n",
       "      <td>smart</td>\n",
       "      <td>Санкт-Петербург</td>\n",
       "    </tr>\n",
       "    <tr>\n",
       "      <td>3212</td>\n",
       "      <td>1489</td>\n",
       "      <td>2018-12-01</td>\n",
       "      <td>NaN</td>\n",
       "      <td>NaN</td>\n",
       "      <td>35.0</td>\n",
       "      <td>17.0</td>\n",
       "      <td>smart</td>\n",
       "      <td>Санкт-Петербург</td>\n",
       "    </tr>\n",
       "    <tr>\n",
       "      <td>3213</td>\n",
       "      <td>1476</td>\n",
       "      <td>2018-04-01</td>\n",
       "      <td>NaN</td>\n",
       "      <td>NaN</td>\n",
       "      <td>NaN</td>\n",
       "      <td>1.0</td>\n",
       "      <td>ultra</td>\n",
       "      <td>Москва</td>\n",
       "    </tr>\n",
       "  </tbody>\n",
       "</table>\n",
       "<p>3214 rows × 8 columns</p>\n",
       "</div>"
      ],
      "text/plain": [
       "      user_id      month  calls_count  calls_duration  messages  mb_used  \\\n",
       "0        1000 2018-05-01         22.0           159.0      22.0      3.0   \n",
       "1        1000 2018-06-01         43.0           172.0      60.0     23.0   \n",
       "2        1000 2018-07-01         47.0           340.0      75.0     14.0   \n",
       "3        1000 2018-08-01         52.0           408.0      81.0     14.0   \n",
       "4        1000 2018-09-01         58.0           466.0      57.0     15.0   \n",
       "...       ...        ...          ...             ...       ...      ...   \n",
       "3209     1489 2018-09-01          NaN             NaN      32.0     17.0   \n",
       "3210     1489 2018-10-01          NaN             NaN      21.0     20.0   \n",
       "3211     1489 2018-11-01          NaN             NaN      20.0     18.0   \n",
       "3212     1489 2018-12-01          NaN             NaN      35.0     17.0   \n",
       "3213     1476 2018-04-01          NaN             NaN       NaN      1.0   \n",
       "\n",
       "     tariff             city  \n",
       "0     ultra        Краснодар  \n",
       "1     ultra        Краснодар  \n",
       "2     ultra        Краснодар  \n",
       "3     ultra        Краснодар  \n",
       "4     ultra        Краснодар  \n",
       "...     ...              ...  \n",
       "3209  smart  Санкт-Петербург  \n",
       "3210  smart  Санкт-Петербург  \n",
       "3211  smart  Санкт-Петербург  \n",
       "3212  smart  Санкт-Петербург  \n",
       "3213  ultra           Москва  \n",
       "\n",
       "[3214 rows x 8 columns]"
      ]
     },
     "execution_count": 16,
     "metadata": {},
     "output_type": "execute_result"
    }
   ],
   "source": [
    "general_tab = pd.merge(merged_tab, users[['user_id', 'tariff', 'city']], how='left', on=['user_id'])\n",
    "general_tab"
   ]
  },
  {
   "cell_type": "code",
   "execution_count": 17,
   "metadata": {},
   "outputs": [
    {
     "data": {
      "text/html": [
       "<div>\n",
       "<style scoped>\n",
       "    .dataframe tbody tr th:only-of-type {\n",
       "        vertical-align: middle;\n",
       "    }\n",
       "\n",
       "    .dataframe tbody tr th {\n",
       "        vertical-align: top;\n",
       "    }\n",
       "\n",
       "    .dataframe thead th {\n",
       "        text-align: right;\n",
       "    }\n",
       "</style>\n",
       "<table border=\"1\" class=\"dataframe\">\n",
       "  <thead>\n",
       "    <tr style=\"text-align: right;\">\n",
       "      <th></th>\n",
       "      <th>user_id</th>\n",
       "      <th>month</th>\n",
       "      <th>calls_count</th>\n",
       "      <th>calls_duration</th>\n",
       "      <th>messages</th>\n",
       "      <th>mb_used</th>\n",
       "      <th>tariff</th>\n",
       "      <th>city</th>\n",
       "    </tr>\n",
       "  </thead>\n",
       "  <tbody>\n",
       "    <tr>\n",
       "      <td>0</td>\n",
       "      <td>1000</td>\n",
       "      <td>2018-05-01</td>\n",
       "      <td>22</td>\n",
       "      <td>159</td>\n",
       "      <td>22</td>\n",
       "      <td>3</td>\n",
       "      <td>ultra</td>\n",
       "      <td>Краснодар</td>\n",
       "    </tr>\n",
       "    <tr>\n",
       "      <td>1</td>\n",
       "      <td>1000</td>\n",
       "      <td>2018-06-01</td>\n",
       "      <td>43</td>\n",
       "      <td>172</td>\n",
       "      <td>60</td>\n",
       "      <td>23</td>\n",
       "      <td>ultra</td>\n",
       "      <td>Краснодар</td>\n",
       "    </tr>\n",
       "    <tr>\n",
       "      <td>2</td>\n",
       "      <td>1000</td>\n",
       "      <td>2018-07-01</td>\n",
       "      <td>47</td>\n",
       "      <td>340</td>\n",
       "      <td>75</td>\n",
       "      <td>14</td>\n",
       "      <td>ultra</td>\n",
       "      <td>Краснодар</td>\n",
       "    </tr>\n",
       "    <tr>\n",
       "      <td>3</td>\n",
       "      <td>1000</td>\n",
       "      <td>2018-08-01</td>\n",
       "      <td>52</td>\n",
       "      <td>408</td>\n",
       "      <td>81</td>\n",
       "      <td>14</td>\n",
       "      <td>ultra</td>\n",
       "      <td>Краснодар</td>\n",
       "    </tr>\n",
       "    <tr>\n",
       "      <td>4</td>\n",
       "      <td>1000</td>\n",
       "      <td>2018-09-01</td>\n",
       "      <td>58</td>\n",
       "      <td>466</td>\n",
       "      <td>57</td>\n",
       "      <td>15</td>\n",
       "      <td>ultra</td>\n",
       "      <td>Краснодар</td>\n",
       "    </tr>\n",
       "    <tr>\n",
       "      <td>...</td>\n",
       "      <td>...</td>\n",
       "      <td>...</td>\n",
       "      <td>...</td>\n",
       "      <td>...</td>\n",
       "      <td>...</td>\n",
       "      <td>...</td>\n",
       "      <td>...</td>\n",
       "      <td>...</td>\n",
       "    </tr>\n",
       "    <tr>\n",
       "      <td>3209</td>\n",
       "      <td>1489</td>\n",
       "      <td>2018-09-01</td>\n",
       "      <td>0</td>\n",
       "      <td>0</td>\n",
       "      <td>32</td>\n",
       "      <td>17</td>\n",
       "      <td>smart</td>\n",
       "      <td>Санкт-Петербург</td>\n",
       "    </tr>\n",
       "    <tr>\n",
       "      <td>3210</td>\n",
       "      <td>1489</td>\n",
       "      <td>2018-10-01</td>\n",
       "      <td>0</td>\n",
       "      <td>0</td>\n",
       "      <td>21</td>\n",
       "      <td>20</td>\n",
       "      <td>smart</td>\n",
       "      <td>Санкт-Петербург</td>\n",
       "    </tr>\n",
       "    <tr>\n",
       "      <td>3211</td>\n",
       "      <td>1489</td>\n",
       "      <td>2018-11-01</td>\n",
       "      <td>0</td>\n",
       "      <td>0</td>\n",
       "      <td>20</td>\n",
       "      <td>18</td>\n",
       "      <td>smart</td>\n",
       "      <td>Санкт-Петербург</td>\n",
       "    </tr>\n",
       "    <tr>\n",
       "      <td>3212</td>\n",
       "      <td>1489</td>\n",
       "      <td>2018-12-01</td>\n",
       "      <td>0</td>\n",
       "      <td>0</td>\n",
       "      <td>35</td>\n",
       "      <td>17</td>\n",
       "      <td>smart</td>\n",
       "      <td>Санкт-Петербург</td>\n",
       "    </tr>\n",
       "    <tr>\n",
       "      <td>3213</td>\n",
       "      <td>1476</td>\n",
       "      <td>2018-04-01</td>\n",
       "      <td>0</td>\n",
       "      <td>0</td>\n",
       "      <td>0</td>\n",
       "      <td>1</td>\n",
       "      <td>ultra</td>\n",
       "      <td>Москва</td>\n",
       "    </tr>\n",
       "  </tbody>\n",
       "</table>\n",
       "<p>3214 rows × 8 columns</p>\n",
       "</div>"
      ],
      "text/plain": [
       "      user_id      month  calls_count  calls_duration  messages  mb_used  \\\n",
       "0        1000 2018-05-01           22             159        22        3   \n",
       "1        1000 2018-06-01           43             172        60       23   \n",
       "2        1000 2018-07-01           47             340        75       14   \n",
       "3        1000 2018-08-01           52             408        81       14   \n",
       "4        1000 2018-09-01           58             466        57       15   \n",
       "...       ...        ...          ...             ...       ...      ...   \n",
       "3209     1489 2018-09-01            0               0        32       17   \n",
       "3210     1489 2018-10-01            0               0        21       20   \n",
       "3211     1489 2018-11-01            0               0        20       18   \n",
       "3212     1489 2018-12-01            0               0        35       17   \n",
       "3213     1476 2018-04-01            0               0         0        1   \n",
       "\n",
       "     tariff             city  \n",
       "0     ultra        Краснодар  \n",
       "1     ultra        Краснодар  \n",
       "2     ultra        Краснодар  \n",
       "3     ultra        Краснодар  \n",
       "4     ultra        Краснодар  \n",
       "...     ...              ...  \n",
       "3209  smart  Санкт-Петербург  \n",
       "3210  smart  Санкт-Петербург  \n",
       "3211  smart  Санкт-Петербург  \n",
       "3212  smart  Санкт-Петербург  \n",
       "3213  ultra           Москва  \n",
       "\n",
       "[3214 rows x 8 columns]"
      ]
     },
     "execution_count": 17,
     "metadata": {},
     "output_type": "execute_result"
    }
   ],
   "source": [
    "general_tab[['calls_count', 'calls_duration', 'messages', 'mb_used']] = general_tab[['calls_count', 'calls_duration', 'messages', 'mb_used']].fillna(0.0).astype('int')\n",
    "general_tab"
   ]
  },
  {
   "cell_type": "markdown",
   "metadata": {},
   "source": [
    "Все пропуски были заполнены нулями в главной таблице, по которой в дальнейшем будет производиться анализ. Начнем с подсчетов"
   ]
  },
  {
   "cell_type": "code",
   "execution_count": 18,
   "metadata": {},
   "outputs": [
    {
     "data": {
      "text/html": [
       "<div>\n",
       "<style scoped>\n",
       "    .dataframe tbody tr th:only-of-type {\n",
       "        vertical-align: middle;\n",
       "    }\n",
       "\n",
       "    .dataframe tbody tr th {\n",
       "        vertical-align: top;\n",
       "    }\n",
       "\n",
       "    .dataframe thead th {\n",
       "        text-align: right;\n",
       "    }\n",
       "</style>\n",
       "<table border=\"1\" class=\"dataframe\">\n",
       "  <thead>\n",
       "    <tr style=\"text-align: right;\">\n",
       "      <th></th>\n",
       "      <th>messages_included</th>\n",
       "      <th>mb_per_month_included</th>\n",
       "      <th>minutes_included</th>\n",
       "      <th>rub_monthly_fee</th>\n",
       "      <th>rub_per_gb</th>\n",
       "      <th>rub_per_message</th>\n",
       "      <th>rub_per_minute</th>\n",
       "      <th>tariff_name</th>\n",
       "    </tr>\n",
       "  </thead>\n",
       "  <tbody>\n",
       "    <tr>\n",
       "      <td>0</td>\n",
       "      <td>50</td>\n",
       "      <td>15360</td>\n",
       "      <td>500</td>\n",
       "      <td>550</td>\n",
       "      <td>200</td>\n",
       "      <td>3</td>\n",
       "      <td>3</td>\n",
       "      <td>smart</td>\n",
       "    </tr>\n",
       "    <tr>\n",
       "      <td>1</td>\n",
       "      <td>1000</td>\n",
       "      <td>30720</td>\n",
       "      <td>3000</td>\n",
       "      <td>1950</td>\n",
       "      <td>150</td>\n",
       "      <td>1</td>\n",
       "      <td>1</td>\n",
       "      <td>ultra</td>\n",
       "    </tr>\n",
       "  </tbody>\n",
       "</table>\n",
       "</div>"
      ],
      "text/plain": [
       "   messages_included  mb_per_month_included  minutes_included  \\\n",
       "0                 50                  15360               500   \n",
       "1               1000                  30720              3000   \n",
       "\n",
       "   rub_monthly_fee  rub_per_gb  rub_per_message  rub_per_minute tariff_name  \n",
       "0              550         200                3               3       smart  \n",
       "1             1950         150                1               1       ultra  "
      ]
     },
     "execution_count": 18,
     "metadata": {},
     "output_type": "execute_result"
    }
   ],
   "source": [
    "tariffs"
   ]
  },
  {
   "cell_type": "code",
   "execution_count": 19,
   "metadata": {},
   "outputs": [],
   "source": [
    "def users_revenue(row):       \n",
    "    tariff = tariffs.loc[tariffs['tariff_name'] == row['tariff']]\n",
    "    # считаем сколько за месяц потратил пользователь исходя из его тарифа\n",
    "    revenue = 0\n",
    "    monthly_fee = tariff.iloc[0,3]\n",
    "    revenue += monthly_fee\n",
    "    # минуты \n",
    "    if row['calls_duration'] > tariff.iloc[0,2]:\n",
    "        extra_minutes_cost = (row['calls_duration'] - tariff.iloc[0,2]) * tariff.iloc[0,-2]\n",
    "        revenue += extra_minutes_cost\n",
    "    # сообщения\n",
    "\n",
    "    if row['messages'] > tariff.iloc[0,0]:\n",
    "        extra_message_cost = (row['messages'] - tariff.iloc[0,0]) * tariff.iloc[0,-3]\n",
    "        revenue += extra_message_cost\n",
    "     \n",
    "    # трафик\n",
    "    if row['mb_used'] > tariff.iloc[0,1]:\n",
    "        # так как клиент может докупать только гигабайты а не мб, рассчитывается сколько гб докупил пользователь\n",
    "        # и исходя из этого рассчитаем стоимость доп трафика\n",
    "        extra_gb_used = np.ceil((row['mb_used'] - tariff.iloc[0,1]) / 1024)\n",
    "        extra_traffic_cost = extra_gb_used * tariff.iloc[0,-4]\n",
    "        revenue += extra_traffic_cost\n",
    "\n",
    "    return revenue\n"
   ]
  },
  {
   "cell_type": "code",
   "execution_count": 20,
   "metadata": {},
   "outputs": [
    {
     "data": {
      "text/html": [
       "<div>\n",
       "<style scoped>\n",
       "    .dataframe tbody tr th:only-of-type {\n",
       "        vertical-align: middle;\n",
       "    }\n",
       "\n",
       "    .dataframe tbody tr th {\n",
       "        vertical-align: top;\n",
       "    }\n",
       "\n",
       "    .dataframe thead th {\n",
       "        text-align: right;\n",
       "    }\n",
       "</style>\n",
       "<table border=\"1\" class=\"dataframe\">\n",
       "  <thead>\n",
       "    <tr style=\"text-align: right;\">\n",
       "      <th></th>\n",
       "      <th>user_id</th>\n",
       "      <th>month</th>\n",
       "      <th>calls_count</th>\n",
       "      <th>calls_duration</th>\n",
       "      <th>messages</th>\n",
       "      <th>mb_used</th>\n",
       "      <th>tariff</th>\n",
       "      <th>city</th>\n",
       "      <th>earnings</th>\n",
       "    </tr>\n",
       "  </thead>\n",
       "  <tbody>\n",
       "    <tr>\n",
       "      <td>0</td>\n",
       "      <td>1000</td>\n",
       "      <td>2018-05-01</td>\n",
       "      <td>22</td>\n",
       "      <td>159</td>\n",
       "      <td>22</td>\n",
       "      <td>3</td>\n",
       "      <td>ultra</td>\n",
       "      <td>Краснодар</td>\n",
       "      <td>1950</td>\n",
       "    </tr>\n",
       "    <tr>\n",
       "      <td>1</td>\n",
       "      <td>1000</td>\n",
       "      <td>2018-06-01</td>\n",
       "      <td>43</td>\n",
       "      <td>172</td>\n",
       "      <td>60</td>\n",
       "      <td>23</td>\n",
       "      <td>ultra</td>\n",
       "      <td>Краснодар</td>\n",
       "      <td>1950</td>\n",
       "    </tr>\n",
       "    <tr>\n",
       "      <td>2</td>\n",
       "      <td>1000</td>\n",
       "      <td>2018-07-01</td>\n",
       "      <td>47</td>\n",
       "      <td>340</td>\n",
       "      <td>75</td>\n",
       "      <td>14</td>\n",
       "      <td>ultra</td>\n",
       "      <td>Краснодар</td>\n",
       "      <td>1950</td>\n",
       "    </tr>\n",
       "    <tr>\n",
       "      <td>3</td>\n",
       "      <td>1000</td>\n",
       "      <td>2018-08-01</td>\n",
       "      <td>52</td>\n",
       "      <td>408</td>\n",
       "      <td>81</td>\n",
       "      <td>14</td>\n",
       "      <td>ultra</td>\n",
       "      <td>Краснодар</td>\n",
       "      <td>1950</td>\n",
       "    </tr>\n",
       "    <tr>\n",
       "      <td>4</td>\n",
       "      <td>1000</td>\n",
       "      <td>2018-09-01</td>\n",
       "      <td>58</td>\n",
       "      <td>466</td>\n",
       "      <td>57</td>\n",
       "      <td>15</td>\n",
       "      <td>ultra</td>\n",
       "      <td>Краснодар</td>\n",
       "      <td>1950</td>\n",
       "    </tr>\n",
       "    <tr>\n",
       "      <td>...</td>\n",
       "      <td>...</td>\n",
       "      <td>...</td>\n",
       "      <td>...</td>\n",
       "      <td>...</td>\n",
       "      <td>...</td>\n",
       "      <td>...</td>\n",
       "      <td>...</td>\n",
       "      <td>...</td>\n",
       "      <td>...</td>\n",
       "    </tr>\n",
       "    <tr>\n",
       "      <td>3209</td>\n",
       "      <td>1489</td>\n",
       "      <td>2018-09-01</td>\n",
       "      <td>0</td>\n",
       "      <td>0</td>\n",
       "      <td>32</td>\n",
       "      <td>17</td>\n",
       "      <td>smart</td>\n",
       "      <td>Санкт-Петербург</td>\n",
       "      <td>550</td>\n",
       "    </tr>\n",
       "    <tr>\n",
       "      <td>3210</td>\n",
       "      <td>1489</td>\n",
       "      <td>2018-10-01</td>\n",
       "      <td>0</td>\n",
       "      <td>0</td>\n",
       "      <td>21</td>\n",
       "      <td>20</td>\n",
       "      <td>smart</td>\n",
       "      <td>Санкт-Петербург</td>\n",
       "      <td>550</td>\n",
       "    </tr>\n",
       "    <tr>\n",
       "      <td>3211</td>\n",
       "      <td>1489</td>\n",
       "      <td>2018-11-01</td>\n",
       "      <td>0</td>\n",
       "      <td>0</td>\n",
       "      <td>20</td>\n",
       "      <td>18</td>\n",
       "      <td>smart</td>\n",
       "      <td>Санкт-Петербург</td>\n",
       "      <td>550</td>\n",
       "    </tr>\n",
       "    <tr>\n",
       "      <td>3212</td>\n",
       "      <td>1489</td>\n",
       "      <td>2018-12-01</td>\n",
       "      <td>0</td>\n",
       "      <td>0</td>\n",
       "      <td>35</td>\n",
       "      <td>17</td>\n",
       "      <td>smart</td>\n",
       "      <td>Санкт-Петербург</td>\n",
       "      <td>550</td>\n",
       "    </tr>\n",
       "    <tr>\n",
       "      <td>3213</td>\n",
       "      <td>1476</td>\n",
       "      <td>2018-04-01</td>\n",
       "      <td>0</td>\n",
       "      <td>0</td>\n",
       "      <td>0</td>\n",
       "      <td>1</td>\n",
       "      <td>ultra</td>\n",
       "      <td>Москва</td>\n",
       "      <td>1950</td>\n",
       "    </tr>\n",
       "  </tbody>\n",
       "</table>\n",
       "<p>3214 rows × 9 columns</p>\n",
       "</div>"
      ],
      "text/plain": [
       "      user_id      month  calls_count  calls_duration  messages  mb_used  \\\n",
       "0        1000 2018-05-01           22             159        22        3   \n",
       "1        1000 2018-06-01           43             172        60       23   \n",
       "2        1000 2018-07-01           47             340        75       14   \n",
       "3        1000 2018-08-01           52             408        81       14   \n",
       "4        1000 2018-09-01           58             466        57       15   \n",
       "...       ...        ...          ...             ...       ...      ...   \n",
       "3209     1489 2018-09-01            0               0        32       17   \n",
       "3210     1489 2018-10-01            0               0        21       20   \n",
       "3211     1489 2018-11-01            0               0        20       18   \n",
       "3212     1489 2018-12-01            0               0        35       17   \n",
       "3213     1476 2018-04-01            0               0         0        1   \n",
       "\n",
       "     tariff             city  earnings  \n",
       "0     ultra        Краснодар      1950  \n",
       "1     ultra        Краснодар      1950  \n",
       "2     ultra        Краснодар      1950  \n",
       "3     ultra        Краснодар      1950  \n",
       "4     ultra        Краснодар      1950  \n",
       "...     ...              ...       ...  \n",
       "3209  smart  Санкт-Петербург       550  \n",
       "3210  smart  Санкт-Петербург       550  \n",
       "3211  smart  Санкт-Петербург       550  \n",
       "3212  smart  Санкт-Петербург       550  \n",
       "3213  ultra           Москва      1950  \n",
       "\n",
       "[3214 rows x 9 columns]"
      ]
     },
     "execution_count": 20,
     "metadata": {},
     "output_type": "execute_result"
    }
   ],
   "source": [
    "general_tab['earnings'] = general_tab.apply(users_revenue, axis = 1)\n",
    "general_tab"
   ]
  },
  {
   "cell_type": "markdown",
   "metadata": {},
   "source": [
    "С помощью функции users_revenue была рассчитана выручка с каждого пользователя, которую записали в столбец earnings"
   ]
  },
  {
   "cell_type": "markdown",
   "metadata": {},
   "source": [
    "#### Выводы"
   ]
  },
  {
   "cell_type": "markdown",
   "metadata": {},
   "source": [
    "Данные, которые нужно было перевести в формат datetime переведены, а также отсортированы помесячно. Month_name не было использовано, так как сортировка была бы неудобной. Также с помощью функции подсчитана выручка с каждого пользователя. "
   ]
  },
  {
   "cell_type": "markdown",
   "metadata": {},
   "source": [
    "### Анализ данных"
   ]
  },
  {
   "cell_type": "code",
   "execution_count": 21,
   "metadata": {},
   "outputs": [],
   "source": [
    "import warnings\n",
    "warnings.filterwarnings(\"ignore\")"
   ]
  },
  {
   "cell_type": "markdown",
   "metadata": {},
   "source": [
    "Импортировал warnings для нормального вывода графиков и гистограмм. "
   ]
  },
  {
   "cell_type": "code",
   "execution_count": 22,
   "metadata": {},
   "outputs": [],
   "source": [
    "def filtred_hist(row, column):\n",
    "    q1 = row[column].quantile(0.25)\n",
    "    q3 = row[column].quantile(0.75)\n",
    "    iqr = q3 - q1\n",
    "    result = (general_tab[column] >= (q1 - 1.5*iqr)) & (general_tab[column] <= (q3 + 1.5*iqr))\n",
    "    return general_tab.loc[result].boxplot([column], figsize=(15,5))"
   ]
  },
  {
   "cell_type": "code",
   "execution_count": 23,
   "metadata": {},
   "outputs": [
    {
     "data": {
      "image/png": "[encoded data removed]",
      "text/plain": [
       "<Figure size 1080x360 with 1 Axes>"
      ]
     },
     "metadata": {
      "needs_background": "light"
     },
     "output_type": "display_data"
    },
    {
     "name": "stdout",
     "output_type": "stream",
     "text": [
      "Средняя длительность звонков: 451.24\n",
      "Медиана длительности звонков: 443.0\n"
     ]
    }
   ],
   "source": [
    "filtred_hist(general_tab, 'calls_duration')\n",
    "plt.xlabel('Длительность звонков')\n",
    "plt.ylabel('Минуты')\n",
    "plt.title('Звонки')\n",
    "plt.show()\n",
    "print('Средняя длительность звонков:', (round(general_tab['calls_duration'].mean(), 2))) \n",
    "print('Медиана длительности звонков:', (round(general_tab['calls_duration'].median(), 2)))"
   ]
  },
  {
   "cell_type": "markdown",
   "metadata": {},
   "source": [
    "Благодаря функции мы вывели \"ящик с усами\" для длительности звонков, который оптимально отоброжает данные и избавляет от выбросов. "
   ]
  },
  {
   "cell_type": "code",
   "execution_count": 24,
   "metadata": {},
   "outputs": [
    {
     "data": {
      "image/png": "[encoded data removed]",
      "text/plain": [
       "<Figure size 1080x360 with 1 Axes>"
      ]
     },
     "metadata": {
      "needs_background": "light"
     },
     "output_type": "display_data"
    },
    {
     "name": "stdout",
     "output_type": "stream",
     "text": [
      "Средняя интернет-трафика: 17.3\n",
      "Медиана интернет-трафика: 17.0\n"
     ]
    }
   ],
   "source": [
    "filtred_hist(general_tab, 'mb_used')\n",
    "plt.xlabel('Использованные мегабайты')\n",
    "plt.ylabel('Мегабайты')\n",
    "plt.title('Интернет-трафик')\n",
    "plt.show()\n",
    "print('Средняя интернет-трафика:', (round(general_tab['mb_used'].mean(), 2))) \n",
    "print('Медиана интернет-трафика:', (round(general_tab['mb_used'].median(), 2)))"
   ]
  },
  {
   "cell_type": "code",
   "execution_count": 25,
   "metadata": {},
   "outputs": [
    {
     "data": {
      "image/png": "[encoded data removed]",
      "text/plain": [
       "<Figure size 1080x360 with 1 Axes>"
      ]
     },
     "metadata": {
      "needs_background": "light"
     },
     "output_type": "display_data"
    },
    {
     "name": "stdout",
     "output_type": "stream",
     "text": [
      "Средняя отправленных СМС: 38.28\n",
      "Медиана отправеннных СМС: 30.0\n"
     ]
    }
   ],
   "source": [
    "filtred_hist(general_tab, 'messages')\n",
    "plt.xlabel('Отпралвенные смс')\n",
    "plt.ylabel('Количество СМС')\n",
    "plt.title('СМС')\n",
    "plt.show()\n",
    "print('Средняя отправленных СМС:', (round(general_tab['messages'].mean(), 2))) \n",
    "print('Медиана отправеннных СМС:', (round(general_tab['messages'].median(), 2)))"
   ]
  },
  {
   "cell_type": "markdown",
   "metadata": {},
   "source": [
    "Как мы видим, среднее значнение и медиана у этих данных располагаются довольно близко. Исходя из этих ящиков можно предположить, что выбросы для звонков - это свыше 1000 минут, для интернет-трафика - свыше 34 тысяч гигабайт, и для СМС - свыше 125."
   ]
  },
  {
   "cell_type": "code",
   "execution_count": 26,
   "metadata": {},
   "outputs": [],
   "source": [
    "tab_filter = general_tab.query('calls_duration < 1000 and mb_used < 34000 and messages < 125')"
   ]
  },
  {
   "cell_type": "code",
   "execution_count": 27,
   "metadata": {},
   "outputs": [],
   "source": [
    "tab_filter[['calls_duration', 'mb_used', 'messages']] = tab_filter[['calls_duration', 'mb_used', 'messages']].astype('int64')"
   ]
  },
  {
   "cell_type": "code",
   "execution_count": 28,
   "metadata": {},
   "outputs": [
    {
     "name": "stdout",
     "output_type": "stream",
     "text": [
      "<class 'pandas.core.frame.DataFrame'>\n",
      "Int64Index: 3041 entries, 0 to 3213\n",
      "Data columns (total 9 columns):\n",
      "user_id           3041 non-null int64\n",
      "month             3041 non-null datetime64[ns]\n",
      "calls_count       3041 non-null int64\n",
      "calls_duration    3041 non-null int64\n",
      "messages          3041 non-null int64\n",
      "mb_used           3041 non-null int64\n",
      "tariff            3041 non-null object\n",
      "city              3041 non-null object\n",
      "earnings          3041 non-null int64\n",
      "dtypes: datetime64[ns](1), int64(6), object(2)\n",
      "memory usage: 237.6+ KB\n"
     ]
    }
   ],
   "source": [
    "tab_filter.info()"
   ]
  },
  {
   "cell_type": "markdown",
   "metadata": {},
   "source": [
    "Данные в столбцах длительности звонков, использованных мегабайтов и СМС приведены к целочисленному типу. После применения фильтра от выбросов, мы имеем 2974 строк. "
   ]
  },
  {
   "cell_type": "code",
   "execution_count": 29,
   "metadata": {},
   "outputs": [],
   "source": [
    "columns_list = ['calls_duration', 'mb_used', 'messages']"
   ]
  },
  {
   "cell_type": "code",
   "execution_count": 30,
   "metadata": {},
   "outputs": [
    {
     "data": {
      "text/html": [
       "<div>\n",
       "<style scoped>\n",
       "    .dataframe tbody tr th:only-of-type {\n",
       "        vertical-align: middle;\n",
       "    }\n",
       "\n",
       "    .dataframe tbody tr th {\n",
       "        vertical-align: top;\n",
       "    }\n",
       "\n",
       "    .dataframe thead th {\n",
       "        text-align: right;\n",
       "    }\n",
       "</style>\n",
       "<table border=\"1\" class=\"dataframe\">\n",
       "  <thead>\n",
       "    <tr style=\"text-align: right;\">\n",
       "      <th></th>\n",
       "      <th>calls_duration</th>\n",
       "      <th>mb_used</th>\n",
       "      <th>messages</th>\n",
       "    </tr>\n",
       "    <tr>\n",
       "      <th>month</th>\n",
       "      <th></th>\n",
       "      <th></th>\n",
       "      <th></th>\n",
       "    </tr>\n",
       "  </thead>\n",
       "  <tbody>\n",
       "    <tr>\n",
       "      <td>2018-01-01</td>\n",
       "      <td>6931</td>\n",
       "      <td>297</td>\n",
       "      <td>620</td>\n",
       "    </tr>\n",
       "    <tr>\n",
       "      <td>2018-02-01</td>\n",
       "      <td>17324</td>\n",
       "      <td>687</td>\n",
       "      <td>1397</td>\n",
       "    </tr>\n",
       "    <tr>\n",
       "      <td>2018-03-01</td>\n",
       "      <td>30034</td>\n",
       "      <td>1173</td>\n",
       "      <td>2453</td>\n",
       "    </tr>\n",
       "    <tr>\n",
       "      <td>2018-04-01</td>\n",
       "      <td>41119</td>\n",
       "      <td>1526</td>\n",
       "      <td>3443</td>\n",
       "    </tr>\n",
       "    <tr>\n",
       "      <td>2018-05-01</td>\n",
       "      <td>54618</td>\n",
       "      <td>2243</td>\n",
       "      <td>4762</td>\n",
       "    </tr>\n",
       "    <tr>\n",
       "      <td>2018-06-01</td>\n",
       "      <td>64128</td>\n",
       "      <td>2590</td>\n",
       "      <td>5344</td>\n",
       "    </tr>\n",
       "    <tr>\n",
       "      <td>2018-07-01</td>\n",
       "      <td>81360</td>\n",
       "      <td>3171</td>\n",
       "      <td>6647</td>\n",
       "    </tr>\n",
       "    <tr>\n",
       "      <td>2018-08-01</td>\n",
       "      <td>97263</td>\n",
       "      <td>3893</td>\n",
       "      <td>7758</td>\n",
       "    </tr>\n",
       "    <tr>\n",
       "      <td>2018-09-01</td>\n",
       "      <td>110724</td>\n",
       "      <td>4239</td>\n",
       "      <td>8610</td>\n",
       "    </tr>\n",
       "    <tr>\n",
       "      <td>2018-10-01</td>\n",
       "      <td>123072</td>\n",
       "      <td>4904</td>\n",
       "      <td>9613</td>\n",
       "    </tr>\n",
       "    <tr>\n",
       "      <td>2018-11-01</td>\n",
       "      <td>137544</td>\n",
       "      <td>5372</td>\n",
       "      <td>10768</td>\n",
       "    </tr>\n",
       "    <tr>\n",
       "      <td>2018-12-01</td>\n",
       "      <td>153852</td>\n",
       "      <td>5938</td>\n",
       "      <td>11508</td>\n",
       "    </tr>\n",
       "  </tbody>\n",
       "</table>\n",
       "</div>"
      ],
      "text/plain": [
       "            calls_duration  mb_used  messages\n",
       "month                                        \n",
       "2018-01-01            6931      297       620\n",
       "2018-02-01           17324      687      1397\n",
       "2018-03-01           30034     1173      2453\n",
       "2018-04-01           41119     1526      3443\n",
       "2018-05-01           54618     2243      4762\n",
       "2018-06-01           64128     2590      5344\n",
       "2018-07-01           81360     3171      6647\n",
       "2018-08-01           97263     3893      7758\n",
       "2018-09-01          110724     4239      8610\n",
       "2018-10-01          123072     4904      9613\n",
       "2018-11-01          137544     5372     10768\n",
       "2018-12-01          153852     5938     11508"
      ]
     },
     "execution_count": 30,
     "metadata": {},
     "output_type": "execute_result"
    }
   ],
   "source": [
    "tab_smart = pd.pivot_table(\n",
    "    data=tab_filter.loc[tab_filter['tariff']=='smart'],\n",
    "    index = 'month', values= columns_list, aggfunc=sum)\n",
    "tab_smart"
   ]
  },
  {
   "cell_type": "markdown",
   "metadata": {},
   "source": [
    "С каждым месяцем цифры растут"
   ]
  },
  {
   "cell_type": "code",
   "execution_count": 31,
   "metadata": {},
   "outputs": [
    {
     "data": {
      "text/html": [
       "<div>\n",
       "<style scoped>\n",
       "    .dataframe tbody tr th:only-of-type {\n",
       "        vertical-align: middle;\n",
       "    }\n",
       "\n",
       "    .dataframe tbody tr th {\n",
       "        vertical-align: top;\n",
       "    }\n",
       "\n",
       "    .dataframe thead th {\n",
       "        text-align: right;\n",
       "    }\n",
       "</style>\n",
       "<table border=\"1\" class=\"dataframe\">\n",
       "  <thead>\n",
       "    <tr style=\"text-align: right;\">\n",
       "      <th></th>\n",
       "      <th>user_id</th>\n",
       "    </tr>\n",
       "    <tr>\n",
       "      <th>month</th>\n",
       "      <th></th>\n",
       "    </tr>\n",
       "  </thead>\n",
       "  <tbody>\n",
       "    <tr>\n",
       "      <td>2018-01-01</td>\n",
       "      <td>34</td>\n",
       "    </tr>\n",
       "    <tr>\n",
       "      <td>2018-02-01</td>\n",
       "      <td>58</td>\n",
       "    </tr>\n",
       "    <tr>\n",
       "      <td>2018-03-01</td>\n",
       "      <td>77</td>\n",
       "    </tr>\n",
       "    <tr>\n",
       "      <td>2018-04-01</td>\n",
       "      <td>112</td>\n",
       "    </tr>\n",
       "    <tr>\n",
       "      <td>2018-05-01</td>\n",
       "      <td>141</td>\n",
       "    </tr>\n",
       "    <tr>\n",
       "      <td>2018-06-01</td>\n",
       "      <td>163</td>\n",
       "    </tr>\n",
       "    <tr>\n",
       "      <td>2018-07-01</td>\n",
       "      <td>200</td>\n",
       "    </tr>\n",
       "    <tr>\n",
       "      <td>2018-08-01</td>\n",
       "      <td>233</td>\n",
       "    </tr>\n",
       "    <tr>\n",
       "      <td>2018-09-01</td>\n",
       "      <td>259</td>\n",
       "    </tr>\n",
       "    <tr>\n",
       "      <td>2018-10-01</td>\n",
       "      <td>291</td>\n",
       "    </tr>\n",
       "    <tr>\n",
       "      <td>2018-11-01</td>\n",
       "      <td>316</td>\n",
       "    </tr>\n",
       "    <tr>\n",
       "      <td>2018-12-01</td>\n",
       "      <td>329</td>\n",
       "    </tr>\n",
       "  </tbody>\n",
       "</table>\n",
       "</div>"
      ],
      "text/plain": [
       "            user_id\n",
       "month              \n",
       "2018-01-01       34\n",
       "2018-02-01       58\n",
       "2018-03-01       77\n",
       "2018-04-01      112\n",
       "2018-05-01      141\n",
       "2018-06-01      163\n",
       "2018-07-01      200\n",
       "2018-08-01      233\n",
       "2018-09-01      259\n",
       "2018-10-01      291\n",
       "2018-11-01      316\n",
       "2018-12-01      329"
      ]
     },
     "execution_count": 31,
     "metadata": {},
     "output_type": "execute_result"
    }
   ],
   "source": [
    "tab_filter_users_smart = pd.pivot_table(tab_filter.loc[tab_filter['tariff'] == 'smart'], index = 'month', values = 'user_id', aggfunc = 'count')\n",
    "tab_filter_users_smart"
   ]
  },
  {
   "cell_type": "markdown",
   "metadata": {},
   "source": [
    "Согласно данным, рост цифр связан с увеличением количества потребителей"
   ]
  },
  {
   "cell_type": "code",
   "execution_count": 32,
   "metadata": {},
   "outputs": [
    {
     "data": {
      "text/html": [
       "<div>\n",
       "<style scoped>\n",
       "    .dataframe tbody tr th:only-of-type {\n",
       "        vertical-align: middle;\n",
       "    }\n",
       "\n",
       "    .dataframe tbody tr th {\n",
       "        vertical-align: top;\n",
       "    }\n",
       "\n",
       "    .dataframe thead th {\n",
       "        text-align: right;\n",
       "    }\n",
       "</style>\n",
       "<table border=\"1\" class=\"dataframe\">\n",
       "  <thead>\n",
       "    <tr style=\"text-align: right;\">\n",
       "      <th></th>\n",
       "      <th>calls_duration</th>\n",
       "      <th>mb_used</th>\n",
       "      <th>messages</th>\n",
       "    </tr>\n",
       "    <tr>\n",
       "      <th>month</th>\n",
       "      <th></th>\n",
       "      <th></th>\n",
       "      <th></th>\n",
       "    </tr>\n",
       "  </thead>\n",
       "  <tbody>\n",
       "    <tr>\n",
       "      <td>2018-01-01</td>\n",
       "      <td>3853</td>\n",
       "      <td>119</td>\n",
       "      <td>304</td>\n",
       "    </tr>\n",
       "    <tr>\n",
       "      <td>2018-02-01</td>\n",
       "      <td>7131</td>\n",
       "      <td>288</td>\n",
       "      <td>527</td>\n",
       "    </tr>\n",
       "    <tr>\n",
       "      <td>2018-03-01</td>\n",
       "      <td>13257</td>\n",
       "      <td>555</td>\n",
       "      <td>757</td>\n",
       "    </tr>\n",
       "    <tr>\n",
       "      <td>2018-04-01</td>\n",
       "      <td>23460</td>\n",
       "      <td>893</td>\n",
       "      <td>1446</td>\n",
       "    </tr>\n",
       "    <tr>\n",
       "      <td>2018-05-01</td>\n",
       "      <td>29702</td>\n",
       "      <td>1156</td>\n",
       "      <td>1925</td>\n",
       "    </tr>\n",
       "    <tr>\n",
       "      <td>2018-06-01</td>\n",
       "      <td>34992</td>\n",
       "      <td>1428</td>\n",
       "      <td>2485</td>\n",
       "    </tr>\n",
       "    <tr>\n",
       "      <td>2018-07-01</td>\n",
       "      <td>39364</td>\n",
       "      <td>1509</td>\n",
       "      <td>2791</td>\n",
       "    </tr>\n",
       "    <tr>\n",
       "      <td>2018-08-01</td>\n",
       "      <td>43449</td>\n",
       "      <td>1762</td>\n",
       "      <td>3499</td>\n",
       "    </tr>\n",
       "    <tr>\n",
       "      <td>2018-09-01</td>\n",
       "      <td>45759</td>\n",
       "      <td>1776</td>\n",
       "      <td>3777</td>\n",
       "    </tr>\n",
       "    <tr>\n",
       "      <td>2018-10-01</td>\n",
       "      <td>46682</td>\n",
       "      <td>1760</td>\n",
       "      <td>3798</td>\n",
       "    </tr>\n",
       "    <tr>\n",
       "      <td>2018-11-01</td>\n",
       "      <td>53096</td>\n",
       "      <td>2016</td>\n",
       "      <td>4508</td>\n",
       "    </tr>\n",
       "    <tr>\n",
       "      <td>2018-12-01</td>\n",
       "      <td>55189</td>\n",
       "      <td>2259</td>\n",
       "      <td>4703</td>\n",
       "    </tr>\n",
       "  </tbody>\n",
       "</table>\n",
       "</div>"
      ],
      "text/plain": [
       "            calls_duration  mb_used  messages\n",
       "month                                        \n",
       "2018-01-01            3853      119       304\n",
       "2018-02-01            7131      288       527\n",
       "2018-03-01           13257      555       757\n",
       "2018-04-01           23460      893      1446\n",
       "2018-05-01           29702     1156      1925\n",
       "2018-06-01           34992     1428      2485\n",
       "2018-07-01           39364     1509      2791\n",
       "2018-08-01           43449     1762      3499\n",
       "2018-09-01           45759     1776      3777\n",
       "2018-10-01           46682     1760      3798\n",
       "2018-11-01           53096     2016      4508\n",
       "2018-12-01           55189     2259      4703"
      ]
     },
     "execution_count": 32,
     "metadata": {},
     "output_type": "execute_result"
    }
   ],
   "source": [
    "tab_ultra = pd.pivot_table(\n",
    "    data=tab_filter.loc[tab_filter['tariff']=='ultra'],\n",
    "    index = 'month', values= columns_list, aggfunc=sum)\n",
    "tab_ultra"
   ]
  },
  {
   "cell_type": "code",
   "execution_count": 33,
   "metadata": {},
   "outputs": [
    {
     "data": {
      "text/html": [
       "<div>\n",
       "<style scoped>\n",
       "    .dataframe tbody tr th:only-of-type {\n",
       "        vertical-align: middle;\n",
       "    }\n",
       "\n",
       "    .dataframe tbody tr th {\n",
       "        vertical-align: top;\n",
       "    }\n",
       "\n",
       "    .dataframe thead th {\n",
       "        text-align: right;\n",
       "    }\n",
       "</style>\n",
       "<table border=\"1\" class=\"dataframe\">\n",
       "  <thead>\n",
       "    <tr style=\"text-align: right;\">\n",
       "      <th></th>\n",
       "      <th>user_id</th>\n",
       "    </tr>\n",
       "    <tr>\n",
       "      <th>month</th>\n",
       "      <th></th>\n",
       "    </tr>\n",
       "  </thead>\n",
       "  <tbody>\n",
       "    <tr>\n",
       "      <td>2018-01-01</td>\n",
       "      <td>9</td>\n",
       "    </tr>\n",
       "    <tr>\n",
       "      <td>2018-02-01</td>\n",
       "      <td>24</td>\n",
       "    </tr>\n",
       "    <tr>\n",
       "      <td>2018-03-01</td>\n",
       "      <td>32</td>\n",
       "    </tr>\n",
       "    <tr>\n",
       "      <td>2018-04-01</td>\n",
       "      <td>52</td>\n",
       "    </tr>\n",
       "    <tr>\n",
       "      <td>2018-05-01</td>\n",
       "      <td>61</td>\n",
       "    </tr>\n",
       "    <tr>\n",
       "      <td>2018-06-01</td>\n",
       "      <td>76</td>\n",
       "    </tr>\n",
       "    <tr>\n",
       "      <td>2018-07-01</td>\n",
       "      <td>76</td>\n",
       "    </tr>\n",
       "    <tr>\n",
       "      <td>2018-08-01</td>\n",
       "      <td>92</td>\n",
       "    </tr>\n",
       "    <tr>\n",
       "      <td>2018-09-01</td>\n",
       "      <td>94</td>\n",
       "    </tr>\n",
       "    <tr>\n",
       "      <td>2018-10-01</td>\n",
       "      <td>95</td>\n",
       "    </tr>\n",
       "    <tr>\n",
       "      <td>2018-11-01</td>\n",
       "      <td>109</td>\n",
       "    </tr>\n",
       "    <tr>\n",
       "      <td>2018-12-01</td>\n",
       "      <td>108</td>\n",
       "    </tr>\n",
       "  </tbody>\n",
       "</table>\n",
       "</div>"
      ],
      "text/plain": [
       "            user_id\n",
       "month              \n",
       "2018-01-01        9\n",
       "2018-02-01       24\n",
       "2018-03-01       32\n",
       "2018-04-01       52\n",
       "2018-05-01       61\n",
       "2018-06-01       76\n",
       "2018-07-01       76\n",
       "2018-08-01       92\n",
       "2018-09-01       94\n",
       "2018-10-01       95\n",
       "2018-11-01      109\n",
       "2018-12-01      108"
      ]
     },
     "execution_count": 33,
     "metadata": {},
     "output_type": "execute_result"
    }
   ],
   "source": [
    "tab_filter_users_ultra = pd.pivot_table(tab_filter.loc[tab_filter['tariff'] == 'ultra'], index = 'month', values = 'user_id', aggfunc = 'count')\n",
    "tab_filter_users_ultra"
   ]
  },
  {
   "cell_type": "markdown",
   "metadata": {},
   "source": [
    "У тарифного плана ультра немного иная тенденция "
   ]
  },
  {
   "cell_type": "code",
   "execution_count": 34,
   "metadata": {},
   "outputs": [
    {
     "data": {
      "text/html": [
       "<div>\n",
       "<style scoped>\n",
       "    .dataframe tbody tr th:only-of-type {\n",
       "        vertical-align: middle;\n",
       "    }\n",
       "\n",
       "    .dataframe tbody tr th {\n",
       "        vertical-align: top;\n",
       "    }\n",
       "\n",
       "    .dataframe thead th {\n",
       "        text-align: right;\n",
       "    }\n",
       "</style>\n",
       "<table border=\"1\" class=\"dataframe\">\n",
       "  <thead>\n",
       "    <tr style=\"text-align: right;\">\n",
       "      <th></th>\n",
       "      <th>user_id</th>\n",
       "      <th>calls_count</th>\n",
       "      <th>calls_duration</th>\n",
       "      <th>messages</th>\n",
       "      <th>mb_used</th>\n",
       "      <th>earnings</th>\n",
       "    </tr>\n",
       "  </thead>\n",
       "  <tbody>\n",
       "    <tr>\n",
       "      <td>count</td>\n",
       "      <td>2213.00</td>\n",
       "      <td>2213.00</td>\n",
       "      <td>2213.00</td>\n",
       "      <td>2213.00</td>\n",
       "      <td>2213.00</td>\n",
       "      <td>2213.00</td>\n",
       "    </tr>\n",
       "    <tr>\n",
       "      <td>mean</td>\n",
       "      <td>1246.08</td>\n",
       "      <td>58.05</td>\n",
       "      <td>414.81</td>\n",
       "      <td>32.95</td>\n",
       "      <td>16.28</td>\n",
       "      <td>684.30</td>\n",
       "    </tr>\n",
       "    <tr>\n",
       "      <td>std</td>\n",
       "      <td>146.30</td>\n",
       "      <td>25.42</td>\n",
       "      <td>186.03</td>\n",
       "      <td>27.55</td>\n",
       "      <td>5.72</td>\n",
       "      <td>238.42</td>\n",
       "    </tr>\n",
       "    <tr>\n",
       "      <td>min</td>\n",
       "      <td>1001.00</td>\n",
       "      <td>0.00</td>\n",
       "      <td>0.00</td>\n",
       "      <td>0.00</td>\n",
       "      <td>0.00</td>\n",
       "      <td>550.00</td>\n",
       "    </tr>\n",
       "    <tr>\n",
       "      <td>25%</td>\n",
       "      <td>1121.00</td>\n",
       "      <td>40.00</td>\n",
       "      <td>281.00</td>\n",
       "      <td>10.00</td>\n",
       "      <td>13.00</td>\n",
       "      <td>550.00</td>\n",
       "    </tr>\n",
       "    <tr>\n",
       "      <td>50%</td>\n",
       "      <td>1239.00</td>\n",
       "      <td>59.00</td>\n",
       "      <td>421.00</td>\n",
       "      <td>28.00</td>\n",
       "      <td>17.00</td>\n",
       "      <td>550.00</td>\n",
       "    </tr>\n",
       "    <tr>\n",
       "      <td>75%</td>\n",
       "      <td>1376.00</td>\n",
       "      <td>76.00</td>\n",
       "      <td>543.00</td>\n",
       "      <td>50.00</td>\n",
       "      <td>20.00</td>\n",
       "      <td>712.00</td>\n",
       "    </tr>\n",
       "    <tr>\n",
       "      <td>max</td>\n",
       "      <td>1499.00</td>\n",
       "      <td>136.00</td>\n",
       "      <td>965.00</td>\n",
       "      <td>124.00</td>\n",
       "      <td>37.00</td>\n",
       "      <td>1945.00</td>\n",
       "    </tr>\n",
       "  </tbody>\n",
       "</table>\n",
       "</div>"
      ],
      "text/plain": [
       "       user_id  calls_count  calls_duration  messages  mb_used  earnings\n",
       "count  2213.00      2213.00         2213.00   2213.00  2213.00   2213.00\n",
       "mean   1246.08        58.05          414.81     32.95    16.28    684.30\n",
       "std     146.30        25.42          186.03     27.55     5.72    238.42\n",
       "min    1001.00         0.00            0.00      0.00     0.00    550.00\n",
       "25%    1121.00        40.00          281.00     10.00    13.00    550.00\n",
       "50%    1239.00        59.00          421.00     28.00    17.00    550.00\n",
       "75%    1376.00        76.00          543.00     50.00    20.00    712.00\n",
       "max    1499.00       136.00          965.00    124.00    37.00   1945.00"
      ]
     },
     "execution_count": 34,
     "metadata": {},
     "output_type": "execute_result"
    }
   ],
   "source": [
    "tarif_smart = tab_filter.loc[tab_filter['tariff']=='smart']\n",
    "tarif_ultra = tab_filter.loc[tab_filter['tariff']=='ultra']\n",
    "round(tarif_smart.describe(), 2)\n"
   ]
  },
  {
   "cell_type": "code",
   "execution_count": 35,
   "metadata": {},
   "outputs": [
    {
     "data": {
      "text/html": [
       "<div>\n",
       "<style scoped>\n",
       "    .dataframe tbody tr th:only-of-type {\n",
       "        vertical-align: middle;\n",
       "    }\n",
       "\n",
       "    .dataframe tbody tr th {\n",
       "        vertical-align: top;\n",
       "    }\n",
       "\n",
       "    .dataframe thead th {\n",
       "        text-align: right;\n",
       "    }\n",
       "</style>\n",
       "<table border=\"1\" class=\"dataframe\">\n",
       "  <thead>\n",
       "    <tr style=\"text-align: right;\">\n",
       "      <th></th>\n",
       "      <th>user_id</th>\n",
       "      <th>calls_count</th>\n",
       "      <th>calls_duration</th>\n",
       "      <th>messages</th>\n",
       "      <th>mb_used</th>\n",
       "      <th>earnings</th>\n",
       "    </tr>\n",
       "  </thead>\n",
       "  <tbody>\n",
       "    <tr>\n",
       "      <td>count</td>\n",
       "      <td>828.00</td>\n",
       "      <td>828.00</td>\n",
       "      <td>828.00</td>\n",
       "      <td>828.00</td>\n",
       "      <td>828.00</td>\n",
       "      <td>828.0</td>\n",
       "    </tr>\n",
       "    <tr>\n",
       "      <td>mean</td>\n",
       "      <td>1267.71</td>\n",
       "      <td>66.66</td>\n",
       "      <td>478.18</td>\n",
       "      <td>36.86</td>\n",
       "      <td>18.75</td>\n",
       "      <td>1950.0</td>\n",
       "    </tr>\n",
       "    <tr>\n",
       "      <td>std</td>\n",
       "      <td>142.47</td>\n",
       "      <td>36.44</td>\n",
       "      <td>263.55</td>\n",
       "      <td>34.18</td>\n",
       "      <td>9.77</td>\n",
       "      <td>0.0</td>\n",
       "    </tr>\n",
       "    <tr>\n",
       "      <td>min</td>\n",
       "      <td>1000.00</td>\n",
       "      <td>0.00</td>\n",
       "      <td>0.00</td>\n",
       "      <td>0.00</td>\n",
       "      <td>0.00</td>\n",
       "      <td>1950.0</td>\n",
       "    </tr>\n",
       "    <tr>\n",
       "      <td>25%</td>\n",
       "      <td>1143.00</td>\n",
       "      <td>39.00</td>\n",
       "      <td>273.75</td>\n",
       "      <td>3.00</td>\n",
       "      <td>11.00</td>\n",
       "      <td>1950.0</td>\n",
       "    </tr>\n",
       "    <tr>\n",
       "      <td>50%</td>\n",
       "      <td>1292.00</td>\n",
       "      <td>68.00</td>\n",
       "      <td>495.50</td>\n",
       "      <td>29.00</td>\n",
       "      <td>18.00</td>\n",
       "      <td>1950.0</td>\n",
       "    </tr>\n",
       "    <tr>\n",
       "      <td>75%</td>\n",
       "      <td>1391.00</td>\n",
       "      <td>95.00</td>\n",
       "      <td>685.50</td>\n",
       "      <td>61.00</td>\n",
       "      <td>26.00</td>\n",
       "      <td>1950.0</td>\n",
       "    </tr>\n",
       "    <tr>\n",
       "      <td>max</td>\n",
       "      <td>1495.00</td>\n",
       "      <td>155.00</td>\n",
       "      <td>999.00</td>\n",
       "      <td>124.00</td>\n",
       "      <td>48.00</td>\n",
       "      <td>1950.0</td>\n",
       "    </tr>\n",
       "  </tbody>\n",
       "</table>\n",
       "</div>"
      ],
      "text/plain": [
       "       user_id  calls_count  calls_duration  messages  mb_used  earnings\n",
       "count   828.00       828.00          828.00    828.00   828.00     828.0\n",
       "mean   1267.71        66.66          478.18     36.86    18.75    1950.0\n",
       "std     142.47        36.44          263.55     34.18     9.77       0.0\n",
       "min    1000.00         0.00            0.00      0.00     0.00    1950.0\n",
       "25%    1143.00        39.00          273.75      3.00    11.00    1950.0\n",
       "50%    1292.00        68.00          495.50     29.00    18.00    1950.0\n",
       "75%    1391.00        95.00          685.50     61.00    26.00    1950.0\n",
       "max    1495.00       155.00          999.00    124.00    48.00    1950.0"
      ]
     },
     "execution_count": 35,
     "metadata": {},
     "output_type": "execute_result"
    }
   ],
   "source": [
    "round(tarif_ultra.describe(),2)"
   ]
  },
  {
   "cell_type": "code",
   "execution_count": 36,
   "metadata": {},
   "outputs": [
    {
     "name": "stdout",
     "output_type": "stream",
     "text": [
      "Среднее значение calls_duration тарифа smart отличается от  ultra на -63.4\n",
      "Медиана calls_duration тарифа smart отличается от  ultra на -74.5\n",
      "Стандартное отклонение calls_duration тарифа smart отличается от  ultra на -77.5\n",
      "____________________\n",
      "Среднее значение mb_used тарифа smart отличается от  ultra на -2.5\n",
      "Медиана mb_used тарифа smart отличается от  ultra на -1.0\n",
      "Стандартное отклонение mb_used тарифа smart отличается от  ultra на -4.0\n",
      "____________________\n",
      "Среднее значение messages тарифа smart отличается от  ultra на -3.9\n",
      "Медиана messages тарифа smart отличается от  ultra на -1.0\n",
      "Стандартное отклонение messages тарифа smart отличается от  ultra на -6.6\n",
      "____________________\n"
     ]
    }
   ],
   "source": [
    "for column in columns_list:\n",
    "    mean_difference = round(tarif_smart[column].describe()[1] - tarif_ultra[column].describe()[1]\n",
    "                            ,ndigits=1\n",
    "                           )\n",
    "    median_difference = round(tarif_smart[column].describe()[5] - tarif_ultra[column].describe()[5],\n",
    "                             ndigits=1)\n",
    "    std_difference = round(tarif_smart[column].describe()[2] - tarif_ultra[column].describe()[2],\n",
    "                           ndigits=1)\n",
    "                           \n",
    "    print('Среднее значение {} тарифа smart отличается от  ultra на {}'.format(column, mean_difference))\n",
    "    print('Медиана {} тарифа smart отличается от  ultra на {}'.format(column, median_difference))\n",
    "    print('Стандартное отклонение {} тарифа smart отличается от  ultra на {}\\n____________________'.format(column, std_difference))                       \n",
    "   \n"
   ]
  },
  {
   "cell_type": "markdown",
   "metadata": {},
   "source": [
    "Сравнение средних и медианных значений, а также стандартное отклонение тарифов смарт и ультра. "
   ]
  },
  {
   "cell_type": "code",
   "execution_count": 37,
   "metadata": {},
   "outputs": [
    {
     "name": "stdout",
     "output_type": "stream",
     "text": [
      "Среднее значение calls_duration тарифа smart:415\n",
      "Медиана calls_duration тарифа smart:421\n",
      "Дисперсия calls_duration тарифа smart:34596\n",
      "Стандартное отклонение calls_duration тарифа smart:186\n",
      "____________________\n",
      "Среднее значение calls_duration тарифа ultra:478\n",
      "Медиана calls_duration тарифа ultra:496\n",
      "Дисперсия calls_duration тарифа ultra:69696\n",
      "Стандартное отклонение calls_duration тарифа ultra: 264\n",
      "____________________\n",
      "Среднее значение mb_used тарифа smart:16\n",
      "Медиана mb_used тарифа smart:17\n",
      "Дисперсия mb_used тарифа smart:36\n",
      "Стандартное отклонение mb_used тарифа smart:6\n",
      "____________________\n",
      "Среднее значение mb_used тарифа ultra:19\n",
      "Медиана mb_used тарифа ultra:18\n",
      "Дисперсия mb_used тарифа ultra:100\n",
      "Стандартное отклонение mb_used тарифа ultra: 10\n",
      "____________________\n",
      "Среднее значение messages тарифа smart:33\n",
      "Медиана messages тарифа smart:28\n",
      "Дисперсия messages тарифа smart:784\n",
      "Стандартное отклонение messages тарифа smart:28\n",
      "____________________\n",
      "Среднее значение messages тарифа ultra:37\n",
      "Медиана messages тарифа ultra:29\n",
      "Дисперсия messages тарифа ultra:1156\n",
      "Стандартное отклонение messages тарифа ultra: 34\n",
      "____________________\n"
     ]
    }
   ],
   "source": [
    "for column in columns_list:\n",
    "    mean_smart = round(tarif_smart[column].describe()[1])\n",
    "    median_smart = round(tarif_smart[column].describe()[5])\n",
    "    std_smart = round(tarif_smart[column].describe()[2])\n",
    "    mean_ultra = round(tarif_ultra[column].describe()[1])\n",
    "    median_ultra = round(tarif_ultra[column].describe()[5])\n",
    "    std_ultra = round(tarif_ultra[column].describe()[2])\n",
    "    var_smart = std_smart**2\n",
    "    var_ultra = std_ultra**2\n",
    "                           \n",
    "    print('Среднее значение {} тарифа smart:{}'.format(column, mean_smart))\n",
    "    print('Медиана {} тарифа smart:{}'.format(column, median_smart))\n",
    "    print('Дисперсия {} тарифа smart:{}'.format(column, var_smart))\n",
    "    print('Стандартное отклонение {} тарифа smart:{}\\n____________________'.format(column, std_smart))\n",
    "    print('Среднее значение {} тарифа ultra:{}'.format(column, mean_ultra))\n",
    "    print('Медиана {} тарифа ultra:{}'.format(column, median_ultra))\n",
    "    print('Дисперсия {} тарифа ultra:{}'.format(column, var_ultra))\n",
    "    print('Стандартное отклонение {} тарифа ultra: {}\\n____________________'.format(column, std_ultra))\n",
    "\n",
    "\n",
    "   \n"
   ]
  },
  {
   "cell_type": "code",
   "execution_count": 38,
   "metadata": {},
   "outputs": [
    {
     "data": {
      "text/plain": [
       "tariff\n",
       "smart    351\n",
       "ultra    149\n",
       "Name: tariff, dtype: int64"
      ]
     },
     "metadata": {},
     "output_type": "display_data"
    },
    {
     "data": {
      "text/plain": [
       "<matplotlib.axes._subplots.AxesSubplot at 0x7f8b9934bc50>"
      ]
     },
     "execution_count": 38,
     "metadata": {},
     "output_type": "execute_result"
    },
    {
     "data": {
      "image/png": "[encoded data removed]",
      "text/plain": [
       "<Figure size 432x288 with 1 Axes>"
      ]
     },
     "metadata": {},
     "output_type": "display_data"
    }
   ],
   "source": [
    "display(users.groupby('tariff')['tariff'].count())\n",
    "users.groupby('tariff')['tariff'].count().plot(kind='pie', title='Доля тарифов в выборке')"
   ]
  },
  {
   "cell_type": "code",
   "execution_count": 39,
   "metadata": {},
   "outputs": [
    {
     "data": {
      "image/png": "[encoded data removed]",
      "text/plain": [
       "<Figure size 1440x360 with 3 Axes>"
      ]
     },
     "metadata": {
      "needs_background": "light"
     },
     "output_type": "display_data"
    },
    {
     "data": {
      "image/png": "[encoded data removed]",
      "text/plain": [
       "<Figure size 1440x360 with 3 Axes>"
      ]
     },
     "metadata": {
      "needs_background": "light"
     },
     "output_type": "display_data"
    }
   ],
   "source": [
    "fig, axs = plt.subplots(1,3, figsize=[20,5])\n",
    "fig.suptitle('Гистограммы плотности для количества звонков, потраченного трафика и отправленных сообщений тарифа smart',fontsize=18)\n",
    "for i, column in enumerate(columns_list):\n",
    "    sns.distplot(tarif_smart[column], ax=axs[i], color='green')\n",
    "    \n",
    "plt.show()\n",
    "\n",
    "fig, axs = plt.subplots(1,3, figsize=[20,5])\n",
    "fig.suptitle('Гистограммы плотности для количества звонков, потраченного трафика и отправленных сообщений тарифа ultra',fontsize=18)\n",
    "for i, column in enumerate(columns_list):\n",
    "    sns.distplot(tarif_ultra[column], ax=axs[i], color='red')"
   ]
  },
  {
   "cell_type": "markdown",
   "metadata": {},
   "source": [
    "#### Вывод"
   ]
  },
  {
   "cell_type": "markdown",
   "metadata": {},
   "source": [
    "В среднем, пользователи тарифа Ultra разговаривают на час больше, чем те, кто пользуется Smart'ом. Также, Ultra расходует на 1гб трафика больше, чем Smart. Разница в сообщениях незначительна. В остальном, графики обоих тарифов примерно схожи"
   ]
  },
  {
   "cell_type": "markdown",
   "metadata": {},
   "source": [
    "### Гипотезы "
   ]
  },
  {
   "cell_type": "code",
   "execution_count": 40,
   "metadata": {},
   "outputs": [
    {
     "name": "stdout",
     "output_type": "stream",
     "text": [
      "Выручка компании от каждого тарифа\n"
     ]
    },
    {
     "data": {
      "text/plain": [
       "tariff\n",
       "smart    1514360\n",
       "ultra    1614600\n",
       "Name: earnings, dtype: int64"
      ]
     },
     "metadata": {},
     "output_type": "display_data"
    },
    {
     "data": {
      "image/png": "[encoded data removed]",
      "text/plain": [
       "<Figure size 288x288 with 1 Axes>"
      ]
     },
     "metadata": {},
     "output_type": "display_data"
    }
   ],
   "source": [
    "print('Выручка компании от каждого тарифа')\n",
    "display(tab_filter.groupby('tariff')['earnings'].sum().astype(int))\n",
    "tab_filter.groupby('tariff')['earnings']\\\n",
    "    .sum().plot.pie(autopct='%.1f', fontsize=12, figsize=(4, 4))\n",
    "plt.show()"
   ]
  },
  {
   "cell_type": "markdown",
   "metadata": {},
   "source": [
    "#### Средняя выручка пользователей тарифов «Ультра» и «Смарт» различаются\n",
    "<b> Первая гипотеза - средняя выручка компании от пользователей тарифов Ultra и Smart различаются. </b>\n",
    "\n",
    "Проверка двух совокупностей на равенство их средних (st.ttest_ind). Первая совокупность - это пользователи smart, вторая - ultra. В каждой выборке больше 30 наблюдений: можно применить t-критерий. \n",
    "\n",
    "Н0 - средняя выручка компании от пользователей тарифов «Ультра» и «Смарт» одинаковая\n",
    "H1 - средняя выручка компании от пользователей тарифов «Ультра» и «Смарт» отличается\n",
    "\n",
    "Уровень значимости зададим равным .05\n",
    "\n",
    "Дисперсии выборок не равны, а значит equal_var = False\n"
   ]
  },
  {
   "cell_type": "code",
   "execution_count": 41,
   "metadata": {},
   "outputs": [
    {
     "name": "stdout",
     "output_type": "stream",
     "text": [
      "0.0\n",
      "Отвергаем нулевую гипотезу\n"
     ]
    }
   ],
   "source": [
    "alpha = .05\n",
    "results = st.ttest_ind(tarif_smart['earnings'], tarif_ultra['earnings'], equal_var=False)\n",
    "print(results.pvalue)\n",
    "if (results.pvalue < alpha):\n",
    "    print(\"Отвергаем нулевую гипотезу\")\n",
    "else:\n",
    "    print(\"Не получилось отвергнуть нулевую гипотезу\")"
   ]
  },
  {
   "cell_type": "markdown",
   "metadata": {},
   "source": [
    "p-уровень значимости получился крайне маленьким, что свидетельствует о ничтожно малом шансе жизнеспособности нашей нулевой гипотизы о том, что H0 верна и выручки двух тарифов будут равны. H0 отвергается."
   ]
  },
  {
   "cell_type": "code",
   "execution_count": 42,
   "metadata": {
    "scrolled": true
   },
   "outputs": [
    {
     "name": "stdout",
     "output_type": "stream",
     "text": [
      "Средняя выручка компании от тарифа smart - 684 \n",
      "Выручка компании от тарифа smart - 1514360 \n",
      "\n",
      "Средняя выручка компании от тарифа ultra - 1950 \n",
      "Выручка компании от тарифа ultra - 1614600 \n"
     ]
    }
   ],
   "source": [
    "print('Средняя выручка компании от тарифа smart - {} '.format(round(tarif_smart['earnings'].describe()[1],\n",
    "                                                                       )))\n",
    "print('Выручка компании от тарифа smart - {} '.format(tarif_smart['earnings'].sum()))\n",
    "print()\n",
    "print('Средняя выручка компании от тарифа ultra - {} '.format(round(tarif_ultra['earnings'].describe()[1])))\n",
    "print('Выручка компании от тарифа ultra - {} '.format(tarif_ultra['earnings'].sum()))"
   ]
  },
  {
   "cell_type": "markdown",
   "metadata": {},
   "source": [
    "В данном анализе был использован t-критерий. Также проверка гипотезы о равенстве среднего двух генеральных совокупностей проводилась по взятым из них выборкам (на круговой диаграмме выше показано разделение по тарифам). Альтернативная гипотеза заключалась в том, что средняя выручка компании от разных тарифов не равна. "
   ]
  },
  {
   "cell_type": "markdown",
   "metadata": {},
   "source": [
    "#### Средняя выручка пользователей из Москвы отличается от выручки пользователей из других регионов.\n"
   ]
  },
  {
   "cell_type": "code",
   "execution_count": 43,
   "metadata": {},
   "outputs": [
    {
     "name": "stdout",
     "output_type": "stream",
     "text": [
      "0.0051281924405379665\n",
      "Отвергаем нулевую гипотезу\n"
     ]
    }
   ],
   "source": [
    "moscow_earnings = tab_filter.loc[tab_filter['city']== 'Москва','earnings'] \n",
    "regions_earnings = tab_filter.loc[tab_filter['city'] != 'Москва','earnings'] \n",
    "results2 = st.ttest_ind(moscow_earnings, regions_earnings, equal_var=False) #equal_var False потому что\n",
    "# дисперсии у этих выборок неравны. \n",
    "print(results2.pvalue)\n",
    "if (results2.pvalue < alpha):\n",
    "    print(\"Отвергаем нулевую гипотезу\")\n",
    "else:\n",
    "    print(\"Не получилось отвергнуть нулевую гипотезу\")"
   ]
  },
  {
   "cell_type": "markdown",
   "metadata": {},
   "source": [
    "51% вероятность получить результат, что выручка в регионах и в Москве будут одинаковыми. Нулевая гипотеза о том, что выручка отличается, отвергается"
   ]
  },
  {
   "cell_type": "markdown",
   "metadata": {},
   "source": [
    "### Общий вывод"
   ]
  },
  {
   "cell_type": "markdown",
   "metadata": {},
   "source": [
    "Данные оказались довольно \"чистыми\". Единственное, что пришлось - это удалить столбец Unnamed в датасете интернет-трафика, который дублировал индексы.\n",
    "<br>\n",
    "<br>\n",
    "С помощью функции из данных были отобраны выборки, наиболее близкие к нормальному распределению, без выбросов. </br> \n",
    "<br>\n",
    "<br>\n",
    "Средняя выручка компании от одного пользователя тарифа ultra больше, чем от smart. Кроме того, можно сделать вывод, что пользователи тарифа ultra укладываются в рамки своего тарифного плана и редко доплачивают за доп минуты/трафик/сообщения. Вывод сделан на основании того, что средняя выручка компании примерно равна стоимости пакета.</br>\n",
    "<br>\n",
    "<br>\n",
    "Суммарные же показатели указывают на то, что в нашей выборке больше клиентов с тарифом smart, тем не менее, около 35% процентов всей выручки составляет выручка от тарифа ultra. </br> \n",
    "<br>\n",
    "<br>\n",
    "СМС оказались непопулярны в двух тарифах. Можно посоветовать компании сократить количество предоставляемых СМС в пользу интернет-трафика, к примеру. </br> \n",
    "<br> \n",
    "<br>\n",
    "Среднее выручка у тарифа ultra больше, чем у тарифа smart, и несмотря на то, что в выборке подавляющее большинство занимали пользователи тарифа smart, выручка тарифа ultra не сильно уступала (круговая диаграмма 65% против 35%). Поэтому компании стиот уделить особое внимание тарифу ultra\n",
    "\n"
   ]
  }
 ],
 "metadata": {
  "ExecuteTimeLog": [
   {
    "duration": 988,
    "start_time": "2022-02-24T09:44:43.127Z"
   },
   {
    "duration": 46,
    "start_time": "2022-02-24T09:45:02.365Z"
   },
   {
    "duration": 4,
    "start_time": "2022-02-24T09:45:06.912Z"
   },
   {
    "duration": 380,
    "start_time": "2022-02-24T09:45:58.110Z"
   },
   {
    "duration": 8,
    "start_time": "2022-02-24T09:48:35.223Z"
   },
   {
    "duration": 21,
    "start_time": "2022-02-24T09:49:38.284Z"
   },
   {
    "duration": 14,
    "start_time": "2022-02-24T09:50:51.191Z"
   },
   {
    "duration": 20,
    "start_time": "2022-02-24T09:51:42.597Z"
   },
   {
    "duration": 6,
    "start_time": "2022-02-24T09:52:07.598Z"
   },
   {
    "duration": 5,
    "start_time": "2022-02-24T09:52:29.407Z"
   },
   {
    "duration": 269,
    "start_time": "2022-02-24T09:52:34.997Z"
   },
   {
    "duration": 10,
    "start_time": "2022-02-24T09:52:40.052Z"
   },
   {
    "duration": 9,
    "start_time": "2022-02-24T09:55:19.664Z"
   },
   {
    "duration": 3,
    "start_time": "2022-02-24T12:00:50.324Z"
   },
   {
    "duration": 50,
    "start_time": "2022-02-24T12:05:15.214Z"
   },
   {
    "duration": 4,
    "start_time": "2022-02-24T12:05:41.680Z"
   },
   {
    "duration": 82,
    "start_time": "2022-02-24T12:05:50.141Z"
   },
   {
    "duration": 7,
    "start_time": "2022-02-24T12:05:57.194Z"
   },
   {
    "duration": 113,
    "start_time": "2022-02-24T12:06:04.957Z"
   },
   {
    "duration": 7,
    "start_time": "2022-02-24T12:06:05.926Z"
   },
   {
    "duration": 11,
    "start_time": "2022-02-24T12:06:29.062Z"
   },
   {
    "duration": 5,
    "start_time": "2022-02-24T12:08:25.005Z"
   },
   {
    "duration": 136,
    "start_time": "2022-02-24T12:08:33.076Z"
   },
   {
    "duration": 128,
    "start_time": "2022-02-24T12:08:35.253Z"
   },
   {
    "duration": 6,
    "start_time": "2022-02-24T12:08:41.626Z"
   },
   {
    "duration": 3,
    "start_time": "2022-02-24T12:08:58.325Z"
   },
   {
    "duration": 367,
    "start_time": "2022-02-24T12:08:58.329Z"
   },
   {
    "duration": 6,
    "start_time": "2022-02-24T12:08:58.698Z"
   },
   {
    "duration": 31,
    "start_time": "2022-02-24T12:08:58.706Z"
   },
   {
    "duration": 14,
    "start_time": "2022-02-24T12:08:58.739Z"
   },
   {
    "duration": 18,
    "start_time": "2022-02-24T12:08:58.755Z"
   },
   {
    "duration": 5,
    "start_time": "2022-02-24T12:08:58.775Z"
   },
   {
    "duration": 49,
    "start_time": "2022-02-24T12:09:00.542Z"
   },
   {
    "duration": 52,
    "start_time": "2022-02-24T12:09:10.911Z"
   },
   {
    "duration": 42,
    "start_time": "2022-02-24T12:09:22.279Z"
   },
   {
    "duration": 49,
    "start_time": "2022-02-24T12:09:26.859Z"
   },
   {
    "duration": 86,
    "start_time": "2022-02-24T12:09:47.076Z"
   },
   {
    "duration": 2,
    "start_time": "2022-02-24T12:09:50.158Z"
   },
   {
    "duration": 370,
    "start_time": "2022-02-24T12:09:50.162Z"
   },
   {
    "duration": 6,
    "start_time": "2022-02-24T12:09:50.534Z"
   },
   {
    "duration": 23,
    "start_time": "2022-02-24T12:09:50.542Z"
   },
   {
    "duration": 15,
    "start_time": "2022-02-24T12:09:50.566Z"
   },
   {
    "duration": 17,
    "start_time": "2022-02-24T12:09:50.582Z"
   },
   {
    "duration": 31,
    "start_time": "2022-02-24T12:09:50.601Z"
   },
   {
    "duration": 93,
    "start_time": "2022-02-24T12:09:50.635Z"
   },
   {
    "duration": 9,
    "start_time": "2022-02-24T12:09:52.485Z"
   },
   {
    "duration": 6,
    "start_time": "2022-02-24T12:10:11.419Z"
   },
   {
    "duration": 3,
    "start_time": "2022-02-24T12:10:24.528Z"
   },
   {
    "duration": 372,
    "start_time": "2022-02-24T12:10:24.533Z"
   },
   {
    "duration": 6,
    "start_time": "2022-02-24T12:10:24.907Z"
   },
   {
    "duration": 29,
    "start_time": "2022-02-24T12:10:24.915Z"
   },
   {
    "duration": 14,
    "start_time": "2022-02-24T12:10:24.946Z"
   },
   {
    "duration": 18,
    "start_time": "2022-02-24T12:10:24.961Z"
   },
   {
    "duration": 8,
    "start_time": "2022-02-24T12:10:24.980Z"
   },
   {
    "duration": 92,
    "start_time": "2022-02-24T12:12:10.898Z"
   },
   {
    "duration": 7,
    "start_time": "2022-02-24T12:12:15.427Z"
   },
   {
    "duration": 41487,
    "start_time": "2022-02-24T12:15:19.633Z"
   },
   {
    "duration": 20,
    "start_time": "2022-02-24T12:16:01.153Z"
   },
   {
    "duration": 377,
    "start_time": "2022-02-24T16:32:56.393Z"
   },
   {
    "duration": 1377,
    "start_time": "2022-02-24T16:33:02.539Z"
   },
   {
    "duration": 507,
    "start_time": "2022-02-24T16:33:03.919Z"
   },
   {
    "duration": 10,
    "start_time": "2022-02-24T16:33:04.429Z"
   },
   {
    "duration": 39,
    "start_time": "2022-02-24T16:33:04.442Z"
   },
   {
    "duration": 18,
    "start_time": "2022-02-24T16:33:04.484Z"
   },
   {
    "duration": 26,
    "start_time": "2022-02-24T16:33:04.504Z"
   },
   {
    "duration": 29,
    "start_time": "2022-02-24T16:33:04.533Z"
   },
   {
    "duration": 22599,
    "start_time": "2022-02-24T16:33:04.564Z"
   },
   {
    "duration": 665,
    "start_time": "2022-02-24T16:33:26.505Z"
   },
   {
    "duration": 1322,
    "start_time": "2022-02-24T16:33:46.710Z"
   },
   {
    "duration": 508,
    "start_time": "2022-02-24T16:33:48.035Z"
   },
   {
    "duration": 10,
    "start_time": "2022-02-24T16:33:48.547Z"
   },
   {
    "duration": 30,
    "start_time": "2022-02-24T16:33:48.560Z"
   },
   {
    "duration": 19,
    "start_time": "2022-02-24T16:33:48.593Z"
   },
   {
    "duration": 54,
    "start_time": "2022-02-24T16:33:48.614Z"
   },
   {
    "duration": 9,
    "start_time": "2022-02-24T16:33:48.671Z"
   },
   {
    "duration": 25817,
    "start_time": "2022-02-24T16:33:48.683Z"
   },
   {
    "duration": 653,
    "start_time": "2022-02-24T16:34:13.849Z"
   },
   {
    "duration": 1335,
    "start_time": "2022-02-24T16:35:18.507Z"
   },
   {
    "duration": 531,
    "start_time": "2022-02-24T16:35:19.845Z"
   },
   {
    "duration": 10,
    "start_time": "2022-02-24T16:35:20.379Z"
   },
   {
    "duration": 30,
    "start_time": "2022-02-24T16:35:20.392Z"
   },
   {
    "duration": 37,
    "start_time": "2022-02-24T16:35:20.424Z"
   },
   {
    "duration": 26,
    "start_time": "2022-02-24T16:35:20.464Z"
   },
   {
    "duration": 10,
    "start_time": "2022-02-24T16:35:20.493Z"
   },
   {
    "duration": 97,
    "start_time": "2022-02-24T16:35:22.776Z"
   },
   {
    "duration": 117,
    "start_time": "2022-02-24T16:35:23.863Z"
   },
   {
    "duration": 9,
    "start_time": "2022-02-24T16:35:28.773Z"
   },
   {
    "duration": 94,
    "start_time": "2022-02-24T16:35:31.796Z"
   },
   {
    "duration": 56,
    "start_time": "2022-02-24T16:35:36.919Z"
   },
   {
    "duration": 102,
    "start_time": "2022-02-24T16:38:13.359Z"
   },
   {
    "duration": 126,
    "start_time": "2022-02-24T16:38:39.432Z"
   },
   {
    "duration": 228,
    "start_time": "2022-02-24T16:41:34.436Z"
   },
   {
    "duration": 37,
    "start_time": "2022-02-24T16:45:40.601Z"
   },
   {
    "duration": 34,
    "start_time": "2022-02-24T16:45:53.026Z"
   },
   {
    "duration": 19,
    "start_time": "2022-02-24T16:46:00.093Z"
   },
   {
    "duration": 21,
    "start_time": "2022-02-24T16:46:04.965Z"
   },
   {
    "duration": 32,
    "start_time": "2022-02-24T16:47:36.339Z"
   },
   {
    "duration": 7,
    "start_time": "2022-02-24T16:47:45.600Z"
   },
   {
    "duration": 11,
    "start_time": "2022-02-24T16:47:53.356Z"
   },
   {
    "duration": 65,
    "start_time": "2022-02-24T16:54:11.911Z"
   },
   {
    "duration": 7,
    "start_time": "2022-02-24T16:56:43.330Z"
   },
   {
    "duration": 85,
    "start_time": "2022-02-24T16:57:48.563Z"
   },
   {
    "duration": 7,
    "start_time": "2022-02-24T16:57:49.960Z"
   },
   {
    "duration": 69,
    "start_time": "2022-02-24T16:59:13.880Z"
   },
   {
    "duration": 7,
    "start_time": "2022-02-24T16:59:14.608Z"
   },
   {
    "duration": 7,
    "start_time": "2022-02-24T16:59:18.244Z"
   },
   {
    "duration": 65,
    "start_time": "2022-02-24T17:03:44.141Z"
   },
   {
    "duration": 59,
    "start_time": "2022-02-24T17:04:01.066Z"
   },
   {
    "duration": 537,
    "start_time": "2022-02-24T17:04:04.326Z"
   },
   {
    "duration": 56,
    "start_time": "2022-02-24T17:04:07.269Z"
   },
   {
    "duration": 63,
    "start_time": "2022-02-24T17:04:24.024Z"
   },
   {
    "duration": 381,
    "start_time": "2022-02-24T17:05:07.479Z"
   },
   {
    "duration": 65,
    "start_time": "2022-02-24T17:05:15.776Z"
   },
   {
    "duration": 386,
    "start_time": "2022-02-24T17:06:20.804Z"
   },
   {
    "duration": 336,
    "start_time": "2022-02-24T17:06:33.667Z"
   },
   {
    "duration": 333,
    "start_time": "2022-02-24T17:06:39.114Z"
   },
   {
    "duration": 5,
    "start_time": "2022-02-24T17:06:45.292Z"
   },
   {
    "duration": 493,
    "start_time": "2022-02-24T17:06:45.299Z"
   },
   {
    "duration": 9,
    "start_time": "2022-02-24T17:06:45.795Z"
   },
   {
    "duration": 37,
    "start_time": "2022-02-24T17:06:45.806Z"
   },
   {
    "duration": 34,
    "start_time": "2022-02-24T17:06:45.846Z"
   },
   {
    "duration": 26,
    "start_time": "2022-02-24T17:06:45.882Z"
   },
   {
    "duration": 19,
    "start_time": "2022-02-24T17:06:45.911Z"
   },
   {
    "duration": 108,
    "start_time": "2022-02-24T17:06:45.933Z"
   },
   {
    "duration": 240,
    "start_time": "2022-02-24T17:06:46.044Z"
   },
   {
    "duration": 75,
    "start_time": "2022-02-24T17:06:46.286Z"
   },
   {
    "duration": 75,
    "start_time": "2022-02-24T17:06:46.363Z"
   },
   {
    "duration": 58,
    "start_time": "2022-02-24T17:06:49.763Z"
   },
   {
    "duration": 5,
    "start_time": "2022-02-24T17:07:37.110Z"
   },
   {
    "duration": 485,
    "start_time": "2022-02-24T17:07:37.117Z"
   },
   {
    "duration": 8,
    "start_time": "2022-02-24T17:07:37.605Z"
   },
   {
    "duration": 45,
    "start_time": "2022-02-24T17:07:37.616Z"
   },
   {
    "duration": 19,
    "start_time": "2022-02-24T17:07:37.663Z"
   },
   {
    "duration": 24,
    "start_time": "2022-02-24T17:07:37.685Z"
   },
   {
    "duration": 9,
    "start_time": "2022-02-24T17:07:37.711Z"
   },
   {
    "duration": 122,
    "start_time": "2022-02-24T17:07:37.722Z"
   },
   {
    "duration": 234,
    "start_time": "2022-02-24T17:07:37.846Z"
   },
   {
    "duration": 64,
    "start_time": "2022-02-24T17:07:38.083Z"
   },
   {
    "duration": 82,
    "start_time": "2022-02-24T17:07:38.149Z"
   },
   {
    "duration": 58,
    "start_time": "2022-02-24T17:07:38.814Z"
   },
   {
    "duration": 4,
    "start_time": "2022-02-24T17:34:08.715Z"
   },
   {
    "duration": 484,
    "start_time": "2022-02-24T17:34:08.722Z"
   },
   {
    "duration": 9,
    "start_time": "2022-02-24T17:34:09.209Z"
   },
   {
    "duration": 47,
    "start_time": "2022-02-24T17:34:09.221Z"
   },
   {
    "duration": 20,
    "start_time": "2022-02-24T17:34:09.270Z"
   },
   {
    "duration": 23,
    "start_time": "2022-02-24T17:34:09.292Z"
   },
   {
    "duration": 45,
    "start_time": "2022-02-24T17:34:09.318Z"
   },
   {
    "duration": 110,
    "start_time": "2022-02-24T17:34:09.368Z"
   },
   {
    "duration": 240,
    "start_time": "2022-02-24T17:34:09.480Z"
   },
   {
    "duration": 81,
    "start_time": "2022-02-24T17:34:09.723Z"
   },
   {
    "duration": 85,
    "start_time": "2022-02-24T17:34:09.807Z"
   },
   {
    "duration": 51,
    "start_time": "2022-02-24T17:34:12.696Z"
   },
   {
    "duration": 9108,
    "start_time": "2022-02-24T17:35:20.464Z"
   },
   {
    "duration": 4,
    "start_time": "2022-02-24T17:35:40.292Z"
   },
   {
    "duration": 488,
    "start_time": "2022-02-24T17:35:40.299Z"
   },
   {
    "duration": 10,
    "start_time": "2022-02-24T17:35:40.790Z"
   },
   {
    "duration": 43,
    "start_time": "2022-02-24T17:35:40.803Z"
   },
   {
    "duration": 23,
    "start_time": "2022-02-24T17:35:40.848Z"
   },
   {
    "duration": 22,
    "start_time": "2022-02-24T17:35:40.873Z"
   },
   {
    "duration": 20,
    "start_time": "2022-02-24T17:35:40.897Z"
   },
   {
    "duration": 120,
    "start_time": "2022-02-24T17:35:40.921Z"
   },
   {
    "duration": 241,
    "start_time": "2022-02-24T17:35:41.044Z"
   },
   {
    "duration": 80,
    "start_time": "2022-02-24T17:35:41.287Z"
   },
   {
    "duration": 74,
    "start_time": "2022-02-24T17:35:41.370Z"
   },
   {
    "duration": 37,
    "start_time": "2022-02-24T17:35:53.455Z"
   },
   {
    "duration": 30,
    "start_time": "2022-02-24T17:36:05.926Z"
   },
   {
    "duration": 4,
    "start_time": "2022-02-24T17:39:07.065Z"
   },
   {
    "duration": 497,
    "start_time": "2022-02-24T17:39:07.071Z"
   },
   {
    "duration": 8,
    "start_time": "2022-02-24T17:39:07.571Z"
   },
   {
    "duration": 29,
    "start_time": "2022-02-24T17:39:07.582Z"
   },
   {
    "duration": 21,
    "start_time": "2022-02-24T17:39:07.613Z"
   },
   {
    "duration": 25,
    "start_time": "2022-02-24T17:39:07.662Z"
   },
   {
    "duration": 9,
    "start_time": "2022-02-24T17:39:07.690Z"
   },
   {
    "duration": 138,
    "start_time": "2022-02-24T17:39:07.704Z"
   },
   {
    "duration": 248,
    "start_time": "2022-02-24T17:39:07.845Z"
   },
   {
    "duration": 86,
    "start_time": "2022-02-24T17:39:08.096Z"
   },
   {
    "duration": 91,
    "start_time": "2022-02-24T17:39:08.185Z"
   },
   {
    "duration": 1392,
    "start_time": "2022-02-24T17:39:16.836Z"
   },
   {
    "duration": 515,
    "start_time": "2022-02-24T17:39:18.231Z"
   },
   {
    "duration": 15,
    "start_time": "2022-02-24T17:39:18.749Z"
   },
   {
    "duration": 30,
    "start_time": "2022-02-24T17:39:18.767Z"
   },
   {
    "duration": 20,
    "start_time": "2022-02-24T17:39:18.800Z"
   },
   {
    "duration": 55,
    "start_time": "2022-02-24T17:39:18.822Z"
   },
   {
    "duration": 10,
    "start_time": "2022-02-24T17:39:18.879Z"
   },
   {
    "duration": 130,
    "start_time": "2022-02-24T17:39:18.893Z"
   },
   {
    "duration": 255,
    "start_time": "2022-02-24T17:39:19.026Z"
   },
   {
    "duration": 85,
    "start_time": "2022-02-24T17:39:19.284Z"
   },
   {
    "duration": 95,
    "start_time": "2022-02-24T17:39:19.371Z"
   },
   {
    "duration": 56,
    "start_time": "2022-02-24T17:39:20.418Z"
   },
   {
    "duration": 137,
    "start_time": "2022-02-24T17:39:21.568Z"
   },
   {
    "duration": 441,
    "start_time": "2022-02-24T17:42:57.812Z"
   },
   {
    "duration": 1651,
    "start_time": "2022-02-24T17:43:46.689Z"
   },
   {
    "duration": 526,
    "start_time": "2022-02-24T17:43:48.344Z"
   },
   {
    "duration": 10,
    "start_time": "2022-02-24T17:43:48.873Z"
   },
   {
    "duration": 29,
    "start_time": "2022-02-24T17:43:48.887Z"
   },
   {
    "duration": 46,
    "start_time": "2022-02-24T17:43:48.919Z"
   },
   {
    "duration": 24,
    "start_time": "2022-02-24T17:43:48.968Z"
   },
   {
    "duration": 9,
    "start_time": "2022-02-24T17:43:48.995Z"
   },
   {
    "duration": 142,
    "start_time": "2022-02-24T17:43:49.007Z"
   },
   {
    "duration": 262,
    "start_time": "2022-02-24T17:43:49.152Z"
   },
   {
    "duration": 81,
    "start_time": "2022-02-24T17:43:49.417Z"
   },
   {
    "duration": 164,
    "start_time": "2022-02-24T17:43:50.497Z"
   },
   {
    "duration": 5,
    "start_time": "2022-02-24T17:44:19.777Z"
   },
   {
    "duration": 522,
    "start_time": "2022-02-24T17:44:19.785Z"
   },
   {
    "duration": 10,
    "start_time": "2022-02-24T17:44:20.310Z"
   },
   {
    "duration": 47,
    "start_time": "2022-02-24T17:44:20.323Z"
   },
   {
    "duration": 20,
    "start_time": "2022-02-24T17:44:20.373Z"
   },
   {
    "duration": 24,
    "start_time": "2022-02-24T17:44:20.396Z"
   },
   {
    "duration": 42,
    "start_time": "2022-02-24T17:44:20.422Z"
   },
   {
    "duration": 116,
    "start_time": "2022-02-24T17:44:20.467Z"
   },
   {
    "duration": 251,
    "start_time": "2022-02-24T17:44:20.586Z"
   },
   {
    "duration": 74,
    "start_time": "2022-02-24T17:44:20.840Z"
   },
   {
    "duration": 70,
    "start_time": "2022-02-24T17:44:23.059Z"
   },
   {
    "duration": 88,
    "start_time": "2022-02-24T17:44:23.718Z"
   },
   {
    "duration": 117,
    "start_time": "2022-02-24T17:44:24.785Z"
   },
   {
    "duration": 50,
    "start_time": "2022-02-24T17:44:26.228Z"
   },
   {
    "duration": 1373,
    "start_time": "2022-02-24T17:47:52.751Z"
   },
   {
    "duration": 518,
    "start_time": "2022-02-24T17:47:54.127Z"
   },
   {
    "duration": 11,
    "start_time": "2022-02-24T17:47:54.648Z"
   },
   {
    "duration": 29,
    "start_time": "2022-02-24T17:47:54.662Z"
   },
   {
    "duration": 18,
    "start_time": "2022-02-24T17:47:54.693Z"
   },
   {
    "duration": 51,
    "start_time": "2022-02-24T17:47:54.714Z"
   },
   {
    "duration": 10,
    "start_time": "2022-02-24T17:47:54.767Z"
   },
   {
    "duration": 123,
    "start_time": "2022-02-24T17:47:54.780Z"
   },
   {
    "duration": 256,
    "start_time": "2022-02-24T17:47:54.905Z"
   },
   {
    "duration": 75,
    "start_time": "2022-02-24T17:47:55.163Z"
   },
   {
    "duration": 108,
    "start_time": "2022-02-24T17:47:55.240Z"
   },
   {
    "duration": 57,
    "start_time": "2022-02-24T17:47:55.987Z"
   },
   {
    "duration": 131,
    "start_time": "2022-02-24T17:47:57.610Z"
   },
   {
    "duration": 43,
    "start_time": "2022-02-24T17:48:00.308Z"
   },
   {
    "duration": 1378,
    "start_time": "2022-02-24T17:54:23.152Z"
   },
   {
    "duration": 504,
    "start_time": "2022-02-24T17:54:24.532Z"
   },
   {
    "duration": 10,
    "start_time": "2022-02-24T17:54:25.039Z"
   },
   {
    "duration": 28,
    "start_time": "2022-02-24T17:54:25.052Z"
   },
   {
    "duration": 19,
    "start_time": "2022-02-24T17:54:25.082Z"
   },
   {
    "duration": 56,
    "start_time": "2022-02-24T17:54:25.104Z"
   },
   {
    "duration": 10,
    "start_time": "2022-02-24T17:54:25.163Z"
   },
   {
    "duration": 125,
    "start_time": "2022-02-24T17:54:25.176Z"
   },
   {
    "duration": 239,
    "start_time": "2022-02-24T17:54:25.304Z"
   },
   {
    "duration": 79,
    "start_time": "2022-02-24T17:54:25.545Z"
   },
   {
    "duration": 99,
    "start_time": "2022-02-24T17:54:25.626Z"
   },
   {
    "duration": 133,
    "start_time": "2022-02-24T17:54:25.728Z"
   },
   {
    "duration": 498,
    "start_time": "2022-02-24T17:54:29.372Z"
   },
   {
    "duration": 1322,
    "start_time": "2022-02-24T17:54:41.114Z"
   },
   {
    "duration": 515,
    "start_time": "2022-02-24T17:54:42.439Z"
   },
   {
    "duration": 11,
    "start_time": "2022-02-24T17:54:42.958Z"
   },
   {
    "duration": 31,
    "start_time": "2022-02-24T17:54:42.972Z"
   },
   {
    "duration": 20,
    "start_time": "2022-02-24T17:54:43.005Z"
   },
   {
    "duration": 51,
    "start_time": "2022-02-24T17:54:43.028Z"
   },
   {
    "duration": 8,
    "start_time": "2022-02-24T17:54:43.082Z"
   },
   {
    "duration": 125,
    "start_time": "2022-02-24T17:54:43.093Z"
   },
   {
    "duration": 259,
    "start_time": "2022-02-24T17:54:43.221Z"
   },
   {
    "duration": 87,
    "start_time": "2022-02-24T17:54:43.482Z"
   },
   {
    "duration": 99,
    "start_time": "2022-02-24T17:54:43.571Z"
   },
   {
    "duration": 131,
    "start_time": "2022-02-24T17:54:43.672Z"
   },
   {
    "duration": 39,
    "start_time": "2022-02-24T17:54:45.918Z"
   },
   {
    "duration": 31,
    "start_time": "2022-02-24T17:55:12.427Z"
   },
   {
    "duration": 26,
    "start_time": "2022-02-24T17:56:30.914Z"
   },
   {
    "duration": 106,
    "start_time": "2022-02-24T17:58:05.313Z"
   },
   {
    "duration": 486,
    "start_time": "2022-02-24T18:00:51.667Z"
   },
   {
    "duration": 11,
    "start_time": "2022-02-24T18:01:03.034Z"
   },
   {
    "duration": 4,
    "start_time": "2022-02-24T18:32:40.222Z"
   },
   {
    "duration": 536,
    "start_time": "2022-02-24T18:32:40.230Z"
   },
   {
    "duration": 8,
    "start_time": "2022-02-24T18:32:40.769Z"
   },
   {
    "duration": 28,
    "start_time": "2022-02-24T18:32:40.780Z"
   },
   {
    "duration": 21,
    "start_time": "2022-02-24T18:32:40.811Z"
   },
   {
    "duration": 49,
    "start_time": "2022-02-24T18:32:40.834Z"
   },
   {
    "duration": 12,
    "start_time": "2022-02-24T18:32:40.887Z"
   },
   {
    "duration": 129,
    "start_time": "2022-02-24T18:32:40.905Z"
   },
   {
    "duration": 246,
    "start_time": "2022-02-24T18:32:41.038Z"
   },
   {
    "duration": 86,
    "start_time": "2022-02-24T18:32:41.286Z"
   },
   {
    "duration": 101,
    "start_time": "2022-02-24T18:32:41.374Z"
   },
   {
    "duration": 135,
    "start_time": "2022-02-24T18:32:41.478Z"
   },
   {
    "duration": 48,
    "start_time": "2022-02-24T18:32:41.615Z"
   },
   {
    "duration": 34,
    "start_time": "2022-02-24T18:32:41.665Z"
   },
   {
    "duration": 25,
    "start_time": "2022-02-24T18:32:41.702Z"
   },
   {
    "duration": 14,
    "start_time": "2022-02-24T18:32:41.761Z"
   },
   {
    "duration": 9,
    "start_time": "2022-02-24T18:32:41.777Z"
   },
   {
    "duration": 645,
    "start_time": "2022-02-24T18:33:40.354Z"
   },
   {
    "duration": 4,
    "start_time": "2022-02-24T18:34:10.816Z"
   },
   {
    "duration": 482,
    "start_time": "2022-02-24T18:34:10.823Z"
   },
   {
    "duration": 9,
    "start_time": "2022-02-24T18:34:11.309Z"
   },
   {
    "duration": 40,
    "start_time": "2022-02-24T18:34:11.321Z"
   },
   {
    "duration": 18,
    "start_time": "2022-02-24T18:34:11.363Z"
   },
   {
    "duration": 22,
    "start_time": "2022-02-24T18:34:11.383Z"
   },
   {
    "duration": 8,
    "start_time": "2022-02-24T18:34:11.408Z"
   },
   {
    "duration": 132,
    "start_time": "2022-02-24T18:34:11.419Z"
   },
   {
    "duration": 227,
    "start_time": "2022-02-24T18:34:11.554Z"
   },
   {
    "duration": 80,
    "start_time": "2022-02-24T18:34:11.783Z"
   },
   {
    "duration": 95,
    "start_time": "2022-02-24T18:34:11.866Z"
   },
   {
    "duration": 122,
    "start_time": "2022-02-24T18:34:11.963Z"
   },
   {
    "duration": 39,
    "start_time": "2022-02-24T18:34:12.087Z"
   },
   {
    "duration": 51,
    "start_time": "2022-02-24T18:34:12.129Z"
   },
   {
    "duration": 25,
    "start_time": "2022-02-24T18:34:12.183Z"
   },
   {
    "duration": 13,
    "start_time": "2022-02-24T18:34:12.210Z"
   },
   {
    "duration": 43,
    "start_time": "2022-02-24T18:34:12.226Z"
   },
   {
    "duration": 657,
    "start_time": "2022-02-24T18:34:12.272Z"
   },
   {
    "duration": 646,
    "start_time": "2022-02-24T18:35:14.892Z"
   },
   {
    "duration": 1332,
    "start_time": "2022-02-24T18:36:09.794Z"
   },
   {
    "duration": 504,
    "start_time": "2022-02-24T18:36:11.129Z"
   },
   {
    "duration": 11,
    "start_time": "2022-02-24T18:36:11.636Z"
   },
   {
    "duration": 34,
    "start_time": "2022-02-24T18:36:11.651Z"
   },
   {
    "duration": 18,
    "start_time": "2022-02-24T18:36:11.688Z"
   },
   {
    "duration": 23,
    "start_time": "2022-02-24T18:36:11.709Z"
   },
   {
    "duration": 9,
    "start_time": "2022-02-24T18:36:11.763Z"
   },
   {
    "duration": 120,
    "start_time": "2022-02-24T18:36:11.776Z"
   },
   {
    "duration": 242,
    "start_time": "2022-02-24T18:36:11.900Z"
   },
   {
    "duration": 78,
    "start_time": "2022-02-24T18:36:12.144Z"
   },
   {
    "duration": 105,
    "start_time": "2022-02-24T18:36:12.224Z"
   },
   {
    "duration": 130,
    "start_time": "2022-02-24T18:36:12.332Z"
   },
   {
    "duration": 38,
    "start_time": "2022-02-24T18:36:12.464Z"
   },
   {
    "duration": 30,
    "start_time": "2022-02-24T18:36:12.505Z"
   },
   {
    "duration": 46,
    "start_time": "2022-02-24T18:36:12.537Z"
   },
   {
    "duration": 11,
    "start_time": "2022-02-24T18:36:12.585Z"
   },
   {
    "duration": 10,
    "start_time": "2022-02-24T18:36:12.598Z"
   },
   {
    "duration": 9758,
    "start_time": "2022-02-24T18:36:12.611Z"
   },
   {
    "duration": 4,
    "start_time": "2022-02-24T18:36:54.004Z"
   },
   {
    "duration": 493,
    "start_time": "2022-02-24T18:36:54.011Z"
   },
   {
    "duration": 9,
    "start_time": "2022-02-24T18:36:54.507Z"
   },
   {
    "duration": 42,
    "start_time": "2022-02-24T18:36:54.519Z"
   },
   {
    "duration": 19,
    "start_time": "2022-02-24T18:36:54.564Z"
   },
   {
    "duration": 23,
    "start_time": "2022-02-24T18:36:54.586Z"
   },
   {
    "duration": 9,
    "start_time": "2022-02-24T18:36:54.612Z"
   },
   {
    "duration": 122,
    "start_time": "2022-02-24T18:36:54.625Z"
   },
   {
    "duration": 252,
    "start_time": "2022-02-24T18:36:54.749Z"
   },
   {
    "duration": 79,
    "start_time": "2022-02-24T18:36:55.003Z"
   },
   {
    "duration": 87,
    "start_time": "2022-02-24T18:36:55.084Z"
   },
   {
    "duration": 124,
    "start_time": "2022-02-24T18:36:55.174Z"
   },
   {
    "duration": 35,
    "start_time": "2022-02-24T18:36:55.301Z"
   },
   {
    "duration": 45,
    "start_time": "2022-02-24T18:36:55.339Z"
   },
   {
    "duration": 26,
    "start_time": "2022-02-24T18:36:55.387Z"
   },
   {
    "duration": 11,
    "start_time": "2022-02-24T18:36:55.415Z"
   },
   {
    "duration": 38,
    "start_time": "2022-02-24T18:36:55.428Z"
   },
   {
    "duration": 4887,
    "start_time": "2022-02-24T18:36:55.469Z"
   },
   {
    "duration": 10,
    "start_time": "2022-02-24T18:38:20.559Z"
   },
   {
    "duration": 262,
    "start_time": "2022-02-25T09:26:52.417Z"
   },
   {
    "duration": 1072,
    "start_time": "2022-02-25T09:26:58.591Z"
   },
   {
    "duration": 484,
    "start_time": "2022-02-25T09:26:59.665Z"
   },
   {
    "duration": 9,
    "start_time": "2022-02-25T09:27:00.151Z"
   },
   {
    "duration": 46,
    "start_time": "2022-02-25T09:27:00.162Z"
   },
   {
    "duration": 15,
    "start_time": "2022-02-25T09:27:00.210Z"
   },
   {
    "duration": 25,
    "start_time": "2022-02-25T09:27:00.227Z"
   },
   {
    "duration": 6,
    "start_time": "2022-02-25T09:27:00.254Z"
   },
   {
    "duration": 87,
    "start_time": "2022-02-25T09:27:00.263Z"
   },
   {
    "duration": 176,
    "start_time": "2022-02-25T09:27:00.352Z"
   },
   {
    "duration": 60,
    "start_time": "2022-02-25T09:27:00.530Z"
   },
   {
    "duration": 90,
    "start_time": "2022-02-25T09:27:00.592Z"
   },
   {
    "duration": 98,
    "start_time": "2022-02-25T09:27:00.684Z"
   },
   {
    "duration": 30,
    "start_time": "2022-02-25T09:27:00.783Z"
   },
   {
    "duration": 22,
    "start_time": "2022-02-25T09:27:00.815Z"
   },
   {
    "duration": 40,
    "start_time": "2022-02-25T09:27:00.839Z"
   },
   {
    "duration": 7,
    "start_time": "2022-02-25T09:27:00.881Z"
   },
   {
    "duration": 11,
    "start_time": "2022-02-25T09:27:00.890Z"
   },
   {
    "duration": 2905,
    "start_time": "2022-02-25T09:27:00.903Z"
   },
   {
    "duration": 476,
    "start_time": "2022-02-25T09:27:03.810Z"
   },
   {
    "duration": 207,
    "start_time": "2022-02-25T09:27:16.526Z"
   },
   {
    "duration": 228,
    "start_time": "2022-02-25T09:28:22.470Z"
   },
   {
    "duration": 3,
    "start_time": "2022-02-25T09:28:38.269Z"
   },
   {
    "duration": 4,
    "start_time": "2022-02-25T09:30:05.423Z"
   },
   {
    "duration": 204,
    "start_time": "2022-02-25T09:30:30.612Z"
   },
   {
    "duration": 215,
    "start_time": "2022-02-25T09:31:28.447Z"
   },
   {
    "duration": 222,
    "start_time": "2022-02-25T09:31:43.968Z"
   },
   {
    "duration": 460,
    "start_time": "2022-02-25T09:32:55.425Z"
   },
   {
    "duration": 228,
    "start_time": "2022-02-25T09:33:04.765Z"
   },
   {
    "duration": 431,
    "start_time": "2022-02-25T09:34:14.144Z"
   },
   {
    "duration": 225,
    "start_time": "2022-02-25T09:34:39.657Z"
   },
   {
    "duration": 73,
    "start_time": "2022-02-25T09:34:56.382Z"
   },
   {
    "duration": 479,
    "start_time": "2022-02-25T09:35:01.387Z"
   },
   {
    "duration": 1850,
    "start_time": "2022-02-25T09:35:27.435Z"
   },
   {
    "duration": 231,
    "start_time": "2022-02-25T09:36:09.271Z"
   },
   {
    "duration": 73,
    "start_time": "2022-02-25T09:37:15.416Z"
   },
   {
    "duration": 70,
    "start_time": "2022-02-25T09:38:14.825Z"
   },
   {
    "duration": 75,
    "start_time": "2022-02-25T09:38:31.441Z"
   },
   {
    "duration": 217,
    "start_time": "2022-02-25T09:39:31.949Z"
   },
   {
    "duration": 236,
    "start_time": "2022-02-25T09:44:01.148Z"
   },
   {
    "duration": 228,
    "start_time": "2022-02-25T09:44:08.470Z"
   },
   {
    "duration": 223,
    "start_time": "2022-02-25T09:45:37.355Z"
   },
   {
    "duration": 228,
    "start_time": "2022-02-25T09:45:46.768Z"
   },
   {
    "duration": 8,
    "start_time": "2022-02-25T10:06:20.755Z"
   },
   {
    "duration": 443,
    "start_time": "2022-02-25T10:07:04.169Z"
   },
   {
    "duration": 6,
    "start_time": "2022-02-25T10:07:55.485Z"
   },
   {
    "duration": 8,
    "start_time": "2022-02-25T10:08:16.700Z"
   },
   {
    "duration": 233,
    "start_time": "2022-02-25T10:12:45.217Z"
   },
   {
    "duration": 3,
    "start_time": "2022-02-25T10:13:28.192Z"
   },
   {
    "duration": 312,
    "start_time": "2022-02-25T10:13:29.010Z"
   },
   {
    "duration": 3,
    "start_time": "2022-02-25T10:13:36.615Z"
   },
   {
    "duration": 19,
    "start_time": "2022-02-25T10:13:37.399Z"
   },
   {
    "duration": 160,
    "start_time": "2022-02-25T10:16:45.115Z"
   },
   {
    "duration": 273,
    "start_time": "2022-02-25T10:17:50.063Z"
   },
   {
    "duration": 229,
    "start_time": "2022-02-25T10:18:16.426Z"
   },
   {
    "duration": 5,
    "start_time": "2022-02-25T10:18:18.639Z"
   },
   {
    "duration": 8,
    "start_time": "2022-02-25T10:19:06.094Z"
   },
   {
    "duration": 3,
    "start_time": "2022-02-25T10:19:34.941Z"
   },
   {
    "duration": 71,
    "start_time": "2022-02-25T10:19:45.782Z"
   },
   {
    "duration": 4,
    "start_time": "2022-02-25T10:19:52.117Z"
   },
   {
    "duration": 449,
    "start_time": "2022-02-25T10:19:52.122Z"
   },
   {
    "duration": 6,
    "start_time": "2022-02-25T10:19:52.573Z"
   },
   {
    "duration": 26,
    "start_time": "2022-02-25T10:19:52.582Z"
   },
   {
    "duration": 16,
    "start_time": "2022-02-25T10:19:52.610Z"
   },
   {
    "duration": 19,
    "start_time": "2022-02-25T10:19:52.628Z"
   },
   {
    "duration": 7,
    "start_time": "2022-02-25T10:19:52.669Z"
   },
   {
    "duration": 68,
    "start_time": "2022-02-25T10:19:52.678Z"
   },
   {
    "duration": 169,
    "start_time": "2022-02-25T10:19:52.748Z"
   },
   {
    "duration": 61,
    "start_time": "2022-02-25T10:19:52.919Z"
   },
   {
    "duration": 87,
    "start_time": "2022-02-25T10:19:52.982Z"
   },
   {
    "duration": 91,
    "start_time": "2022-02-25T10:19:53.071Z"
   },
   {
    "duration": 27,
    "start_time": "2022-02-25T10:19:53.164Z"
   },
   {
    "duration": 20,
    "start_time": "2022-02-25T10:19:53.192Z"
   },
   {
    "duration": 15,
    "start_time": "2022-02-25T10:19:53.214Z"
   },
   {
    "duration": 7,
    "start_time": "2022-02-25T10:19:53.231Z"
   },
   {
    "duration": 32,
    "start_time": "2022-02-25T10:19:53.239Z"
   },
   {
    "duration": 2822,
    "start_time": "2022-02-25T10:19:53.273Z"
   },
   {
    "duration": 3,
    "start_time": "2022-02-25T10:19:56.097Z"
   },
   {
    "duration": 6,
    "start_time": "2022-02-25T10:19:56.102Z"
   },
   {
    "duration": 233,
    "start_time": "2022-02-25T10:19:56.110Z"
   },
   {
    "duration": 255,
    "start_time": "2022-02-25T10:19:56.345Z"
   },
   {
    "duration": 231,
    "start_time": "2022-02-25T10:19:56.603Z"
   },
   {
    "duration": 8,
    "start_time": "2022-02-25T10:19:56.836Z"
   },
   {
    "duration": 23,
    "start_time": "2022-02-25T10:19:56.846Z"
   },
   {
    "duration": 10,
    "start_time": "2022-02-25T10:19:56.871Z"
   },
   {
    "duration": 3,
    "start_time": "2022-02-25T10:19:56.882Z"
   },
   {
    "duration": 20,
    "start_time": "2022-02-25T10:19:56.887Z"
   },
   {
    "duration": 128,
    "start_time": "2022-02-25T10:19:56.909Z"
   },
   {
    "duration": 70,
    "start_time": "2022-02-25T10:20:00.265Z"
   },
   {
    "duration": 417,
    "start_time": "2022-02-25T10:20:08.709Z"
   },
   {
    "duration": 5,
    "start_time": "2022-02-25T10:20:16.771Z"
   },
   {
    "duration": 16,
    "start_time": "2022-02-25T10:20:21.424Z"
   },
   {
    "duration": 10,
    "start_time": "2022-02-25T10:21:26.437Z"
   },
   {
    "duration": 14,
    "start_time": "2022-02-25T10:21:29.922Z"
   },
   {
    "duration": 17,
    "start_time": "2022-02-25T10:22:47.648Z"
   },
   {
    "duration": 15,
    "start_time": "2022-02-25T10:23:35.678Z"
   },
   {
    "duration": 15,
    "start_time": "2022-02-25T10:24:17.743Z"
   },
   {
    "duration": 399,
    "start_time": "2022-02-25T10:28:06.087Z"
   },
   {
    "duration": 338,
    "start_time": "2022-02-25T10:28:16.974Z"
   },
   {
    "duration": 299,
    "start_time": "2022-02-25T10:29:10.560Z"
   },
   {
    "duration": 294,
    "start_time": "2022-02-25T10:29:17.486Z"
   },
   {
    "duration": 20,
    "start_time": "2022-02-25T10:29:44.234Z"
   },
   {
    "duration": 22,
    "start_time": "2022-02-25T10:29:53.498Z"
   },
   {
    "duration": 4,
    "start_time": "2022-02-25T10:30:06.276Z"
   },
   {
    "duration": 434,
    "start_time": "2022-02-25T10:30:06.281Z"
   },
   {
    "duration": 6,
    "start_time": "2022-02-25T10:30:06.718Z"
   },
   {
    "duration": 26,
    "start_time": "2022-02-25T10:30:06.726Z"
   },
   {
    "duration": 16,
    "start_time": "2022-02-25T10:30:06.754Z"
   },
   {
    "duration": 23,
    "start_time": "2022-02-25T10:30:06.772Z"
   },
   {
    "duration": 7,
    "start_time": "2022-02-25T10:30:06.797Z"
   },
   {
    "duration": 87,
    "start_time": "2022-02-25T10:30:06.807Z"
   },
   {
    "duration": 165,
    "start_time": "2022-02-25T10:30:06.896Z"
   },
   {
    "duration": 62,
    "start_time": "2022-02-25T10:30:07.063Z"
   },
   {
    "duration": 82,
    "start_time": "2022-02-25T10:30:07.127Z"
   },
   {
    "duration": 100,
    "start_time": "2022-02-25T10:30:07.211Z"
   },
   {
    "duration": 25,
    "start_time": "2022-02-25T10:30:07.313Z"
   },
   {
    "duration": 36,
    "start_time": "2022-02-25T10:30:07.340Z"
   },
   {
    "duration": 18,
    "start_time": "2022-02-25T10:30:07.378Z"
   },
   {
    "duration": 9,
    "start_time": "2022-02-25T10:30:07.398Z"
   },
   {
    "duration": 8,
    "start_time": "2022-02-25T10:30:07.409Z"
   },
   {
    "duration": 2914,
    "start_time": "2022-02-25T10:30:07.419Z"
   },
   {
    "duration": 3,
    "start_time": "2022-02-25T10:30:10.335Z"
   },
   {
    "duration": 9,
    "start_time": "2022-02-25T10:30:10.340Z"
   },
   {
    "duration": 238,
    "start_time": "2022-02-25T10:30:10.351Z"
   },
   {
    "duration": 251,
    "start_time": "2022-02-25T10:30:10.592Z"
   },
   {
    "duration": 243,
    "start_time": "2022-02-25T10:30:10.847Z"
   },
   {
    "duration": 8,
    "start_time": "2022-02-25T10:30:11.093Z"
   },
   {
    "duration": 9,
    "start_time": "2022-02-25T10:30:11.103Z"
   },
   {
    "duration": 20,
    "start_time": "2022-02-25T10:30:11.113Z"
   },
   {
    "duration": 5,
    "start_time": "2022-02-25T10:30:11.135Z"
   },
   {
    "duration": 31,
    "start_time": "2022-02-25T10:30:11.142Z"
   },
   {
    "duration": 15,
    "start_time": "2022-02-25T10:30:11.175Z"
   },
   {
    "duration": 117,
    "start_time": "2022-02-25T10:30:11.192Z"
   },
   {
    "duration": 13,
    "start_time": "2022-02-25T10:30:11.312Z"
   },
   {
    "duration": 23,
    "start_time": "2022-02-25T10:30:11.326Z"
   },
   {
    "duration": 32,
    "start_time": "2022-02-25T10:30:11.351Z"
   },
   {
    "duration": 4,
    "start_time": "2022-02-25T10:31:30.304Z"
   },
   {
    "duration": 18,
    "start_time": "2022-02-25T10:33:07.666Z"
   },
   {
    "duration": 19,
    "start_time": "2022-02-25T10:33:24.615Z"
   },
   {
    "duration": 8,
    "start_time": "2022-02-25T10:33:37.332Z"
   },
   {
    "duration": 72,
    "start_time": "2022-02-25T10:37:37.106Z"
   },
   {
    "duration": 350,
    "start_time": "2022-02-25T10:37:48.936Z"
   },
   {
    "duration": 32,
    "start_time": "2022-02-25T10:39:57.038Z"
   },
   {
    "duration": 32,
    "start_time": "2022-02-25T10:40:05.819Z"
   },
   {
    "duration": 35,
    "start_time": "2022-02-25T10:40:21.469Z"
   },
   {
    "duration": 34,
    "start_time": "2022-02-25T10:40:29.370Z"
   },
   {
    "duration": 244,
    "start_time": "2022-02-25T10:41:39.456Z"
   },
   {
    "duration": 38,
    "start_time": "2022-02-25T10:42:14.175Z"
   },
   {
    "duration": 16,
    "start_time": "2022-02-25T10:46:39.757Z"
   },
   {
    "duration": 73,
    "start_time": "2022-02-25T10:49:18.257Z"
   },
   {
    "duration": 110,
    "start_time": "2022-02-25T10:50:09.741Z"
   },
   {
    "duration": 1827,
    "start_time": "2022-02-25T10:50:28.025Z"
   },
   {
    "duration": 45,
    "start_time": "2022-02-25T10:50:30.319Z"
   },
   {
    "duration": 49,
    "start_time": "2022-02-25T10:51:04.510Z"
   },
   {
    "duration": 47,
    "start_time": "2022-02-25T10:52:23.092Z"
   },
   {
    "duration": 50,
    "start_time": "2022-02-25T10:57:04.807Z"
   },
   {
    "duration": 75,
    "start_time": "2022-02-25T10:58:03.996Z"
   },
   {
    "duration": 52,
    "start_time": "2022-02-25T10:58:12.384Z"
   },
   {
    "duration": 63,
    "start_time": "2022-02-25T11:00:36.183Z"
   },
   {
    "duration": 49,
    "start_time": "2022-02-25T11:01:05.477Z"
   },
   {
    "duration": 11,
    "start_time": "2022-02-25T11:01:21.841Z"
   },
   {
    "duration": 12,
    "start_time": "2022-02-25T11:01:25.361Z"
   },
   {
    "duration": 13,
    "start_time": "2022-02-25T11:01:37.027Z"
   },
   {
    "duration": 5,
    "start_time": "2022-02-25T11:02:08.547Z"
   },
   {
    "duration": 77,
    "start_time": "2022-02-25T11:02:40.079Z"
   },
   {
    "duration": 69,
    "start_time": "2022-02-25T11:03:31.273Z"
   },
   {
    "duration": 65,
    "start_time": "2022-02-25T11:04:28.088Z"
   },
   {
    "duration": 63,
    "start_time": "2022-02-25T11:04:47.119Z"
   },
   {
    "duration": 64,
    "start_time": "2022-02-25T11:05:32.530Z"
   },
   {
    "duration": 52,
    "start_time": "2022-02-25T11:05:50.704Z"
   },
   {
    "duration": 616,
    "start_time": "2022-02-25T11:09:56.319Z"
   },
   {
    "duration": 48,
    "start_time": "2022-02-25T11:13:52.314Z"
   },
   {
    "duration": 96,
    "start_time": "2022-02-25T11:16:15.676Z"
   },
   {
    "duration": 396,
    "start_time": "2022-02-25T11:16:47.816Z"
   },
   {
    "duration": 100,
    "start_time": "2022-02-25T11:16:57.547Z"
   },
   {
    "duration": 81,
    "start_time": "2022-02-25T11:17:07.493Z"
   },
   {
    "duration": 1363,
    "start_time": "2022-02-25T11:25:40.563Z"
   },
   {
    "duration": 1560,
    "start_time": "2022-02-25T11:26:11.363Z"
   },
   {
    "duration": 75,
    "start_time": "2022-02-25T11:29:59.466Z"
   },
   {
    "duration": 380,
    "start_time": "2022-02-25T12:20:49.063Z"
   },
   {
    "duration": 5,
    "start_time": "2022-02-25T12:21:12.288Z"
   },
   {
    "duration": 101,
    "start_time": "2022-02-25T12:21:24.133Z"
   },
   {
    "duration": 5,
    "start_time": "2022-02-25T12:21:27.631Z"
   },
   {
    "duration": 5,
    "start_time": "2022-02-25T12:21:48.866Z"
   },
   {
    "duration": 4,
    "start_time": "2022-02-25T12:22:21.256Z"
   },
   {
    "duration": 13,
    "start_time": "2022-02-25T12:25:14.843Z"
   },
   {
    "duration": 13,
    "start_time": "2022-02-25T12:25:22.889Z"
   },
   {
    "duration": 14,
    "start_time": "2022-02-25T12:31:33.306Z"
   },
   {
    "duration": 5,
    "start_time": "2022-02-25T12:37:29.968Z"
   },
   {
    "duration": 8,
    "start_time": "2022-02-25T12:38:49.854Z"
   },
   {
    "duration": 250,
    "start_time": "2022-02-25T12:39:45.334Z"
   },
   {
    "duration": 9,
    "start_time": "2022-02-25T12:39:50.831Z"
   },
   {
    "duration": 8,
    "start_time": "2022-02-25T12:39:56.505Z"
   },
   {
    "duration": 8,
    "start_time": "2022-02-25T12:40:11.507Z"
   },
   {
    "duration": 8,
    "start_time": "2022-02-25T12:40:23.749Z"
   },
   {
    "duration": 5,
    "start_time": "2022-02-25T12:40:35.302Z"
   },
   {
    "duration": 8,
    "start_time": "2022-02-25T12:40:52.967Z"
   },
   {
    "duration": 5,
    "start_time": "2022-02-25T12:41:12.004Z"
   },
   {
    "duration": 5,
    "start_time": "2022-02-25T12:41:19.453Z"
   },
   {
    "duration": 8,
    "start_time": "2022-02-25T12:41:24.110Z"
   },
   {
    "duration": 8,
    "start_time": "2022-02-25T12:41:40.736Z"
   },
   {
    "duration": 5,
    "start_time": "2022-02-25T12:41:47.754Z"
   },
   {
    "duration": 231,
    "start_time": "2022-02-25T13:10:14.122Z"
   },
   {
    "duration": 1592,
    "start_time": "2022-02-25T13:10:18.089Z"
   },
   {
    "duration": 432,
    "start_time": "2022-02-25T13:10:19.683Z"
   },
   {
    "duration": 9,
    "start_time": "2022-02-25T13:10:20.118Z"
   },
   {
    "duration": 38,
    "start_time": "2022-02-25T13:10:20.129Z"
   },
   {
    "duration": 18,
    "start_time": "2022-02-25T13:10:20.169Z"
   },
   {
    "duration": 38,
    "start_time": "2022-02-25T13:10:20.190Z"
   },
   {
    "duration": 20,
    "start_time": "2022-02-25T13:10:20.230Z"
   },
   {
    "duration": 26,
    "start_time": "2022-02-25T13:10:20.253Z"
   },
   {
    "duration": 98,
    "start_time": "2022-02-25T13:10:20.282Z"
   },
   {
    "duration": 196,
    "start_time": "2022-02-25T13:10:20.382Z"
   },
   {
    "duration": 60,
    "start_time": "2022-02-25T13:10:20.580Z"
   },
   {
    "duration": 98,
    "start_time": "2022-02-25T13:10:20.641Z"
   },
   {
    "duration": 110,
    "start_time": "2022-02-25T13:10:20.741Z"
   },
   {
    "duration": 36,
    "start_time": "2022-02-25T13:10:20.853Z"
   },
   {
    "duration": 29,
    "start_time": "2022-02-25T13:10:20.891Z"
   },
   {
    "duration": 124,
    "start_time": "2022-02-25T13:10:20.922Z"
   },
   {
    "duration": 10,
    "start_time": "2022-02-25T13:10:21.048Z"
   },
   {
    "duration": 15,
    "start_time": "2022-02-25T13:10:21.060Z"
   },
   {
    "duration": 3000,
    "start_time": "2022-02-25T13:10:21.077Z"
   },
   {
    "duration": 4,
    "start_time": "2022-02-25T13:10:24.079Z"
   },
   {
    "duration": 12,
    "start_time": "2022-02-25T13:10:24.085Z"
   },
   {
    "duration": 261,
    "start_time": "2022-02-25T13:10:24.100Z"
   },
   {
    "duration": 223,
    "start_time": "2022-02-25T13:10:24.370Z"
   },
   {
    "duration": 227,
    "start_time": "2022-02-25T13:10:24.595Z"
   },
   {
    "duration": 12,
    "start_time": "2022-02-25T13:10:24.824Z"
   },
   {
    "duration": 22,
    "start_time": "2022-02-25T13:10:24.838Z"
   },
   {
    "duration": 37,
    "start_time": "2022-02-25T13:10:24.862Z"
   },
   {
    "duration": 18,
    "start_time": "2022-02-25T13:10:24.901Z"
   },
   {
    "duration": 29,
    "start_time": "2022-02-25T13:10:24.922Z"
   },
   {
    "duration": 16,
    "start_time": "2022-02-25T13:10:24.953Z"
   },
   {
    "duration": 28,
    "start_time": "2022-02-25T13:10:24.971Z"
   },
   {
    "duration": 32,
    "start_time": "2022-02-25T13:10:25.000Z"
   },
   {
    "duration": 53,
    "start_time": "2022-02-25T13:10:25.034Z"
   },
   {
    "duration": 32,
    "start_time": "2022-02-25T13:10:25.089Z"
   },
   {
    "duration": 64,
    "start_time": "2022-02-25T13:10:25.123Z"
   },
   {
    "duration": 47,
    "start_time": "2022-02-25T13:10:25.190Z"
   },
   {
    "duration": 101,
    "start_time": "2022-02-25T13:10:25.239Z"
   },
   {
    "duration": 1471,
    "start_time": "2022-02-25T13:10:25.342Z"
   },
   {
    "duration": 85,
    "start_time": "2022-02-25T13:10:26.815Z"
   },
   {
    "duration": 15,
    "start_time": "2022-02-25T13:10:26.902Z"
   },
   {
    "duration": 34,
    "start_time": "2022-02-25T13:10:26.918Z"
   },
   {
    "duration": 23,
    "start_time": "2022-02-25T13:10:26.954Z"
   },
   {
    "duration": 1516,
    "start_time": "2022-02-26T05:32:39.589Z"
   },
   {
    "duration": 505,
    "start_time": "2022-02-26T05:32:41.108Z"
   },
   {
    "duration": 10,
    "start_time": "2022-02-26T05:32:41.616Z"
   },
   {
    "duration": 32,
    "start_time": "2022-02-26T05:32:41.629Z"
   },
   {
    "duration": 36,
    "start_time": "2022-02-26T05:32:41.664Z"
   },
   {
    "duration": 23,
    "start_time": "2022-02-26T05:32:41.702Z"
   },
   {
    "duration": 21,
    "start_time": "2022-02-26T05:32:41.728Z"
   },
   {
    "duration": 42,
    "start_time": "2022-02-26T05:32:41.755Z"
   },
   {
    "duration": 128,
    "start_time": "2022-02-26T05:32:41.801Z"
   },
   {
    "duration": 252,
    "start_time": "2022-02-26T05:32:41.931Z"
   },
   {
    "duration": 77,
    "start_time": "2022-02-26T05:32:42.186Z"
   },
   {
    "duration": 101,
    "start_time": "2022-02-26T05:32:42.265Z"
   },
   {
    "duration": 135,
    "start_time": "2022-02-26T05:32:42.369Z"
   },
   {
    "duration": 34,
    "start_time": "2022-02-26T05:32:42.506Z"
   },
   {
    "duration": 52,
    "start_time": "2022-02-26T05:32:42.543Z"
   },
   {
    "duration": 25,
    "start_time": "2022-02-26T05:32:42.598Z"
   },
   {
    "duration": 12,
    "start_time": "2022-02-26T05:32:42.625Z"
   },
   {
    "duration": 10,
    "start_time": "2022-02-26T05:32:42.643Z"
   },
   {
    "duration": 4614,
    "start_time": "2022-02-26T05:32:42.656Z"
   },
   {
    "duration": 3,
    "start_time": "2022-02-26T05:32:47.273Z"
   },
   {
    "duration": 17,
    "start_time": "2022-02-26T05:32:47.279Z"
   },
   {
    "duration": 339,
    "start_time": "2022-02-26T05:32:47.299Z"
   },
   {
    "duration": 343,
    "start_time": "2022-02-26T05:32:47.645Z"
   },
   {
    "duration": 329,
    "start_time": "2022-02-26T05:32:47.995Z"
   },
   {
    "duration": 12,
    "start_time": "2022-02-26T05:32:48.327Z"
   },
   {
    "duration": 6,
    "start_time": "2022-02-26T05:32:48.342Z"
   },
   {
    "duration": 11,
    "start_time": "2022-02-26T05:32:48.351Z"
   },
   {
    "duration": 4,
    "start_time": "2022-02-26T05:32:48.393Z"
   },
   {
    "duration": 24,
    "start_time": "2022-02-26T05:32:48.400Z"
   },
   {
    "duration": 20,
    "start_time": "2022-02-26T05:32:48.427Z"
   },
   {
    "duration": 62,
    "start_time": "2022-02-26T05:32:48.450Z"
   },
   {
    "duration": 21,
    "start_time": "2022-02-26T05:32:48.514Z"
   },
   {
    "duration": 78,
    "start_time": "2022-02-26T05:32:48.538Z"
   },
   {
    "duration": 42,
    "start_time": "2022-02-26T05:32:48.618Z"
   },
   {
    "duration": 79,
    "start_time": "2022-02-26T05:32:48.663Z"
   },
   {
    "duration": 81,
    "start_time": "2022-02-26T05:32:48.744Z"
   },
   {
    "duration": 133,
    "start_time": "2022-02-26T05:32:48.828Z"
   },
   {
    "duration": 2101,
    "start_time": "2022-02-26T05:32:48.964Z"
   },
   {
    "duration": 113,
    "start_time": "2022-02-26T05:32:51.067Z"
   },
   {
    "duration": 17,
    "start_time": "2022-02-26T05:32:51.182Z"
   },
   {
    "duration": 18,
    "start_time": "2022-02-26T05:32:51.201Z"
   },
   {
    "duration": 11,
    "start_time": "2022-02-26T05:32:51.221Z"
   },
   {
    "duration": 6,
    "start_time": "2022-02-26T05:33:57.017Z"
   },
   {
    "duration": 14,
    "start_time": "2022-02-26T05:34:17.533Z"
   },
   {
    "duration": 12,
    "start_time": "2022-02-26T05:35:28.954Z"
   },
   {
    "duration": 116,
    "start_time": "2022-02-26T05:35:52.157Z"
   },
   {
    "duration": 106,
    "start_time": "2022-02-26T05:35:58.347Z"
   },
   {
    "duration": 30,
    "start_time": "2022-02-26T05:37:24.934Z"
   },
   {
    "duration": 1421,
    "start_time": "2022-03-07T04:52:56.019Z"
   },
   {
    "duration": 471,
    "start_time": "2022-03-07T04:52:57.443Z"
   },
   {
    "duration": 10,
    "start_time": "2022-03-07T04:52:57.916Z"
   },
   {
    "duration": 27,
    "start_time": "2022-03-07T04:52:57.928Z"
   },
   {
    "duration": 30,
    "start_time": "2022-03-07T04:52:57.958Z"
   },
   {
    "duration": 21,
    "start_time": "2022-03-07T04:52:57.990Z"
   },
   {
    "duration": 15,
    "start_time": "2022-03-07T04:52:58.014Z"
   },
   {
    "duration": 56,
    "start_time": "2022-03-07T04:52:58.031Z"
   },
   {
    "duration": 8,
    "start_time": "2022-03-07T04:52:58.090Z"
   },
   {
    "duration": 118,
    "start_time": "2022-03-07T04:52:58.101Z"
   },
   {
    "duration": 233,
    "start_time": "2022-03-07T04:52:58.221Z"
   },
   {
    "duration": 74,
    "start_time": "2022-03-07T04:52:58.456Z"
   },
   {
    "duration": 93,
    "start_time": "2022-03-07T04:52:58.532Z"
   },
   {
    "duration": 123,
    "start_time": "2022-03-07T04:52:58.627Z"
   },
   {
    "duration": 42,
    "start_time": "2022-03-07T04:52:58.753Z"
   },
   {
    "duration": 30,
    "start_time": "2022-03-07T04:52:58.798Z"
   },
   {
    "duration": 23,
    "start_time": "2022-03-07T04:52:58.831Z"
   },
   {
    "duration": 40,
    "start_time": "2022-03-07T04:52:58.856Z"
   },
   {
    "duration": 8,
    "start_time": "2022-03-07T04:52:58.898Z"
   },
   {
    "duration": 4444,
    "start_time": "2022-03-07T04:52:58.908Z"
   },
   {
    "duration": 3,
    "start_time": "2022-03-07T04:53:03.355Z"
   },
   {
    "duration": 8,
    "start_time": "2022-03-07T04:53:03.360Z"
   },
   {
    "duration": 336,
    "start_time": "2022-03-07T04:53:03.386Z"
   },
   {
    "duration": 353,
    "start_time": "2022-03-07T04:53:03.725Z"
   },
   {
    "duration": 329,
    "start_time": "2022-03-07T04:53:04.087Z"
   },
   {
    "duration": 13,
    "start_time": "2022-03-07T04:53:04.418Z"
   },
   {
    "duration": 6,
    "start_time": "2022-03-07T04:53:04.436Z"
   },
   {
    "duration": 17,
    "start_time": "2022-03-07T04:53:04.444Z"
   },
   {
    "duration": 25,
    "start_time": "2022-03-07T04:53:04.463Z"
   },
   {
    "duration": 27,
    "start_time": "2022-03-07T04:53:04.490Z"
   },
   {
    "duration": 20,
    "start_time": "2022-03-07T04:53:04.519Z"
   },
   {
    "duration": 49,
    "start_time": "2022-03-07T04:53:04.541Z"
   },
   {
    "duration": 19,
    "start_time": "2022-03-07T04:53:04.592Z"
   },
   {
    "duration": 52,
    "start_time": "2022-03-07T04:53:04.614Z"
   },
   {
    "duration": 45,
    "start_time": "2022-03-07T04:53:04.687Z"
   },
   {
    "duration": 84,
    "start_time": "2022-03-07T04:53:04.735Z"
   },
   {
    "duration": 78,
    "start_time": "2022-03-07T04:53:04.822Z"
   },
   {
    "duration": 137,
    "start_time": "2022-03-07T04:53:04.902Z"
   },
   {
    "duration": 2149,
    "start_time": "2022-03-07T04:53:05.041Z"
   },
   {
    "duration": 115,
    "start_time": "2022-03-07T04:53:07.192Z"
   },
   {
    "duration": 6,
    "start_time": "2022-03-07T04:53:07.309Z"
   },
   {
    "duration": 18,
    "start_time": "2022-03-07T04:53:07.317Z"
   },
   {
    "duration": 9,
    "start_time": "2022-03-07T04:53:07.337Z"
   },
   {
    "duration": 274,
    "start_time": "2022-03-08T07:59:17.344Z"
   },
   {
    "duration": 1144,
    "start_time": "2022-03-08T08:02:11.019Z"
   },
   {
    "duration": 474,
    "start_time": "2022-03-08T08:02:12.165Z"
   },
   {
    "duration": 7,
    "start_time": "2022-03-08T08:02:12.642Z"
   },
   {
    "duration": 23,
    "start_time": "2022-03-08T08:02:12.651Z"
   },
   {
    "duration": 15,
    "start_time": "2022-03-08T08:02:12.676Z"
   },
   {
    "duration": 17,
    "start_time": "2022-03-08T08:02:12.693Z"
   },
   {
    "duration": 6,
    "start_time": "2022-03-08T08:02:12.712Z"
   },
   {
    "duration": 96,
    "start_time": "2022-03-08T08:02:12.721Z"
   },
   {
    "duration": 355,
    "start_time": "2022-03-08T08:02:12.819Z"
   },
   {
    "duration": 53,
    "start_time": "2022-03-08T08:02:13.177Z"
   },
   {
    "duration": 92,
    "start_time": "2022-03-08T08:02:13.231Z"
   },
   {
    "duration": 108,
    "start_time": "2022-03-08T08:02:13.325Z"
   },
   {
    "duration": 29,
    "start_time": "2022-03-08T08:02:13.435Z"
   },
   {
    "duration": 23,
    "start_time": "2022-03-08T08:02:13.477Z"
   },
   {
    "duration": 19,
    "start_time": "2022-03-08T08:02:13.502Z"
   },
   {
    "duration": 9,
    "start_time": "2022-03-08T08:02:13.523Z"
   },
   {
    "duration": 7,
    "start_time": "2022-03-08T08:02:13.534Z"
   },
   {
    "duration": 2915,
    "start_time": "2022-03-08T08:02:13.577Z"
   },
   {
    "duration": 3,
    "start_time": "2022-03-08T08:02:16.494Z"
   },
   {
    "duration": 8,
    "start_time": "2022-03-08T08:02:16.499Z"
   },
   {
    "duration": 231,
    "start_time": "2022-03-08T08:02:16.509Z"
   },
   {
    "duration": 239,
    "start_time": "2022-03-08T08:02:16.742Z"
   },
   {
    "duration": 232,
    "start_time": "2022-03-08T08:02:16.985Z"
   },
   {
    "duration": 8,
    "start_time": "2022-03-08T08:02:17.220Z"
   },
   {
    "duration": 6,
    "start_time": "2022-03-08T08:02:17.230Z"
   },
   {
    "duration": 9,
    "start_time": "2022-03-08T08:02:17.238Z"
   },
   {
    "duration": 28,
    "start_time": "2022-03-08T08:02:17.249Z"
   },
   {
    "duration": 20,
    "start_time": "2022-03-08T08:02:17.280Z"
   },
   {
    "duration": 16,
    "start_time": "2022-03-08T08:02:17.302Z"
   },
   {
    "duration": 19,
    "start_time": "2022-03-08T08:02:17.320Z"
   },
   {
    "duration": 18,
    "start_time": "2022-03-08T08:02:17.378Z"
   },
   {
    "duration": 37,
    "start_time": "2022-03-08T08:02:17.398Z"
   },
   {
    "duration": 46,
    "start_time": "2022-03-08T08:02:17.436Z"
   },
   {
    "duration": 43,
    "start_time": "2022-03-08T08:02:17.484Z"
   },
   {
    "duration": 62,
    "start_time": "2022-03-08T08:02:17.529Z"
   },
   {
    "duration": 96,
    "start_time": "2022-03-08T08:02:17.593Z"
   },
   {
    "duration": 1508,
    "start_time": "2022-03-08T08:02:17.691Z"
   },
   {
    "duration": 80,
    "start_time": "2022-03-08T08:02:19.200Z"
   },
   {
    "duration": 5,
    "start_time": "2022-03-08T08:02:19.282Z"
   },
   {
    "duration": 13,
    "start_time": "2022-03-08T08:02:19.289Z"
   },
   {
    "duration": 8,
    "start_time": "2022-03-08T08:02:19.303Z"
   },
   {
    "duration": 160,
    "start_time": "2022-03-08T09:44:04.623Z"
   },
   {
    "duration": 1049,
    "start_time": "2022-03-08T09:44:10.735Z"
   },
   {
    "duration": 371,
    "start_time": "2022-03-08T09:44:11.786Z"
   },
   {
    "duration": 6,
    "start_time": "2022-03-08T09:44:12.159Z"
   },
   {
    "duration": 23,
    "start_time": "2022-03-08T09:44:12.167Z"
   },
   {
    "duration": 13,
    "start_time": "2022-03-08T09:44:12.192Z"
   },
   {
    "duration": 29,
    "start_time": "2022-03-08T09:44:12.206Z"
   },
   {
    "duration": 5,
    "start_time": "2022-03-08T09:44:12.237Z"
   },
   {
    "duration": 67,
    "start_time": "2022-03-08T09:44:12.244Z"
   },
   {
    "duration": 20,
    "start_time": "2022-03-08T09:44:12.313Z"
   },
   {
    "duration": 46,
    "start_time": "2022-03-08T09:44:12.334Z"
   },
   {
    "duration": 88,
    "start_time": "2022-03-08T09:44:12.382Z"
   },
   {
    "duration": 102,
    "start_time": "2022-03-08T09:44:12.471Z"
   },
   {
    "duration": 25,
    "start_time": "2022-03-08T09:44:12.575Z"
   },
   {
    "duration": 32,
    "start_time": "2022-03-08T09:44:12.602Z"
   },
   {
    "duration": 19,
    "start_time": "2022-03-08T09:44:12.635Z"
   },
   {
    "duration": 7,
    "start_time": "2022-03-08T09:44:12.656Z"
   },
   {
    "duration": 6,
    "start_time": "2022-03-08T09:44:12.665Z"
   },
   {
    "duration": 2404,
    "start_time": "2022-03-08T09:44:12.672Z"
   },
   {
    "duration": 2,
    "start_time": "2022-03-08T09:44:15.078Z"
   },
   {
    "duration": 7,
    "start_time": "2022-03-08T09:44:15.082Z"
   },
   {
    "duration": 196,
    "start_time": "2022-03-08T09:44:15.090Z"
   },
   {
    "duration": 194,
    "start_time": "2022-03-08T09:44:15.287Z"
   },
   {
    "duration": 189,
    "start_time": "2022-03-08T09:44:15.484Z"
   },
   {
    "duration": 7,
    "start_time": "2022-03-08T09:44:15.676Z"
   },
   {
    "duration": 6,
    "start_time": "2022-03-08T09:44:15.685Z"
   },
   {
    "duration": 7,
    "start_time": "2022-03-08T09:44:15.693Z"
   },
   {
    "duration": 3,
    "start_time": "2022-03-08T09:44:15.702Z"
   },
   {
    "duration": 18,
    "start_time": "2022-03-08T09:44:15.733Z"
   },
   {
    "duration": 12,
    "start_time": "2022-03-08T09:44:15.753Z"
   },
   {
    "duration": 15,
    "start_time": "2022-03-08T09:44:15.767Z"
   },
   {
    "duration": 14,
    "start_time": "2022-03-08T09:44:15.784Z"
   },
   {
    "duration": 54,
    "start_time": "2022-03-08T09:44:15.800Z"
   },
   {
    "duration": 25,
    "start_time": "2022-03-08T09:44:15.856Z"
   },
   {
    "duration": 58,
    "start_time": "2022-03-08T09:44:15.883Z"
   },
   {
    "duration": 38,
    "start_time": "2022-03-08T09:44:15.943Z"
   },
   {
    "duration": 90,
    "start_time": "2022-03-08T09:44:15.983Z"
   },
   {
    "duration": 1231,
    "start_time": "2022-03-08T09:44:16.074Z"
   },
   {
    "duration": 74,
    "start_time": "2022-03-08T09:44:17.306Z"
   },
   {
    "duration": 5,
    "start_time": "2022-03-08T09:44:17.381Z"
   },
   {
    "duration": 11,
    "start_time": "2022-03-08T09:44:17.387Z"
   },
   {
    "duration": 6,
    "start_time": "2022-03-08T09:44:17.400Z"
   },
   {
    "duration": 5,
    "start_time": "2022-03-08T09:45:28.565Z"
   },
   {
    "duration": 40,
    "start_time": "2022-03-08T09:45:46.046Z"
   },
   {
    "duration": 3,
    "start_time": "2022-03-08T09:45:50.523Z"
   },
   {
    "duration": 389,
    "start_time": "2022-03-08T09:45:50.530Z"
   },
   {
    "duration": 6,
    "start_time": "2022-03-08T09:45:50.921Z"
   },
   {
    "duration": 28,
    "start_time": "2022-03-08T09:45:50.929Z"
   },
   {
    "duration": 14,
    "start_time": "2022-03-08T09:45:50.959Z"
   },
   {
    "duration": 17,
    "start_time": "2022-03-08T09:45:50.974Z"
   },
   {
    "duration": 5,
    "start_time": "2022-03-08T09:45:50.992Z"
   },
   {
    "duration": 94,
    "start_time": "2022-03-08T09:45:50.999Z"
   },
   {
    "duration": 5,
    "start_time": "2022-03-08T09:45:56.076Z"
   },
   {
    "duration": 5,
    "start_time": "2022-03-08T09:45:58.747Z"
   },
   {
    "duration": 6,
    "start_time": "2022-03-08T09:46:37.063Z"
   },
   {
    "duration": 9,
    "start_time": "2022-03-08T09:46:43.470Z"
   },
   {
    "duration": 3,
    "start_time": "2022-03-08T09:48:49.846Z"
   },
   {
    "duration": 391,
    "start_time": "2022-03-08T09:48:49.863Z"
   },
   {
    "duration": 6,
    "start_time": "2022-03-08T09:48:50.256Z"
   },
   {
    "duration": 21,
    "start_time": "2022-03-08T09:48:50.263Z"
   },
   {
    "duration": 13,
    "start_time": "2022-03-08T09:48:50.286Z"
   },
   {
    "duration": 35,
    "start_time": "2022-03-08T09:48:50.301Z"
   },
   {
    "duration": 8,
    "start_time": "2022-03-08T09:48:50.338Z"
   },
   {
    "duration": 63,
    "start_time": "2022-03-08T09:48:50.348Z"
   },
   {
    "duration": 6,
    "start_time": "2022-03-08T09:48:54.676Z"
   },
   {
    "duration": 9,
    "start_time": "2022-03-08T09:48:55.549Z"
   },
   {
    "duration": 49,
    "start_time": "2022-03-08T09:49:05.897Z"
   },
   {
    "duration": 73,
    "start_time": "2022-03-08T09:49:08.369Z"
   },
   {
    "duration": 103,
    "start_time": "2022-03-08T09:49:10.220Z"
   },
   {
    "duration": 23,
    "start_time": "2022-03-08T09:49:15.584Z"
   },
   {
    "duration": 1078,
    "start_time": "2022-03-08T09:50:41.815Z"
   },
   {
    "duration": 389,
    "start_time": "2022-03-08T09:50:42.895Z"
   },
   {
    "duration": 7,
    "start_time": "2022-03-08T09:50:43.286Z"
   },
   {
    "duration": 21,
    "start_time": "2022-03-08T09:50:43.295Z"
   },
   {
    "duration": 28,
    "start_time": "2022-03-08T09:50:43.318Z"
   },
   {
    "duration": 16,
    "start_time": "2022-03-08T09:50:43.348Z"
   },
   {
    "duration": 6,
    "start_time": "2022-03-08T09:50:43.365Z"
   },
   {
    "duration": 90,
    "start_time": "2022-03-08T09:50:43.374Z"
   },
   {
    "duration": 7,
    "start_time": "2022-03-08T09:50:43.466Z"
   },
   {
    "duration": 10,
    "start_time": "2022-03-08T09:50:43.475Z"
   },
   {
    "duration": 68,
    "start_time": "2022-03-08T09:50:43.487Z"
   },
   {
    "duration": 76,
    "start_time": "2022-03-08T09:50:43.557Z"
   },
   {
    "duration": 121,
    "start_time": "2022-03-08T09:50:43.634Z"
   },
   {
    "duration": 24,
    "start_time": "2022-03-08T09:50:43.757Z"
   },
   {
    "duration": 19,
    "start_time": "2022-03-08T09:50:43.783Z"
   },
   {
    "duration": 38,
    "start_time": "2022-03-08T09:50:43.803Z"
   },
   {
    "duration": 8,
    "start_time": "2022-03-08T09:50:43.843Z"
   },
   {
    "duration": 5,
    "start_time": "2022-03-08T09:50:43.853Z"
   },
   {
    "duration": 2568,
    "start_time": "2022-03-08T09:50:43.859Z"
   },
   {
    "duration": 4,
    "start_time": "2022-03-08T09:50:46.428Z"
   },
   {
    "duration": 11,
    "start_time": "2022-03-08T09:50:46.434Z"
   },
   {
    "duration": 191,
    "start_time": "2022-03-08T09:50:46.447Z"
   },
   {
    "duration": 203,
    "start_time": "2022-03-08T09:50:46.642Z"
   },
   {
    "duration": 186,
    "start_time": "2022-03-08T09:50:46.847Z"
   },
   {
    "duration": 9,
    "start_time": "2022-03-08T09:50:47.034Z"
   },
   {
    "duration": 10,
    "start_time": "2022-03-08T09:50:47.045Z"
   },
   {
    "duration": 8,
    "start_time": "2022-03-08T09:50:47.057Z"
   },
   {
    "duration": 3,
    "start_time": "2022-03-08T09:50:47.067Z"
   },
   {
    "duration": 19,
    "start_time": "2022-03-08T09:50:47.071Z"
   },
   {
    "duration": 15,
    "start_time": "2022-03-08T09:50:47.092Z"
   },
   {
    "duration": 18,
    "start_time": "2022-03-08T09:50:47.141Z"
   },
   {
    "duration": 15,
    "start_time": "2022-03-08T09:50:47.161Z"
   },
   {
    "duration": 27,
    "start_time": "2022-03-08T09:50:47.178Z"
   },
   {
    "duration": 54,
    "start_time": "2022-03-08T09:50:47.207Z"
   },
   {
    "duration": 37,
    "start_time": "2022-03-08T09:50:47.263Z"
   },
   {
    "duration": 64,
    "start_time": "2022-03-08T09:50:47.302Z"
   },
   {
    "duration": 89,
    "start_time": "2022-03-08T09:50:47.367Z"
   },
   {
    "duration": 1305,
    "start_time": "2022-03-08T09:50:47.458Z"
   },
   {
    "duration": 75,
    "start_time": "2022-03-08T09:50:48.765Z"
   },
   {
    "duration": 6,
    "start_time": "2022-03-08T09:50:48.842Z"
   },
   {
    "duration": 13,
    "start_time": "2022-03-08T09:50:48.850Z"
   },
   {
    "duration": 6,
    "start_time": "2022-03-08T09:50:48.865Z"
   },
   {
    "duration": 1435,
    "start_time": "2022-03-09T05:18:57.617Z"
   },
   {
    "duration": 502,
    "start_time": "2022-03-09T05:18:59.055Z"
   },
   {
    "duration": 9,
    "start_time": "2022-03-09T05:18:59.560Z"
   },
   {
    "duration": 32,
    "start_time": "2022-03-09T05:18:59.572Z"
   },
   {
    "duration": 16,
    "start_time": "2022-03-09T05:18:59.607Z"
   },
   {
    "duration": 27,
    "start_time": "2022-03-09T05:18:59.626Z"
   },
   {
    "duration": 31,
    "start_time": "2022-03-09T05:18:59.656Z"
   },
   {
    "duration": 114,
    "start_time": "2022-03-09T05:18:59.690Z"
   },
   {
    "duration": 7,
    "start_time": "2022-03-09T05:18:59.806Z"
   },
   {
    "duration": 25,
    "start_time": "2022-03-09T05:18:59.815Z"
   },
   {
    "duration": 75,
    "start_time": "2022-03-09T05:18:59.842Z"
   },
   {
    "duration": 95,
    "start_time": "2022-03-09T05:18:59.919Z"
   },
   {
    "duration": 156,
    "start_time": "2022-03-09T05:19:00.017Z"
   },
   {
    "duration": 7,
    "start_time": "2022-03-09T05:19:16.806Z"
   },
   {
    "duration": 15,
    "start_time": "2022-03-09T05:19:37.903Z"
   },
   {
    "duration": 4,
    "start_time": "2022-03-09T05:19:56.220Z"
   },
   {
    "duration": 488,
    "start_time": "2022-03-09T05:19:56.227Z"
   },
   {
    "duration": 8,
    "start_time": "2022-03-09T05:19:56.718Z"
   },
   {
    "duration": 29,
    "start_time": "2022-03-09T05:19:56.728Z"
   },
   {
    "duration": 30,
    "start_time": "2022-03-09T05:19:56.759Z"
   },
   {
    "duration": 23,
    "start_time": "2022-03-09T05:19:56.792Z"
   },
   {
    "duration": 8,
    "start_time": "2022-03-09T05:19:56.818Z"
   },
   {
    "duration": 121,
    "start_time": "2022-03-09T05:19:56.828Z"
   },
   {
    "duration": 7,
    "start_time": "2022-03-09T05:19:56.951Z"
   },
   {
    "duration": 28,
    "start_time": "2022-03-09T05:19:56.960Z"
   },
   {
    "duration": 66,
    "start_time": "2022-03-09T05:19:56.990Z"
   },
   {
    "duration": 95,
    "start_time": "2022-03-09T05:19:57.058Z"
   },
   {
    "duration": 139,
    "start_time": "2022-03-09T05:19:57.156Z"
   },
   {
    "duration": 7,
    "start_time": "2022-03-09T05:19:57.297Z"
   },
   {
    "duration": 7,
    "start_time": "2022-03-09T05:20:02.323Z"
   },
   {
    "duration": 7,
    "start_time": "2022-03-09T05:20:05.201Z"
   },
   {
    "duration": 5,
    "start_time": "2022-03-09T05:20:08.494Z"
   },
   {
    "duration": 510,
    "start_time": "2022-03-09T05:20:08.501Z"
   },
   {
    "duration": 10,
    "start_time": "2022-03-09T05:20:09.014Z"
   },
   {
    "duration": 30,
    "start_time": "2022-03-09T05:20:09.027Z"
   },
   {
    "duration": 38,
    "start_time": "2022-03-09T05:20:09.060Z"
   },
   {
    "duration": 22,
    "start_time": "2022-03-09T05:20:09.101Z"
   },
   {
    "duration": 9,
    "start_time": "2022-03-09T05:20:09.128Z"
   },
   {
    "duration": 132,
    "start_time": "2022-03-09T05:20:09.139Z"
   },
   {
    "duration": 12,
    "start_time": "2022-03-09T05:20:09.273Z"
   },
   {
    "duration": 14,
    "start_time": "2022-03-09T05:20:09.287Z"
   },
   {
    "duration": 82,
    "start_time": "2022-03-09T05:20:09.303Z"
   },
   {
    "duration": 76,
    "start_time": "2022-03-09T05:20:09.387Z"
   },
   {
    "duration": 145,
    "start_time": "2022-03-09T05:20:09.466Z"
   },
   {
    "duration": 6,
    "start_time": "2022-03-09T05:20:09.613Z"
   },
   {
    "duration": 7,
    "start_time": "2022-03-09T05:20:13.462Z"
   },
   {
    "duration": 1395,
    "start_time": "2022-03-09T05:20:25.144Z"
   },
   {
    "duration": 480,
    "start_time": "2022-03-09T05:20:26.542Z"
   },
   {
    "duration": 10,
    "start_time": "2022-03-09T05:20:27.025Z"
   },
   {
    "duration": 26,
    "start_time": "2022-03-09T05:20:27.038Z"
   },
   {
    "duration": 31,
    "start_time": "2022-03-09T05:20:27.066Z"
   },
   {
    "duration": 22,
    "start_time": "2022-03-09T05:20:27.099Z"
   },
   {
    "duration": 9,
    "start_time": "2022-03-09T05:20:27.123Z"
   },
   {
    "duration": 129,
    "start_time": "2022-03-09T05:20:27.136Z"
   },
   {
    "duration": 15,
    "start_time": "2022-03-09T05:20:27.268Z"
   },
   {
    "duration": 17,
    "start_time": "2022-03-09T05:20:27.285Z"
   },
   {
    "duration": 86,
    "start_time": "2022-03-09T05:20:27.304Z"
   },
   {
    "duration": 90,
    "start_time": "2022-03-09T05:20:27.392Z"
   },
   {
    "duration": 144,
    "start_time": "2022-03-09T05:20:27.485Z"
   },
   {
    "duration": 12,
    "start_time": "2022-03-09T05:20:27.632Z"
   },
   {
    "duration": 52,
    "start_time": "2022-03-09T05:20:27.647Z"
   },
   {
    "duration": 28,
    "start_time": "2022-03-09T05:20:27.701Z"
   },
   {
    "duration": 25,
    "start_time": "2022-03-09T05:20:27.731Z"
   },
   {
    "duration": 12,
    "start_time": "2022-03-09T05:20:27.782Z"
   },
   {
    "duration": 9,
    "start_time": "2022-03-09T05:20:27.796Z"
   },
   {
    "duration": 4177,
    "start_time": "2022-03-09T05:20:27.807Z"
   },
   {
    "duration": 3,
    "start_time": "2022-03-09T05:20:31.986Z"
   },
   {
    "duration": 7,
    "start_time": "2022-03-09T05:20:31.992Z"
   },
   {
    "duration": 324,
    "start_time": "2022-03-09T05:20:32.004Z"
   },
   {
    "duration": 323,
    "start_time": "2022-03-09T05:20:32.331Z"
   },
   {
    "duration": 326,
    "start_time": "2022-03-09T05:20:32.657Z"
   },
   {
    "duration": 10,
    "start_time": "2022-03-09T05:20:32.985Z"
   },
   {
    "duration": 9,
    "start_time": "2022-03-09T05:20:32.997Z"
   },
   {
    "duration": 13,
    "start_time": "2022-03-09T05:20:33.008Z"
   },
   {
    "duration": 7,
    "start_time": "2022-03-09T05:20:33.023Z"
   },
   {
    "duration": 51,
    "start_time": "2022-03-09T05:20:33.033Z"
   },
   {
    "duration": 23,
    "start_time": "2022-03-09T05:20:33.086Z"
   },
   {
    "duration": 29,
    "start_time": "2022-03-09T05:20:33.111Z"
   },
   {
    "duration": 43,
    "start_time": "2022-03-09T05:20:33.142Z"
   },
   {
    "duration": 43,
    "start_time": "2022-03-09T05:20:33.188Z"
   },
   {
    "duration": 65,
    "start_time": "2022-03-09T05:20:33.233Z"
   },
   {
    "duration": 57,
    "start_time": "2022-03-09T05:20:33.300Z"
   },
   {
    "duration": 80,
    "start_time": "2022-03-09T05:20:33.359Z"
   },
   {
    "duration": 129,
    "start_time": "2022-03-09T05:20:33.441Z"
   },
   {
    "duration": 2009,
    "start_time": "2022-03-09T05:20:33.583Z"
   },
   {
    "duration": 119,
    "start_time": "2022-03-09T05:20:35.594Z"
   },
   {
    "duration": 8,
    "start_time": "2022-03-09T05:20:35.715Z"
   },
   {
    "duration": 14,
    "start_time": "2022-03-09T05:20:35.725Z"
   },
   {
    "duration": 42,
    "start_time": "2022-03-09T05:20:35.742Z"
   },
   {
    "duration": 1313,
    "start_time": "2022-03-09T05:21:50.329Z"
   },
   {
    "duration": 495,
    "start_time": "2022-03-09T05:21:51.644Z"
   },
   {
    "duration": 9,
    "start_time": "2022-03-09T05:21:52.142Z"
   },
   {
    "duration": 36,
    "start_time": "2022-03-09T05:21:52.154Z"
   },
   {
    "duration": 19,
    "start_time": "2022-03-09T05:21:52.193Z"
   },
   {
    "duration": 38,
    "start_time": "2022-03-09T05:21:52.215Z"
   },
   {
    "duration": 18,
    "start_time": "2022-03-09T05:21:52.255Z"
   },
   {
    "duration": 106,
    "start_time": "2022-03-09T05:21:52.284Z"
   },
   {
    "duration": 6,
    "start_time": "2022-03-09T05:21:56.290Z"
   },
   {
    "duration": 17,
    "start_time": "2022-03-09T05:21:57.214Z"
   },
   {
    "duration": 61,
    "start_time": "2022-03-09T05:21:58.296Z"
   },
   {
    "duration": 83,
    "start_time": "2022-03-09T05:21:59.926Z"
   },
   {
    "duration": 154,
    "start_time": "2022-03-09T05:22:01.070Z"
   },
   {
    "duration": 13,
    "start_time": "2022-03-09T05:22:03.216Z"
   },
   {
    "duration": 1329,
    "start_time": "2022-03-09T05:22:14.318Z"
   },
   {
    "duration": 491,
    "start_time": "2022-03-09T05:22:15.649Z"
   },
   {
    "duration": 10,
    "start_time": "2022-03-09T05:22:16.143Z"
   },
   {
    "duration": 41,
    "start_time": "2022-03-09T05:22:16.155Z"
   },
   {
    "duration": 19,
    "start_time": "2022-03-09T05:22:16.198Z"
   },
   {
    "duration": 26,
    "start_time": "2022-03-09T05:22:16.219Z"
   },
   {
    "duration": 33,
    "start_time": "2022-03-09T05:22:16.248Z"
   },
   {
    "duration": 108,
    "start_time": "2022-03-09T05:22:16.285Z"
   },
   {
    "duration": 7,
    "start_time": "2022-03-09T05:22:16.396Z"
   },
   {
    "duration": 17,
    "start_time": "2022-03-09T05:22:16.406Z"
   },
   {
    "duration": 89,
    "start_time": "2022-03-09T05:22:16.425Z"
   },
   {
    "duration": 91,
    "start_time": "2022-03-09T05:22:16.516Z"
   },
   {
    "duration": 151,
    "start_time": "2022-03-09T05:22:16.610Z"
   },
   {
    "duration": 19,
    "start_time": "2022-03-09T05:22:16.763Z"
   },
   {
    "duration": 35,
    "start_time": "2022-03-09T05:22:16.785Z"
   },
   {
    "duration": 30,
    "start_time": "2022-03-09T05:22:16.822Z"
   },
   {
    "duration": 25,
    "start_time": "2022-03-09T05:22:16.883Z"
   },
   {
    "duration": 10,
    "start_time": "2022-03-09T05:22:16.911Z"
   },
   {
    "duration": 13,
    "start_time": "2022-03-09T05:22:16.923Z"
   },
   {
    "duration": 4258,
    "start_time": "2022-03-09T05:22:16.938Z"
   },
   {
    "duration": 4,
    "start_time": "2022-03-09T05:22:21.199Z"
   },
   {
    "duration": 9,
    "start_time": "2022-03-09T05:22:21.205Z"
   },
   {
    "duration": 321,
    "start_time": "2022-03-09T05:22:21.219Z"
   },
   {
    "duration": 321,
    "start_time": "2022-03-09T05:22:21.544Z"
   },
   {
    "duration": 314,
    "start_time": "2022-03-09T05:22:21.868Z"
   },
   {
    "duration": 10,
    "start_time": "2022-03-09T05:22:22.185Z"
   },
   {
    "duration": 16,
    "start_time": "2022-03-09T05:22:22.197Z"
   },
   {
    "duration": 15,
    "start_time": "2022-03-09T05:22:22.215Z"
   },
   {
    "duration": 7,
    "start_time": "2022-03-09T05:22:22.233Z"
   },
   {
    "duration": 54,
    "start_time": "2022-03-09T05:22:22.243Z"
   },
   {
    "duration": 22,
    "start_time": "2022-03-09T05:22:22.299Z"
   },
   {
    "duration": 24,
    "start_time": "2022-03-09T05:22:22.323Z"
   },
   {
    "duration": 50,
    "start_time": "2022-03-09T05:22:22.349Z"
   },
   {
    "duration": 45,
    "start_time": "2022-03-09T05:22:22.402Z"
   },
   {
    "duration": 66,
    "start_time": "2022-03-09T05:22:22.450Z"
   },
   {
    "duration": 85,
    "start_time": "2022-03-09T05:22:22.518Z"
   },
   {
    "duration": 83,
    "start_time": "2022-03-09T05:22:22.606Z"
   },
   {
    "duration": 123,
    "start_time": "2022-03-09T05:22:22.691Z"
   },
   {
    "duration": 1997,
    "start_time": "2022-03-09T05:22:22.817Z"
   },
   {
    "duration": 119,
    "start_time": "2022-03-09T05:22:24.816Z"
   },
   {
    "duration": 7,
    "start_time": "2022-03-09T05:22:24.937Z"
   },
   {
    "duration": 35,
    "start_time": "2022-03-09T05:22:24.947Z"
   },
   {
    "duration": 10,
    "start_time": "2022-03-09T05:22:24.984Z"
   },
   {
    "duration": 80,
    "start_time": "2022-03-09T05:23:29.730Z"
   }
  ],
  "kernelspec": {
   "display_name": "Python 3 (ipykernel)",
   "language": "python",
   "name": "python3"
  },
  "language_info": {
   "codemirror_mode": {
    "name": "ipython",
    "version": 3
   },
   "file_extension": ".py",
   "mimetype": "text/x-python",
   "name": "python",
   "nbconvert_exporter": "python",
   "pygments_lexer": "ipython3",
   "version": "3.9.7"
  },
  "toc": {
   "base_numbering": 1,
   "nav_menu": {},
   "number_sections": true,
   "sideBar": true,
   "skip_h1_title": true,
   "title_cell": "Table of Contents",
   "title_sidebar": "Contents",
   "toc_cell": false,
   "toc_position": {},
   "toc_section_display": true,
   "toc_window_display": false
  }
 },
 "nbformat": 4,
 "nbformat_minor": 2
}
