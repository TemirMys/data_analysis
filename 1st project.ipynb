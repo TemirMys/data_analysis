{
 "cells": [
  {
   "cell_type": "markdown",
   "metadata": {
    "id": "E0vqbgi9ay0H"
   },
   "source": [
    "# Яндекс.Музыка"
   ]
  },
  {
   "cell_type": "markdown",
   "metadata": {
    "id": "VUC88oWjTJw2"
   },
   "source": [
    "Сравнение Москвы и Петербурга окружено мифами. Например:\n",
    " * Москва — мегаполис, подчинённый жёсткому ритму рабочей недели;\n",
    " * Петербург — культурная столица, со своими вкусами.\n",
    "\n",
    "На данных Яндекс.Музыки вы сравните поведение пользователей двух столиц.\n",
    "\n",
    "**Цель исследования** — проверьте три гипотезы:\n",
    "1. Активность пользователей зависит от дня недели. Причём в Москве и Петербурге это проявляется по-разному.\n",
    "2. В понедельник утром в Москве преобладают одни жанры, а в Петербурге — другие. Так же и вечером пятницы преобладают разные жанры — в зависимости от города. \n",
    "3. Москва и Петербург предпочитают разные жанры музыки. В Москве чаще слушают поп-музыку, в Петербурге — русский рэп.\n",
    "\n",
    "**Ход исследования**\n",
    "\n",
    "Данные о поведении пользователей вы получите из файла `yandex_music_project.csv`. О качестве данных ничего не известно. Поэтому перед проверкой гипотез понадобится обзор данных. \n",
    "\n",
    "Вы проверите данные на ошибки и оцените их влияние на исследование. Затем, на этапе предобработки вы поищете возможность исправить самые критичные ошибки данных.\n",
    " \n",
    "Таким образом, исследование пройдёт в три этапа:\n",
    " 1. Обзор данных.\n",
    " 2. Предобработка данных.\n",
    " 3. Проверка гипотез.\n",
    "\n"
   ]
  },
  {
   "cell_type": "markdown",
   "metadata": {
    "id": "Ml1hmfXC_Zcs"
   },
   "source": [
    "## Обзор данных\n",
    "\n",
    "Составьте первое представление о данных Яндекс.Музыки.\n",
    "\n",
    "\n"
   ]
  },
  {
   "cell_type": "markdown",
   "metadata": {
    "id": "57eAOGIz_Zcs"
   },
   "source": [
    "Основной инструмент аналитика — `pandas`. Импортируйте эту библиотеку."
   ]
  },
  {
   "cell_type": "code",
   "execution_count": 1,
   "metadata": {
    "id": "AXN7PHPN_Zcs"
   },
   "outputs": [],
   "source": [
    "import pandas as pd # импорт библиотеки pandas"
   ]
  },
  {
   "cell_type": "code",
   "execution_count": 2,
   "metadata": {
    "id": "fFVu7vqh_Zct",
    "scrolled": false
   },
   "outputs": [],
   "source": [
    "df = pd.read_csv('/datasets/yandex_music_project.csv') # чтение файла с данными и сохранение в df"
   ]
  },
  {
   "cell_type": "markdown",
   "metadata": {
    "id": "rDoOMd3uTqnZ"
   },
   "source": [
    "Вывод на экран первых десяти строк таблицы:"
   ]
  },
  {
   "cell_type": "code",
   "execution_count": 3,
   "metadata": {},
   "outputs": [
    {
     "data": {
      "text/html": [
       "<div>\n",
       "<style scoped>\n",
       "    .dataframe tbody tr th:only-of-type {\n",
       "        vertical-align: middle;\n",
       "    }\n",
       "\n",
       "    .dataframe tbody tr th {\n",
       "        vertical-align: top;\n",
       "    }\n",
       "\n",
       "    .dataframe thead th {\n",
       "        text-align: right;\n",
       "    }\n",
       "</style>\n",
       "<table border=\"1\" class=\"dataframe\">\n",
       "  <thead>\n",
       "    <tr style=\"text-align: right;\">\n",
       "      <th></th>\n",
       "      <th>userID</th>\n",
       "      <th>Track</th>\n",
       "      <th>artist</th>\n",
       "      <th>genre</th>\n",
       "      <th>City</th>\n",
       "      <th>time</th>\n",
       "      <th>Day</th>\n",
       "    </tr>\n",
       "  </thead>\n",
       "  <tbody>\n",
       "    <tr>\n",
       "      <td>0</td>\n",
       "      <td>FFB692EC</td>\n",
       "      <td>Kamigata To Boots</td>\n",
       "      <td>The Mass Missile</td>\n",
       "      <td>rock</td>\n",
       "      <td>Saint-Petersburg</td>\n",
       "      <td>20:28:33</td>\n",
       "      <td>Wednesday</td>\n",
       "    </tr>\n",
       "    <tr>\n",
       "      <td>1</td>\n",
       "      <td>55204538</td>\n",
       "      <td>Delayed Because of Accident</td>\n",
       "      <td>Andreas Rönnberg</td>\n",
       "      <td>rock</td>\n",
       "      <td>Moscow</td>\n",
       "      <td>14:07:09</td>\n",
       "      <td>Friday</td>\n",
       "    </tr>\n",
       "    <tr>\n",
       "      <td>2</td>\n",
       "      <td>20EC38</td>\n",
       "      <td>Funiculì funiculà</td>\n",
       "      <td>Mario Lanza</td>\n",
       "      <td>pop</td>\n",
       "      <td>Saint-Petersburg</td>\n",
       "      <td>20:58:07</td>\n",
       "      <td>Wednesday</td>\n",
       "    </tr>\n",
       "    <tr>\n",
       "      <td>3</td>\n",
       "      <td>A3DD03C9</td>\n",
       "      <td>Dragons in the Sunset</td>\n",
       "      <td>Fire + Ice</td>\n",
       "      <td>folk</td>\n",
       "      <td>Saint-Petersburg</td>\n",
       "      <td>08:37:09</td>\n",
       "      <td>Monday</td>\n",
       "    </tr>\n",
       "    <tr>\n",
       "      <td>4</td>\n",
       "      <td>E2DC1FAE</td>\n",
       "      <td>Soul People</td>\n",
       "      <td>Space Echo</td>\n",
       "      <td>dance</td>\n",
       "      <td>Moscow</td>\n",
       "      <td>08:34:34</td>\n",
       "      <td>Monday</td>\n",
       "    </tr>\n",
       "    <tr>\n",
       "      <td>5</td>\n",
       "      <td>842029A1</td>\n",
       "      <td>Преданная</td>\n",
       "      <td>IMPERVTOR</td>\n",
       "      <td>rusrap</td>\n",
       "      <td>Saint-Petersburg</td>\n",
       "      <td>13:09:41</td>\n",
       "      <td>Friday</td>\n",
       "    </tr>\n",
       "    <tr>\n",
       "      <td>6</td>\n",
       "      <td>4CB90AA5</td>\n",
       "      <td>True</td>\n",
       "      <td>Roman Messer</td>\n",
       "      <td>dance</td>\n",
       "      <td>Moscow</td>\n",
       "      <td>13:00:07</td>\n",
       "      <td>Wednesday</td>\n",
       "    </tr>\n",
       "    <tr>\n",
       "      <td>7</td>\n",
       "      <td>F03E1C1F</td>\n",
       "      <td>Feeling This Way</td>\n",
       "      <td>Polina Griffith</td>\n",
       "      <td>dance</td>\n",
       "      <td>Moscow</td>\n",
       "      <td>20:47:49</td>\n",
       "      <td>Wednesday</td>\n",
       "    </tr>\n",
       "    <tr>\n",
       "      <td>8</td>\n",
       "      <td>8FA1D3BE</td>\n",
       "      <td>И вновь продолжается бой</td>\n",
       "      <td>NaN</td>\n",
       "      <td>ruspop</td>\n",
       "      <td>Moscow</td>\n",
       "      <td>09:17:40</td>\n",
       "      <td>Friday</td>\n",
       "    </tr>\n",
       "    <tr>\n",
       "      <td>9</td>\n",
       "      <td>E772D5C0</td>\n",
       "      <td>Pessimist</td>\n",
       "      <td>NaN</td>\n",
       "      <td>dance</td>\n",
       "      <td>Saint-Petersburg</td>\n",
       "      <td>21:20:49</td>\n",
       "      <td>Wednesday</td>\n",
       "    </tr>\n",
       "  </tbody>\n",
       "</table>\n",
       "</div>"
      ],
      "text/plain": [
       "     userID                        Track            artist   genre  \\\n",
       "0  FFB692EC            Kamigata To Boots  The Mass Missile    rock   \n",
       "1  55204538  Delayed Because of Accident  Andreas Rönnberg    rock   \n",
       "2    20EC38            Funiculì funiculà       Mario Lanza     pop   \n",
       "3  A3DD03C9        Dragons in the Sunset        Fire + Ice    folk   \n",
       "4  E2DC1FAE                  Soul People        Space Echo   dance   \n",
       "5  842029A1                    Преданная         IMPERVTOR  rusrap   \n",
       "6  4CB90AA5                         True      Roman Messer   dance   \n",
       "7  F03E1C1F             Feeling This Way   Polina Griffith   dance   \n",
       "8  8FA1D3BE     И вновь продолжается бой               NaN  ruspop   \n",
       "9  E772D5C0                    Pessimist               NaN   dance   \n",
       "\n",
       "             City        time        Day  \n",
       "0  Saint-Petersburg  20:28:33  Wednesday  \n",
       "1            Moscow  14:07:09     Friday  \n",
       "2  Saint-Petersburg  20:58:07  Wednesday  \n",
       "3  Saint-Petersburg  08:37:09     Monday  \n",
       "4            Moscow  08:34:34     Monday  \n",
       "5  Saint-Petersburg  13:09:41     Friday  \n",
       "6            Moscow  13:00:07  Wednesday  \n",
       "7            Moscow  20:47:49  Wednesday  \n",
       "8            Moscow  09:17:40     Friday  \n",
       "9  Saint-Petersburg  21:20:49  Wednesday  "
      ]
     },
     "execution_count": 3,
     "metadata": {},
     "output_type": "execute_result"
    }
   ],
   "source": [
    "df.head(10)"
   ]
  },
  {
   "cell_type": "markdown",
   "metadata": {
    "id": "EO73Kwic_Zct"
   },
   "source": [
    "Одной командой получить общую информацию о таблице:"
   ]
  },
  {
   "cell_type": "code",
   "execution_count": 4,
   "metadata": {
    "id": "DSf2kIb-_Zct"
   },
   "outputs": [
    {
     "name": "stdout",
     "output_type": "stream",
     "text": [
      "<class 'pandas.core.frame.DataFrame'>\n",
      "RangeIndex: 65079 entries, 0 to 65078\n",
      "Data columns (total 7 columns):\n",
      "  userID    65079 non-null object\n",
      "Track       63848 non-null object\n",
      "artist      57876 non-null object\n",
      "genre       63881 non-null object\n",
      "  City      65079 non-null object\n",
      "time        65079 non-null object\n",
      "Day         65079 non-null object\n",
      "dtypes: object(7)\n",
      "memory usage: 3.5+ MB\n"
     ]
    }
   ],
   "source": [
    "df.info() # получение общей информации о данных в таблице df"
   ]
  },
  {
   "cell_type": "markdown",
   "metadata": {
    "id": "TaQ2Iwbr_Zct"
   },
   "source": [
    "Итак, в таблице семь столбцов. Тип данных во всех столбцах — `object`.\n",
    "\n",
    "Согласно документации к данным:\n",
    "* `userID` — идентификатор пользователя;\n",
    "* `Track` — название трека;  \n",
    "* `artist` — имя исполнителя;\n",
    "* `genre` — название жанра;\n",
    "* `City` — город пользователя;\n",
    "* `time` — время начала прослушивания;\n",
    "* `Day` — день недели.\n",
    "\n",
    "В названиях колонок видны три нарушения стиля:\n",
    "1. Строчные буквы сочетаются с прописными.\n",
    "2. Встречаются пробелы.\n",
    "3. Еще одна проблема в написании заключается в том, что в userId не применен \"змеинный\" регистр.\n",
    "\n",
    "\n",
    "\n",
    "Количество значений в столбцах различается. Значит, в данных есть пропущенные значения.\n"
   ]
  },
  {
   "cell_type": "markdown",
   "metadata": {
    "id": "MCB6-dXG_Zct"
   },
   "source": [
    "**Выводы**\n",
    "\n",
    "В каждой строке таблицы — данные о прослушанном треке. Часть колонок описывает саму композицию: название, исполнителя и жанр. Остальные данные рассказывают о пользователе: из какого он города, когда он слушал музыку. \n",
    "\n",
    "Предварительно можно утверждать, что, данных достаточно для проверки гипотез. Но встречаются пропуски в данных, а в названиях колонок — расхождения с хорошим стилем.\n",
    "\n",
    "Чтобы двигаться дальше, нужно устранить проблемы в данных."
   ]
  },
  {
   "cell_type": "markdown",
   "metadata": {
    "id": "SjYF6Ub9_Zct"
   },
   "source": [
    "## Предобработка данных\n",
    "Исправить стиль в заголовках столбцов, исключить пропуски. Затем проверить данные на дубликаты."
   ]
  },
  {
   "cell_type": "markdown",
   "metadata": {
    "id": "dIaKXr29_Zct"
   },
   "source": [
    "### Стиль заголовков\n",
    "Вывод на экран названия столбцов:"
   ]
  },
  {
   "cell_type": "code",
   "execution_count": 5,
   "metadata": {
    "id": "oKOTdF_Q_Zct"
   },
   "outputs": [
    {
     "data": {
      "text/plain": [
       "Index(['  userID', 'Track', 'artist', 'genre', '  City  ', 'time', 'Day'], dtype='object')"
      ]
     },
     "execution_count": 5,
     "metadata": {},
     "output_type": "execute_result"
    }
   ],
   "source": [
    "df.columns # перечень названий столбцов таблицы df"
   ]
  },
  {
   "cell_type": "markdown",
   "metadata": {
    "id": "zj5534cv_Zct"
   },
   "source": [
    "Привести названия в соответствие с хорошим стилем:\n",
    "* несколько слов в названии записать в «змеином_регистре»,\n",
    "* все символы сделать строчными,\n",
    "* устранить пробелы.\n"
   ]
  },
  {
   "cell_type": "code",
   "execution_count": 6,
   "metadata": {
    "id": "ISlFqs5y_Zct"
   },
   "outputs": [],
   "source": [
    "df = df.rename(columns={'  userID' : 'user_id',\n",
    "                        'Track' : 'track',\n",
    "                        '  City  ': 'city',\n",
    "                        'Day' : 'day'\n",
    "                       }\n",
    "              ) # переименование столбцов"
   ]
  },
  {
   "cell_type": "code",
   "execution_count": 7,
   "metadata": {
    "id": "d4NOAmTW_Zct"
   },
   "outputs": [
    {
     "data": {
      "text/plain": [
       "Index(['user_id', 'track', 'artist', 'genre', 'city', 'time', 'day'], dtype='object')"
      ]
     },
     "metadata": {},
     "output_type": "display_data"
    }
   ],
   "source": [
    "df.columns # проверка результатов - перечень названий столбцов"
   ]
  },
  {
   "cell_type": "markdown",
   "metadata": {
    "id": "5ISfbcfY_Zct"
   },
   "source": [
    "### Пропуски значений\n",
    "Сначала посчитать, сколько в таблице пропущенных значений. Для этого достаточно двух методов `pandas`:"
   ]
  },
  {
   "cell_type": "code",
   "execution_count": 8,
   "metadata": {
    "id": "RskX29qr_Zct"
   },
   "outputs": [
    {
     "data": {
      "text/plain": [
       "user_id       0\n",
       "track      1231\n",
       "artist     7203\n",
       "genre      1198\n",
       "city          0\n",
       "time          0\n",
       "day           0\n",
       "dtype: int64"
      ]
     },
     "execution_count": 8,
     "metadata": {},
     "output_type": "execute_result"
    }
   ],
   "source": [
    "df.isna().sum() # подсчёт пропусков"
   ]
  },
  {
   "cell_type": "markdown",
   "metadata": {
    "id": "qubhgnlO_Zct"
   },
   "source": [
    "Не все пропущенные значения влияют на исследование. Так в `track` и `artist` пропуски не важны для работы. Достаточно заменить их явными обозначениями.\n",
    "\n",
    "Но пропуски в `genre` могут помешать сравнению музыкальных вкусов в Москве и Санкт-Петербурге. На практике было бы правильно установить причину пропусков и восстановить данные. Такой возможности нет в учебном проекте. Придётся:\n",
    "* заполнить и эти пропуски явными обозначениями,\n",
    "* оценить, насколько они повредят расчётам. "
   ]
  },
  {
   "cell_type": "markdown",
   "metadata": {
    "id": "fSv2laPA_Zct"
   },
   "source": [
    "Заменить пропущенные значения в столбцах `track`, `artist` и `genre` на строку `'unknown'`. Для этого нужно создать список `columns_to_replace`, перебрать его элементы циклом `for` и для каждого столбца выполнить замену пропущенных значений:"
   ]
  },
  {
   "cell_type": "code",
   "execution_count": 9,
   "metadata": {
    "id": "KplB5qWs_Zct"
   },
   "outputs": [],
   "source": [
    "columns_to_replace = ['track', \n",
    "                      'artist',\n",
    "                      'genre'] # перебор названий столбцов в цикле и замена пропущенных значений на 'unknown'\n",
    "for i in columns_to_replace: \n",
    "    df[i] = df[i].fillna('unknown') "
   ]
  },
  {
   "cell_type": "code",
   "execution_count": 10,
   "metadata": {
    "id": "Tq4nYRX4_Zct"
   },
   "outputs": [
    {
     "data": {
      "text/plain": [
       "user_id    0\n",
       "track      0\n",
       "artist     0\n",
       "genre      0\n",
       "city       0\n",
       "time       0\n",
       "day        0\n",
       "dtype: int64"
      ]
     },
     "execution_count": 10,
     "metadata": {},
     "output_type": "execute_result"
    }
   ],
   "source": [
    "df.isna().sum() # подсчёт пропусков"
   ]
  },
  {
   "cell_type": "markdown",
   "metadata": {
    "id": "BWKRtBJ3_Zct"
   },
   "source": [
    "### Дубликаты\n"
   ]
  },
  {
   "cell_type": "code",
   "execution_count": 11,
   "metadata": {
    "id": "36eES_S0_Zct"
   },
   "outputs": [
    {
     "data": {
      "text/plain": [
       "3826"
      ]
     },
     "execution_count": 11,
     "metadata": {},
     "output_type": "execute_result"
    }
   ],
   "source": [
    "df.duplicated().sum()# подсчёт явных дубликатов"
   ]
  },
  {
   "cell_type": "markdown",
   "metadata": {
    "id": "Ot25h6XR_Zct"
   },
   "source": [
    "Специальный метод `pandas`, чтобы удалить явные дубликаты:"
   ]
  },
  {
   "cell_type": "code",
   "execution_count": 12,
   "metadata": {
    "id": "exFHq6tt_Zct"
   },
   "outputs": [],
   "source": [
    "df = df.drop_duplicates().reset_index(drop=True) # удаление явных дубликатов (с удалением старых индексов и формированием новых)"
   ]
  },
  {
   "cell_type": "code",
   "execution_count": 13,
   "metadata": {
    "id": "-8PuNWQ0_Zct"
   },
   "outputs": [
    {
     "data": {
      "text/plain": [
       "0"
      ]
     },
     "execution_count": 13,
     "metadata": {},
     "output_type": "execute_result"
    }
   ],
   "source": [
    "df.duplicated().sum() # проверка на отсутствие дубликатов"
   ]
  },
  {
   "cell_type": "markdown",
   "metadata": {
    "id": "QlFBsxAr_Zct"
   },
   "source": [
    "Теперь нужно избавиться от неявных дубликатов в колонке `genre`. Например, название одного и того же жанра может быть записано немного по-разному. Такие ошибки тоже повлияют на результат исследования."
   ]
  },
  {
   "cell_type": "code",
   "execution_count": 14,
   "metadata": {
    "id": "JIUcqzZN_Zct"
   },
   "outputs": [
    {
     "data": {
      "text/plain": [
       "array(['acid', 'acoustic', 'action', 'adult', 'africa', 'afrikaans',\n",
       "       'alternative', 'alternativepunk', 'ambient', 'americana',\n",
       "       'animated', 'anime', 'arabesk', 'arabic', 'arena',\n",
       "       'argentinetango', 'art', 'audiobook', 'author', 'avantgarde',\n",
       "       'axé', 'baile', 'balkan', 'beats', 'bigroom', 'black', 'bluegrass',\n",
       "       'blues', 'bollywood', 'bossa', 'brazilian', 'breakbeat', 'breaks',\n",
       "       'broadway', 'cantautori', 'cantopop', 'canzone', 'caribbean',\n",
       "       'caucasian', 'celtic', 'chamber', 'chanson', 'children', 'chill',\n",
       "       'chinese', 'choral', 'christian', 'christmas', 'classical',\n",
       "       'classicmetal', 'club', 'colombian', 'comedy', 'conjazz',\n",
       "       'contemporary', 'country', 'cuban', 'dance', 'dancehall',\n",
       "       'dancepop', 'dark', 'death', 'deep', 'deutschrock', 'deutschspr',\n",
       "       'dirty', 'disco', 'dnb', 'documentary', 'downbeat', 'downtempo',\n",
       "       'drum', 'dub', 'dubstep', 'eastern', 'easy', 'electronic',\n",
       "       'electropop', 'emo', 'entehno', 'epicmetal', 'estrada', 'ethnic',\n",
       "       'eurofolk', 'european', 'experimental', 'extrememetal', 'fado',\n",
       "       'fairytail', 'film', 'fitness', 'flamenco', 'folk', 'folklore',\n",
       "       'folkmetal', 'folkrock', 'folktronica', 'forró', 'frankreich',\n",
       "       'französisch', 'french', 'funk', 'future', 'gangsta', 'garage',\n",
       "       'german', 'ghazal', 'gitarre', 'glitch', 'gospel', 'gothic',\n",
       "       'grime', 'grunge', 'gypsy', 'handsup', \"hard'n'heavy\", 'hardcore',\n",
       "       'hardstyle', 'hardtechno', 'hip', 'hip-hop', 'hiphop',\n",
       "       'historisch', 'holiday', 'hop', 'horror', 'house', 'hymn', 'idm',\n",
       "       'independent', 'indian', 'indie', 'indipop', 'industrial',\n",
       "       'inspirational', 'instrumental', 'international', 'irish', 'jam',\n",
       "       'japanese', 'jazz', 'jewish', 'jpop', 'jungle', 'k-pop',\n",
       "       'karadeniz', 'karaoke', 'kayokyoku', 'korean', 'laiko', 'latin',\n",
       "       'latino', 'leftfield', 'local', 'lounge', 'loungeelectronic',\n",
       "       'lovers', 'malaysian', 'mandopop', 'marschmusik', 'meditative',\n",
       "       'mediterranean', 'melodic', 'metal', 'metalcore', 'mexican',\n",
       "       'middle', 'minimal', 'miscellaneous', 'modern', 'mood', 'mpb',\n",
       "       'muslim', 'native', 'neoklassik', 'neue', 'new', 'newage',\n",
       "       'newwave', 'nu', 'nujazz', 'numetal', 'oceania', 'old', 'opera',\n",
       "       'orchestral', 'other', 'piano', 'podcasts', 'pop', 'popdance',\n",
       "       'popelectronic', 'popeurodance', 'poprussian', 'post',\n",
       "       'posthardcore', 'postrock', 'power', 'progmetal', 'progressive',\n",
       "       'psychedelic', 'punjabi', 'punk', 'quebecois', 'ragga', 'ram',\n",
       "       'rancheras', 'rap', 'rave', 'reggae', 'reggaeton', 'regional',\n",
       "       'relax', 'religious', 'retro', 'rhythm', 'rnb', 'rnr', 'rock',\n",
       "       'rockabilly', 'rockalternative', 'rockindie', 'rockother',\n",
       "       'romance', 'roots', 'ruspop', 'rusrap', 'rusrock', 'russian',\n",
       "       'salsa', 'samba', 'scenic', 'schlager', 'self', 'sertanejo',\n",
       "       'shanson', 'shoegazing', 'showtunes', 'singer', 'ska', 'skarock',\n",
       "       'slow', 'smooth', 'soft', 'soul', 'soulful', 'sound', 'soundtrack',\n",
       "       'southern', 'specialty', 'speech', 'spiritual', 'sport',\n",
       "       'stonerrock', 'surf', 'swing', 'synthpop', 'synthrock',\n",
       "       'sängerportrait', 'tango', 'tanzorchester', 'taraftar', 'tatar',\n",
       "       'tech', 'techno', 'teen', 'thrash', 'top', 'traditional',\n",
       "       'tradjazz', 'trance', 'tribal', 'trip', 'triphop', 'tropical',\n",
       "       'türk', 'türkçe', 'ukrrock', 'unknown', 'urban', 'uzbek',\n",
       "       'variété', 'vi', 'videogame', 'vocal', 'western', 'world',\n",
       "       'worldbeat', 'ïîï', 'электроника'], dtype=object)"
      ]
     },
     "execution_count": 14,
     "metadata": {},
     "output_type": "execute_result"
    }
   ],
   "source": [
    "df['genre'].sort_values().unique() # Просмотр уникальных названий жанров"
   ]
  },
  {
   "cell_type": "markdown",
   "metadata": {
    "id": "qej-Qmuo_Zct"
   },
   "source": [
    "Просмотрите список и найдите неявные дубликаты названия `hiphop`. Это могут быть названия с ошибками или альтернативные названия того же жанра.\n",
    "\n",
    "Вы увидите следующие неявные дубликаты:\n",
    "* *hip*,\n",
    "* *hop*,\n",
    "* *hip-hop*.\n",
    "\n",
    "Чтобы очистить от них таблицу, напишите функцию `replace_wrong_genres()` с двумя параметрами: \n",
    "* `wrong_genres` — список дубликатов,\n",
    "* `correct_genre` — строка с правильным значением.\n",
    "\n",
    "Функция должна исправить колонку `genre` в таблице `df`: заменить каждое значение из списка `wrong_genres` на значение из `correct_genre`."
   ]
  },
  {
   "cell_type": "code",
   "execution_count": 15,
   "metadata": {
    "id": "ErNDkmns_Zct"
   },
   "outputs": [],
   "source": [
    "def replace_wrong_genres(wrong_genres, correct_genre): # Функция для замены неявных дубликатов\n",
    "    for i in wrong_genres:\n",
    "        df['genre'] = df['genre'].replace(i, correct_genre)\n",
    "    return df['genre']\n"
   ]
  },
  {
   "cell_type": "code",
   "execution_count": 16,
   "metadata": {
    "id": "YN5i2hpmSo09"
   },
   "outputs": [
    {
     "data": {
      "text/plain": [
       "0              rock\n",
       "1              rock\n",
       "2               pop\n",
       "3              folk\n",
       "4             dance\n",
       "            ...    \n",
       "61248           rnb\n",
       "61249        hiphop\n",
       "61250    industrial\n",
       "61251          rock\n",
       "61252       country\n",
       "Name: genre, Length: 61253, dtype: object"
      ]
     },
     "execution_count": 16,
     "metadata": {},
     "output_type": "execute_result"
    }
   ],
   "source": [
    "wrong_genres = ['hip', 'hop', 'hip-hop']\n",
    "correct_genre = 'hiphop'\n",
    "replace_wrong_genres(wrong_genres, correct_genre)\n",
    "# Устранение неявных дубликатов"
   ]
  },
  {
   "cell_type": "markdown",
   "metadata": {
    "id": "zQKF16_RG15m"
   },
   "source": [
    "Проверьте, что заменили неправильные названия:\n",
    "\n",
    "*   hip\n",
    "*   hop\n",
    "*   hip-hop\n",
    "\n",
    "Выведите отсортированный список уникальных значений столбца `genre`:"
   ]
  },
  {
   "cell_type": "code",
   "execution_count": 17,
   "metadata": {
    "id": "wvixALnFG15m"
   },
   "outputs": [
    {
     "data": {
      "text/plain": [
       "array(['rock', 'pop', 'folk', 'dance', 'rusrap', 'ruspop', 'world',\n",
       "       'electronic', 'unknown', 'alternative', 'children', 'rnb',\n",
       "       'hiphop', 'jazz', 'postrock', 'latin', 'classical', 'metal',\n",
       "       'reggae', 'tatar', 'blues', 'instrumental', 'rusrock', 'dnb',\n",
       "       'türk', 'post', 'country', 'psychedelic', 'conjazz', 'indie',\n",
       "       'posthardcore', 'local', 'avantgarde', 'punk', 'videogame',\n",
       "       'techno', 'house', 'christmas', 'melodic', 'caucasian',\n",
       "       'reggaeton', 'soundtrack', 'singer', 'ska', 'shanson', 'ambient',\n",
       "       'film', 'western', 'rap', 'beats', \"hard'n'heavy\", 'progmetal',\n",
       "       'minimal', 'contemporary', 'new', 'soul', 'holiday', 'german',\n",
       "       'tropical', 'fairytail', 'spiritual', 'urban', 'gospel', 'nujazz',\n",
       "       'folkmetal', 'trance', 'miscellaneous', 'anime', 'hardcore',\n",
       "       'progressive', 'chanson', 'numetal', 'vocal', 'estrada', 'russian',\n",
       "       'classicmetal', 'dubstep', 'club', 'deep', 'southern', 'black',\n",
       "       'folkrock', 'fitness', 'french', 'disco', 'religious', 'drum',\n",
       "       'extrememetal', 'türkçe', 'experimental', 'easy', 'metalcore',\n",
       "       'modern', 'argentinetango', 'old', 'breaks', 'eurofolk',\n",
       "       'stonerrock', 'industrial', 'funk', 'jpop', 'middle', 'variété',\n",
       "       'other', 'adult', 'christian', 'gothic', 'international', 'muslim',\n",
       "       'relax', 'schlager', 'caribbean', 'ukrrock', 'nu', 'breakbeat',\n",
       "       'comedy', 'chill', 'newage', 'specialty', 'uzbek', 'k-pop',\n",
       "       'balkan', 'chinese', 'meditative', 'dub', 'power', 'death',\n",
       "       'grime', 'arabesk', 'romance', 'flamenco', 'leftfield', 'european',\n",
       "       'tech', 'newwave', 'dancehall', 'mpb', 'piano', 'top', 'bigroom',\n",
       "       'opera', 'celtic', 'tradjazz', 'acoustic', 'epicmetal',\n",
       "       'historisch', 'downbeat', 'downtempo', 'africa', 'audiobook',\n",
       "       'jewish', 'sängerportrait', 'deutschrock', 'eastern', 'action',\n",
       "       'future', 'electropop', 'folklore', 'bollywood', 'marschmusik',\n",
       "       'rnr', 'karaoke', 'indian', 'rancheras', 'электроника',\n",
       "       'afrikaans', 'tango', 'rhythm', 'sound', 'deutschspr', 'trip',\n",
       "       'lovers', 'choral', 'dancepop', 'podcasts', 'retro', 'smooth',\n",
       "       'mexican', 'brazilian', 'ïîï', 'mood', 'surf', 'author', 'gangsta',\n",
       "       'triphop', 'inspirational', 'idm', 'ethnic', 'bluegrass',\n",
       "       'broadway', 'animated', 'americana', 'karadeniz', 'rockabilly',\n",
       "       'colombian', 'self', 'synthrock', 'sertanejo', 'japanese',\n",
       "       'canzone', 'swing', 'lounge', 'sport', 'korean', 'ragga',\n",
       "       'traditional', 'gitarre', 'frankreich', 'alternativepunk', 'emo',\n",
       "       'laiko', 'cantopop', 'glitch', 'documentary', 'rockalternative',\n",
       "       'thrash', 'hymn', 'oceania', 'rockother', 'popeurodance', 'dark',\n",
       "       'vi', 'grunge', 'hardstyle', 'samba', 'garage', 'soft', 'art',\n",
       "       'folktronica', 'entehno', 'mediterranean', 'chamber', 'cuban',\n",
       "       'taraftar', 'rockindie', 'gypsy', 'hardtechno', 'shoegazing',\n",
       "       'skarock', 'bossa', 'salsa', 'latino', 'worldbeat', 'malaysian',\n",
       "       'baile', 'ghazal', 'loungeelectronic', 'arabic', 'popelectronic',\n",
       "       'acid', 'kayokyoku', 'neoklassik', 'tribal', 'tanzorchester',\n",
       "       'native', 'independent', 'cantautori', 'handsup', 'poprussian',\n",
       "       'punjabi', 'synthpop', 'rave', 'französisch', 'quebecois',\n",
       "       'speech', 'soulful', 'teen', 'jam', 'ram', 'horror', 'scenic',\n",
       "       'orchestral', 'neue', 'roots', 'slow', 'jungle', 'indipop', 'axé',\n",
       "       'fado', 'showtunes', 'arena', 'irish', 'mandopop', 'forró',\n",
       "       'popdance', 'dirty', 'regional'], dtype=object)"
      ]
     },
     "metadata": {},
     "output_type": "display_data"
    }
   ],
   "source": [
    "display(df['genre'].unique()) # Проверка на неявные дубликаты"
   ]
  },
  {
   "cell_type": "markdown",
   "metadata": {
    "id": "jz6a9-7HQUDd"
   },
   "source": [
    "**Выводы**\n",
    "\n",
    "Предобработка обнаружила три проблемы в данных:\n",
    "\n",
    "- нарушения в стиле заголовков,\n",
    "- пропущенные значения,\n",
    "- дубликаты — явные и неявные.\n",
    "\n",
    "Вы исправили заголовки, чтобы упростить работу с таблицей. Без дубликатов исследование станет более точным.\n",
    "\n",
    "Пропущенные значения вы заменили на `'unknown'`. Ещё предстоит увидеть, не повредят ли исследованию пропуски в колонке `genre`.\n",
    "\n",
    "Теперь можно перейти к проверке гипотез. "
   ]
  },
  {
   "cell_type": "markdown",
   "metadata": {
    "id": "WttZHXH0SqKk"
   },
   "source": [
    "## Проверка гипотез"
   ]
  },
  {
   "cell_type": "markdown",
   "metadata": {
    "id": "Im936VVi_Zcu"
   },
   "source": [
    "### Сравнение поведения пользователей двух столиц"
   ]
  },
  {
   "cell_type": "markdown",
   "metadata": {
    "id": "nwt_MuaL_Zcu"
   },
   "source": [
    "Первая гипотеза утверждает, что пользователи по-разному слушают музыку в Москве и Санкт-Петербурге. Проверьте это предположение по данным о трёх днях недели — понедельнике, среде и пятнице. Для этого:\n",
    "\n",
    "* Разделите пользователей Москвы и Санкт-Петербурга\n",
    "* Сравните, сколько треков послушала каждая группа пользователей в понедельник, среду и пятницу.\n"
   ]
  },
  {
   "cell_type": "markdown",
   "metadata": {
    "id": "8Dw_YMmT_Zcu"
   },
   "source": [
    "Для тренировки сначала выполните каждый из расчётов по отдельности. \n",
    "\n",
    "Оцените активность пользователей в каждом городе. Сгруппируйте данные по городу и посчитайте прослушивания в каждой группе.\n",
    "\n"
   ]
  },
  {
   "cell_type": "code",
   "execution_count": 18,
   "metadata": {
    "id": "0_Qs96oh_Zcu"
   },
   "outputs": [
    {
     "data": {
      "text/plain": [
       "city\n",
       "Moscow              42741\n",
       "Saint-Petersburg    18512\n",
       "Name: time, dtype: int64"
      ]
     },
     "metadata": {},
     "output_type": "display_data"
    }
   ],
   "source": [
    "grouped = df.groupby('city')['time'].count()\n",
    "display(grouped)\n",
    "# Подсчёт прослушиваний в каждом городе"
   ]
  },
  {
   "cell_type": "markdown",
   "metadata": {
    "id": "dzli3w8o_Zcu"
   },
   "source": [
    "В Москве прослушиваний больше, чем в Петербурге. Из этого не следует, что московские пользователи чаще слушают музыку. Просто самих пользователей в Москве больше.\n",
    "\n",
    "Теперь сгруппируйте данные по дню недели и подсчитайте прослушивания в понедельник, среду и пятницу. Учтите, что в данных есть информация только о прослушиваниях только за эти дни.\n"
   ]
  },
  {
   "cell_type": "code",
   "execution_count": 19,
   "metadata": {
    "id": "uZMKjiJz_Zcu"
   },
   "outputs": [
    {
     "data": {
      "text/plain": [
       "day\n",
       "Friday       21840\n",
       "Monday       21354\n",
       "Wednesday    18059\n",
       "Name: time, dtype: int64"
      ]
     },
     "metadata": {},
     "output_type": "display_data"
    }
   ],
   "source": [
    "days_grouped = df.groupby('day')['time'].count()\n",
    "days_grouped\n",
    "# Подсчёт прослушиваний в каждый из трёх дней"
   ]
  },
  {
   "cell_type": "markdown",
   "metadata": {
    "id": "cC2tNrlL_Zcu"
   },
   "source": [
    "В среднем пользователи из двух городов менее активны по средам. Но картина может измениться, если рассмотреть каждый город в отдельности."
   ]
  },
  {
   "cell_type": "markdown",
   "metadata": {
    "id": "POzs8bGa_Zcu"
   },
   "source": [
    "Вы видели, как работает группировка по городу и по дням недели. Теперь напишите функцию, которая объединит два эти расчёта.\n",
    "\n",
    "Создайте функцию `number_tracks()`, которая посчитает прослушивания для заданного дня и города. Ей понадобятся два параметра:\n",
    "* день недели,\n",
    "* название города.\n",
    "\n",
    "В функции сохраните в переменную строки исходной таблицы, у которых значение:\n",
    "  * в колонке `day` равно параметру `day`,\n",
    "  * в колонке `city` равно параметру `city`.\n",
    "\n",
    "Для этого примените последовательную фильтрацию с логической индексацией.\n",
    "\n",
    "Затем посчитайте значения в столбце `user_id` получившейся таблицы. Результат сохраните в новую переменную. Верните эту переменную из функции."
   ]
  },
  {
   "cell_type": "code",
   "execution_count": 20,
   "metadata": {
    "id": "Nz3GdQB1_Zcu"
   },
   "outputs": [],
   "source": [
    "def number_tracks(day, city):# <создание функции number_tracks()>\n",
    "# Объявляется функция с двумя параметрами: day, city.\n",
    "\n",
    "    track_list = df[df['day'] == day]\n",
    "    track_list = track_list[track_list['city'] == city] # В переменной track_list сохраняются те строки таблицы df, для которых \n",
    "# значение в столбце 'day' равно параметру day и одновременно значение\n",
    "# в столбце 'city' равно параметру city (используйте последовательную фильтрацию\n",
    "# с помощью логической индексации).\n",
    "\n",
    "    track_list_count = track_list['user_id'].count() # В переменной track_list_count сохраняется число значений столбца 'user_id',\n",
    "# рассчитанное методом count() для таблицы track_list.\n",
    "    return track_list_count# Функция возвращает число - значение track_list_count.\n",
    "\n",
    "# Функция для подсчёта прослушиваний для конкретного города и дня.\n",
    "# С помощью последовательной фильтрации с логической индексацией она \n",
    "# сначала получит из исходной таблицы строки с нужным днём,\n",
    "# затем из результата отфильтрует строки с нужным городом,\n",
    "# методом count() посчитает количество значений в колонке user_id. \n",
    "# Это количество функция вернёт в качестве результата"
   ]
  },
  {
   "cell_type": "markdown",
   "metadata": {
    "id": "ytf7xFrFJQ2r"
   },
   "source": [
    "Вызовите `number_tracks()` шесть раз, меняя значение параметров — так, чтобы получить данные для каждого города в каждый из трёх дней."
   ]
  },
  {
   "cell_type": "code",
   "execution_count": 21,
   "metadata": {
    "id": "rJcRATNQ_Zcu"
   },
   "outputs": [
    {
     "data": {
      "text/plain": [
       "15740"
      ]
     },
     "execution_count": 21,
     "metadata": {},
     "output_type": "execute_result"
    }
   ],
   "source": [
    "number_tracks('Monday', 'Moscow')# количество прослушиваний в Москве по понедельникам"
   ]
  },
  {
   "cell_type": "code",
   "execution_count": 22,
   "metadata": {
    "id": "hq_ncZ5T_Zcu"
   },
   "outputs": [
    {
     "data": {
      "text/plain": [
       "5614"
      ]
     },
     "execution_count": 22,
     "metadata": {},
     "output_type": "execute_result"
    }
   ],
   "source": [
    "number_tracks('Monday', 'Saint-Petersburg') # количество прослушиваний в Санкт-Петербурге по понедельникам"
   ]
  },
  {
   "cell_type": "code",
   "execution_count": 23,
   "metadata": {
    "id": "_NTy2VPU_Zcu"
   },
   "outputs": [
    {
     "data": {
      "text/plain": [
       "11056"
      ]
     },
     "execution_count": 23,
     "metadata": {},
     "output_type": "execute_result"
    }
   ],
   "source": [
    "number_tracks('Wednesday', 'Moscow') # количество прослушиваний в Москве по средам"
   ]
  },
  {
   "cell_type": "code",
   "execution_count": 24,
   "metadata": {
    "id": "j2y3TAwo_Zcu"
   },
   "outputs": [
    {
     "data": {
      "text/plain": [
       "7003"
      ]
     },
     "execution_count": 24,
     "metadata": {},
     "output_type": "execute_result"
    }
   ],
   "source": [
    "number_tracks('Wednesday', 'Saint-Petersburg') # количество прослушиваний в Санкт-Петербурге по средам"
   ]
  },
  {
   "cell_type": "code",
   "execution_count": 25,
   "metadata": {
    "id": "vYDw5u_K_Zcu"
   },
   "outputs": [
    {
     "data": {
      "text/plain": [
       "15945"
      ]
     },
     "execution_count": 25,
     "metadata": {},
     "output_type": "execute_result"
    }
   ],
   "source": [
    "number_tracks('Friday', 'Moscow') # количество прослушиваний в Москве по пятницам"
   ]
  },
  {
   "cell_type": "code",
   "execution_count": 26,
   "metadata": {
    "id": "8_yzFtW3_Zcu"
   },
   "outputs": [
    {
     "data": {
      "text/plain": [
       "5895"
      ]
     },
     "execution_count": 26,
     "metadata": {},
     "output_type": "execute_result"
    }
   ],
   "source": [
    "number_tracks('Friday', 'Saint-Petersburg') # количество прослушиваний в Санкт-Петербурге по пятницам"
   ]
  },
  {
   "cell_type": "markdown",
   "metadata": {
    "id": "7QXffbO-_Zcu"
   },
   "source": [
    "Создайте c помощью конструктора `pd.DataFrame` таблицу, где\n",
    "* названия колонок — `['city', 'monday', 'wednesday', 'friday']`;\n",
    "* данные — результаты, которые вы получили с помощью `number_tracks`."
   ]
  },
  {
   "cell_type": "code",
   "execution_count": 27,
   "metadata": {
    "id": "APAcLpOr_Zcu"
   },
   "outputs": [
    {
     "data": {
      "text/html": [
       "<div>\n",
       "<style scoped>\n",
       "    .dataframe tbody tr th:only-of-type {\n",
       "        vertical-align: middle;\n",
       "    }\n",
       "\n",
       "    .dataframe tbody tr th {\n",
       "        vertical-align: top;\n",
       "    }\n",
       "\n",
       "    .dataframe thead th {\n",
       "        text-align: right;\n",
       "    }\n",
       "</style>\n",
       "<table border=\"1\" class=\"dataframe\">\n",
       "  <thead>\n",
       "    <tr style=\"text-align: right;\">\n",
       "      <th></th>\n",
       "      <th>city</th>\n",
       "      <th>monday</th>\n",
       "      <th>wednesday</th>\n",
       "      <th>friday</th>\n",
       "    </tr>\n",
       "  </thead>\n",
       "  <tbody>\n",
       "    <tr>\n",
       "      <td>0</td>\n",
       "      <td>Moscow</td>\n",
       "      <td>15740</td>\n",
       "      <td>11056</td>\n",
       "      <td>15945</td>\n",
       "    </tr>\n",
       "    <tr>\n",
       "      <td>1</td>\n",
       "      <td>Saint-Petersburg</td>\n",
       "      <td>5614</td>\n",
       "      <td>7003</td>\n",
       "      <td>5895</td>\n",
       "    </tr>\n",
       "  </tbody>\n",
       "</table>\n",
       "</div>"
      ],
      "text/plain": [
       "               city  monday  wednesday  friday\n",
       "0            Moscow   15740      11056   15945\n",
       "1  Saint-Petersburg    5614       7003    5895"
      ]
     },
     "metadata": {},
     "output_type": "display_data"
    }
   ],
   "source": [
    "columns = ['city', 'monday', 'wednesday', 'friday'] # Таблица с результатами\n",
    "data = [['Moscow', 15740, 11056, 15945], ['Saint-Petersburg', 5614, 7003, 5895]]\n",
    "table = pd.DataFrame(data = data, columns = columns) \n",
    "display(table)"
   ]
  },
  {
   "cell_type": "markdown",
   "metadata": {
    "id": "-EgPIHYu_Zcu"
   },
   "source": [
    "**Выводы**\n",
    "\n",
    "Данные показывают разницу поведения пользователей:\n",
    "\n",
    "- В Москве пик прослушиваний приходится на понедельник и пятницу, а в среду заметен спад.\n",
    "- В Петербурге, наоборот, больше слушают музыку по средам. Активность в понедельник и пятницу здесь почти в равной мере уступает среде.\n",
    "\n",
    "Значит, данные говорят в пользу первой гипотезы."
   ]
  },
  {
   "cell_type": "markdown",
   "metadata": {
    "id": "atZAxtq4_Zcu"
   },
   "source": [
    "### Музыка в начале и в конце недели"
   ]
  },
  {
   "cell_type": "markdown",
   "metadata": {
    "id": "eXrQqXFH_Zcu"
   },
   "source": [
    "Согласно второй гипотезе, утром в понедельник в Москве преобладают одни жанры, а в Петербурге — другие. Так же и вечером пятницы преобладают разные жанры — в зависимости от города."
   ]
  },
  {
   "cell_type": "markdown",
   "metadata": {
    "id": "S8UcW6Hw_Zcu"
   },
   "source": [
    "Сохраните таблицы с данными в две переменные:\n",
    "* по Москве — в `moscow_general`;\n",
    "* по Санкт-Петербургу — в `spb_general`."
   ]
  },
  {
   "cell_type": "code",
   "execution_count": 28,
   "metadata": {
    "id": "qeaFfM_P_Zcu"
   },
   "outputs": [],
   "source": [
    "moscow_general = df[df['city'] == 'Moscow'] # получение таблицы moscow_general из тех строк таблицы df, \n",
    "# для которых значение в столбце 'city' равно 'Moscow'\n"
   ]
  },
  {
   "cell_type": "code",
   "execution_count": 29,
   "metadata": {
    "id": "ORaVRKto_Zcu"
   },
   "outputs": [],
   "source": [
    "spb_general = df[df['city'] == 'Saint-Petersburg'] # получение таблицы spb_general из тех строк таблицы df,\n",
    "# для которых значение в столбце 'city' равно 'Saint-Petersburg'\n"
   ]
  },
  {
   "cell_type": "markdown",
   "metadata": {
    "id": "MEJV-CX2_Zcu"
   },
   "source": [
    "Создайте функцию `genre_weekday()` с четырьмя параметрами:\n",
    "* таблица (датафрейм) с данными,\n",
    "* день недели,\n",
    "* начальная временная метка в формате 'hh:mm', \n",
    "* последняя временная метка в формате 'hh:mm'.\n",
    "\n",
    "Функция должна вернуть информацию о топ-10 жанров тех треков, которые прослушивали в указанный день, в промежутке между двумя отметками времени."
   ]
  },
  {
   "cell_type": "code",
   "execution_count": 30,
   "metadata": {
    "id": "laJT9BYl_Zcu"
   },
   "outputs": [],
   "source": [
    "def genre_weekday(table, day, time1, time2): # Объявление функции genre_weekday() с параметрами table, day, time1, time2,\n",
    "    # которая возвращает информацию о самых популярных жанрах в указанный день в\n",
    "# заданное время:\n",
    "# 1) в переменную genre_df сохраняются те строки переданного датафрейма table, для\n",
    "#    которых одновременно:\n",
    "#    - значение в столбце day равно значению аргумента day\n",
    "#    - значение в столбце time больше значения аргумента time1\n",
    "#    - значение в столбце time меньше значения аргумента time2\n",
    "#    Используйте последовательную фильтрацию с помощью логической индексации.\n",
    "    genre_df = table[table['day'] == day]\n",
    "    genre_df = genre_df[genre_df['time'] >= time1]\n",
    "    genre_df = genre_df[genre_df['time'] <= time2] \n",
    "# 2) сгруппировать датафрейм genre_df по столбцу genre, взять один из его\n",
    "#    столбцов и посчитать методом count() количество записей для каждого из\n",
    "#    присутствующих жанров, получившийся Series записать в переменную\n",
    "#    genre_df_count\n",
    "    genre_df_count = genre_df.groupby('genre')['genre'].count()\n",
    "# 3) отсортировать genre_df_count по убыванию встречаемости и сохранить\n",
    "#    в переменную genre_df_sorted\n",
    "    genre_df_sorted = genre_df_count.sort_values(ascending=False)\n",
    "# 4) вернуть Series из 10 первых значений genre_df_sorted, это будут топ-10\n",
    "#    популярных жанров (в указанный день, в заданное время)\n",
    "    return genre_df_sorted.head(10)\n"
   ]
  },
  {
   "cell_type": "markdown",
   "metadata": {
    "id": "la2s2_PF_Zcu"
   },
   "source": [
    "Cравните результаты функции `genre_weekday()` для Москвы и Санкт-Петербурга в понедельник утром (с 7:00 до 11:00) и в пятницу вечером (с 17:00 до 23:00):"
   ]
  },
  {
   "cell_type": "code",
   "execution_count": 31,
   "metadata": {
    "id": "yz7itPUQ_Zcu"
   },
   "outputs": [
    {
     "data": {
      "text/plain": [
       "genre\n",
       "pop            781\n",
       "dance          549\n",
       "electronic     480\n",
       "rock           474\n",
       "hiphop         286\n",
       "ruspop         186\n",
       "world          181\n",
       "rusrap         175\n",
       "alternative    164\n",
       "unknown        161\n",
       "Name: genre, dtype: int64"
      ]
     },
     "execution_count": 31,
     "metadata": {},
     "output_type": "execute_result"
    }
   ],
   "source": [
    "genre_weekday(moscow_general, 'Monday', '07:00', '11:00') # вызов функции для утра понедельника в Москве (вместо df — таблица moscow_general)\n",
    "# объекты, хранящие время, являются строками и сравниваются как строки\n",
    "# пример вызова: genre_weekday(moscow_general, 'Monday', '07:00', '11:00')"
   ]
  },
  {
   "cell_type": "code",
   "execution_count": 32,
   "metadata": {
    "id": "kwUcHPdy_Zcu"
   },
   "outputs": [
    {
     "data": {
      "text/plain": [
       "genre\n",
       "pop            218\n",
       "dance          182\n",
       "rock           162\n",
       "electronic     147\n",
       "hiphop          80\n",
       "ruspop          64\n",
       "alternative     58\n",
       "rusrap          55\n",
       "jazz            44\n",
       "classical       40\n",
       "Name: genre, dtype: int64"
      ]
     },
     "execution_count": 32,
     "metadata": {},
     "output_type": "execute_result"
    }
   ],
   "source": [
    "genre_weekday(spb_general, 'Monday', '07:00', '11:00')# вызов функции для утра понедельника в Петербурге (вместо df — таблица spb_general)"
   ]
  },
  {
   "cell_type": "code",
   "execution_count": 33,
   "metadata": {
    "id": "EzXVRE1o_Zcu"
   },
   "outputs": [
    {
     "data": {
      "text/plain": [
       "genre\n",
       "pop            713\n",
       "rock           517\n",
       "dance          495\n",
       "electronic     482\n",
       "hiphop         273\n",
       "world          208\n",
       "ruspop         170\n",
       "alternative    163\n",
       "classical      163\n",
       "rusrap         142\n",
       "Name: genre, dtype: int64"
      ]
     },
     "execution_count": 33,
     "metadata": {},
     "output_type": "execute_result"
    }
   ],
   "source": [
    "genre_weekday(moscow_general, 'Friday', '17:00', '23:00')# вызов функции для вечера пятницы в Москве"
   ]
  },
  {
   "cell_type": "code",
   "execution_count": 34,
   "metadata": {
    "id": "JZaEKu5v_Zcu"
   },
   "outputs": [
    {
     "data": {
      "text/plain": [
       "genre\n",
       "pop            256\n",
       "rock           216\n",
       "electronic     216\n",
       "dance          210\n",
       "hiphop          97\n",
       "alternative     63\n",
       "jazz            61\n",
       "classical       60\n",
       "rusrap          59\n",
       "world           54\n",
       "Name: genre, dtype: int64"
      ]
     },
     "execution_count": 34,
     "metadata": {},
     "output_type": "execute_result"
    }
   ],
   "source": [
    "genre_weekday(spb_general, 'Friday', '17:00', '23:00')# вызов функции для вечера пятницы в Петербурге"
   ]
  },
  {
   "cell_type": "markdown",
   "metadata": {
    "id": "wrCe4MNX_Zcu"
   },
   "source": [
    "**Выводы**\n",
    "\n",
    "Если сравнить топ-10 жанров в понедельник утром, можно сделать такие выводы:\n",
    "\n",
    "1. В Москве и Петербурге слушают похожую музыку. Единственное отличие — в московский рейтинг вошёл жанр “world”, а в петербургский — джаз и классика.\n",
    "\n",
    "2. В Москве пропущенных значений оказалось так много, что значение `'unknown'` заняло десятое место среди самых популярных жанров. Значит, пропущенные значения занимают существенную долю в данных и угрожают достоверности исследования.\n",
    "\n",
    "Вечер пятницы не меняет эту картину. Некоторые жанры поднимаются немного выше, другие спускаются, но в целом топ-10 остаётся тем же самым.\n",
    "\n",
    "Таким образом, вторая гипотеза подтвердилась лишь частично:\n",
    "* Пользователи слушают похожую музыку в начале недели и в конце.\n",
    "* Разница между Москвой и Петербургом не слишком выражена. В Москве чаще слушают русскую популярную музыку, в Петербурге — джаз.\n",
    "\n",
    "Однако пропуски в данных ставят под сомнение этот результат. В Москве их так много, что рейтинг топ-10 мог бы выглядеть иначе, если бы не утерянные  данные о жанрах."
   ]
  },
  {
   "cell_type": "markdown",
   "metadata": {
    "id": "JolODAqr_Zcu"
   },
   "source": [
    "### Жанровые предпочтения в Москве и Петербурге\n",
    "\n",
    "Гипотеза: Петербург — столица рэпа, музыку этого жанра там слушают чаще, чем в Москве.  А Москва — город контрастов, в котором, тем не менее, преобладает поп-музыка."
   ]
  },
  {
   "cell_type": "markdown",
   "metadata": {
    "id": "DlegSvaT_Zcu"
   },
   "source": [
    "Сгруппируйте таблицу `moscow_general` по жанру и посчитайте прослушивания треков каждого жанра методом `count()`. Затем отсортируйте результат в порядке убывания и сохраните его в таблице `moscow_genres`."
   ]
  },
  {
   "cell_type": "code",
   "execution_count": 35,
   "metadata": {
    "id": "r19lIPke_Zcu"
   },
   "outputs": [],
   "source": [
    "moscow_genres = moscow_general.groupby('genre')['genre'].count().sort_values(ascending=False)\n",
    "# одной строкой: группировка таблицы moscow_general по столбцу 'genre', \n",
    "# подсчёт числа значений 'genre' в этой группировке методом count(), \n",
    "# сортировка получившегося Series в порядке убывания и сохранение в moscow_genres"
   ]
  },
  {
   "cell_type": "markdown",
   "metadata": {
    "id": "6kMuomxTiIr8"
   },
   "source": [
    "Выведите на экран первые десять строк `moscow_genres`:"
   ]
  },
  {
   "cell_type": "code",
   "execution_count": 36,
   "metadata": {
    "id": "WhCSooF8_Zcv"
   },
   "outputs": [
    {
     "data": {
      "text/plain": [
       "genre\n",
       "pop            5892\n",
       "dance          4435\n",
       "rock           3965\n",
       "electronic     3786\n",
       "hiphop         2096\n",
       "classical      1616\n",
       "world          1432\n",
       "alternative    1379\n",
       "ruspop         1372\n",
       "rusrap         1161\n",
       "Name: genre, dtype: int64"
      ]
     },
     "metadata": {},
     "output_type": "display_data"
    }
   ],
   "source": [
    "display(moscow_genres.head(10)) # просмотр первых 10 строк moscow_genres"
   ]
  },
  {
   "cell_type": "markdown",
   "metadata": {
    "id": "cnPG2vnN_Zcv"
   },
   "source": [
    "Теперь повторите то же и для Петербурга.\n",
    "\n",
    "Сгруппируйте таблицу `spb_general` по жанру. Посчитайте прослушивания треков каждого жанра. Результат отсортируйте в порядке убывания и сохраните в таблице `spb_genres`:\n"
   ]
  },
  {
   "cell_type": "code",
   "execution_count": 37,
   "metadata": {
    "id": "gluLIpE7_Zcv"
   },
   "outputs": [],
   "source": [
    "spb_genres = spb_general.groupby('genre')['genre'].count().sort_values(ascending=False) # одной строкой: группировка таблицы spb_general по столбцу 'genre', \n",
    "# подсчёт числа значений 'genre' в этой группировке методом count(), \n",
    "# сортировка получившегося Series в порядке убывания и сохранение в spb_genres"
   ]
  },
  {
   "cell_type": "markdown",
   "metadata": {
    "id": "5Doha_ODgyQ8"
   },
   "source": [
    "Выведите на экран первые десять строк `spb_genres`:"
   ]
  },
  {
   "cell_type": "code",
   "execution_count": 38,
   "metadata": {
    "id": "uaGJHjVU_Zcv"
   },
   "outputs": [
    {
     "data": {
      "text/plain": [
       "genre\n",
       "pop            2431\n",
       "dance          1932\n",
       "rock           1879\n",
       "electronic     1736\n",
       "hiphop          960\n",
       "alternative     649\n",
       "classical       646\n",
       "rusrap          564\n",
       "ruspop          538\n",
       "world           515\n",
       "Name: genre, dtype: int64"
      ]
     },
     "metadata": {},
     "output_type": "display_data"
    }
   ],
   "source": [
    "display(spb_genres.head(10))# просмотр первых 10 строк spb_genres"
   ]
  },
  {
   "cell_type": "markdown",
   "metadata": {
    "id": "RY51YJYu_Zcv"
   },
   "source": [
    "**Выводы**"
   ]
  },
  {
   "cell_type": "markdown",
   "metadata": {
    "id": "nVhnJEm__Zcv"
   },
   "source": [
    "Гипотеза частично подтвердилась:\n",
    "* Поп-музыка — самый популярный жанр в Москве, как и предполагала гипотеза. Более того, в топ-10 жанров встречается близкий жанр — русская популярная музыка.\n",
    "* Вопреки ожиданиям, рэп одинаково популярен в Москве и Петербурге. \n"
   ]
  },
  {
   "cell_type": "markdown",
   "metadata": {
    "id": "ykKQ0N65_Zcv"
   },
   "source": [
    "## Итоги исследования"
   ]
  },
  {
   "cell_type": "markdown",
   "metadata": {
    "id": "tjUwbHb3_Zcv"
   },
   "source": [
    "Вы проверили три гипотезы и установили:\n",
    "\n",
    "1. День недели по-разному влияет на активность пользователей в Москве и Петербурге. \n",
    "\n",
    "Первая гипотеза полностью подтвердилась.\n",
    "\n",
    "2. Музыкальные предпочтения не сильно меняются в течение недели — будь то Москва или Петербург. Небольшие различия заметны в начале недели, по понедельникам:\n",
    "* в Москве слушают музыку жанра “world”,\n",
    "* в Петербурге — джаз и классику.\n",
    "\n",
    "Таким образом, вторая гипотеза подтвердилась лишь отчасти. Этот результат мог оказаться иным, если бы не пропуски в данных.\n",
    "\n",
    "3. Во вкусах пользователей Москвы и Петербурга больше общего чем различий. Вопреки ожиданиям, предпочтения жанров в Петербурге напоминают московские.\n",
    "\n",
    "Третья гипотеза не подтвердилась. Если различия в предпочтениях и существуют, на основной массе пользователей они незаметны.\n",
    "\n",
    "**На практике исследования содержат проверки статистических гипотез.**\n",
    "Из данных одного сервиса не всегда можно сделать вывод о всех жителях города.\n",
    "Проверки статистических гипотез покажут, насколько они достоверны, исходя из имеющихся данных. \n",
    "С методами проверок гипотез вы ещё познакомитесь в следующих темах."
   ]
  }
 ],
 "metadata": {
  "ExecuteTimeLog": [
   {
    "duration": 257,
    "start_time": "2022-01-13T05:44:34.465Z"
   },
   {
    "duration": 218,
    "start_time": "2022-01-13T05:45:02.580Z"
   },
   {
    "duration": 232,
    "start_time": "2022-01-13T05:45:12.003Z"
   },
   {
    "duration": 221,
    "start_time": "2022-01-13T05:45:19.917Z"
   },
   {
    "duration": 227,
    "start_time": "2022-01-13T05:45:41.764Z"
   },
   {
    "duration": 546,
    "start_time": "2022-01-13T05:52:10.416Z"
   },
   {
    "duration": 113,
    "start_time": "2022-01-13T05:52:10.964Z"
   },
   {
    "duration": 2,
    "start_time": "2022-01-13T05:52:11.079Z"
   },
   {
    "duration": 5,
    "start_time": "2022-01-13T05:52:11.082Z"
   },
   {
    "duration": 6,
    "start_time": "2022-01-13T05:52:11.088Z"
   },
   {
    "duration": 3,
    "start_time": "2022-01-13T05:52:11.096Z"
   },
   {
    "duration": 4,
    "start_time": "2022-01-13T05:52:11.101Z"
   },
   {
    "duration": 2,
    "start_time": "2022-01-13T05:52:11.112Z"
   },
   {
    "duration": 4,
    "start_time": "2022-01-13T05:52:11.116Z"
   },
   {
    "duration": 4,
    "start_time": "2022-01-13T05:52:11.121Z"
   },
   {
    "duration": 5,
    "start_time": "2022-01-13T05:52:11.127Z"
   },
   {
    "duration": 3,
    "start_time": "2022-01-13T05:52:11.134Z"
   },
   {
    "duration": 3,
    "start_time": "2022-01-13T05:52:11.139Z"
   },
   {
    "duration": 3,
    "start_time": "2022-01-13T05:52:11.144Z"
   },
   {
    "duration": 4,
    "start_time": "2022-01-13T05:52:11.149Z"
   },
   {
    "duration": 4,
    "start_time": "2022-01-13T05:52:11.154Z"
   },
   {
    "duration": 4,
    "start_time": "2022-01-13T05:52:11.160Z"
   },
   {
    "duration": 4,
    "start_time": "2022-01-13T05:52:11.166Z"
   },
   {
    "duration": 4,
    "start_time": "2022-01-13T05:52:11.171Z"
   },
   {
    "duration": 6,
    "start_time": "2022-01-13T05:52:11.177Z"
   },
   {
    "duration": 4,
    "start_time": "2022-01-13T05:52:11.184Z"
   },
   {
    "duration": 24,
    "start_time": "2022-01-13T05:52:11.189Z"
   },
   {
    "duration": 5,
    "start_time": "2022-01-13T05:52:11.215Z"
   },
   {
    "duration": 4,
    "start_time": "2022-01-13T05:52:11.222Z"
   },
   {
    "duration": 7,
    "start_time": "2022-01-13T05:52:11.227Z"
   },
   {
    "duration": 6,
    "start_time": "2022-01-13T05:52:11.235Z"
   },
   {
    "duration": 6,
    "start_time": "2022-01-13T05:52:11.242Z"
   },
   {
    "duration": 4,
    "start_time": "2022-01-13T05:52:11.250Z"
   },
   {
    "duration": 4,
    "start_time": "2022-01-13T05:52:11.255Z"
   },
   {
    "duration": 6,
    "start_time": "2022-01-13T05:52:11.261Z"
   },
   {
    "duration": 4,
    "start_time": "2022-01-13T05:52:11.268Z"
   },
   {
    "duration": 5,
    "start_time": "2022-01-13T05:52:11.274Z"
   },
   {
    "duration": 4,
    "start_time": "2022-01-13T05:52:11.280Z"
   },
   {
    "duration": 5,
    "start_time": "2022-01-13T05:52:11.285Z"
   },
   {
    "duration": 4,
    "start_time": "2022-01-13T05:52:11.291Z"
   },
   {
    "duration": 16,
    "start_time": "2022-01-13T05:52:11.296Z"
   },
   {
    "duration": 2,
    "start_time": "2022-01-13T05:52:11.313Z"
   },
   {
    "duration": 2,
    "start_time": "2022-01-13T05:59:43.258Z"
   },
   {
    "duration": 121,
    "start_time": "2022-01-13T05:59:47.912Z"
   },
   {
    "duration": 2,
    "start_time": "2022-01-13T09:03:21.703Z"
   },
   {
    "duration": 127,
    "start_time": "2022-01-13T09:03:23.514Z"
   },
   {
    "duration": 15,
    "start_time": "2022-01-13T09:03:26.761Z"
   },
   {
    "duration": 23,
    "start_time": "2022-01-13T09:03:43.762Z"
   },
   {
    "duration": 4,
    "start_time": "2022-01-13T09:03:48.904Z"
   },
   {
    "duration": 20,
    "start_time": "2022-01-13T09:03:52.389Z"
   },
   {
    "duration": 3,
    "start_time": "2022-01-13T09:03:54.735Z"
   },
   {
    "duration": 22,
    "start_time": "2022-01-13T09:03:58.072Z"
   },
   {
    "duration": 2179,
    "start_time": "2022-01-13T09:04:05.187Z"
   },
   {
    "duration": 23,
    "start_time": "2022-01-13T09:04:12.081Z"
   },
   {
    "duration": 5768,
    "start_time": "2022-01-13T09:04:52.179Z"
   },
   {
    "duration": 2139,
    "start_time": "2022-01-13T09:04:55.810Z"
   },
   {
    "duration": 16,
    "start_time": "2022-01-13T09:05:24.946Z"
   },
   {
    "duration": 15,
    "start_time": "2022-01-13T09:05:33.510Z"
   },
   {
    "duration": 35,
    "start_time": "2022-01-13T09:05:34.830Z"
   },
   {
    "duration": 53,
    "start_time": "2022-01-13T09:05:39.702Z"
   },
   {
    "duration": 64,
    "start_time": "2022-01-13T09:05:42.644Z"
   },
   {
    "duration": 53,
    "start_time": "2022-01-13T09:05:51.807Z"
   },
   {
    "duration": 57,
    "start_time": "2022-01-13T09:06:32.259Z"
   },
   {
    "duration": 54,
    "start_time": "2022-01-13T09:06:34.417Z"
   },
   {
    "duration": 53,
    "start_time": "2022-01-13T09:06:38.512Z"
   },
   {
    "duration": 3,
    "start_time": "2022-01-13T09:06:46.853Z"
   },
   {
    "duration": 463,
    "start_time": "2022-01-13T09:06:49.387Z"
   },
   {
    "duration": 4,
    "start_time": "2022-01-13T09:08:36.349Z"
   },
   {
    "duration": 79,
    "start_time": "2022-01-13T09:11:40.068Z"
   },
   {
    "duration": 456,
    "start_time": "2022-01-13T09:17:18.467Z"
   },
   {
    "duration": 452,
    "start_time": "2022-01-13T09:19:27.090Z"
   },
   {
    "duration": 89,
    "start_time": "2022-01-13T09:26:14.582Z"
   },
   {
    "duration": 442,
    "start_time": "2022-01-13T09:26:58.103Z"
   },
   {
    "duration": 4,
    "start_time": "2022-01-13T09:33:10.068Z"
   },
   {
    "duration": 2226,
    "start_time": "2022-01-13T09:33:12.668Z"
   },
   {
    "duration": 5,
    "start_time": "2022-01-13T09:33:15.266Z"
   },
   {
    "duration": 3,
    "start_time": "2022-01-13T09:35:08.911Z"
   },
   {
    "duration": 3176,
    "start_time": "2022-01-13T09:35:10.319Z"
   },
   {
    "duration": 2230,
    "start_time": "2022-01-13T09:35:11.267Z"
   },
   {
    "duration": 3,
    "start_time": "2022-01-13T09:35:52.386Z"
   },
   {
    "duration": 3090,
    "start_time": "2022-01-13T09:35:55.182Z"
   },
   {
    "duration": 2229,
    "start_time": "2022-01-13T09:35:56.045Z"
   },
   {
    "duration": 3,
    "start_time": "2022-01-13T09:37:32.256Z"
   },
   {
    "duration": 3186,
    "start_time": "2022-01-13T09:37:34.952Z"
   },
   {
    "duration": 39,
    "start_time": "2022-01-13T09:40:25.175Z"
   },
   {
    "duration": 3,
    "start_time": "2022-01-13T09:40:39.673Z"
   },
   {
    "duration": 3863,
    "start_time": "2022-01-13T09:40:42.831Z"
   },
   {
    "duration": 3,
    "start_time": "2022-01-13T09:43:54.511Z"
   },
   {
    "duration": 3184,
    "start_time": "2022-01-13T09:44:00.175Z"
   },
   {
    "duration": 2895,
    "start_time": "2022-01-13T09:44:20.550Z"
   },
   {
    "duration": 227,
    "start_time": "2022-01-13T09:44:55.257Z"
   },
   {
    "duration": 2,
    "start_time": "2022-01-13T09:45:08.837Z"
   },
   {
    "duration": 125,
    "start_time": "2022-01-13T09:45:08.841Z"
   },
   {
    "duration": 10,
    "start_time": "2022-01-13T09:45:08.968Z"
   },
   {
    "duration": 49,
    "start_time": "2022-01-13T09:45:08.979Z"
   },
   {
    "duration": 3,
    "start_time": "2022-01-13T09:45:09.030Z"
   },
   {
    "duration": 20,
    "start_time": "2022-01-13T09:45:09.035Z"
   },
   {
    "duration": 5,
    "start_time": "2022-01-13T09:45:09.057Z"
   },
   {
    "duration": 23,
    "start_time": "2022-01-13T09:45:09.064Z"
   },
   {
    "duration": 36,
    "start_time": "2022-01-13T09:45:09.088Z"
   },
   {
    "duration": 20,
    "start_time": "2022-01-13T09:45:09.126Z"
   },
   {
    "duration": 65,
    "start_time": "2022-01-13T09:45:09.148Z"
   },
   {
    "duration": 54,
    "start_time": "2022-01-13T09:45:09.215Z"
   },
   {
    "duration": 61,
    "start_time": "2022-01-13T09:45:09.270Z"
   },
   {
    "duration": 45,
    "start_time": "2022-01-13T09:45:09.333Z"
   },
   {
    "duration": 2,
    "start_time": "2022-01-13T09:45:09.380Z"
   },
   {
    "duration": 3173,
    "start_time": "2022-01-13T09:45:09.384Z"
   },
   {
    "duration": 2239,
    "start_time": "2022-01-13T09:45:10.320Z"
   },
   {
    "duration": 2237,
    "start_time": "2022-01-13T09:45:10.323Z"
   },
   {
    "duration": 2235,
    "start_time": "2022-01-13T09:45:10.326Z"
   },
   {
    "duration": 2232,
    "start_time": "2022-01-13T09:45:10.330Z"
   },
   {
    "duration": 2229,
    "start_time": "2022-01-13T09:45:10.334Z"
   },
   {
    "duration": 2227,
    "start_time": "2022-01-13T09:45:10.337Z"
   },
   {
    "duration": 2225,
    "start_time": "2022-01-13T09:45:10.340Z"
   },
   {
    "duration": 2223,
    "start_time": "2022-01-13T09:45:10.343Z"
   },
   {
    "duration": 2219,
    "start_time": "2022-01-13T09:45:10.347Z"
   },
   {
    "duration": 2218,
    "start_time": "2022-01-13T09:45:10.350Z"
   },
   {
    "duration": 2216,
    "start_time": "2022-01-13T09:45:10.353Z"
   },
   {
    "duration": 2214,
    "start_time": "2022-01-13T09:45:10.356Z"
   },
   {
    "duration": 2212,
    "start_time": "2022-01-13T09:45:10.359Z"
   },
   {
    "duration": 2210,
    "start_time": "2022-01-13T09:45:10.362Z"
   },
   {
    "duration": 2208,
    "start_time": "2022-01-13T09:45:10.365Z"
   },
   {
    "duration": 2205,
    "start_time": "2022-01-13T09:45:10.369Z"
   },
   {
    "duration": 2195,
    "start_time": "2022-01-13T09:45:10.380Z"
   },
   {
    "duration": 2189,
    "start_time": "2022-01-13T09:45:10.387Z"
   },
   {
    "duration": 2167,
    "start_time": "2022-01-13T09:45:10.410Z"
   },
   {
    "duration": 2152,
    "start_time": "2022-01-13T09:45:10.426Z"
   },
   {
    "duration": 2143,
    "start_time": "2022-01-13T09:45:10.436Z"
   },
   {
    "duration": 2131,
    "start_time": "2022-01-13T09:45:10.449Z"
   },
   {
    "duration": 2,
    "start_time": "2022-01-13T09:45:26.218Z"
   },
   {
    "duration": 125,
    "start_time": "2022-01-13T09:45:27.486Z"
   },
   {
    "duration": 10,
    "start_time": "2022-01-13T09:45:31.946Z"
   },
   {
    "duration": 22,
    "start_time": "2022-01-13T09:45:34.805Z"
   },
   {
    "duration": 3,
    "start_time": "2022-01-13T09:45:54.467Z"
   },
   {
    "duration": 19,
    "start_time": "2022-01-13T09:45:57.529Z"
   },
   {
    "duration": 4,
    "start_time": "2022-01-13T09:45:59.474Z"
   },
   {
    "duration": 22,
    "start_time": "2022-01-13T09:46:01.863Z"
   },
   {
    "duration": 15,
    "start_time": "2022-01-13T09:46:09.053Z"
   },
   {
    "duration": 21,
    "start_time": "2022-01-13T09:46:11.927Z"
   },
   {
    "duration": 50,
    "start_time": "2022-01-13T09:46:14.694Z"
   },
   {
    "duration": 54,
    "start_time": "2022-01-13T09:46:17.744Z"
   },
   {
    "duration": 44,
    "start_time": "2022-01-13T09:46:18.758Z"
   },
   {
    "duration": 267,
    "start_time": "2022-01-13T09:46:53.340Z"
   },
   {
    "duration": 45,
    "start_time": "2022-01-13T09:47:10.086Z"
   },
   {
    "duration": 42,
    "start_time": "2022-01-13T09:47:11.742Z"
   },
   {
    "duration": 3,
    "start_time": "2022-01-13T09:47:17.103Z"
   },
   {
    "duration": 12,
    "start_time": "2022-01-13T09:47:19.530Z"
   },
   {
    "duration": 3,
    "start_time": "2022-01-13T09:47:27.848Z"
   },
   {
    "duration": 12,
    "start_time": "2022-01-13T09:47:29.346Z"
   },
   {
    "duration": 11,
    "start_time": "2022-01-13T09:47:51.545Z"
   },
   {
    "duration": 6,
    "start_time": "2022-01-13T09:47:53.147Z"
   },
   {
    "duration": 41,
    "start_time": "2022-01-13T09:48:21.281Z"
   },
   {
    "duration": 39,
    "start_time": "2022-01-13T09:49:48.736Z"
   },
   {
    "duration": 4,
    "start_time": "2022-01-13T09:50:18.120Z"
   },
   {
    "duration": 12,
    "start_time": "2022-01-13T09:50:20.400Z"
   },
   {
    "duration": 7,
    "start_time": "2022-01-13T09:50:23.086Z"
   },
   {
    "duration": 4,
    "start_time": "2022-01-13T09:50:59.268Z"
   },
   {
    "duration": 516,
    "start_time": "2022-01-13T09:51:00.492Z"
   },
   {
    "duration": 3,
    "start_time": "2022-01-13T09:51:30.589Z"
   },
   {
    "duration": 10,
    "start_time": "2022-01-13T09:51:34.326Z"
   },
   {
    "duration": 6,
    "start_time": "2022-01-13T09:51:37.787Z"
   },
   {
    "duration": 243,
    "start_time": "2022-01-13T09:52:08.783Z"
   },
   {
    "duration": 11,
    "start_time": "2022-01-13T09:52:25.476Z"
   },
   {
    "duration": 230,
    "start_time": "2022-01-13T09:52:36.414Z"
   },
   {
    "duration": 11,
    "start_time": "2022-01-13T09:52:56.339Z"
   },
   {
    "duration": 25,
    "start_time": "2022-01-13T09:52:59.557Z"
   },
   {
    "duration": 26,
    "start_time": "2022-01-13T09:53:03.821Z"
   },
   {
    "duration": 28,
    "start_time": "2022-01-13T09:53:15.843Z"
   },
   {
    "duration": 26,
    "start_time": "2022-01-13T09:53:51.064Z"
   },
   {
    "duration": 4,
    "start_time": "2022-01-13T09:55:43.332Z"
   },
   {
    "duration": 15,
    "start_time": "2022-01-13T09:56:46.297Z"
   },
   {
    "duration": 14,
    "start_time": "2022-01-13T09:57:16.438Z"
   },
   {
    "duration": 8,
    "start_time": "2022-01-13T09:57:51.194Z"
   },
   {
    "duration": 27,
    "start_time": "2022-01-13T09:58:42.449Z"
   },
   {
    "duration": 31,
    "start_time": "2022-01-13T09:58:53.166Z"
   },
   {
    "duration": 15,
    "start_time": "2022-01-13T09:59:33.327Z"
   },
   {
    "duration": 13,
    "start_time": "2022-01-13T09:59:33.896Z"
   },
   {
    "duration": 14,
    "start_time": "2022-01-13T09:59:34.364Z"
   },
   {
    "duration": 13,
    "start_time": "2022-01-13T09:59:34.988Z"
   },
   {
    "duration": 14,
    "start_time": "2022-01-13T09:59:35.624Z"
   },
   {
    "duration": 14,
    "start_time": "2022-01-13T09:59:36.241Z"
   },
   {
    "duration": 21,
    "start_time": "2022-01-13T10:00:56.808Z"
   },
   {
    "duration": 23,
    "start_time": "2022-01-13T10:01:04.970Z"
   },
   {
    "duration": 16,
    "start_time": "2022-01-13T10:01:33.136Z"
   },
   {
    "duration": 13,
    "start_time": "2022-01-13T10:01:33.840Z"
   },
   {
    "duration": 16,
    "start_time": "2022-01-13T10:01:34.079Z"
   },
   {
    "duration": 13,
    "start_time": "2022-01-13T10:01:34.245Z"
   },
   {
    "duration": 20,
    "start_time": "2022-01-13T10:01:53.603Z"
   },
   {
    "duration": 14,
    "start_time": "2022-01-13T10:01:54.091Z"
   },
   {
    "duration": 13,
    "start_time": "2022-01-13T10:01:54.563Z"
   },
   {
    "duration": 14,
    "start_time": "2022-01-13T10:01:54.843Z"
   },
   {
    "duration": 16,
    "start_time": "2022-01-13T10:01:55.078Z"
   },
   {
    "duration": 14,
    "start_time": "2022-01-13T10:01:55.296Z"
   },
   {
    "duration": 248,
    "start_time": "2022-01-13T10:03:27.244Z"
   },
   {
    "duration": 242,
    "start_time": "2022-01-13T10:05:41.285Z"
   },
   {
    "duration": 239,
    "start_time": "2022-01-13T10:06:17.629Z"
   },
   {
    "duration": 3,
    "start_time": "2022-01-13T10:06:28.024Z"
   },
   {
    "duration": 15,
    "start_time": "2022-01-13T10:06:37.498Z"
   },
   {
    "duration": 14,
    "start_time": "2022-01-13T10:06:40.726Z"
   },
   {
    "duration": 14,
    "start_time": "2022-01-13T10:06:41.020Z"
   },
   {
    "duration": 13,
    "start_time": "2022-01-13T10:06:41.305Z"
   },
   {
    "duration": 16,
    "start_time": "2022-01-13T10:06:41.525Z"
   },
   {
    "duration": 14,
    "start_time": "2022-01-13T10:06:41.720Z"
   },
   {
    "duration": 234,
    "start_time": "2022-01-13T10:12:22.125Z"
   },
   {
    "duration": 11,
    "start_time": "2022-01-13T10:12:35.271Z"
   },
   {
    "duration": 31,
    "start_time": "2022-01-13T10:12:37.201Z"
   },
   {
    "duration": 3,
    "start_time": "2022-01-13T10:12:40.139Z"
   },
   {
    "duration": 16,
    "start_time": "2022-01-13T10:12:41.188Z"
   },
   {
    "duration": 14,
    "start_time": "2022-01-13T10:12:41.573Z"
   },
   {
    "duration": 14,
    "start_time": "2022-01-13T10:12:41.859Z"
   },
   {
    "duration": 13,
    "start_time": "2022-01-13T10:12:42.064Z"
   },
   {
    "duration": 16,
    "start_time": "2022-01-13T10:12:42.251Z"
   },
   {
    "duration": 19,
    "start_time": "2022-01-13T10:12:42.532Z"
   },
   {
    "duration": 226,
    "start_time": "2022-01-13T10:14:17.474Z"
   },
   {
    "duration": 223,
    "start_time": "2022-01-13T10:14:25.779Z"
   },
   {
    "duration": 239,
    "start_time": "2022-01-13T10:15:53.722Z"
   },
   {
    "duration": 230,
    "start_time": "2022-01-13T10:16:56.573Z"
   },
   {
    "duration": 240,
    "start_time": "2022-01-13T10:17:12.162Z"
   },
   {
    "duration": 87,
    "start_time": "2022-01-13T10:25:58.021Z"
   },
   {
    "duration": 78,
    "start_time": "2022-01-13T10:26:19.427Z"
   },
   {
    "duration": 325,
    "start_time": "2022-01-13T10:26:26.068Z"
   },
   {
    "duration": 250,
    "start_time": "2022-01-13T10:27:29.788Z"
   },
   {
    "duration": 217,
    "start_time": "2022-01-13T10:27:39.688Z"
   },
   {
    "duration": 218,
    "start_time": "2022-01-13T10:27:56.741Z"
   },
   {
    "duration": 232,
    "start_time": "2022-01-13T10:37:09.706Z"
   },
   {
    "duration": 250,
    "start_time": "2022-01-13T10:37:50.875Z"
   },
   {
    "duration": 228,
    "start_time": "2022-01-13T10:38:43.710Z"
   },
   {
    "duration": 243,
    "start_time": "2022-01-13T10:39:26.812Z"
   },
   {
    "duration": 231,
    "start_time": "2022-01-13T10:40:55.736Z"
   },
   {
    "duration": 5,
    "start_time": "2022-01-13T10:46:33.851Z"
   },
   {
    "duration": 8,
    "start_time": "2022-01-13T10:46:42.748Z"
   },
   {
    "duration": 10,
    "start_time": "2022-01-13T10:52:24.900Z"
   },
   {
    "duration": 12,
    "start_time": "2022-01-13T10:53:06.655Z"
   },
   {
    "duration": 8,
    "start_time": "2022-01-13T10:53:07.666Z"
   },
   {
    "duration": 12,
    "start_time": "2022-01-13T10:59:57.389Z"
   },
   {
    "duration": 14,
    "start_time": "2022-01-13T11:00:06.638Z"
   },
   {
    "duration": 247,
    "start_time": "2022-01-13T11:00:33.840Z"
   },
   {
    "duration": 11,
    "start_time": "2022-01-13T11:00:37.816Z"
   },
   {
    "duration": 17,
    "start_time": "2022-01-13T11:11:18.913Z"
   },
   {
    "duration": 11,
    "start_time": "2022-01-13T11:11:30.663Z"
   },
   {
    "duration": 237,
    "start_time": "2022-01-13T11:12:27.624Z"
   },
   {
    "duration": 4,
    "start_time": "2022-01-13T11:12:34.977Z"
   },
   {
    "duration": 450,
    "start_time": "2022-01-13T11:12:38.575Z"
   },
   {
    "duration": 4,
    "start_time": "2022-01-13T11:19:09.037Z"
   },
   {
    "duration": 4,
    "start_time": "2022-01-13T11:19:47.241Z"
   },
   {
    "duration": 26,
    "start_time": "2022-01-13T11:19:48.835Z"
   },
   {
    "duration": 12,
    "start_time": "2022-01-13T11:20:40.678Z"
   },
   {
    "duration": 12,
    "start_time": "2022-01-13T11:21:25.450Z"
   },
   {
    "duration": 9,
    "start_time": "2022-01-13T11:23:10.171Z"
   },
   {
    "duration": 2383,
    "start_time": "2022-01-13T11:23:15.514Z"
   },
   {
    "duration": 3,
    "start_time": "2022-01-13T11:23:25.858Z"
   },
   {
    "duration": 5873,
    "start_time": "2022-01-13T11:23:26.626Z"
   },
   {
    "duration": 2,
    "start_time": "2022-01-13T11:23:32.614Z"
   },
   {
    "duration": 4,
    "start_time": "2022-01-13T11:25:40.753Z"
   },
   {
    "duration": 495,
    "start_time": "2022-01-13T11:25:42.842Z"
   },
   {
    "duration": 4,
    "start_time": "2022-01-13T11:25:58.282Z"
   },
   {
    "duration": 37,
    "start_time": "2022-01-13T11:25:59.472Z"
   },
   {
    "duration": 14,
    "start_time": "2022-01-13T11:26:45.926Z"
   },
   {
    "duration": 25,
    "start_time": "2022-01-13T11:27:17.326Z"
   },
   {
    "duration": 5,
    "start_time": "2022-01-13T11:28:46.533Z"
   },
   {
    "duration": 22,
    "start_time": "2022-01-13T11:28:48.760Z"
   },
   {
    "duration": 16,
    "start_time": "2022-01-13T11:28:51.973Z"
   },
   {
    "duration": 4,
    "start_time": "2022-01-13T11:41:29.609Z"
   },
   {
    "duration": 6653,
    "start_time": "2022-01-13T11:41:30.431Z"
   },
   {
    "duration": -81,
    "start_time": "2022-01-13T11:41:37.167Z"
   },
   {
    "duration": 3,
    "start_time": "2022-01-13T11:41:44.763Z"
   },
   {
    "duration": 440,
    "start_time": "2022-01-13T11:41:46.372Z"
   },
   {
    "duration": 502,
    "start_time": "2022-01-13T11:41:47.019Z"
   },
   {
    "duration": 3,
    "start_time": "2022-01-13T11:55:22.056Z"
   },
   {
    "duration": 6515,
    "start_time": "2022-01-13T11:55:23.827Z"
   },
   {
    "duration": 4,
    "start_time": "2022-01-13T11:56:40.248Z"
   },
   {
    "duration": 7600,
    "start_time": "2022-01-13T11:56:41.812Z"
   },
   {
    "duration": -66,
    "start_time": "2022-01-13T11:56:49.480Z"
   },
   {
    "duration": 6,
    "start_time": "2022-01-13T11:57:05.760Z"
   },
   {
    "duration": 488,
    "start_time": "2022-01-13T11:57:11.951Z"
   },
   {
    "duration": 3,
    "start_time": "2022-01-13T11:57:27.722Z"
   },
   {
    "duration": 17,
    "start_time": "2022-01-13T11:57:28.447Z"
   },
   {
    "duration": 12,
    "start_time": "2022-01-13T11:57:30.642Z"
   },
   {
    "duration": 14,
    "start_time": "2022-01-13T11:59:04.763Z"
   },
   {
    "duration": 11,
    "start_time": "2022-01-13T11:59:05.909Z"
   },
   {
    "duration": 237,
    "start_time": "2022-01-13T12:02:24.762Z"
   },
   {
    "duration": 233,
    "start_time": "2022-01-13T12:02:47.011Z"
   },
   {
    "duration": 46,
    "start_time": "2022-01-13T12:02:58.509Z"
   },
   {
    "duration": 43,
    "start_time": "2022-01-13T12:03:23.061Z"
   },
   {
    "duration": 5,
    "start_time": "2022-01-13T12:04:11.201Z"
   },
   {
    "duration": 234,
    "start_time": "2022-01-13T12:04:53.450Z"
   },
   {
    "duration": 34,
    "start_time": "2022-01-13T12:05:02.373Z"
   },
   {
    "duration": 4,
    "start_time": "2022-01-13T12:05:03.464Z"
   },
   {
    "duration": 4,
    "start_time": "2022-01-13T12:05:46.287Z"
   },
   {
    "duration": 250,
    "start_time": "2022-01-13T12:07:37.582Z"
   },
   {
    "duration": 41,
    "start_time": "2022-01-13T12:07:57.228Z"
   },
   {
    "duration": 6,
    "start_time": "2022-01-13T12:08:00.615Z"
   },
   {
    "duration": 244,
    "start_time": "2022-01-13T12:21:27.764Z"
   },
   {
    "duration": 7,
    "start_time": "2022-01-13T12:21:40.179Z"
   },
   {
    "duration": 5,
    "start_time": "2022-01-13T12:21:43.606Z"
   },
   {
    "duration": 7,
    "start_time": "2022-01-13T12:22:15.899Z"
   },
   {
    "duration": 6,
    "start_time": "2022-01-13T12:22:16.930Z"
   },
   {
    "duration": 2,
    "start_time": "2022-01-13T12:26:37.509Z"
   },
   {
    "duration": 111,
    "start_time": "2022-01-13T12:26:38.354Z"
   },
   {
    "duration": 10,
    "start_time": "2022-01-13T12:26:39.851Z"
   },
   {
    "duration": 21,
    "start_time": "2022-01-13T12:26:45.364Z"
   },
   {
    "duration": 6,
    "start_time": "2022-01-13T12:26:54.921Z"
   },
   {
    "duration": 14,
    "start_time": "2022-01-13T12:26:57.462Z"
   },
   {
    "duration": 4,
    "start_time": "2022-01-13T12:27:01.386Z"
   },
   {
    "duration": 21,
    "start_time": "2022-01-13T12:27:03.996Z"
   },
   {
    "duration": 16,
    "start_time": "2022-01-13T12:27:06.310Z"
   },
   {
    "duration": 21,
    "start_time": "2022-01-13T12:27:10.571Z"
   },
   {
    "duration": 49,
    "start_time": "2022-01-13T12:27:13.229Z"
   },
   {
    "duration": 57,
    "start_time": "2022-01-13T12:27:14.420Z"
   },
   {
    "duration": 45,
    "start_time": "2022-01-13T12:27:15.403Z"
   },
   {
    "duration": 36,
    "start_time": "2022-01-13T12:27:17.647Z"
   },
   {
    "duration": 3,
    "start_time": "2022-01-13T12:27:19.134Z"
   },
   {
    "duration": 10,
    "start_time": "2022-01-13T12:27:20.148Z"
   },
   {
    "duration": 6,
    "start_time": "2022-01-13T12:27:21.609Z"
   },
   {
    "duration": 3,
    "start_time": "2022-01-13T12:28:04.269Z"
   },
   {
    "duration": 10,
    "start_time": "2022-01-13T12:28:11.090Z"
   },
   {
    "duration": 6,
    "start_time": "2022-01-13T12:28:19.413Z"
   },
   {
    "duration": 36,
    "start_time": "2022-01-13T12:29:14.301Z"
   },
   {
    "duration": 36,
    "start_time": "2022-01-13T12:29:18.117Z"
   },
   {
    "duration": 3,
    "start_time": "2022-01-13T12:29:29.991Z"
   },
   {
    "duration": 11,
    "start_time": "2022-01-13T12:29:31.755Z"
   },
   {
    "duration": 7,
    "start_time": "2022-01-13T12:29:52.336Z"
   },
   {
    "duration": 39,
    "start_time": "2022-01-13T12:32:15.700Z"
   },
   {
    "duration": 45,
    "start_time": "2022-01-13T12:33:22.148Z"
   },
   {
    "duration": 2,
    "start_time": "2022-01-13T12:33:38.179Z"
   },
   {
    "duration": 11,
    "start_time": "2022-01-13T12:33:39.039Z"
   },
   {
    "duration": 6,
    "start_time": "2022-01-13T12:33:43.335Z"
   },
   {
    "duration": 119,
    "start_time": "2022-01-13T12:36:03.822Z"
   },
   {
    "duration": 9,
    "start_time": "2022-01-13T12:36:04.614Z"
   },
   {
    "duration": 21,
    "start_time": "2022-01-13T12:36:05.583Z"
   },
   {
    "duration": 4,
    "start_time": "2022-01-13T12:36:08.050Z"
   },
   {
    "duration": 15,
    "start_time": "2022-01-13T12:36:09.210Z"
   },
   {
    "duration": 4,
    "start_time": "2022-01-13T12:36:09.984Z"
   },
   {
    "duration": 22,
    "start_time": "2022-01-13T12:36:11.307Z"
   },
   {
    "duration": 17,
    "start_time": "2022-01-13T12:36:13.738Z"
   },
   {
    "duration": 22,
    "start_time": "2022-01-13T12:36:15.214Z"
   },
   {
    "duration": 48,
    "start_time": "2022-01-13T12:36:17.134Z"
   },
   {
    "duration": 53,
    "start_time": "2022-01-13T12:36:18.108Z"
   },
   {
    "duration": 44,
    "start_time": "2022-01-13T12:36:19.132Z"
   },
   {
    "duration": 46,
    "start_time": "2022-01-13T12:36:44.885Z"
   },
   {
    "duration": 3,
    "start_time": "2022-01-13T12:36:48.522Z"
   },
   {
    "duration": 3,
    "start_time": "2022-01-13T12:37:03.038Z"
   },
   {
    "duration": 12,
    "start_time": "2022-01-13T12:37:04.635Z"
   },
   {
    "duration": 6,
    "start_time": "2022-01-13T12:37:21.316Z"
   },
   {
    "duration": 10,
    "start_time": "2022-01-13T12:37:22.846Z"
   },
   {
    "duration": 41,
    "start_time": "2022-01-13T12:37:24.070Z"
   },
   {
    "duration": 2,
    "start_time": "2022-01-13T12:37:37.480Z"
   },
   {
    "duration": 33,
    "start_time": "2022-01-13T12:37:38.300Z"
   },
   {
    "duration": 3,
    "start_time": "2022-01-13T12:37:40.279Z"
   },
   {
    "duration": 15,
    "start_time": "2022-01-13T12:37:41.487Z"
   },
   {
    "duration": 13,
    "start_time": "2022-01-13T12:37:41.847Z"
   },
   {
    "duration": 13,
    "start_time": "2022-01-13T12:37:43.361Z"
   },
   {
    "duration": 11,
    "start_time": "2022-01-13T12:37:43.375Z"
   },
   {
    "duration": 13,
    "start_time": "2022-01-13T12:37:43.410Z"
   },
   {
    "duration": 14,
    "start_time": "2022-01-13T12:37:43.895Z"
   },
   {
    "duration": 10,
    "start_time": "2022-01-13T12:37:50.733Z"
   },
   {
    "duration": 4,
    "start_time": "2022-01-13T12:37:56.247Z"
   },
   {
    "duration": 12,
    "start_time": "2022-01-13T12:37:59.261Z"
   },
   {
    "duration": 10,
    "start_time": "2022-01-13T12:37:59.830Z"
   },
   {
    "duration": 3,
    "start_time": "2022-01-13T12:38:00.783Z"
   },
   {
    "duration": 17,
    "start_time": "2022-01-13T12:38:01.637Z"
   },
   {
    "duration": 13,
    "start_time": "2022-01-13T12:38:01.949Z"
   },
   {
    "duration": 16,
    "start_time": "2022-01-13T12:38:02.691Z"
   },
   {
    "duration": 11,
    "start_time": "2022-01-13T12:38:03.120Z"
   },
   {
    "duration": 8,
    "start_time": "2022-01-13T12:38:04.648Z"
   },
   {
    "duration": 4,
    "start_time": "2022-01-13T12:38:05.685Z"
   },
   {
    "duration": 5,
    "start_time": "2022-01-13T12:38:10.257Z"
   },
   {
    "duration": 5,
    "start_time": "2022-01-13T12:38:12.356Z"
   },
   {
    "duration": 545,
    "start_time": "2022-01-15T11:32:20.248Z"
   },
   {
    "duration": 118,
    "start_time": "2022-01-15T11:32:20.795Z"
   },
   {
    "duration": 14,
    "start_time": "2022-01-15T11:32:20.915Z"
   },
   {
    "duration": 23,
    "start_time": "2022-01-15T11:32:20.930Z"
   },
   {
    "duration": 3,
    "start_time": "2022-01-15T11:32:20.955Z"
   },
   {
    "duration": 20,
    "start_time": "2022-01-15T11:32:20.959Z"
   },
   {
    "duration": 12,
    "start_time": "2022-01-15T11:32:20.980Z"
   },
   {
    "duration": 37,
    "start_time": "2022-01-15T11:32:20.994Z"
   },
   {
    "duration": 15,
    "start_time": "2022-01-15T11:32:21.032Z"
   },
   {
    "duration": 28,
    "start_time": "2022-01-15T11:32:21.049Z"
   },
   {
    "duration": 61,
    "start_time": "2022-01-15T11:32:21.078Z"
   },
   {
    "duration": 59,
    "start_time": "2022-01-15T11:32:21.140Z"
   },
   {
    "duration": 55,
    "start_time": "2022-01-15T11:32:21.200Z"
   },
   {
    "duration": 43,
    "start_time": "2022-01-15T11:32:21.256Z"
   },
   {
    "duration": 2,
    "start_time": "2022-01-15T11:32:21.312Z"
   },
   {
    "duration": 13,
    "start_time": "2022-01-15T11:32:21.316Z"
   },
   {
    "duration": 8,
    "start_time": "2022-01-15T11:32:21.330Z"
   },
   {
    "duration": 11,
    "start_time": "2022-01-15T11:32:21.339Z"
   },
   {
    "duration": 29,
    "start_time": "2022-01-15T11:32:21.351Z"
   },
   {
    "duration": 3,
    "start_time": "2022-01-15T11:32:21.381Z"
   },
   {
    "duration": 19,
    "start_time": "2022-01-15T11:32:21.386Z"
   },
   {
    "duration": 11,
    "start_time": "2022-01-15T11:32:21.412Z"
   },
   {
    "duration": 12,
    "start_time": "2022-01-15T11:32:21.425Z"
   },
   {
    "duration": 12,
    "start_time": "2022-01-15T11:32:21.439Z"
   },
   {
    "duration": 13,
    "start_time": "2022-01-15T11:32:21.452Z"
   },
   {
    "duration": 11,
    "start_time": "2022-01-15T11:32:21.466Z"
   },
   {
    "duration": 35,
    "start_time": "2022-01-15T11:32:21.478Z"
   },
   {
    "duration": 12,
    "start_time": "2022-01-15T11:32:21.514Z"
   },
   {
    "duration": 7,
    "start_time": "2022-01-15T11:32:21.528Z"
   },
   {
    "duration": 4,
    "start_time": "2022-01-15T11:32:21.536Z"
   },
   {
    "duration": 20,
    "start_time": "2022-01-15T11:32:21.541Z"
   },
   {
    "duration": 9,
    "start_time": "2022-01-15T11:32:21.563Z"
   },
   {
    "duration": 15,
    "start_time": "2022-01-15T11:32:21.573Z"
   },
   {
    "duration": 30,
    "start_time": "2022-01-15T11:32:21.589Z"
   },
   {
    "duration": 6,
    "start_time": "2022-01-15T11:32:21.621Z"
   },
   {
    "duration": 4,
    "start_time": "2022-01-15T11:32:21.628Z"
   },
   {
    "duration": 7,
    "start_time": "2022-01-15T11:32:21.633Z"
   },
   {
    "duration": 3,
    "start_time": "2022-01-15T11:32:21.641Z"
   },
   {
    "duration": 3,
    "start_time": "2022-01-15T11:33:36.433Z"
   },
   {
    "duration": 6,
    "start_time": "2022-01-15T11:33:50.835Z"
   },
   {
    "duration": 7,
    "start_time": "2022-01-15T11:35:20.580Z"
   },
   {
    "duration": 170,
    "start_time": "2022-01-16T12:59:13.528Z"
   },
   {
    "duration": 545,
    "start_time": "2022-01-16T12:59:22.608Z"
   },
   {
    "duration": 141,
    "start_time": "2022-01-16T12:59:23.286Z"
   },
   {
    "duration": 17,
    "start_time": "2022-01-16T12:59:23.544Z"
   },
   {
    "duration": 24,
    "start_time": "2022-01-16T12:59:24.256Z"
   },
   {
    "duration": 4,
    "start_time": "2022-01-16T12:59:28.482Z"
   },
   {
    "duration": 21,
    "start_time": "2022-01-16T12:59:30.821Z"
   },
   {
    "duration": 4,
    "start_time": "2022-01-16T12:59:32.054Z"
   },
   {
    "duration": 23,
    "start_time": "2022-01-16T12:59:33.185Z"
   },
   {
    "duration": 18,
    "start_time": "2022-01-16T12:59:34.858Z"
   },
   {
    "duration": 24,
    "start_time": "2022-01-16T12:59:36.486Z"
   },
   {
    "duration": 57,
    "start_time": "2022-01-16T12:59:38.975Z"
   },
   {
    "duration": 66,
    "start_time": "2022-01-16T12:59:39.881Z"
   },
   {
    "duration": 52,
    "start_time": "2022-01-16T12:59:41.332Z"
   },
   {
    "duration": 38,
    "start_time": "2022-01-16T12:59:42.972Z"
   },
   {
    "duration": 3,
    "start_time": "2022-01-16T12:59:45.191Z"
   },
   {
    "duration": 11,
    "start_time": "2022-01-16T12:59:46.272Z"
   },
   {
    "duration": 7,
    "start_time": "2022-01-16T12:59:49.410Z"
   },
   {
    "duration": 27,
    "start_time": "2022-01-16T12:59:54.969Z"
   },
   {
    "duration": 27,
    "start_time": "2022-01-16T12:59:56.719Z"
   },
   {
    "duration": 34,
    "start_time": "2022-01-16T13:00:11.267Z"
   },
   {
    "duration": 153,
    "start_time": "2022-01-16T13:00:50.359Z"
   },
   {
    "duration": 144,
    "start_time": "2022-01-16T13:01:00.450Z"
   },
   {
    "duration": 32,
    "start_time": "2022-01-16T13:01:10.481Z"
   },
   {
    "duration": 11,
    "start_time": "2022-01-16T13:01:41.069Z"
   },
   {
    "duration": 9,
    "start_time": "2022-01-16T13:02:22.834Z"
   },
   {
    "duration": 9,
    "start_time": "2022-01-16T13:02:25.759Z"
   },
   {
    "duration": 11,
    "start_time": "2022-01-16T13:02:36.200Z"
   },
   {
    "duration": 163,
    "start_time": "2022-01-16T13:03:20.650Z"
   },
   {
    "duration": 145,
    "start_time": "2022-01-16T13:03:40.950Z"
   },
   {
    "duration": 155,
    "start_time": "2022-01-16T13:04:06.387Z"
   },
   {
    "duration": 11,
    "start_time": "2022-01-16T13:04:47.692Z"
   },
   {
    "duration": 7,
    "start_time": "2022-01-16T13:08:27.352Z"
   },
   {
    "duration": 8,
    "start_time": "2022-01-16T13:08:36.635Z"
   },
   {
    "duration": 829,
    "start_time": "2022-01-16T16:52:19.934Z"
   },
   {
    "duration": 219,
    "start_time": "2022-01-16T16:52:20.766Z"
   },
   {
    "duration": 31,
    "start_time": "2022-01-16T16:52:20.989Z"
   },
   {
    "duration": 33,
    "start_time": "2022-01-16T16:52:21.023Z"
   },
   {
    "duration": 5,
    "start_time": "2022-01-16T16:52:21.059Z"
   },
   {
    "duration": 48,
    "start_time": "2022-01-16T16:52:21.066Z"
   },
   {
    "duration": 5,
    "start_time": "2022-01-16T16:52:21.116Z"
   },
   {
    "duration": 32,
    "start_time": "2022-01-16T16:52:21.125Z"
   },
   {
    "duration": 61,
    "start_time": "2022-01-16T16:52:21.160Z"
   },
   {
    "duration": 30,
    "start_time": "2022-01-16T16:52:21.224Z"
   },
   {
    "duration": 121,
    "start_time": "2022-01-16T16:52:21.257Z"
   },
   {
    "duration": 125,
    "start_time": "2022-01-16T16:52:21.380Z"
   },
   {
    "duration": 79,
    "start_time": "2022-01-16T16:52:21.508Z"
   },
   {
    "duration": 63,
    "start_time": "2022-01-16T16:52:21.601Z"
   },
   {
    "duration": 34,
    "start_time": "2022-01-16T16:52:21.667Z"
   },
   {
    "duration": 29,
    "start_time": "2022-01-16T16:52:21.703Z"
   },
   {
    "duration": 25,
    "start_time": "2022-01-16T16:52:21.734Z"
   },
   {
    "duration": 18,
    "start_time": "2022-01-16T16:52:21.762Z"
   },
   {
    "duration": 27,
    "start_time": "2022-01-16T16:52:21.783Z"
   },
   {
    "duration": 4,
    "start_time": "2022-01-16T16:52:21.813Z"
   },
   {
    "duration": 28,
    "start_time": "2022-01-16T16:52:21.820Z"
   },
   {
    "duration": 57,
    "start_time": "2022-01-16T16:52:21.850Z"
   },
   {
    "duration": 20,
    "start_time": "2022-01-16T16:52:21.911Z"
   },
   {
    "duration": 19,
    "start_time": "2022-01-16T16:52:21.934Z"
   },
   {
    "duration": 56,
    "start_time": "2022-01-16T16:52:21.956Z"
   },
   {
    "duration": 21,
    "start_time": "2022-01-16T16:52:22.014Z"
   },
   {
    "duration": 17,
    "start_time": "2022-01-16T16:52:22.038Z"
   },
   {
    "duration": 52,
    "start_time": "2022-01-16T16:52:22.058Z"
   },
   {
    "duration": 12,
    "start_time": "2022-01-16T16:52:22.112Z"
   },
   {
    "duration": 5,
    "start_time": "2022-01-16T16:52:22.127Z"
   },
   {
    "duration": 31,
    "start_time": "2022-01-16T16:52:22.136Z"
   },
   {
    "duration": 47,
    "start_time": "2022-01-16T16:52:22.170Z"
   },
   {
    "duration": 22,
    "start_time": "2022-01-16T16:52:22.220Z"
   },
   {
    "duration": 17,
    "start_time": "2022-01-16T16:52:22.244Z"
   },
   {
    "duration": 39,
    "start_time": "2022-01-16T16:52:22.263Z"
   },
   {
    "duration": 12,
    "start_time": "2022-01-16T16:52:22.305Z"
   },
   {
    "duration": 16,
    "start_time": "2022-01-16T16:52:22.320Z"
   },
   {
    "duration": 9,
    "start_time": "2022-01-16T16:52:22.339Z"
   }
  ],
  "colab": {
   "collapsed_sections": [
    "E0vqbgi9ay0H",
    "VUC88oWjTJw2"
   ],
   "name": "yandex_music_project_2021.2.ipynb",
   "provenance": []
  },
  "kernelspec": {
   "display_name": "Python 3 (ipykernel)",
   "language": "python",
   "name": "python3"
  },
  "language_info": {
   "codemirror_mode": {
    "name": "ipython",
    "version": 3
   },
   "file_extension": ".py",
   "mimetype": "text/x-python",
   "name": "python",
   "nbconvert_exporter": "python",
   "pygments_lexer": "ipython3",
   "version": "3.9.7"
  },
  "toc": {
   "base_numbering": 1,
   "nav_menu": {},
   "number_sections": true,
   "sideBar": true,
   "skip_h1_title": true,
   "title_cell": "Table of Contents",
   "title_sidebar": "Contents",
   "toc_cell": false,
   "toc_position": {},
   "toc_section_display": true,
   "toc_window_display": true
  }
 },
 "nbformat": 4,
 "nbformat_minor": 1
}
